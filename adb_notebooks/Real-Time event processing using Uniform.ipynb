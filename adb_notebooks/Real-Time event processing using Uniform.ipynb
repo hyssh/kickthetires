{
 "cells": [
  {
   "cell_type": "code",
   "execution_count": 0,
   "metadata": {
    "application/vnd.databricks.v1+cell": {
     "cellMetadata": {
      "byteLimit": 2048000,
      "rowLimit": 10000
     },
     "inputWidgets": {},
     "nuid": "e771a3b5-0489-40a8-8988-d8602261f763",
     "showTitle": false,
     "title": ""
    }
   },
   "outputs": [
    {
     "output_type": "display_data",
     "data": {
      "text/html": [
       "<style scoped>\n",
       "  .ansiout {\n",
       "    display: block;\n",
       "    unicode-bidi: embed;\n",
       "    white-space: pre-wrap;\n",
       "    word-wrap: break-word;\n",
       "    word-break: break-all;\n",
       "    font-family: \"Source Code Pro\", \"Menlo\", monospace;;\n",
       "    font-size: 13px;\n",
       "    color: #555;\n",
       "    margin-left: 4px;\n",
       "    line-height: 19px;\n",
       "  }\n",
       "</style>\n",
       "<div class=\"ansiout\">ehubNamespace: String = hyssh-ehubs\n",
       "ehubName: String = transactions\n",
       "ehubSecretNameAKV: String = secret_name\n",
       "sampleEvent: String = {&quot;user_profile&quot;: [{&quot;userid&quot;: &quot;userid_4&quot;, &quot;username&quot;: &quot;Keith Farrar&quot;, &quot;gender&quot;: &quot;male&quot;, &quot;age&quot;: 50, &quot;picture_url&quot;: &quot;../images/profile/Keith Farrar.png&quot;}], &quot;car&quot;: [{&quot;carid&quot;: &quot;car_0&quot;, &quot;make&quot;: &quot;Honda&quot;, &quot;year&quot;: &quot;2020&quot;, &quot;category&quot;: &quot;Sedan&quot;, &quot;model&quot;: &quot;Accord&quot;, &quot;color&quot;: &quot;Black&quot;, &quot;pride&quot;: 14000}]}\n",
       "target_table_name: String = clickEvents\n",
       "</div>"
      ]
     },
     "metadata": {
      "application/vnd.databricks.v1+output": {
       "addedWidgets": {
        "ehub_name": {
         "defaultValue": "transactions",
         "label": "Sample event in JSON",
         "name": "ehub_name",
         "options": {
          "validationRegex": null,
          "widgetType": "text"
         },
         "widgetType": "text"
        },
        "ehub_namespace": {
         "defaultValue": "hyssh-ehubs",
         "label": "Sample event in JSON",
         "name": "ehub_namespace",
         "options": {
          "validationRegex": null,
          "widgetType": "text"
         },
         "widgetType": "text"
        },
        "ehub_secret_name_akv": {
         "defaultValue": "secret_name",
         "label": "EventHub Secret Name in AKV",
         "name": "ehub_secret_name_akv",
         "options": {
          "validationRegex": null,
          "widgetType": "text"
         },
         "widgetType": "text"
        },
        "sample_event": {
         "defaultValue": "{\"user_profile\": [{\"userid\": \"userid_4\", \"username\": \"Keith Farrar\", \"gender\": \"male\", \"age\": 50, \"picture_url\": \"../images/profile/Keith Farrar.png\"}], \"car\": [{\"carid\": \"car_0\", \"make\": \"Honda\", \"year\": \"2020\", \"category\": \"Sedan\", \"model\": \"Accord\", \"color\": \"Black\", \"pride\": 14000}]}",
         "label": "Sample event in JSON",
         "name": "sample_event",
         "options": {
          "validationRegex": null,
          "widgetType": "text"
         },
         "widgetType": "text"
        },
        "target_table_name": {
         "defaultValue": "clickEvents",
         "label": "Target Table Name",
         "name": "target_table_name",
         "options": {
          "validationRegex": null,
          "widgetType": "text"
         },
         "widgetType": "text"
        }
       },
       "arguments": {
        "ehub_name": "transactions",
        "ehub_namespace": "hyssh-ehubs",
        "ehub_secret_name_akv": "secret_name",
        "sample_event": "{\"user_profile\": [{\"userid\": \"userid_4\", \"username\": \"Keith Farrar\", \"gender\": \"male\", \"age\": 50, \"picture_url\": \"../images/profile/Keith Farrar.png\"}], \"car\": [{\"carid\": \"car_0\", \"make\": \"Honda\", \"year\": \"2020\", \"category\": \"Sedan\", \"model\": \"Accord\", \"color\": \"Black\", \"pride\": 14000}]}",
        "target_table_name": "clickEvents"
       },
       "data": "<div class=\"ansiout\">ehubNamespace: String = hyssh-ehubs\nehubName: String = transactions\nehubSecretNameAKV: String = secret_name\nsampleEvent: String = {&quot;user_profile&quot;: [{&quot;userid&quot;: &quot;userid_4&quot;, &quot;username&quot;: &quot;Keith Farrar&quot;, &quot;gender&quot;: &quot;male&quot;, &quot;age&quot;: 50, &quot;picture_url&quot;: &quot;../images/profile/Keith Farrar.png&quot;}], &quot;car&quot;: [{&quot;carid&quot;: &quot;car_0&quot;, &quot;make&quot;: &quot;Honda&quot;, &quot;year&quot;: &quot;2020&quot;, &quot;category&quot;: &quot;Sedan&quot;, &quot;model&quot;: &quot;Accord&quot;, &quot;color&quot;: &quot;Black&quot;, &quot;pride&quot;: 14000}]}\ntarget_table_name: String = clickEvents\n</div>",
       "datasetInfos": [],
       "metadata": {
        "isDbfsCommandResult": false
       },
       "removedWidgets": [],
       "type": "html"
      }
     },
     "output_type": "display_data"
    }
   ],
   "source": [
    "%scala\n",
    "dbutils.widgets.removeAll()\n",
    "\n",
    "\n",
    "dbutils.widgets.text(\n",
    "  \"ehub_namespace\",\n",
    "  \"hyssh-ehubs\",\n",
    "  \"Sample event in JSON\"\n",
    ")\n",
    "\n",
    "dbutils.widgets.text(\n",
    "  \"ehub_name\",\n",
    "  \"transactions\",\n",
    "  \"Sample event in JSON\"\n",
    ")\n",
    "\n",
    "dbutils.widgets.text(\n",
    "  \"ehub_secret_name_akv\",\n",
    "  \"secret_name\",\n",
    "  \"EventHub Secret Name in AKV\"\n",
    ")\n",
    "\n",
    "dbutils.widgets.text(\n",
    "  \"sample_event\",\n",
    "  \"\"\"{\"user_profile\": [{\"userid\": \"userid_4\", \"username\": \"Keith Farrar\", \"gender\": \"male\", \"age\": 50, \"picture_url\": \"../images/profile/Keith Farrar.png\"}], \"car\": [{\"carid\": \"car_0\", \"make\": \"Honda\", \"year\": \"2020\", \"category\": \"Sedan\", \"model\": \"Accord\", \"color\": \"Black\", \"pride\": 14000}]}\"\"\",\n",
    "  \"Sample event in JSON\"\n",
    ")\n",
    "\n",
    "dbutils.widgets.text(\n",
    "  \"target_table_name\",\n",
    "  \"clickEvents\",\n",
    "  \"Target Table Name\"\n",
    ")\n",
    "\n",
    "val ehubNamespace = dbutils.widgets.get(\"ehub_namespace\")\n",
    "val ehubName = dbutils.widgets.get(\"ehub_name\")\n",
    "val ehubSecretNameAKV = dbutils.widgets.get(\"ehub_secret_name_akv\")\n",
    "val sampleEvent = dbutils.widgets.get(\"sample_event\")\n",
    "val target_table_name = dbutils.widgets.get(\"target_table_name\")"
   ]
  },
  {
   "cell_type": "code",
   "execution_count": 0,
   "metadata": {
    "application/vnd.databricks.v1+cell": {
     "cellMetadata": {
      "byteLimit": 2048000,
      "rowLimit": 10000
     },
     "inputWidgets": {},
     "nuid": "e18391f8-5d7b-4832-978a-18cc59280234",
     "showTitle": false,
     "title": ""
    }
   },
   "outputs": [
    {
     "output_type": "display_data",
     "data": {
      "text/html": [
       "<style scoped>\n",
       "  .ansiout {\n",
       "    display: block;\n",
       "    unicode-bidi: embed;\n",
       "    white-space: pre-wrap;\n",
       "    word-wrap: break-word;\n",
       "    word-break: break-all;\n",
       "    font-family: \"Source Code Pro\", \"Menlo\", monospace;;\n",
       "    font-size: 13px;\n",
       "    color: #555;\n",
       "    margin-left: 4px;\n",
       "    line-height: 19px;\n",
       "  }\n",
       "</style>\n",
       "<div class=\"ansiout\">ehubConnectionString: String = Endpoint=sb://hyssh-ehubs.servicebus.windows.net/;EntityPath=transactions;SharedAccessKeyName=RootManageSharedAccessKey;SharedAccessKey=secret_name\n",
       "</div>"
      ]
     },
     "metadata": {
      "application/vnd.databricks.v1+output": {
       "addedWidgets": {},
       "arguments": {},
       "data": "<div class=\"ansiout\">ehubConnectionString: String = Endpoint=sb://hyssh-ehubs.servicebus.windows.net/;EntityPath=transactions;SharedAccessKeyName=RootManageSharedAccessKey;SharedAccessKey=secret_name\n</div>",
       "datasetInfos": [],
       "metadata": {
        "isDbfsCommandResult": false
       },
       "removedWidgets": [],
       "type": "html"
      }
     },
     "output_type": "display_data"
    }
   ],
   "source": [
    "%scala\n",
    "val ehubConnectionString = s\"Endpoint=sb://${ehubNamespace}.servicebus.windows.net/;EntityPath=${ehubName};SharedAccessKeyName=RootManageSharedAccessKey;SharedAccessKey=${ehubSecretNameAKV}\" "
   ]
  },
  {
   "cell_type": "code",
   "execution_count": 0,
   "metadata": {
    "application/vnd.databricks.v1+cell": {
     "cellMetadata": {
      "byteLimit": 2048000,
      "rowLimit": 10000
     },
     "inputWidgets": {},
     "nuid": "ffd3b569-c288-4d2d-8c2e-e02dd5acdf5c",
     "showTitle": false,
     "title": ""
    }
   },
   "outputs": [
    {
     "output_type": "display_data",
     "data": {
      "text/html": [
       "<style scoped>\n",
       "  .ansiout {\n",
       "    display: block;\n",
       "    unicode-bidi: embed;\n",
       "    white-space: pre-wrap;\n",
       "    word-wrap: break-word;\n",
       "    word-break: break-all;\n",
       "    font-family: \"Source Code Pro\", \"Menlo\", monospace;;\n",
       "    font-size: 13px;\n",
       "    color: #555;\n",
       "    margin-left: 4px;\n",
       "    line-height: 19px;\n",
       "  }\n",
       "</style>\n",
       "<div class=\"ansiout\">import org.apache.spark.eventhubs.{ConnectionStringBuilder, EventHubsConf, EventPosition}\n",
       "import org.apache.spark.sql.functions.{explode, split}\n",
       "import org.apache.spark.sql.types._\n",
       "import org.apache.spark.sql.streaming.Trigger\n",
       "</div>"
      ]
     },
     "metadata": {
      "application/vnd.databricks.v1+output": {
       "addedWidgets": {},
       "arguments": {},
       "data": "<div class=\"ansiout\">import org.apache.spark.eventhubs.{ConnectionStringBuilder, EventHubsConf, EventPosition}\nimport org.apache.spark.sql.functions.{explode, split}\nimport org.apache.spark.sql.types._\nimport org.apache.spark.sql.streaming.Trigger\n</div>",
       "datasetInfos": [],
       "metadata": {
        "isDbfsCommandResult": false
       },
       "removedWidgets": [],
       "type": "html"
      }
     },
     "output_type": "display_data"
    }
   ],
   "source": [
    "%scala\n",
    "import org.apache.spark.eventhubs.{ ConnectionStringBuilder, EventHubsConf, EventPosition }\n",
    "import org.apache.spark.sql.functions.{ explode, split }\n",
    "import org.apache.spark.sql.types._\n",
    "import org.apache.spark.sql.streaming.Trigger  \n"
   ]
  },
  {
   "cell_type": "code",
   "execution_count": 0,
   "metadata": {
    "application/vnd.databricks.v1+cell": {
     "cellMetadata": {
      "byteLimit": 2048000,
      "rowLimit": 10000
     },
     "inputWidgets": {},
     "nuid": "3b0fa569-3f52-4640-8a31-01b4aa9eccd1",
     "showTitle": false,
     "title": ""
    }
   },
   "outputs": [
    {
     "output_type": "display_data",
     "data": {
      "text/html": [
       "<style scoped>\n",
       "  .ansiout {\n",
       "    display: block;\n",
       "    unicode-bidi: embed;\n",
       "    white-space: pre-wrap;\n",
       "    word-wrap: break-word;\n",
       "    word-break: break-all;\n",
       "    font-family: \"Source Code Pro\", \"Menlo\", monospace;;\n",
       "    font-size: 13px;\n",
       "    color: #555;\n",
       "    margin-left: 4px;\n",
       "    line-height: 19px;\n",
       "  }\n",
       "</style>\n",
       "<div class=\"ansiout\">ehub_conn: String = Endpoint=sb://hyssh-ehubs.servicebus.windows.net/;SharedAccessKeyName=spark_streamng;SharedAccessKey=6NlNjqiNNfdMBu0WUxNzDjyNheh0xtK60+AEhLKsWwk=;EntityPath=transactions\n",
       "</div>"
      ]
     },
     "metadata": {
      "application/vnd.databricks.v1+output": {
       "addedWidgets": {},
       "arguments": {},
       "data": "<div class=\"ansiout\">ehub_conn: String = Endpoint=sb://hyssh-ehubs.servicebus.windows.net/;SharedAccessKeyName=spark_streamng;SharedAccessKey=6NlNjqiNNfdMBu0WUxNzDjyNheh0xtK60+AEhLKsWwk=;EntityPath=transactions\n</div>",
       "datasetInfos": [],
       "metadata": {
        "isDbfsCommandResult": false
       },
       "removedWidgets": [],
       "type": "html"
      }
     },
     "output_type": "display_data"
    }
   ],
   "source": [
    "%scala\n",
    "// With an entity path\n",
    "val ehub_conn = sys.env.get(\"ehub_connection_fullstring\").get"
   ]
  },
  {
   "cell_type": "code",
   "execution_count": 0,
   "metadata": {
    "application/vnd.databricks.v1+cell": {
     "cellMetadata": {
      "byteLimit": 2048000,
      "rowLimit": 10000
     },
     "inputWidgets": {},
     "nuid": "8a979adb-a849-4048-be9e-56ffb55d7d3f",
     "showTitle": false,
     "title": ""
    }
   },
   "outputs": [
    {
     "output_type": "display_data",
     "data": {
      "text/html": [
       "<style scoped>\n",
       "  .ansiout {\n",
       "    display: block;\n",
       "    unicode-bidi: embed;\n",
       "    white-space: pre-wrap;\n",
       "    word-wrap: break-word;\n",
       "    word-break: break-all;\n",
       "    font-family: \"Source Code Pro\", \"Menlo\", monospace;;\n",
       "    font-size: 13px;\n",
       "    color: #555;\n",
       "    margin-left: 4px;\n",
       "    line-height: 19px;\n",
       "  }\n",
       "</style>\n",
       "<div class=\"ansiout\">eventHubsConf: org.apache.spark.eventhubs.EventHubsConf = org.apache.spark.eventhubs.EventHubsConf@5cff8cfd\n",
       "eventhubs: org.apache.spark.sql.DataFrame = [body: binary, partition: string ... 7 more fields]\n",
       "df: org.apache.spark.sql.DataFrame = [parsed_json: string]\n",
       "</div>"
      ]
     },
     "metadata": {
      "application/vnd.databricks.v1+output": {
       "addedWidgets": {},
       "arguments": {},
       "data": "<div class=\"ansiout\">eventHubsConf: org.apache.spark.eventhubs.EventHubsConf = org.apache.spark.eventhubs.EventHubsConf@5cff8cfd\neventhubs: org.apache.spark.sql.DataFrame = [body: binary, partition: string ... 7 more fields]\ndf: org.apache.spark.sql.DataFrame = [parsed_json: string]\n</div>",
       "datasetInfos": [
        {
         "name": "eventhubs",
         "schema": {
          "fields": [
           {
            "metadata": {},
            "name": "body",
            "nullable": true,
            "type": "binary"
           },
           {
            "metadata": {},
            "name": "partition",
            "nullable": true,
            "type": "string"
           },
           {
            "metadata": {},
            "name": "offset",
            "nullable": true,
            "type": "string"
           },
           {
            "metadata": {},
            "name": "sequenceNumber",
            "nullable": true,
            "type": "long"
           },
           {
            "metadata": {},
            "name": "enqueuedTime",
            "nullable": true,
            "type": "timestamp"
           },
           {
            "metadata": {},
            "name": "publisher",
            "nullable": true,
            "type": "string"
           },
           {
            "metadata": {},
            "name": "partitionKey",
            "nullable": true,
            "type": "string"
           },
           {
            "metadata": {},
            "name": "properties",
            "nullable": true,
            "type": {
             "keyType": "string",
             "type": "map",
             "valueContainsNull": true,
             "valueType": "string"
            }
           },
           {
            "metadata": {},
            "name": "systemProperties",
            "nullable": true,
            "type": {
             "keyType": "string",
             "type": "map",
             "valueContainsNull": true,
             "valueType": "string"
            }
           }
          ],
          "type": "struct"
         },
         "tableIdentifier": null,
         "typeStr": "org.apache.spark.sql.DataFrame"
        },
        {
         "name": "df",
         "schema": {
          "fields": [
           {
            "metadata": {},
            "name": "parsed_json",
            "nullable": true,
            "type": "string"
           }
          ],
          "type": "struct"
         },
         "tableIdentifier": null,
         "typeStr": "org.apache.spark.sql.DataFrame"
        }
       ],
       "metadata": {
        "isDbfsCommandResult": false
       },
       "removedWidgets": [],
       "type": "html"
      }
     },
     "output_type": "display_data"
    }
   ],
   "source": [
    "%scala\n",
    "val eventHubsConf = EventHubsConf(ehub_conn)\n",
    "\n",
    "val eventhubs = spark.readStream\n",
    "  .format(\"eventhubs\")\n",
    "  .options(eventHubsConf.toMap)\n",
    "  .load()\n",
    "\n",
    "val df = eventhubs.select($\"body\".cast(\"string\").as(\"parsed_json\"))"
   ]
  },
  {
   "cell_type": "code",
   "execution_count": 0,
   "metadata": {
    "application/vnd.databricks.v1+cell": {
     "cellMetadata": {
      "byteLimit": 2048000,
      "rowLimit": 10000
     },
     "inputWidgets": {},
     "nuid": "718396f8-c73e-4bb3-9ae0-7dd2a14de273",
     "showTitle": false,
     "title": ""
    }
   },
   "outputs": [
    {
     "output_type": "display_data",
     "data": {
      "text/html": [
       "<style scoped>\n",
       "  .ansiout {\n",
       "    display: block;\n",
       "    unicode-bidi: embed;\n",
       "    white-space: pre-wrap;\n",
       "    word-wrap: break-word;\n",
       "    word-break: break-all;\n",
       "    font-family: \"Source Code Pro\", \"Menlo\", monospace;;\n",
       "    font-size: 13px;\n",
       "    color: #555;\n",
       "    margin-left: 4px;\n",
       "    line-height: 19px;\n",
       "  }\n",
       "</style>\n",
       "<div class=\"ansiout\">res2: org.apache.spark.sql.types.StructType = StructType(StructField(parsed_json,StringType,true))\n",
       "</div>"
      ]
     },
     "metadata": {
      "application/vnd.databricks.v1+output": {
       "addedWidgets": {},
       "arguments": {},
       "data": "<div class=\"ansiout\">res2: org.apache.spark.sql.types.StructType = StructType(StructField(parsed_json,StringType,true))\n</div>",
       "datasetInfos": [],
       "metadata": {
        "isDbfsCommandResult": false
       },
       "removedWidgets": [],
       "type": "html"
      }
     },
     "output_type": "display_data"
    }
   ],
   "source": [
    "%scala\n",
    "df.schema"
   ]
  },
  {
   "cell_type": "code",
   "execution_count": 0,
   "metadata": {
    "application/vnd.databricks.v1+cell": {
     "cellMetadata": {
      "byteLimit": 2048000,
      "rowLimit": 10000
     },
     "inputWidgets": {},
     "nuid": "dedc007a-661c-4611-a481-754bfb52e896",
     "showTitle": false,
     "title": ""
    }
   },
   "outputs": [
    {
     "output_type": "display_data",
     "data": {
      "text/html": [
       "<style scoped>\n",
       "  .ansiout {\n",
       "    display: block;\n",
       "    unicode-bidi: embed;\n",
       "    white-space: pre-wrap;\n",
       "    word-wrap: break-word;\n",
       "    word-break: break-all;\n",
       "    font-family: \"Source Code Pro\", \"Menlo\", monospace;;\n",
       "    font-size: 13px;\n",
       "    color: #555;\n",
       "    margin-left: 4px;\n",
       "    line-height: 19px;\n",
       "  }\n",
       "</style>\n",
       "<div class=\"ansiout\">ucName: String = uc_hsshin\n",
       "schemaName: String = kickthetires\n",
       "icebergTableName: String = clickEvents0\n",
       "streamingDataFrameSchema: org.apache.spark.sql.types.StructType = StructType(StructField(parsed_json,StringType,true))\n",
       "res5: org.apache.spark.sql.DataFrame = []\n",
       "</div>"
      ]
     },
     "metadata": {
      "application/vnd.databricks.v1+output": {
       "addedWidgets": {},
       "arguments": {},
       "data": "<div class=\"ansiout\">ucName: String = uc_hsshin\nschemaName: String = kickthetires\nicebergTableName: String = clickEvents0\nstreamingDataFrameSchema: org.apache.spark.sql.types.StructType = StructType(StructField(parsed_json,StringType,true))\nres5: org.apache.spark.sql.DataFrame = []\n</div>",
       "datasetInfos": [
        {
         "name": "res5",
         "schema": {
          "fields": [],
          "type": "struct"
         },
         "tableIdentifier": null,
         "typeStr": "org.apache.spark.sql.DataFrame"
        }
       ],
       "metadata": {
        "isDbfsCommandResult": false
       },
       "removedWidgets": [],
       "type": "html"
      }
     },
     "output_type": "display_data"
    }
   ],
   "source": [
    "%scala\n",
    "val ucName = \"uc_hsshin\"\n",
    "val schemaName = \"kickthetires\"\n",
    "val icebergTableName = \"clickEvents0\"   \n",
    "val streamingDataFrameSchema: StructType = df.schema // Replace result_df with your streaming DataFrame  \n",
    "\n",
    "// spark.sql(s\"DROP TABLE IF EXISTS $ucName.$schemaName.$icebergTableName\")\n",
    "// spark.sql(s\"DROP DATABASE IF EXISTS $ucName.$schemaName\")\n",
    "\n",
    "// Create Database \n",
    "// spark.sql(s\"CREATE DATABASE $ucName.$schemaName\")\n",
    "spark.catalog.setCurrentDatabase(schemaName) // Can't find the database\n",
    "\n",
    "// Create an empty Delta table with the same schema as your streaming DataFrame  \n",
    "spark.sql(s\"\"\"  \n",
    "  CREATE TABLE IF NOT EXISTS $ucName.$schemaName.$icebergTableName (  \n",
    "    ${streamingDataFrameSchema.toDDL}  \n",
    "  )  \n",
    "  TBLPROPERTIES(\n",
    "  'delta.universalFormat.enabledFormats' = 'iceberg');\n",
    "\"\"\")  \n"
   ]
  },
  {
   "cell_type": "code",
   "execution_count": 0,
   "metadata": {
    "application/vnd.databricks.v1+cell": {
     "cellMetadata": {
      "byteLimit": 2048000,
      "rowLimit": 10000
     },
     "inputWidgets": {},
     "nuid": "8247ac24-e0b7-4ddb-9b6c-73d4e73262ce",
     "showTitle": false,
     "title": ""
    }
   },
   "outputs": [
    {
     "output_type": "display_data",
     "data": {
      "text/html": [
       "<style scoped>\n",
       "  .ansiout {\n",
       "    display: block;\n",
       "    unicode-bidi: embed;\n",
       "    white-space: pre-wrap;\n",
       "    word-wrap: break-word;\n",
       "    word-break: break-all;\n",
       "    font-family: \"Source Code Pro\", \"Menlo\", monospace;;\n",
       "    font-size: 13px;\n",
       "    color: #555;\n",
       "    margin-left: 4px;\n",
       "    line-height: 19px;\n",
       "  }\n",
       "</style>\n",
       "<div class=\"ansiout\">icebergcheckpointLocation: String = /mnt/bronze/iceberg_checkpoint/\n",
       "res7: Boolean = true\n",
       "</div>"
      ]
     },
     "metadata": {
      "application/vnd.databricks.v1+output": {
       "addedWidgets": {},
       "arguments": {},
       "data": "<div class=\"ansiout\">icebergcheckpointLocation: String = /mnt/bronze/iceberg_checkpoint/\nres7: Boolean = true\n</div>",
       "datasetInfos": [],
       "metadata": {
        "isDbfsCommandResult": false
       },
       "removedWidgets": [],
       "type": "html"
      }
     },
     "output_type": "display_data"
    }
   ],
   "source": [
    "%scala\n",
    "val icebergcheckpointLocation = \"/mnt/bronze/iceberg_checkpoint/\"\n",
    "\n",
    "dbutils.fs.mkdirs(icebergcheckpointLocation)"
   ]
  },
  {
   "cell_type": "code",
   "execution_count": 0,
   "metadata": {
    "application/vnd.databricks.v1+cell": {
     "cellMetadata": {
      "byteLimit": 2048000,
      "rowLimit": 10000
     },
     "inputWidgets": {},
     "nuid": "ffd2ca07-f578-4f77-8228-a3c3cba1cf14",
     "showTitle": false,
     "title": ""
    }
   },
   "outputs": [
    {
     "output_type": "display_data",
     "data": {
      "text/html": [
       "<style scoped>\n",
       "  .ansiout {\n",
       "    display: block;\n",
       "    unicode-bidi: embed;\n",
       "    white-space: pre-wrap;\n",
       "    word-wrap: break-word;\n",
       "    word-break: break-all;\n",
       "    font-family: \"Source Code Pro\", \"Menlo\", monospace;;\n",
       "    font-size: 13px;\n",
       "    color: #555;\n",
       "    margin-left: 4px;\n",
       "    line-height: 19px;\n",
       "  }\n",
       "</style>\n",
       "<div class=\"ansiout\"></div>"
      ]
     },
     "metadata": {
      "application/vnd.databricks.v1+output": {
       "addedWidgets": {},
       "arguments": {},
       "data": "<div class=\"ansiout\"></div>",
       "datasetInfos": [],
       "metadata": {
        "isDbfsCommandResult": false
       },
       "removedWidgets": [],
       "type": "html"
      }
     },
     "output_type": "display_data"
    },
    {
     "output_type": "display_data",
     "data": {
      "text/html": [
       "<style scoped>\n",
       "  .ansiout {\n",
       "    display: block;\n",
       "    unicode-bidi: embed;\n",
       "    white-space: pre-wrap;\n",
       "    word-wrap: break-word;\n",
       "    word-break: break-all;\n",
       "    font-family: \"Source Code Pro\", \"Menlo\", monospace;;\n",
       "    font-size: 13px;\n",
       "    color: #555;\n",
       "    margin-left: 4px;\n",
       "    line-height: 19px;\n",
       "  }\n",
       "</style>"
      ]
     },
     "metadata": {
      "application/vnd.databricks.v1+output": {
       "arguments": {},
       "data": "",
       "errorSummary": "Cancelled",
       "errorTraceType": "html",
       "metadata": {},
       "type": "ipynbError"
      }
     },
     "output_type": "display_data"
    }
   ],
   "source": [
    "%scala\n",
    "import org.apache.spark.sql.streaming.Trigger  \n",
    "  \n",
    "val streamQuery = df.writeStream  \n",
    "  .format(\"iceberg\")  \n",
    "  .outputMode(\"append\")\n",
    "  .option(\"checkpointLocation\", icebergcheckpointLocation) // Choose an appropriate checkpoint location  \n",
    "  .trigger(Trigger.ProcessingTime(\"30 seconds\")) // Data will be written every 30 seconds\n",
    "  .table(s\"$ucName.$schemaName.$icebergTableName\") // Write to the iceberg table  \n",
    "  \n",
    "streamQuery.awaitTermination()\n"
   ]
  },
  {
   "cell_type": "code",
   "execution_count": 0,
   "metadata": {
    "application/vnd.databricks.v1+cell": {
     "cellMetadata": {
      "byteLimit": 2048000,
      "rowLimit": 10000
     },
     "inputWidgets": {},
     "nuid": "761acaf9-6999-4cb5-8431-c8307f14f200",
     "showTitle": false,
     "title": ""
    }
   },
   "outputs": [
    {
     "output_type": "display_data",
     "data": {
      "text/html": [
       "<style scoped>\n",
       "  .ansiout {\n",
       "    display: block;\n",
       "    unicode-bidi: embed;\n",
       "    white-space: pre-wrap;\n",
       "    word-wrap: break-word;\n",
       "    word-break: break-all;\n",
       "    font-family: \"Source Code Pro\", \"Menlo\", monospace;;\n",
       "    font-size: 13px;\n",
       "    color: #555;\n",
       "    margin-left: 4px;\n",
       "    line-height: 19px;\n",
       "  }\n",
       "</style>"
      ]
     },
     "metadata": {
      "application/vnd.databricks.v1+output": {
       "arguments": {},
       "data": "",
       "errorSummary": "Cancelled",
       "errorTraceType": "html",
       "metadata": {},
       "type": "ipynbError"
      }
     },
     "output_type": "display_data"
    }
   ],
   "source": [
    "%scala\n",
    "// val ucName = \"uc_hsshin\"\n",
    "// val schemaName = \"kickthetires\"\n",
    "// val icebergTableName = \"clickEvents\"   \n",
    "\n",
    "display(spark.sql(s\"SELECT * FROM $ucName.$schemaName.$icebergTableName\"))"
   ]
  },
  {
   "cell_type": "code",
   "execution_count": 0,
   "metadata": {
    "application/vnd.databricks.v1+cell": {
     "cellMetadata": {
      "byteLimit": 2048000,
      "rowLimit": 10000
     },
     "inputWidgets": {},
     "nuid": "ab393ad8-688d-4f1d-a125-1ed5c86d23ff",
     "showTitle": false,
     "title": ""
    }
   },
   "outputs": [
    {
     "output_type": "display_data",
     "data": {
      "text/html": [
       "<style scoped>\n",
       "  .table-result-container {\n",
       "    max-height: 300px;\n",
       "    overflow: auto;\n",
       "  }\n",
       "  table, th, td {\n",
       "    border: 1px solid black;\n",
       "    border-collapse: collapse;\n",
       "  }\n",
       "  th, td {\n",
       "    padding: 5px;\n",
       "  }\n",
       "  th {\n",
       "    text-align: left;\n",
       "  }\n",
       "</style><div class='table-result-container'><table class='table-result'><thead style='background-color: white'><tr><th>parsed_json</th></tr></thead><tbody><tr><td>{\"user_profile\": [{\"userid\": \"userid_0\", \"username\": \"Maria Dandridge\", \"gender\": \"female\", \"age\": 20, \"picture_url\": \"../images/profile/Maria Dandridge.png\"}], \"car\": [{\"carid\": \"car_2\", \"make\": \"Nissan\", \"year\": \"2018\", \"category\": \"Sedan\", \"model\": \"Altima\", \"color\": \"Gold\", \"pride\": 13000}]}</td></tr><tr><td>{\"user_profile\": [{\"userid\": \"userid_3\", \"username\": \"Owen Milford\", \"gender\": \"male\", \"age\": 30, \"picture_url\": \"../images/profile/Owen Milford.png\"}], \"car\": [{\"carid\": \"car_8\", \"make\": \"Ford\", \"year\": \"2016\", \"category\": \"Truck\", \"model\": \"F-150\", \"color\": \"Brown\", \"pride\": 17000}]}</td></tr><tr><td>{\"user_profile\": [{\"userid\": \"userid_4\", \"username\": \"Keith Farrar\", \"gender\": \"male\", \"age\": 50, \"picture_url\": \"../images/profile/Keith Farrar.png\"}], \"car\": [{\"carid\": \"car_3\", \"make\": \"Toyota\", \"year\": \"2012\", \"category\": \"Sedan\", \"model\": \"Camry\", \"color\": \"Silver\", \"pride\": 11000}]}</td></tr><tr><td>{\"user_profile\": [{\"userid\": \"userid_2\", \"username\": \"Nathan Finley\", \"gender\": \"male\", \"age\": 20, \"picture_url\": \"../images/profile/Nathan Finley.png\"}], \"car\": [{\"carid\": \"car_10\", \"make\": \"Ferarri\", \"year\": \"2015\", \"category\": \"SportCar\", \"model\": \"Spider\", \"color\": \"Red\", \"pride\": 70000}]}</td></tr><tr><td>{\"user_profile\": [{\"userid\": \"userid_3\", \"username\": \"Owen Milford\", \"gender\": \"male\", \"age\": 30, \"picture_url\": \"../images/profile/Owen Milford.png\"}], \"car\": [{\"carid\": \"car_0\", \"make\": \"Honda\", \"year\": \"2020\", \"category\": \"Sedan\", \"model\": \"Accord\", \"color\": \"Black\", \"pride\": 14000}]}</td></tr><tr><td>{\"user_profile\": [{\"userid\": \"userid_0\", \"username\": \"Maria Dandridge\", \"gender\": \"female\", \"age\": 20, \"picture_url\": \"../images/profile/Maria Dandridge.png\"}], \"car\": [{\"carid\": \"car_2\", \"make\": \"Nissan\", \"year\": \"2018\", \"category\": \"Sedan\", \"model\": \"Altima\", \"color\": \"Gold\", \"pride\": 13000}]}</td></tr><tr><td>{\"user_profile\": [{\"userid\": \"userid_3\", \"username\": \"Owen Milford\", \"gender\": \"male\", \"age\": 30, \"picture_url\": \"../images/profile/Owen Milford.png\"}], \"car\": [{\"carid\": \"car_1\", \"make\": \"Hyundai\", \"year\": \"2017\", \"category\": \"Sedan\", \"model\": \"Sonata\", \"color\": \"Gray\", \"pride\": 14000}]}</td></tr><tr><td>{\"user_profile\": [{\"userid\": \"userid_2\", \"username\": \"Nathan Finley\", \"gender\": \"male\", \"age\": 20, \"picture_url\": \"../images/profile/Nathan Finley.png\"}], \"car\": [{\"carid\": \"car_3\", \"make\": \"Toyota\", \"year\": \"2012\", \"category\": \"Sedan\", \"model\": \"Camry\", \"color\": \"Silver\", \"pride\": 11000}]}</td></tr><tr><td>{\"user_profile\": [{\"userid\": \"userid_4\", \"username\": \"Keith Farrar\", \"gender\": \"male\", \"age\": 50, \"picture_url\": \"../images/profile/Keith Farrar.png\"}], \"car\": [{\"carid\": \"car_3\", \"make\": \"Toyota\", \"year\": \"2012\", \"category\": \"Sedan\", \"model\": \"Camry\", \"color\": \"Silver\", \"pride\": 11000}]}</td></tr><tr><td>{\"user_profile\": [{\"userid\": \"userid_3\", \"username\": \"Owen Milford\", \"gender\": \"male\", \"age\": 30, \"picture_url\": \"../images/profile/Owen Milford.png\"}], \"car\": [{\"carid\": \"car_10\", \"make\": \"Ferarri\", \"year\": \"2015\", \"category\": \"SportCar\", \"model\": \"Spider\", \"color\": \"Red\", \"pride\": 70000}]}</td></tr><tr><td>{\"user_profile\": [{\"userid\": \"userid_2\", \"username\": \"Nathan Finley\", \"gender\": \"male\", \"age\": 20, \"picture_url\": \"../images/profile/Nathan Finley.png\"}], \"car\": [{\"carid\": \"car_10\", \"make\": \"Ferarri\", \"year\": \"2015\", \"category\": \"SportCar\", \"model\": \"Spider\", \"color\": \"Red\", \"pride\": 70000}]}</td></tr><tr><td>{\"user_profile\": [{\"userid\": \"userid_4\", \"username\": \"Keith Farrar\", \"gender\": \"male\", \"age\": 50, \"picture_url\": \"../images/profile/Keith Farrar.png\"}], \"car\": [{\"carid\": \"car_1\", \"make\": \"Hyundai\", \"year\": \"2017\", \"category\": \"Sedan\", \"model\": \"Sonata\", \"color\": \"Gray\", \"pride\": 14000}]}</td></tr><tr><td>{\"user_profile\": [{\"userid\": \"userid_3\", \"username\": \"Owen Milford\", \"gender\": \"male\", \"age\": 30, \"picture_url\": \"../images/profile/Owen Milford.png\"}], \"car\": [{\"carid\": \"car_1\", \"make\": \"Hyundai\", \"year\": \"2017\", \"category\": \"Sedan\", \"model\": \"Sonata\", \"color\": \"Gray\", \"pride\": 14000}]}</td></tr><tr><td>{\"user_profile\": [{\"userid\": \"userid_4\", \"username\": \"Keith Farrar\", \"gender\": \"male\", \"age\": 50, \"picture_url\": \"../images/profile/Keith Farrar.png\"}], \"car\": [{\"carid\": \"car_4\", \"make\": \"Honda\", \"year\": \"2013\", \"category\": \"SVU\", \"model\": \"CR-V\", \"color\": \"Brown\", \"pride\": 11000}]}</td></tr><tr><td>{\"user_profile\": [{\"userid\": \"userid_4\", \"username\": \"Keith Farrar\", \"gender\": \"male\", \"age\": 50, \"picture_url\": \"../images/profile/Keith Farrar.png\"}], \"car\": [{\"carid\": \"car_3\", \"make\": \"Toyota\", \"year\": \"2012\", \"category\": \"Sedan\", \"model\": \"Camry\", \"color\": \"Silver\", \"pride\": 11000}]}</td></tr><tr><td>{\"user_profile\": [{\"userid\": \"userid_2\", \"username\": \"Nathan Finley\", \"gender\": \"male\", \"age\": 20, \"picture_url\": \"../images/profile/Nathan Finley.png\"}], \"car\": [{\"carid\": \"car_11\", \"make\": \"Tesla\", \"year\": \"2019\", \"category\": \"EV\", \"model\": \"Model Y\", \"color\": \"Black\", \"pride\": 40000}]}</td></tr><tr><td>{\"user_profile\": [{\"userid\": \"userid_2\", \"username\": \"Nathan Finley\", \"gender\": \"male\", \"age\": 20, \"picture_url\": \"../images/profile/Nathan Finley.png\"}], \"car\": [{\"carid\": \"car_2\", \"make\": \"Nissan\", \"year\": \"2018\", \"category\": \"Sedan\", \"model\": \"Altima\", \"color\": \"Gold\", \"pride\": 13000}]}</td></tr><tr><td>{\"user_profile\": [{\"userid\": \"userid_0\", \"username\": \"Maria Dandridge\", \"gender\": \"female\", \"age\": 20, \"picture_url\": \"../images/profile/Maria Dandridge.png\"}], \"car\": [{\"carid\": \"car_7\", \"make\": \"Chevrolet\", \"year\": \"2016\", \"category\": \"Truck\", \"model\": \"Silverado\", \"color\": \"White\", \"pride\": 17000}]}</td></tr><tr><td>{\"user_profile\": [{\"userid\": \"userid_4\", \"username\": \"Keith Farrar\", \"gender\": \"male\", \"age\": 50, \"picture_url\": \"../images/profile/Keith Farrar.png\"}], \"car\": [{\"carid\": \"car_10\", \"make\": \"Ferarri\", \"year\": \"2015\", \"category\": \"SportCar\", \"model\": \"Spider\", \"color\": \"Red\", \"pride\": 70000}]}</td></tr><tr><td>{\"user_profile\": [{\"userid\": \"userid_2\", \"username\": \"Nathan Finley\", \"gender\": \"male\", \"age\": 20, \"picture_url\": \"../images/profile/Nathan Finley.png\"}], \"car\": [{\"carid\": \"car_6\", \"make\": \"Nissan\", \"year\": \"2015\", \"category\": \"SUV\", \"model\": \"Rouge\", \"color\": \"Brown\", \"pride\": 15500}]}</td></tr><tr><td>{\"user_profile\": [{\"userid\": \"userid_2\", \"username\": \"Nathan Finley\", \"gender\": \"male\", \"age\": 20, \"picture_url\": \"../images/profile/Nathan Finley.png\"}], \"car\": [{\"carid\": \"car_0\", \"make\": \"Honda\", \"year\": \"2020\", \"category\": \"Sedan\", \"model\": \"Accord\", \"color\": \"Black\", \"pride\": 14000}]}</td></tr><tr><td>{\"user_profile\": [{\"userid\": \"userid_2\", \"username\": \"Nathan Finley\", \"gender\": \"male\", \"age\": 20, \"picture_url\": \"../images/profile/Nathan Finley.png\"}], \"car\": [{\"carid\": \"car_9\", \"make\": \"Ram\", \"year\": \"2010\", \"category\": \"Truck\", \"model\": \"1500\", \"color\": \"Black\", \"pride\": 17000}]}</td></tr><tr><td>{\"user_profile\": [{\"userid\": \"userid_3\", \"username\": \"Owen Milford\", \"gender\": \"male\", \"age\": 30, \"picture_url\": \"../images/profile/Owen Milford.png\"}], \"car\": [{\"carid\": \"car_11\", \"make\": \"Tesla\", \"year\": \"2019\", \"category\": \"EV\", \"model\": \"Model Y\", \"color\": \"Black\", \"pride\": 40000}]}</td></tr><tr><td>{\"user_profile\": [{\"userid\": \"userid_2\", \"username\": \"Nathan Finley\", \"gender\": \"male\", \"age\": 20, \"picture_url\": \"../images/profile/Nathan Finley.png\"}], \"car\": [{\"carid\": \"car_6\", \"make\": \"Nissan\", \"year\": \"2015\", \"category\": \"SUV\", \"model\": \"Rouge\", \"color\": \"Brown\", \"pride\": 15500}]}</td></tr><tr><td>{\"user_profile\": [{\"userid\": \"userid_4\", \"username\": \"Keith Farrar\", \"gender\": \"male\", \"age\": 50, \"picture_url\": \"../images/profile/Keith Farrar.png\"}], \"car\": [{\"carid\": \"car_6\", \"make\": \"Nissan\", \"year\": \"2015\", \"category\": \"SUV\", \"model\": \"Rouge\", \"color\": \"Brown\", \"pride\": 15500}]}</td></tr><tr><td>{\"user_profile\": [{\"userid\": \"userid_1\", \"username\": \"Jenna Bostwick\", \"gender\": \"female\", \"age\": 25, \"picture_url\": \"../images/profile/Jenna Bostwick.png\"}], \"car\": [{\"carid\": \"car_0\", \"make\": \"Honda\", \"year\": \"2020\", \"category\": \"Sedan\", \"model\": \"Accord\", \"color\": \"Black\", \"pride\": 14000}]}</td></tr><tr><td>{\"user_profile\": [{\"userid\": \"userid_4\", \"username\": \"Keith Farrar\", \"gender\": \"male\", \"age\": 50, \"picture_url\": \"../images/profile/Keith Farrar.png\"}], \"car\": [{\"carid\": \"car_2\", \"make\": \"Nissan\", \"year\": \"2018\", \"category\": \"Sedan\", \"model\": \"Altima\", \"color\": \"Gold\", \"pride\": 13000}]}</td></tr><tr><td>{\"user_profile\": [{\"userid\": \"userid_0\", \"username\": \"Maria Dandridge\", \"gender\": \"female\", \"age\": 20, \"picture_url\": \"../images/profile/Maria Dandridge.png\"}], \"car\": [{\"carid\": \"car_6\", \"make\": \"Nissan\", \"year\": \"2015\", \"category\": \"SUV\", \"model\": \"Rouge\", \"color\": \"Brown\", \"pride\": 15500}]}</td></tr><tr><td>{\"user_profile\": [{\"userid\": \"userid_4\", \"username\": \"Keith Farrar\", \"gender\": \"male\", \"age\": 50, \"picture_url\": \"../images/profile/Keith Farrar.png\"}], \"car\": [{\"carid\": \"car_10\", \"make\": \"Ferarri\", \"year\": \"2015\", \"category\": \"SportCar\", \"model\": \"Spider\", \"color\": \"Red\", \"pride\": 70000}]}</td></tr><tr><td>{\"user_profile\": [{\"userid\": \"userid_0\", \"username\": \"Maria Dandridge\", \"gender\": \"female\", \"age\": 20, \"picture_url\": \"../images/profile/Maria Dandridge.png\"}], \"car\": [{\"carid\": \"car_6\", \"make\": \"Nissan\", \"year\": \"2015\", \"category\": \"SUV\", \"model\": \"Rouge\", \"color\": \"Brown\", \"pride\": 15500}]}</td></tr><tr><td>{\"user_profile\": [{\"userid\": \"userid_1\", \"username\": \"Jenna Bostwick\", \"gender\": \"female\", \"age\": 25, \"picture_url\": \"../images/profile/Jenna Bostwick.png\"}], \"car\": [{\"carid\": \"car_10\", \"make\": \"Ferarri\", \"year\": \"2015\", \"category\": \"SportCar\", \"model\": \"Spider\", \"color\": \"Red\", \"pride\": 70000}]}</td></tr><tr><td>{\"user_profile\": [{\"userid\": \"userid_0\", \"username\": \"Maria Dandridge\", \"gender\": \"female\", \"age\": 20, \"picture_url\": \"../images/profile/Maria Dandridge.png\"}], \"car\": [{\"carid\": \"car_10\", \"make\": \"Ferarri\", \"year\": \"2015\", \"category\": \"SportCar\", \"model\": \"Spider\", \"color\": \"Red\", \"pride\": 70000}]}</td></tr><tr><td>{\"user_profile\": [{\"userid\": \"userid_3\", \"username\": \"Owen Milford\", \"gender\": \"male\", \"age\": 30, \"picture_url\": \"../images/profile/Owen Milford.png\"}], \"car\": [{\"carid\": \"car_1\", \"make\": \"Hyundai\", \"year\": \"2017\", \"category\": \"Sedan\", \"model\": \"Sonata\", \"color\": \"Gray\", \"pride\": 14000}]}</td></tr><tr><td>{\"user_profile\": [{\"userid\": \"userid_1\", \"username\": \"Jenna Bostwick\", \"gender\": \"female\", \"age\": 25, \"picture_url\": \"../images/profile/Jenna Bostwick.png\"}], \"car\": [{\"carid\": \"car_11\", \"make\": \"Tesla\", \"year\": \"2019\", \"category\": \"EV\", \"model\": \"Model Y\", \"color\": \"Black\", \"pride\": 40000}]}</td></tr><tr><td>{\"user_profile\": [{\"userid\": \"userid_3\", \"username\": \"Owen Milford\", \"gender\": \"male\", \"age\": 30, \"picture_url\": \"../images/profile/Owen Milford.png\"}], \"car\": [{\"carid\": \"car_4\", \"make\": \"Honda\", \"year\": \"2013\", \"category\": \"SVU\", \"model\": \"CR-V\", \"color\": \"Brown\", \"pride\": 11000}]}</td></tr><tr><td>{\"user_profile\": [{\"userid\": \"userid_1\", \"username\": \"Jenna Bostwick\", \"gender\": \"female\", \"age\": 25, \"picture_url\": \"../images/profile/Jenna Bostwick.png\"}], \"car\": [{\"carid\": \"car_5\", \"make\": \"Toyota\", \"year\": \"2015\", \"category\": \"SUV\", \"model\": \"RAV4\", \"color\": \"White\", \"pride\": 15000}]}</td></tr><tr><td>{\"user_profile\": [{\"userid\": \"userid_1\", \"username\": \"Jenna Bostwick\", \"gender\": \"female\", \"age\": 25, \"picture_url\": \"../images/profile/Jenna Bostwick.png\"}], \"car\": [{\"carid\": \"car_0\", \"make\": \"Honda\", \"year\": \"2020\", \"category\": \"Sedan\", \"model\": \"Accord\", \"color\": \"Black\", \"pride\": 14000}]}</td></tr><tr><td>{\"user_profile\": [{\"userid\": \"userid_2\", \"username\": \"Nathan Finley\", \"gender\": \"male\", \"age\": 20, \"picture_url\": \"../images/profile/Nathan Finley.png\"}], \"car\": [{\"carid\": \"car_10\", \"make\": \"Ferarri\", \"year\": \"2015\", \"category\": \"SportCar\", \"model\": \"Spider\", \"color\": \"Red\", \"pride\": 70000}]}</td></tr><tr><td>{\"user_profile\": [{\"userid\": \"userid_4\", \"username\": \"Keith Farrar\", \"gender\": \"male\", \"age\": 50, \"picture_url\": \"../images/profile/Keith Farrar.png\"}], \"car\": [{\"carid\": \"car_3\", \"make\": \"Toyota\", \"year\": \"2012\", \"category\": \"Sedan\", \"model\": \"Camry\", \"color\": \"Silver\", \"pride\": 11000}]}</td></tr><tr><td>{\"user_profile\": [{\"userid\": \"userid_1\", \"username\": \"Jenna Bostwick\", \"gender\": \"female\", \"age\": 25, \"picture_url\": \"../images/profile/Jenna Bostwick.png\"}], \"car\": [{\"carid\": \"car_3\", \"make\": \"Toyota\", \"year\": \"2012\", \"category\": \"Sedan\", \"model\": \"Camry\", \"color\": \"Silver\", \"pride\": 11000}]}</td></tr><tr><td>{\"user_profile\": [{\"userid\": \"userid_4\", \"username\": \"Keith Farrar\", \"gender\": \"male\", \"age\": 50, \"picture_url\": \"../images/profile/Keith Farrar.png\"}], \"car\": [{\"carid\": \"car_7\", \"make\": \"Chevrolet\", \"year\": \"2016\", \"category\": \"Truck\", \"model\": \"Silverado\", \"color\": \"White\", \"pride\": 17000}]}</td></tr><tr><td>{\"user_profile\": [{\"userid\": \"userid_0\", \"username\": \"Maria Dandridge\", \"gender\": \"female\", \"age\": 20, \"picture_url\": \"../images/profile/Maria Dandridge.png\"}], \"car\": [{\"carid\": \"car_3\", \"make\": \"Toyota\", \"year\": \"2012\", \"category\": \"Sedan\", \"model\": \"Camry\", \"color\": \"Silver\", \"pride\": 11000}]}</td></tr><tr><td>{\"user_profile\": [{\"userid\": \"userid_0\", \"username\": \"Maria Dandridge\", \"gender\": \"female\", \"age\": 20, \"picture_url\": \"../images/profile/Maria Dandridge.png\"}], \"car\": [{\"carid\": \"car_0\", \"make\": \"Honda\", \"year\": \"2020\", \"category\": \"Sedan\", \"model\": \"Accord\", \"color\": \"Black\", \"pride\": 14000}]}</td></tr><tr><td>{\"user_profile\": [{\"userid\": \"userid_2\", \"username\": \"Nathan Finley\", \"gender\": \"male\", \"age\": 20, \"picture_url\": \"../images/profile/Nathan Finley.png\"}], \"car\": [{\"carid\": \"car_8\", \"make\": \"Ford\", \"year\": \"2016\", \"category\": \"Truck\", \"model\": \"F-150\", \"color\": \"Brown\", \"pride\": 17000}]}</td></tr><tr><td>{\"user_profile\": [{\"userid\": \"userid_4\", \"username\": \"Keith Farrar\", \"gender\": \"male\", \"age\": 50, \"picture_url\": \"../images/profile/Keith Farrar.png\"}], \"car\": [{\"carid\": \"car_7\", \"make\": \"Chevrolet\", \"year\": \"2016\", \"category\": \"Truck\", \"model\": \"Silverado\", \"color\": \"White\", \"pride\": 17000}]}</td></tr><tr><td>{\"user_profile\": [{\"userid\": \"userid_4\", \"username\": \"Keith Farrar\", \"gender\": \"male\", \"age\": 50, \"picture_url\": \"../images/profile/Keith Farrar.png\"}], \"car\": [{\"carid\": \"car_0\", \"make\": \"Honda\", \"year\": \"2020\", \"category\": \"Sedan\", \"model\": \"Accord\", \"color\": \"Black\", \"pride\": 14000}]}</td></tr><tr><td>{\"user_profile\": [{\"userid\": \"userid_1\", \"username\": \"Jenna Bostwick\", \"gender\": \"female\", \"age\": 25, \"picture_url\": \"../images/profile/Jenna Bostwick.png\"}], \"car\": [{\"carid\": \"car_3\", \"make\": \"Toyota\", \"year\": \"2012\", \"category\": \"Sedan\", \"model\": \"Camry\", \"color\": \"Silver\", \"pride\": 11000}]}</td></tr><tr><td>{\"user_profile\": [{\"userid\": \"userid_3\", \"username\": \"Owen Milford\", \"gender\": \"male\", \"age\": 30, \"picture_url\": \"../images/profile/Owen Milford.png\"}], \"car\": [{\"carid\": \"car_2\", \"make\": \"Nissan\", \"year\": \"2018\", \"category\": \"Sedan\", \"model\": \"Altima\", \"color\": \"Gold\", \"pride\": 13000}]}</td></tr><tr><td>{\"user_profile\": [{\"userid\": \"userid_1\", \"username\": \"Jenna Bostwick\", \"gender\": \"female\", \"age\": 25, \"picture_url\": \"../images/profile/Jenna Bostwick.png\"}], \"car\": [{\"carid\": \"car_7\", \"make\": \"Chevrolet\", \"year\": \"2016\", \"category\": \"Truck\", \"model\": \"Silverado\", \"color\": \"White\", \"pride\": 17000}]}</td></tr><tr><td>{\"user_profile\": [{\"userid\": \"userid_2\", \"username\": \"Nathan Finley\", \"gender\": \"male\", \"age\": 20, \"picture_url\": \"../images/profile/Nathan Finley.png\"}], \"car\": [{\"carid\": \"car_5\", \"make\": \"Toyota\", \"year\": \"2015\", \"category\": \"SUV\", \"model\": \"RAV4\", \"color\": \"White\", \"pride\": 15000}]}</td></tr><tr><td>{\"user_profile\": [{\"userid\": \"userid_2\", \"username\": \"Nathan Finley\", \"gender\": \"male\", \"age\": 20, \"picture_url\": \"../images/profile/Nathan Finley.png\"}], \"car\": [{\"carid\": \"car_4\", \"make\": \"Honda\", \"year\": \"2013\", \"category\": \"SVU\", \"model\": \"CR-V\", \"color\": \"Brown\", \"pride\": 11000}]}</td></tr><tr><td>{\"user_profile\": [{\"userid\": \"userid_3\", \"username\": \"Owen Milford\", \"gender\": \"male\", \"age\": 30, \"picture_url\": \"../images/profile/Owen Milford.png\"}], \"car\": [{\"carid\": \"car_1\", \"make\": \"Hyundai\", \"year\": \"2017\", \"category\": \"Sedan\", \"model\": \"Sonata\", \"color\": \"Gray\", \"pride\": 14000}]}</td></tr><tr><td>{\"user_profile\": [{\"userid\": \"userid_0\", \"username\": \"Maria Dandridge\", \"gender\": \"female\", \"age\": 20, \"picture_url\": \"../images/profile/Maria Dandridge.png\"}], \"car\": [{\"carid\": \"car_0\", \"make\": \"Honda\", \"year\": \"2020\", \"category\": \"Sedan\", \"model\": \"Accord\", \"color\": \"Black\", \"pride\": 14000}]}</td></tr><tr><td>{\"user_profile\": [{\"userid\": \"userid_2\", \"username\": \"Nathan Finley\", \"gender\": \"male\", \"age\": 20, \"picture_url\": \"../images/profile/Nathan Finley.png\"}], \"car\": [{\"carid\": \"car_9\", \"make\": \"Ram\", \"year\": \"2010\", \"category\": \"Truck\", \"model\": \"1500\", \"color\": \"Black\", \"pride\": 17000}]}</td></tr><tr><td>{\"user_profile\": [{\"userid\": \"userid_0\", \"username\": \"Maria Dandridge\", \"gender\": \"female\", \"age\": 20, \"picture_url\": \"../images/profile/Maria Dandridge.png\"}], \"car\": [{\"carid\": \"car_3\", \"make\": \"Toyota\", \"year\": \"2012\", \"category\": \"Sedan\", \"model\": \"Camry\", \"color\": \"Silver\", \"pride\": 11000}]}</td></tr><tr><td>{\"user_profile\": [{\"userid\": \"userid_4\", \"username\": \"Keith Farrar\", \"gender\": \"male\", \"age\": 50, \"picture_url\": \"../images/profile/Keith Farrar.png\"}], \"car\": [{\"carid\": \"car_8\", \"make\": \"Ford\", \"year\": \"2016\", \"category\": \"Truck\", \"model\": \"F-150\", \"color\": \"Brown\", \"pride\": 17000}]}</td></tr><tr><td>{\"user_profile\": [{\"userid\": \"userid_0\", \"username\": \"Maria Dandridge\", \"gender\": \"female\", \"age\": 20, \"picture_url\": \"../images/profile/Maria Dandridge.png\"}], \"car\": [{\"carid\": \"car_8\", \"make\": \"Ford\", \"year\": \"2016\", \"category\": \"Truck\", \"model\": \"F-150\", \"color\": \"Brown\", \"pride\": 17000}]}</td></tr><tr><td>{\"user_profile\": [{\"userid\": \"userid_0\", \"username\": \"Maria Dandridge\", \"gender\": \"female\", \"age\": 20, \"picture_url\": \"../images/profile/Maria Dandridge.png\"}], \"car\": [{\"carid\": \"car_9\", \"make\": \"Ram\", \"year\": \"2010\", \"category\": \"Truck\", \"model\": \"1500\", \"color\": \"Black\", \"pride\": 17000}]}</td></tr><tr><td>{\"user_profile\": [{\"userid\": \"userid_1\", \"username\": \"Jenna Bostwick\", \"gender\": \"female\", \"age\": 25, \"picture_url\": \"../images/profile/Jenna Bostwick.png\"}], \"car\": [{\"carid\": \"car_3\", \"make\": \"Toyota\", \"year\": \"2012\", \"category\": \"Sedan\", \"model\": \"Camry\", \"color\": \"Silver\", \"pride\": 11000}]}</td></tr><tr><td>{\"user_profile\": [{\"userid\": \"userid_3\", \"username\": \"Owen Milford\", \"gender\": \"male\", \"age\": 30, \"picture_url\": \"../images/profile/Owen Milford.png\"}], \"car\": [{\"carid\": \"car_4\", \"make\": \"Honda\", \"year\": \"2013\", \"category\": \"SVU\", \"model\": \"CR-V\", \"color\": \"Brown\", \"pride\": 11000}]}</td></tr><tr><td>{\"user_profile\": [{\"userid\": \"userid_1\", \"username\": \"Jenna Bostwick\", \"gender\": \"female\", \"age\": 25, \"picture_url\": \"../images/profile/Jenna Bostwick.png\"}], \"car\": [{\"carid\": \"car_5\", \"make\": \"Toyota\", \"year\": \"2015\", \"category\": \"SUV\", \"model\": \"RAV4\", \"color\": \"White\", \"pride\": 15000}]}</td></tr><tr><td>{\"user_profile\": [{\"userid\": \"userid_3\", \"username\": \"Owen Milford\", \"gender\": \"male\", \"age\": 30, \"picture_url\": \"../images/profile/Owen Milford.png\"}], \"car\": [{\"carid\": \"car_1\", \"make\": \"Hyundai\", \"year\": \"2017\", \"category\": \"Sedan\", \"model\": \"Sonata\", \"color\": \"Gray\", \"pride\": 14000}]}</td></tr><tr><td>{\"user_profile\": [{\"userid\": \"userid_4\", \"username\": \"Keith Farrar\", \"gender\": \"male\", \"age\": 50, \"picture_url\": \"../images/profile/Keith Farrar.png\"}], \"car\": [{\"carid\": \"car_10\", \"make\": \"Ferarri\", \"year\": \"2015\", \"category\": \"SportCar\", \"model\": \"Spider\", \"color\": \"Red\", \"pride\": 70000}]}</td></tr><tr><td>{\"user_profile\": [{\"userid\": \"userid_4\", \"username\": \"Keith Farrar\", \"gender\": \"male\", \"age\": 50, \"picture_url\": \"../images/profile/Keith Farrar.png\"}], \"car\": [{\"carid\": \"car_2\", \"make\": \"Nissan\", \"year\": \"2018\", \"category\": \"Sedan\", \"model\": \"Altima\", \"color\": \"Gold\", \"pride\": 13000}]}</td></tr><tr><td>{\"user_profile\": [{\"userid\": \"userid_1\", \"username\": \"Jenna Bostwick\", \"gender\": \"female\", \"age\": 25, \"picture_url\": \"../images/profile/Jenna Bostwick.png\"}], \"car\": [{\"carid\": \"car_3\", \"make\": \"Toyota\", \"year\": \"2012\", \"category\": \"Sedan\", \"model\": \"Camry\", \"color\": \"Silver\", \"pride\": 11000}]}</td></tr><tr><td>{\"user_profile\": [{\"userid\": \"userid_3\", \"username\": \"Owen Milford\", \"gender\": \"male\", \"age\": 30, \"picture_url\": \"../images/profile/Owen Milford.png\"}], \"car\": [{\"carid\": \"car_3\", \"make\": \"Toyota\", \"year\": \"2012\", \"category\": \"Sedan\", \"model\": \"Camry\", \"color\": \"Silver\", \"pride\": 11000}]}</td></tr><tr><td>{\"user_profile\": [{\"userid\": \"userid_1\", \"username\": \"Jenna Bostwick\", \"gender\": \"female\", \"age\": 25, \"picture_url\": \"../images/profile/Jenna Bostwick.png\"}], \"car\": [{\"carid\": \"car_3\", \"make\": \"Toyota\", \"year\": \"2012\", \"category\": \"Sedan\", \"model\": \"Camry\", \"color\": \"Silver\", \"pride\": 11000}]}</td></tr><tr><td>{\"user_profile\": [{\"userid\": \"userid_2\", \"username\": \"Nathan Finley\", \"gender\": \"male\", \"age\": 20, \"picture_url\": \"../images/profile/Nathan Finley.png\"}], \"car\": [{\"carid\": \"car_4\", \"make\": \"Honda\", \"year\": \"2013\", \"category\": \"SVU\", \"model\": \"CR-V\", \"color\": \"Brown\", \"pride\": 11000}]}</td></tr><tr><td>{\"user_profile\": [{\"userid\": \"userid_0\", \"username\": \"Maria Dandridge\", \"gender\": \"female\", \"age\": 20, \"picture_url\": \"../images/profile/Maria Dandridge.png\"}], \"car\": [{\"carid\": \"car_3\", \"make\": \"Toyota\", \"year\": \"2012\", \"category\": \"Sedan\", \"model\": \"Camry\", \"color\": \"Silver\", \"pride\": 11000}]}</td></tr><tr><td>{\"user_profile\": [{\"userid\": \"userid_3\", \"username\": \"Owen Milford\", \"gender\": \"male\", \"age\": 30, \"picture_url\": \"../images/profile/Owen Milford.png\"}], \"car\": [{\"carid\": \"car_1\", \"make\": \"Hyundai\", \"year\": \"2017\", \"category\": \"Sedan\", \"model\": \"Sonata\", \"color\": \"Gray\", \"pride\": 14000}]}</td></tr><tr><td>{\"user_profile\": [{\"userid\": \"userid_0\", \"username\": \"Maria Dandridge\", \"gender\": \"female\", \"age\": 20, \"picture_url\": \"../images/profile/Maria Dandridge.png\"}], \"car\": [{\"carid\": \"car_10\", \"make\": \"Ferarri\", \"year\": \"2015\", \"category\": \"SportCar\", \"model\": \"Spider\", \"color\": \"Red\", \"pride\": 70000}]}</td></tr><tr><td>{\"user_profile\": [{\"userid\": \"userid_2\", \"username\": \"Nathan Finley\", \"gender\": \"male\", \"age\": 20, \"picture_url\": \"../images/profile/Nathan Finley.png\"}], \"car\": [{\"carid\": \"car_6\", \"make\": \"Nissan\", \"year\": \"2015\", \"category\": \"SUV\", \"model\": \"Rouge\", \"color\": \"Brown\", \"pride\": 15500}]}</td></tr><tr><td>{\"user_profile\": [{\"userid\": \"userid_2\", \"username\": \"Nathan Finley\", \"gender\": \"male\", \"age\": 20, \"picture_url\": \"../images/profile/Nathan Finley.png\"}], \"car\": [{\"carid\": \"car_2\", \"make\": \"Nissan\", \"year\": \"2018\", \"category\": \"Sedan\", \"model\": \"Altima\", \"color\": \"Gold\", \"pride\": 13000}]}</td></tr><tr><td>{\"user_profile\": [{\"userid\": \"userid_4\", \"username\": \"Keith Farrar\", \"gender\": \"male\", \"age\": 50, \"picture_url\": \"../images/profile/Keith Farrar.png\"}], \"car\": [{\"carid\": \"car_9\", \"make\": \"Ram\", \"year\": \"2010\", \"category\": \"Truck\", \"model\": \"1500\", \"color\": \"Black\", \"pride\": 17000}]}</td></tr><tr><td>{\"user_profile\": [{\"userid\": \"userid_3\", \"username\": \"Owen Milford\", \"gender\": \"male\", \"age\": 30, \"picture_url\": \"../images/profile/Owen Milford.png\"}], \"car\": [{\"carid\": \"car_3\", \"make\": \"Toyota\", \"year\": \"2012\", \"category\": \"Sedan\", \"model\": \"Camry\", \"color\": \"Silver\", \"pride\": 11000}]}</td></tr><tr><td>{\"user_profile\": [{\"userid\": \"userid_4\", \"username\": \"Keith Farrar\", \"gender\": \"male\", \"age\": 50, \"picture_url\": \"../images/profile/Keith Farrar.png\"}], \"car\": [{\"carid\": \"car_11\", \"make\": \"Tesla\", \"year\": \"2019\", \"category\": \"EV\", \"model\": \"Model Y\", \"color\": \"Black\", \"pride\": 40000}]}</td></tr><tr><td>{\"user_profile\": [{\"userid\": \"userid_3\", \"username\": \"Owen Milford\", \"gender\": \"male\", \"age\": 30, \"picture_url\": \"../images/profile/Owen Milford.png\"}], \"car\": [{\"carid\": \"car_2\", \"make\": \"Nissan\", \"year\": \"2018\", \"category\": \"Sedan\", \"model\": \"Altima\", \"color\": \"Gold\", \"pride\": 13000}]}</td></tr><tr><td>{\"user_profile\": [{\"userid\": \"userid_4\", \"username\": \"Keith Farrar\", \"gender\": \"male\", \"age\": 50, \"picture_url\": \"../images/profile/Keith Farrar.png\"}], \"car\": [{\"carid\": \"car_1\", \"make\": \"Hyundai\", \"year\": \"2017\", \"category\": \"Sedan\", \"model\": \"Sonata\", \"color\": \"Gray\", \"pride\": 14000}]}</td></tr><tr><td>{\"user_profile\": [{\"userid\": \"userid_4\", \"username\": \"Keith Farrar\", \"gender\": \"male\", \"age\": 50, \"picture_url\": \"../images/profile/Keith Farrar.png\"}], \"car\": [{\"carid\": \"car_10\", \"make\": \"Ferarri\", \"year\": \"2015\", \"category\": \"SportCar\", \"model\": \"Spider\", \"color\": \"Red\", \"pride\": 70000}]}</td></tr><tr><td>{\"user_profile\": [{\"userid\": \"userid_1\", \"username\": \"Jenna Bostwick\", \"gender\": \"female\", \"age\": 25, \"picture_url\": \"../images/profile/Jenna Bostwick.png\"}], \"car\": [{\"carid\": \"car_8\", \"make\": \"Ford\", \"year\": \"2016\", \"category\": \"Truck\", \"model\": \"F-150\", \"color\": \"Brown\", \"pride\": 17000}]}</td></tr><tr><td>{\"user_profile\": [{\"userid\": \"userid_1\", \"username\": \"Jenna Bostwick\", \"gender\": \"female\", \"age\": 25, \"picture_url\": \"../images/profile/Jenna Bostwick.png\"}], \"car\": [{\"carid\": \"car_4\", \"make\": \"Honda\", \"year\": \"2013\", \"category\": \"SVU\", \"model\": \"CR-V\", \"color\": \"Brown\", \"pride\": 11000}]}</td></tr><tr><td>{\"user_profile\": [{\"userid\": \"userid_3\", \"username\": \"Owen Milford\", \"gender\": \"male\", \"age\": 30, \"picture_url\": \"../images/profile/Owen Milford.png\"}], \"car\": [{\"carid\": \"car_11\", \"make\": \"Tesla\", \"year\": \"2019\", \"category\": \"EV\", \"model\": \"Model Y\", \"color\": \"Black\", \"pride\": 40000}]}</td></tr><tr><td>{\"user_profile\": [{\"userid\": \"userid_3\", \"username\": \"Owen Milford\", \"gender\": \"male\", \"age\": 30, \"picture_url\": \"../images/profile/Owen Milford.png\"}], \"car\": [{\"carid\": \"car_2\", \"make\": \"Nissan\", \"year\": \"2018\", \"category\": \"Sedan\", \"model\": \"Altima\", \"color\": \"Gold\", \"pride\": 13000}]}</td></tr><tr><td>{\"user_profile\": [{\"userid\": \"userid_2\", \"username\": \"Nathan Finley\", \"gender\": \"male\", \"age\": 20, \"picture_url\": \"../images/profile/Nathan Finley.png\"}], \"car\": [{\"carid\": \"car_0\", \"make\": \"Honda\", \"year\": \"2020\", \"category\": \"Sedan\", \"model\": \"Accord\", \"color\": \"Black\", \"pride\": 14000}]}</td></tr><tr><td>{\"user_profile\": [{\"userid\": \"userid_4\", \"username\": \"Keith Farrar\", \"gender\": \"male\", \"age\": 50, \"picture_url\": \"../images/profile/Keith Farrar.png\"}], \"car\": [{\"carid\": \"car_4\", \"make\": \"Honda\", \"year\": \"2013\", \"category\": \"SVU\", \"model\": \"CR-V\", \"color\": \"Brown\", \"pride\": 11000}]}</td></tr><tr><td>{\"user_profile\": [{\"userid\": \"userid_2\", \"username\": \"Nathan Finley\", \"gender\": \"male\", \"age\": 20, \"picture_url\": \"../images/profile/Nathan Finley.png\"}], \"car\": [{\"carid\": \"car_0\", \"make\": \"Honda\", \"year\": \"2020\", \"category\": \"Sedan\", \"model\": \"Accord\", \"color\": \"Black\", \"pride\": 14000}]}</td></tr><tr><td>{\"user_profile\": [{\"userid\": \"userid_0\", \"username\": \"Maria Dandridge\", \"gender\": \"female\", \"age\": 20, \"picture_url\": \"../images/profile/Maria Dandridge.png\"}], \"car\": [{\"carid\": \"car_2\", \"make\": \"Nissan\", \"year\": \"2018\", \"category\": \"Sedan\", \"model\": \"Altima\", \"color\": \"Gold\", \"pride\": 13000}]}</td></tr><tr><td>{\"user_profile\": [{\"userid\": \"userid_0\", \"username\": \"Maria Dandridge\", \"gender\": \"female\", \"age\": 20, \"picture_url\": \"../images/profile/Maria Dandridge.png\"}], \"car\": [{\"carid\": \"car_8\", \"make\": \"Ford\", \"year\": \"2016\", \"category\": \"Truck\", \"model\": \"F-150\", \"color\": \"Brown\", \"pride\": 17000}]}</td></tr><tr><td>{\"user_profile\": [{\"userid\": \"userid_2\", \"username\": \"Nathan Finley\", \"gender\": \"male\", \"age\": 20, \"picture_url\": \"../images/profile/Nathan Finley.png\"}], \"car\": [{\"carid\": \"car_5\", \"make\": \"Toyota\", \"year\": \"2015\", \"category\": \"SUV\", \"model\": \"RAV4\", \"color\": \"White\", \"pride\": 15000}]}</td></tr><tr><td>{\"user_profile\": [{\"userid\": \"userid_4\", \"username\": \"Keith Farrar\", \"gender\": \"male\", \"age\": 50, \"picture_url\": \"../images/profile/Keith Farrar.png\"}], \"car\": [{\"carid\": \"car_11\", \"make\": \"Tesla\", \"year\": \"2019\", \"category\": \"EV\", \"model\": \"Model Y\", \"color\": \"Black\", \"pride\": 40000}]}</td></tr><tr><td>{\"user_profile\": [{\"userid\": \"userid_3\", \"username\": \"Owen Milford\", \"gender\": \"male\", \"age\": 30, \"picture_url\": \"../images/profile/Owen Milford.png\"}], \"car\": [{\"carid\": \"car_0\", \"make\": \"Honda\", \"year\": \"2020\", \"category\": \"Sedan\", \"model\": \"Accord\", \"color\": \"Black\", \"pride\": 14000}]}</td></tr><tr><td>{\"user_profile\": [{\"userid\": \"userid_3\", \"username\": \"Owen Milford\", \"gender\": \"male\", \"age\": 30, \"picture_url\": \"../images/profile/Owen Milford.png\"}], \"car\": [{\"carid\": \"car_9\", \"make\": \"Ram\", \"year\": \"2010\", \"category\": \"Truck\", \"model\": \"1500\", \"color\": \"Black\", \"pride\": 17000}]}</td></tr><tr><td>{\"user_profile\": [{\"userid\": \"userid_4\", \"username\": \"Keith Farrar\", \"gender\": \"male\", \"age\": 50, \"picture_url\": \"../images/profile/Keith Farrar.png\"}], \"car\": [{\"carid\": \"car_7\", \"make\": \"Chevrolet\", \"year\": \"2016\", \"category\": \"Truck\", \"model\": \"Silverado\", \"color\": \"White\", \"pride\": 17000}]}</td></tr><tr><td>{\"user_profile\": [{\"userid\": \"userid_2\", \"username\": \"Nathan Finley\", \"gender\": \"male\", \"age\": 20, \"picture_url\": \"../images/profile/Nathan Finley.png\"}], \"car\": [{\"carid\": \"car_8\", \"make\": \"Ford\", \"year\": \"2016\", \"category\": \"Truck\", \"model\": \"F-150\", \"color\": \"Brown\", \"pride\": 17000}]}</td></tr><tr><td>{\"user_profile\": [{\"userid\": \"userid_1\", \"username\": \"Jenna Bostwick\", \"gender\": \"female\", \"age\": 25, \"picture_url\": \"../images/profile/Jenna Bostwick.png\"}], \"car\": [{\"carid\": \"car_7\", \"make\": \"Chevrolet\", \"year\": \"2016\", \"category\": \"Truck\", \"model\": \"Silverado\", \"color\": \"White\", \"pride\": 17000}]}</td></tr><tr><td>{\"user_profile\": [{\"userid\": \"userid_4\", \"username\": \"Keith Farrar\", \"gender\": \"male\", \"age\": 50, \"picture_url\": \"../images/profile/Keith Farrar.png\"}], \"car\": [{\"carid\": \"car_5\", \"make\": \"Toyota\", \"year\": \"2015\", \"category\": \"SUV\", \"model\": \"RAV4\", \"color\": \"White\", \"pride\": 15000}]}</td></tr><tr><td>{\"user_profile\": [{\"userid\": \"userid_0\", \"username\": \"Maria Dandridge\", \"gender\": \"female\", \"age\": 20, \"picture_url\": \"../images/profile/Maria Dandridge.png\"}], \"car\": [{\"carid\": \"car_2\", \"make\": \"Nissan\", \"year\": \"2018\", \"category\": \"Sedan\", \"model\": \"Altima\", \"color\": \"Gold\", \"pride\": 13000}]}</td></tr><tr><td>{\"user_profile\": [{\"userid\": \"userid_4\", \"username\": \"Keith Farrar\", \"gender\": \"male\", \"age\": 50, \"picture_url\": \"../images/profile/Keith Farrar.png\"}], \"car\": [{\"carid\": \"car_3\", \"make\": \"Toyota\", \"year\": \"2012\", \"category\": \"Sedan\", \"model\": \"Camry\", \"color\": \"Silver\", \"pride\": 11000}]}</td></tr><tr><td>{\"user_profile\": [{\"userid\": \"userid_1\", \"username\": \"Jenna Bostwick\", \"gender\": \"female\", \"age\": 25, \"picture_url\": \"../images/profile/Jenna Bostwick.png\"}], \"car\": [{\"carid\": \"car_7\", \"make\": \"Chevrolet\", \"year\": \"2016\", \"category\": \"Truck\", \"model\": \"Silverado\", \"color\": \"White\", \"pride\": 17000}]}</td></tr><tr><td>{\"user_profile\": [{\"userid\": \"userid_2\", \"username\": \"Nathan Finley\", \"gender\": \"male\", \"age\": 20, \"picture_url\": \"../images/profile/Nathan Finley.png\"}], \"car\": [{\"carid\": \"car_0\", \"make\": \"Honda\", \"year\": \"2020\", \"category\": \"Sedan\", \"model\": \"Accord\", \"color\": \"Black\", \"pride\": 14000}]}</td></tr><tr><td>{\"user_profile\": [{\"userid\": \"userid_0\", \"username\": \"Maria Dandridge\", \"gender\": \"female\", \"age\": 20, \"picture_url\": \"../images/profile/Maria Dandridge.png\"}], \"car\": [{\"carid\": \"car_6\", \"make\": \"Nissan\", \"year\": \"2015\", \"category\": \"SUV\", \"model\": \"Rouge\", \"color\": \"Brown\", \"pride\": 15500}]}</td></tr><tr><td>{\"user_profile\": [{\"userid\": \"userid_0\", \"username\": \"Maria Dandridge\", \"gender\": \"female\", \"age\": 20, \"picture_url\": \"../images/profile/Maria Dandridge.png\"}], \"car\": [{\"carid\": \"car_5\", \"make\": \"Toyota\", \"year\": \"2015\", \"category\": \"SUV\", \"model\": \"RAV4\", \"color\": \"White\", \"pride\": 15000}]}</td></tr><tr><td>{\"user_profile\": [{\"userid\": \"userid_4\", \"username\": \"Keith Farrar\", \"gender\": \"male\", \"age\": 50, \"picture_url\": \"../images/profile/Keith Farrar.png\"}], \"car\": [{\"carid\": \"car_10\", \"make\": \"Ferarri\", \"year\": \"2015\", \"category\": \"SportCar\", \"model\": \"Spider\", \"color\": \"Red\", \"pride\": 70000}]}</td></tr><tr><td>{\"user_profile\": [{\"userid\": \"userid_0\", \"username\": \"Maria Dandridge\", \"gender\": \"female\", \"age\": 20, \"picture_url\": \"../images/profile/Maria Dandridge.png\"}], \"car\": [{\"carid\": \"car_6\", \"make\": \"Nissan\", \"year\": \"2015\", \"category\": \"SUV\", \"model\": \"Rouge\", \"color\": \"Brown\", \"pride\": 15500}]}</td></tr><tr><td>{\"user_profile\": [{\"userid\": \"userid_0\", \"username\": \"Maria Dandridge\", \"gender\": \"female\", \"age\": 20, \"picture_url\": \"../images/profile/Maria Dandridge.png\"}], \"car\": [{\"carid\": \"car_9\", \"make\": \"Ram\", \"year\": \"2010\", \"category\": \"Truck\", \"model\": \"1500\", \"color\": \"Black\", \"pride\": 17000}]}</td></tr><tr><td>{\"user_profile\": [{\"userid\": \"userid_3\", \"username\": \"Owen Milford\", \"gender\": \"male\", \"age\": 30, \"picture_url\": \"../images/profile/Owen Milford.png\"}], \"car\": [{\"carid\": \"car_5\", \"make\": \"Toyota\", \"year\": \"2015\", \"category\": \"SUV\", \"model\": \"RAV4\", \"color\": \"White\", \"pride\": 15000}]}</td></tr><tr><td>{\"user_profile\": [{\"userid\": \"userid_0\", \"username\": \"Maria Dandridge\", \"gender\": \"female\", \"age\": 20, \"picture_url\": \"../images/profile/Maria Dandridge.png\"}], \"car\": [{\"carid\": \"car_2\", \"make\": \"Nissan\", \"year\": \"2018\", \"category\": \"Sedan\", \"model\": \"Altima\", \"color\": \"Gold\", \"pride\": 13000}]}</td></tr><tr><td>{\"user_profile\": [{\"userid\": \"userid_4\", \"username\": \"Keith Farrar\", \"gender\": \"male\", \"age\": 50, \"picture_url\": \"../images/profile/Keith Farrar.png\"}], \"car\": [{\"carid\": \"car_3\", \"make\": \"Toyota\", \"year\": \"2012\", \"category\": \"Sedan\", \"model\": \"Camry\", \"color\": \"Silver\", \"pride\": 11000}]}</td></tr><tr><td>{\"user_profile\": [{\"userid\": \"userid_0\", \"username\": \"Maria Dandridge\", \"gender\": \"female\", \"age\": 20, \"picture_url\": \"../images/profile/Maria Dandridge.png\"}], \"car\": [{\"carid\": \"car_6\", \"make\": \"Nissan\", \"year\": \"2015\", \"category\": \"SUV\", \"model\": \"Rouge\", \"color\": \"Brown\", \"pride\": 15500}]}</td></tr><tr><td>{\"user_profile\": [{\"userid\": \"userid_1\", \"username\": \"Jenna Bostwick\", \"gender\": \"female\", \"age\": 25, \"picture_url\": \"../images/profile/Jenna Bostwick.png\"}], \"car\": [{\"carid\": \"car_11\", \"make\": \"Tesla\", \"year\": \"2019\", \"category\": \"EV\", \"model\": \"Model Y\", \"color\": \"Black\", \"pride\": 40000}]}</td></tr><tr><td>{\"user_profile\": [{\"userid\": \"userid_0\", \"username\": \"Maria Dandridge\", \"gender\": \"female\", \"age\": 20, \"picture_url\": \"../images/profile/Maria Dandridge.png\"}], \"car\": [{\"carid\": \"car_8\", \"make\": \"Ford\", \"year\": \"2016\", \"category\": \"Truck\", \"model\": \"F-150\", \"color\": \"Brown\", \"pride\": 17000}]}</td></tr><tr><td>{\"user_profile\": [{\"userid\": \"userid_3\", \"username\": \"Owen Milford\", \"gender\": \"male\", \"age\": 30, \"picture_url\": \"../images/profile/Owen Milford.png\"}], \"car\": [{\"carid\": \"car_1\", \"make\": \"Hyundai\", \"year\": \"2017\", \"category\": \"Sedan\", \"model\": \"Sonata\", \"color\": \"Gray\", \"pride\": 14000}]}</td></tr><tr><td>{\"user_profile\": [{\"userid\": \"userid_4\", \"username\": \"Keith Farrar\", \"gender\": \"male\", \"age\": 50, \"picture_url\": \"../images/profile/Keith Farrar.png\"}], \"car\": [{\"carid\": \"car_7\", \"make\": \"Chevrolet\", \"year\": \"2016\", \"category\": \"Truck\", \"model\": \"Silverado\", \"color\": \"White\", \"pride\": 17000}]}</td></tr><tr><td>{\"user_profile\": [{\"userid\": \"userid_1\", \"username\": \"Jenna Bostwick\", \"gender\": \"female\", \"age\": 25, \"picture_url\": \"../images/profile/Jenna Bostwick.png\"}], \"car\": [{\"carid\": \"car_4\", \"make\": \"Honda\", \"year\": \"2013\", \"category\": \"SVU\", \"model\": \"CR-V\", \"color\": \"Brown\", \"pride\": 11000}]}</td></tr><tr><td>{\"user_profile\": [{\"userid\": \"userid_4\", \"username\": \"Keith Farrar\", \"gender\": \"male\", \"age\": 50, \"picture_url\": \"../images/profile/Keith Farrar.png\"}], \"car\": [{\"carid\": \"car_5\", \"make\": \"Toyota\", \"year\": \"2015\", \"category\": \"SUV\", \"model\": \"RAV4\", \"color\": \"White\", \"pride\": 15000}]}</td></tr><tr><td>{\"user_profile\": [{\"userid\": \"userid_1\", \"username\": \"Jenna Bostwick\", \"gender\": \"female\", \"age\": 25, \"picture_url\": \"../images/profile/Jenna Bostwick.png\"}], \"car\": [{\"carid\": \"car_9\", \"make\": \"Ram\", \"year\": \"2010\", \"category\": \"Truck\", \"model\": \"1500\", \"color\": \"Black\", \"pride\": 17000}]}</td></tr><tr><td>{\"user_profile\": [{\"userid\": \"userid_3\", \"username\": \"Owen Milford\", \"gender\": \"male\", \"age\": 30, \"picture_url\": \"../images/profile/Owen Milford.png\"}], \"car\": [{\"carid\": \"car_5\", \"make\": \"Toyota\", \"year\": \"2015\", \"category\": \"SUV\", \"model\": \"RAV4\", \"color\": \"White\", \"pride\": 15000}]}</td></tr><tr><td>{\"user_profile\": [{\"userid\": \"userid_2\", \"username\": \"Nathan Finley\", \"gender\": \"male\", \"age\": 20, \"picture_url\": \"../images/profile/Nathan Finley.png\"}], \"car\": [{\"carid\": \"car_3\", \"make\": \"Toyota\", \"year\": \"2012\", \"category\": \"Sedan\", \"model\": \"Camry\", \"color\": \"Silver\", \"pride\": 11000}]}</td></tr><tr><td>{\"user_profile\": [{\"userid\": \"userid_1\", \"username\": \"Jenna Bostwick\", \"gender\": \"female\", \"age\": 25, \"picture_url\": \"../images/profile/Jenna Bostwick.png\"}], \"car\": [{\"carid\": \"car_9\", \"make\": \"Ram\", \"year\": \"2010\", \"category\": \"Truck\", \"model\": \"1500\", \"color\": \"Black\", \"pride\": 17000}]}</td></tr><tr><td>{\"user_profile\": [{\"userid\": \"userid_1\", \"username\": \"Jenna Bostwick\", \"gender\": \"female\", \"age\": 25, \"picture_url\": \"../images/profile/Jenna Bostwick.png\"}], \"car\": [{\"carid\": \"car_3\", \"make\": \"Toyota\", \"year\": \"2012\", \"category\": \"Sedan\", \"model\": \"Camry\", \"color\": \"Silver\", \"pride\": 11000}]}</td></tr><tr><td>{\"user_profile\": [{\"userid\": \"userid_4\", \"username\": \"Keith Farrar\", \"gender\": \"male\", \"age\": 50, \"picture_url\": \"../images/profile/Keith Farrar.png\"}], \"car\": [{\"carid\": \"car_9\", \"make\": \"Ram\", \"year\": \"2010\", \"category\": \"Truck\", \"model\": \"1500\", \"color\": \"Black\", \"pride\": 17000}]}</td></tr><tr><td>{\"user_profile\": [{\"userid\": \"userid_0\", \"username\": \"Maria Dandridge\", \"gender\": \"female\", \"age\": 20, \"picture_url\": \"../images/profile/Maria Dandridge.png\"}], \"car\": [{\"carid\": \"car_4\", \"make\": \"Honda\", \"year\": \"2013\", \"category\": \"SVU\", \"model\": \"CR-V\", \"color\": \"Brown\", \"pride\": 11000}]}</td></tr><tr><td>{\"user_profile\": [{\"userid\": \"userid_3\", \"username\": \"Owen Milford\", \"gender\": \"male\", \"age\": 30, \"picture_url\": \"../images/profile/Owen Milford.png\"}], \"car\": [{\"carid\": \"car_0\", \"make\": \"Honda\", \"year\": \"2020\", \"category\": \"Sedan\", \"model\": \"Accord\", \"color\": \"Black\", \"pride\": 14000}]}</td></tr><tr><td>{\"user_profile\": [{\"userid\": \"userid_0\", \"username\": \"Maria Dandridge\", \"gender\": \"female\", \"age\": 20, \"picture_url\": \"../images/profile/Maria Dandridge.png\"}], \"car\": [{\"carid\": \"car_4\", \"make\": \"Honda\", \"year\": \"2013\", \"category\": \"SVU\", \"model\": \"CR-V\", \"color\": \"Brown\", \"pride\": 11000}]}</td></tr><tr><td>{\"user_profile\": [{\"userid\": \"userid_4\", \"username\": \"Keith Farrar\", \"gender\": \"male\", \"age\": 50, \"picture_url\": \"../images/profile/Keith Farrar.png\"}], \"car\": [{\"carid\": \"car_11\", \"make\": \"Tesla\", \"year\": \"2019\", \"category\": \"EV\", \"model\": \"Model Y\", \"color\": \"Black\", \"pride\": 40000}]}</td></tr><tr><td>{\"user_profile\": [{\"userid\": \"userid_1\", \"username\": \"Jenna Bostwick\", \"gender\": \"female\", \"age\": 25, \"picture_url\": \"../images/profile/Jenna Bostwick.png\"}], \"car\": [{\"carid\": \"car_10\", \"make\": \"Ferarri\", \"year\": \"2015\", \"category\": \"SportCar\", \"model\": \"Spider\", \"color\": \"Red\", \"pride\": 70000}]}</td></tr><tr><td>{\"user_profile\": [{\"userid\": \"userid_3\", \"username\": \"Owen Milford\", \"gender\": \"male\", \"age\": 30, \"picture_url\": \"../images/profile/Owen Milford.png\"}], \"car\": [{\"carid\": \"car_4\", \"make\": \"Honda\", \"year\": \"2013\", \"category\": \"SVU\", \"model\": \"CR-V\", \"color\": \"Brown\", \"pride\": 11000}]}</td></tr><tr><td>{\"user_profile\": [{\"userid\": \"userid_2\", \"username\": \"Nathan Finley\", \"gender\": \"male\", \"age\": 20, \"picture_url\": \"../images/profile/Nathan Finley.png\"}], \"car\": [{\"carid\": \"car_0\", \"make\": \"Honda\", \"year\": \"2020\", \"category\": \"Sedan\", \"model\": \"Accord\", \"color\": \"Black\", \"pride\": 14000}]}</td></tr><tr><td>{\"user_profile\": [{\"userid\": \"userid_3\", \"username\": \"Owen Milford\", \"gender\": \"male\", \"age\": 30, \"picture_url\": \"../images/profile/Owen Milford.png\"}], \"car\": [{\"carid\": \"car_11\", \"make\": \"Tesla\", \"year\": \"2019\", \"category\": \"EV\", \"model\": \"Model Y\", \"color\": \"Black\", \"pride\": 40000}]}</td></tr><tr><td>{\"user_profile\": [{\"userid\": \"userid_4\", \"username\": \"Keith Farrar\", \"gender\": \"male\", \"age\": 50, \"picture_url\": \"../images/profile/Keith Farrar.png\"}], \"car\": [{\"carid\": \"car_10\", \"make\": \"Ferarri\", \"year\": \"2015\", \"category\": \"SportCar\", \"model\": \"Spider\", \"color\": \"Red\", \"pride\": 70000}]}</td></tr><tr><td>{\"user_profile\": [{\"userid\": \"userid_2\", \"username\": \"Nathan Finley\", \"gender\": \"male\", \"age\": 20, \"picture_url\": \"../images/profile/Nathan Finley.png\"}], \"car\": [{\"carid\": \"car_11\", \"make\": \"Tesla\", \"year\": \"2019\", \"category\": \"EV\", \"model\": \"Model Y\", \"color\": \"Black\", \"pride\": 40000}]}</td></tr><tr><td>{\"user_profile\": [{\"userid\": \"userid_3\", \"username\": \"Owen Milford\", \"gender\": \"male\", \"age\": 30, \"picture_url\": \"../images/profile/Owen Milford.png\"}], \"car\": [{\"carid\": \"car_9\", \"make\": \"Ram\", \"year\": \"2010\", \"category\": \"Truck\", \"model\": \"1500\", \"color\": \"Black\", \"pride\": 17000}]}</td></tr><tr><td>{\"user_profile\": [{\"userid\": \"userid_1\", \"username\": \"Jenna Bostwick\", \"gender\": \"female\", \"age\": 25, \"picture_url\": \"../images/profile/Jenna Bostwick.png\"}], \"car\": [{\"carid\": \"car_4\", \"make\": \"Honda\", \"year\": \"2013\", \"category\": \"SVU\", \"model\": \"CR-V\", \"color\": \"Brown\", \"pride\": 11000}]}</td></tr><tr><td>{\"user_profile\": [{\"userid\": \"userid_3\", \"username\": \"Owen Milford\", \"gender\": \"male\", \"age\": 30, \"picture_url\": \"../images/profile/Owen Milford.png\"}], \"car\": [{\"carid\": \"car_1\", \"make\": \"Hyundai\", \"year\": \"2017\", \"category\": \"Sedan\", \"model\": \"Sonata\", \"color\": \"Gray\", \"pride\": 14000}]}</td></tr><tr><td>{\"user_profile\": [{\"userid\": \"userid_1\", \"username\": \"Jenna Bostwick\", \"gender\": \"female\", \"age\": 25, \"picture_url\": \"../images/profile/Jenna Bostwick.png\"}], \"car\": [{\"carid\": \"car_8\", \"make\": \"Ford\", \"year\": \"2016\", \"category\": \"Truck\", \"model\": \"F-150\", \"color\": \"Brown\", \"pride\": 17000}]}</td></tr><tr><td>{\"user_profile\": [{\"userid\": \"userid_0\", \"username\": \"Maria Dandridge\", \"gender\": \"female\", \"age\": 20, \"picture_url\": \"../images/profile/Maria Dandridge.png\"}], \"car\": [{\"carid\": \"car_7\", \"make\": \"Chevrolet\", \"year\": \"2016\", \"category\": \"Truck\", \"model\": \"Silverado\", \"color\": \"White\", \"pride\": 17000}]}</td></tr><tr><td>{\"user_profile\": [{\"userid\": \"userid_4\", \"username\": \"Keith Farrar\", \"gender\": \"male\", \"age\": 50, \"picture_url\": \"../images/profile/Keith Farrar.png\"}], \"car\": [{\"carid\": \"car_9\", \"make\": \"Ram\", \"year\": \"2010\", \"category\": \"Truck\", \"model\": \"1500\", \"color\": \"Black\", \"pride\": 17000}]}</td></tr><tr><td>{\"user_profile\": [{\"userid\": \"userid_0\", \"username\": \"Maria Dandridge\", \"gender\": \"female\", \"age\": 20, \"picture_url\": \"../images/profile/Maria Dandridge.png\"}], \"car\": [{\"carid\": \"car_1\", \"make\": \"Hyundai\", \"year\": \"2017\", \"category\": \"Sedan\", \"model\": \"Sonata\", \"color\": \"Gray\", \"pride\": 14000}]}</td></tr><tr><td>{\"user_profile\": [{\"userid\": \"userid_4\", \"username\": \"Keith Farrar\", \"gender\": \"male\", \"age\": 50, \"picture_url\": \"../images/profile/Keith Farrar.png\"}], \"car\": [{\"carid\": \"car_3\", \"make\": \"Toyota\", \"year\": \"2012\", \"category\": \"Sedan\", \"model\": \"Camry\", \"color\": \"Silver\", \"pride\": 11000}]}</td></tr><tr><td>{\"user_profile\": [{\"userid\": \"userid_0\", \"username\": \"Maria Dandridge\", \"gender\": \"female\", \"age\": 20, \"picture_url\": \"../images/profile/Maria Dandridge.png\"}], \"car\": [{\"carid\": \"car_9\", \"make\": \"Ram\", \"year\": \"2010\", \"category\": \"Truck\", \"model\": \"1500\", \"color\": \"Black\", \"pride\": 17000}]}</td></tr><tr><td>{\"user_profile\": [{\"userid\": \"userid_0\", \"username\": \"Maria Dandridge\", \"gender\": \"female\", \"age\": 20, \"picture_url\": \"../images/profile/Maria Dandridge.png\"}], \"car\": [{\"carid\": \"car_2\", \"make\": \"Nissan\", \"year\": \"2018\", \"category\": \"Sedan\", \"model\": \"Altima\", \"color\": \"Gold\", \"pride\": 13000}]}</td></tr><tr><td>{\"user_profile\": [{\"userid\": \"userid_4\", \"username\": \"Keith Farrar\", \"gender\": \"male\", \"age\": 50, \"picture_url\": \"../images/profile/Keith Farrar.png\"}], \"car\": [{\"carid\": \"car_2\", \"make\": \"Nissan\", \"year\": \"2018\", \"category\": \"Sedan\", \"model\": \"Altima\", \"color\": \"Gold\", \"pride\": 13000}]}</td></tr><tr><td>{\"user_profile\": [{\"userid\": \"userid_4\", \"username\": \"Keith Farrar\", \"gender\": \"male\", \"age\": 50, \"picture_url\": \"../images/profile/Keith Farrar.png\"}], \"car\": [{\"carid\": \"car_9\", \"make\": \"Ram\", \"year\": \"2010\", \"category\": \"Truck\", \"model\": \"1500\", \"color\": \"Black\", \"pride\": 17000}]}</td></tr><tr><td>{\"user_profile\": [{\"userid\": \"userid_0\", \"username\": \"Maria Dandridge\", \"gender\": \"female\", \"age\": 20, \"picture_url\": \"../images/profile/Maria Dandridge.png\"}], \"car\": [{\"carid\": \"car_6\", \"make\": \"Nissan\", \"year\": \"2015\", \"category\": \"SUV\", \"model\": \"Rouge\", \"color\": \"Brown\", \"pride\": 15500}]}</td></tr><tr><td>{\"user_profile\": [{\"userid\": \"userid_4\", \"username\": \"Keith Farrar\", \"gender\": \"male\", \"age\": 50, \"picture_url\": \"../images/profile/Keith Farrar.png\"}], \"car\": [{\"carid\": \"car_10\", \"make\": \"Ferarri\", \"year\": \"2015\", \"category\": \"SportCar\", \"model\": \"Spider\", \"color\": \"Red\", \"pride\": 70000}]}</td></tr><tr><td>{\"user_profile\": [{\"userid\": \"userid_1\", \"username\": \"Jenna Bostwick\", \"gender\": \"female\", \"age\": 25, \"picture_url\": \"../images/profile/Jenna Bostwick.png\"}], \"car\": [{\"carid\": \"car_7\", \"make\": \"Chevrolet\", \"year\": \"2016\", \"category\": \"Truck\", \"model\": \"Silverado\", \"color\": \"White\", \"pride\": 17000}]}</td></tr><tr><td>{\"user_profile\": [{\"userid\": \"userid_0\", \"username\": \"Maria Dandridge\", \"gender\": \"female\", \"age\": 20, \"picture_url\": \"../images/profile/Maria Dandridge.png\"}], \"car\": [{\"carid\": \"car_4\", \"make\": \"Honda\", \"year\": \"2013\", \"category\": \"SVU\", \"model\": \"CR-V\", \"color\": \"Brown\", \"pride\": 11000}]}</td></tr><tr><td>{\"user_profile\": [{\"userid\": \"userid_0\", \"username\": \"Maria Dandridge\", \"gender\": \"female\", \"age\": 20, \"picture_url\": \"../images/profile/Maria Dandridge.png\"}], \"car\": [{\"carid\": \"car_11\", \"make\": \"Tesla\", \"year\": \"2019\", \"category\": \"EV\", \"model\": \"Model Y\", \"color\": \"Black\", \"pride\": 40000}]}</td></tr><tr><td>{\"user_profile\": [{\"userid\": \"userid_4\", \"username\": \"Keith Farrar\", \"gender\": \"male\", \"age\": 50, \"picture_url\": \"../images/profile/Keith Farrar.png\"}], \"car\": [{\"carid\": \"car_3\", \"make\": \"Toyota\", \"year\": \"2012\", \"category\": \"Sedan\", \"model\": \"Camry\", \"color\": \"Silver\", \"pride\": 11000}]}</td></tr><tr><td>{\"user_profile\": [{\"userid\": \"userid_1\", \"username\": \"Jenna Bostwick\", \"gender\": \"female\", \"age\": 25, \"picture_url\": \"../images/profile/Jenna Bostwick.png\"}], \"car\": [{\"carid\": \"car_6\", \"make\": \"Nissan\", \"year\": \"2015\", \"category\": \"SUV\", \"model\": \"Rouge\", \"color\": \"Brown\", \"pride\": 15500}]}</td></tr><tr><td>{\"user_profile\": [{\"userid\": \"userid_3\", \"username\": \"Owen Milford\", \"gender\": \"male\", \"age\": 30, \"picture_url\": \"../images/profile/Owen Milford.png\"}], \"car\": [{\"carid\": \"car_10\", \"make\": \"Ferarri\", \"year\": \"2015\", \"category\": \"SportCar\", \"model\": \"Spider\", \"color\": \"Red\", \"pride\": 70000}]}</td></tr><tr><td>{\"user_profile\": [{\"userid\": \"userid_4\", \"username\": \"Keith Farrar\", \"gender\": \"male\", \"age\": 50, \"picture_url\": \"../images/profile/Keith Farrar.png\"}], \"car\": [{\"carid\": \"car_9\", \"make\": \"Ram\", \"year\": \"2010\", \"category\": \"Truck\", \"model\": \"1500\", \"color\": \"Black\", \"pride\": 17000}]}</td></tr><tr><td>{\"user_profile\": [{\"userid\": \"userid_3\", \"username\": \"Owen Milford\", \"gender\": \"male\", \"age\": 30, \"picture_url\": \"../images/profile/Owen Milford.png\"}], \"car\": [{\"carid\": \"car_3\", \"make\": \"Toyota\", \"year\": \"2012\", \"category\": \"Sedan\", \"model\": \"Camry\", \"color\": \"Silver\", \"pride\": 11000}]}</td></tr><tr><td>{\"user_profile\": [{\"userid\": \"userid_3\", \"username\": \"Owen Milford\", \"gender\": \"male\", \"age\": 30, \"picture_url\": \"../images/profile/Owen Milford.png\"}], \"car\": [{\"carid\": \"car_9\", \"make\": \"Ram\", \"year\": \"2010\", \"category\": \"Truck\", \"model\": \"1500\", \"color\": \"Black\", \"pride\": 17000}]}</td></tr><tr><td>{\"user_profile\": [{\"userid\": \"userid_0\", \"username\": \"Maria Dandridge\", \"gender\": \"female\", \"age\": 20, \"picture_url\": \"../images/profile/Maria Dandridge.png\"}], \"car\": [{\"carid\": \"car_0\", \"make\": \"Honda\", \"year\": \"2020\", \"category\": \"Sedan\", \"model\": \"Accord\", \"color\": \"Black\", \"pride\": 14000}]}</td></tr><tr><td>{\"user_profile\": [{\"userid\": \"userid_0\", \"username\": \"Maria Dandridge\", \"gender\": \"female\", \"age\": 20, \"picture_url\": \"../images/profile/Maria Dandridge.png\"}], \"car\": [{\"carid\": \"car_5\", \"make\": \"Toyota\", \"year\": \"2015\", \"category\": \"SUV\", \"model\": \"RAV4\", \"color\": \"White\", \"pride\": 15000}]}</td></tr><tr><td>{\"user_profile\": [{\"userid\": \"userid_4\", \"username\": \"Keith Farrar\", \"gender\": \"male\", \"age\": 50, \"picture_url\": \"../images/profile/Keith Farrar.png\"}], \"car\": [{\"carid\": \"car_1\", \"make\": \"Hyundai\", \"year\": \"2017\", \"category\": \"Sedan\", \"model\": \"Sonata\", \"color\": \"Gray\", \"pride\": 14000}]}</td></tr><tr><td>{\"user_profile\": [{\"userid\": \"userid_2\", \"username\": \"Nathan Finley\", \"gender\": \"male\", \"age\": 20, \"picture_url\": \"../images/profile/Nathan Finley.png\"}], \"car\": [{\"carid\": \"car_1\", \"make\": \"Hyundai\", \"year\": \"2017\", \"category\": \"Sedan\", \"model\": \"Sonata\", \"color\": \"Gray\", \"pride\": 14000}]}</td></tr><tr><td>{\"user_profile\": [{\"userid\": \"userid_2\", \"username\": \"Nathan Finley\", \"gender\": \"male\", \"age\": 20, \"picture_url\": \"../images/profile/Nathan Finley.png\"}], \"car\": [{\"carid\": \"car_10\", \"make\": \"Ferarri\", \"year\": \"2015\", \"category\": \"SportCar\", \"model\": \"Spider\", \"color\": \"Red\", \"pride\": 70000}]}</td></tr><tr><td>{\"user_profile\": [{\"userid\": \"userid_4\", \"username\": \"Keith Farrar\", \"gender\": \"male\", \"age\": 50, \"picture_url\": \"../images/profile/Keith Farrar.png\"}], \"car\": [{\"carid\": \"car_11\", \"make\": \"Tesla\", \"year\": \"2019\", \"category\": \"EV\", \"model\": \"Model Y\", \"color\": \"Black\", \"pride\": 40000}]}</td></tr><tr><td>{\"user_profile\": [{\"userid\": \"userid_0\", \"username\": \"Maria Dandridge\", \"gender\": \"female\", \"age\": 20, \"picture_url\": \"../images/profile/Maria Dandridge.png\"}], \"car\": [{\"carid\": \"car_1\", \"make\": \"Hyundai\", \"year\": \"2017\", \"category\": \"Sedan\", \"model\": \"Sonata\", \"color\": \"Gray\", \"pride\": 14000}]}</td></tr><tr><td>{\"user_profile\": [{\"userid\": \"userid_4\", \"username\": \"Keith Farrar\", \"gender\": \"male\", \"age\": 50, \"picture_url\": \"../images/profile/Keith Farrar.png\"}], \"car\": [{\"carid\": \"car_10\", \"make\": \"Ferarri\", \"year\": \"2015\", \"category\": \"SportCar\", \"model\": \"Spider\", \"color\": \"Red\", \"pride\": 70000}]}</td></tr><tr><td>{\"user_profile\": [{\"userid\": \"userid_1\", \"username\": \"Jenna Bostwick\", \"gender\": \"female\", \"age\": 25, \"picture_url\": \"../images/profile/Jenna Bostwick.png\"}], \"car\": [{\"carid\": \"car_3\", \"make\": \"Toyota\", \"year\": \"2012\", \"category\": \"Sedan\", \"model\": \"Camry\", \"color\": \"Silver\", \"pride\": 11000}]}</td></tr><tr><td>{\"user_profile\": [{\"userid\": \"userid_0\", \"username\": \"Maria Dandridge\", \"gender\": \"female\", \"age\": 20, \"picture_url\": \"../images/profile/Maria Dandridge.png\"}], \"car\": [{\"carid\": \"car_3\", \"make\": \"Toyota\", \"year\": \"2012\", \"category\": \"Sedan\", \"model\": \"Camry\", \"color\": \"Silver\", \"pride\": 11000}]}</td></tr><tr><td>{\"user_profile\": [{\"userid\": \"userid_0\", \"username\": \"Maria Dandridge\", \"gender\": \"female\", \"age\": 20, \"picture_url\": \"../images/profile/Maria Dandridge.png\"}], \"car\": [{\"carid\": \"car_0\", \"make\": \"Honda\", \"year\": \"2020\", \"category\": \"Sedan\", \"model\": \"Accord\", \"color\": \"Black\", \"pride\": 14000}]}</td></tr><tr><td>{\"user_profile\": [{\"userid\": \"userid_0\", \"username\": \"Maria Dandridge\", \"gender\": \"female\", \"age\": 20, \"picture_url\": \"../images/profile/Maria Dandridge.png\"}], \"car\": [{\"carid\": \"car_1\", \"make\": \"Hyundai\", \"year\": \"2017\", \"category\": \"Sedan\", \"model\": \"Sonata\", \"color\": \"Gray\", \"pride\": 14000}]}</td></tr><tr><td>{\"user_profile\": [{\"userid\": \"userid_0\", \"username\": \"Maria Dandridge\", \"gender\": \"female\", \"age\": 20, \"picture_url\": \"../images/profile/Maria Dandridge.png\"}], \"car\": [{\"carid\": \"car_0\", \"make\": \"Honda\", \"year\": \"2020\", \"category\": \"Sedan\", \"model\": \"Accord\", \"color\": \"Black\", \"pride\": 14000}]}</td></tr><tr><td>{\"user_profile\": [{\"userid\": \"userid_1\", \"username\": \"Jenna Bostwick\", \"gender\": \"female\", \"age\": 25, \"picture_url\": \"../images/profile/Jenna Bostwick.png\"}], \"car\": [{\"carid\": \"car_5\", \"make\": \"Toyota\", \"year\": \"2015\", \"category\": \"SUV\", \"model\": \"RAV4\", \"color\": \"White\", \"pride\": 15000}]}</td></tr><tr><td>{\"user_profile\": [{\"userid\": \"userid_2\", \"username\": \"Nathan Finley\", \"gender\": \"male\", \"age\": 20, \"picture_url\": \"../images/profile/Nathan Finley.png\"}], \"car\": [{\"carid\": \"car_0\", \"make\": \"Honda\", \"year\": \"2020\", \"category\": \"Sedan\", \"model\": \"Accord\", \"color\": \"Black\", \"pride\": 14000}]}</td></tr><tr><td>{\"user_profile\": [{\"userid\": \"userid_1\", \"username\": \"Jenna Bostwick\", \"gender\": \"female\", \"age\": 25, \"picture_url\": \"../images/profile/Jenna Bostwick.png\"}], \"car\": [{\"carid\": \"car_6\", \"make\": \"Nissan\", \"year\": \"2015\", \"category\": \"SUV\", \"model\": \"Rouge\", \"color\": \"Brown\", \"pride\": 15500}]}</td></tr><tr><td>{\"user_profile\": [{\"userid\": \"userid_2\", \"username\": \"Nathan Finley\", \"gender\": \"male\", \"age\": 20, \"picture_url\": \"../images/profile/Nathan Finley.png\"}], \"car\": [{\"carid\": \"car_10\", \"make\": \"Ferarri\", \"year\": \"2015\", \"category\": \"SportCar\", \"model\": \"Spider\", \"color\": \"Red\", \"pride\": 70000}]}</td></tr><tr><td>{\"user_profile\": [{\"userid\": \"userid_0\", \"username\": \"Maria Dandridge\", \"gender\": \"female\", \"age\": 20, \"picture_url\": \"../images/profile/Maria Dandridge.png\"}], \"car\": [{\"carid\": \"car_8\", \"make\": \"Ford\", \"year\": \"2016\", \"category\": \"Truck\", \"model\": \"F-150\", \"color\": \"Brown\", \"pride\": 17000}]}</td></tr><tr><td>{\"user_profile\": [{\"userid\": \"userid_2\", \"username\": \"Nathan Finley\", \"gender\": \"male\", \"age\": 20, \"picture_url\": \"../images/profile/Nathan Finley.png\"}], \"car\": [{\"carid\": \"car_2\", \"make\": \"Nissan\", \"year\": \"2018\", \"category\": \"Sedan\", \"model\": \"Altima\", \"color\": \"Gold\", \"pride\": 13000}]}</td></tr><tr><td>{\"user_profile\": [{\"userid\": \"userid_3\", \"username\": \"Owen Milford\", \"gender\": \"male\", \"age\": 30, \"picture_url\": \"../images/profile/Owen Milford.png\"}], \"car\": [{\"carid\": \"car_9\", \"make\": \"Ram\", \"year\": \"2010\", \"category\": \"Truck\", \"model\": \"1500\", \"color\": \"Black\", \"pride\": 17000}]}</td></tr><tr><td>{\"user_profile\": [{\"userid\": \"userid_0\", \"username\": \"Maria Dandridge\", \"gender\": \"female\", \"age\": 20, \"picture_url\": \"../images/profile/Maria Dandridge.png\"}], \"car\": [{\"carid\": \"car_4\", \"make\": \"Honda\", \"year\": \"2013\", \"category\": \"SVU\", \"model\": \"CR-V\", \"color\": \"Brown\", \"pride\": 11000}]}</td></tr><tr><td>{\"user_profile\": [{\"userid\": \"userid_4\", \"username\": \"Keith Farrar\", \"gender\": \"male\", \"age\": 50, \"picture_url\": \"../images/profile/Keith Farrar.png\"}], \"car\": [{\"carid\": \"car_3\", \"make\": \"Toyota\", \"year\": \"2012\", \"category\": \"Sedan\", \"model\": \"Camry\", \"color\": \"Silver\", \"pride\": 11000}]}</td></tr><tr><td>{\"user_profile\": [{\"userid\": \"userid_2\", \"username\": \"Nathan Finley\", \"gender\": \"male\", \"age\": 20, \"picture_url\": \"../images/profile/Nathan Finley.png\"}], \"car\": [{\"carid\": \"car_0\", \"make\": \"Honda\", \"year\": \"2020\", \"category\": \"Sedan\", \"model\": \"Accord\", \"color\": \"Black\", \"pride\": 14000}]}</td></tr><tr><td>{\"user_profile\": [{\"userid\": \"userid_1\", \"username\": \"Jenna Bostwick\", \"gender\": \"female\", \"age\": 25, \"picture_url\": \"../images/profile/Jenna Bostwick.png\"}], \"car\": [{\"carid\": \"car_5\", \"make\": \"Toyota\", \"year\": \"2015\", \"category\": \"SUV\", \"model\": \"RAV4\", \"color\": \"White\", \"pride\": 15000}]}</td></tr><tr><td>{\"user_profile\": [{\"userid\": \"userid_3\", \"username\": \"Owen Milford\", \"gender\": \"male\", \"age\": 30, \"picture_url\": \"../images/profile/Owen Milford.png\"}], \"car\": [{\"carid\": \"car_1\", \"make\": \"Hyundai\", \"year\": \"2017\", \"category\": \"Sedan\", \"model\": \"Sonata\", \"color\": \"Gray\", \"pride\": 14000}]}</td></tr><tr><td>{\"user_profile\": [{\"userid\": \"userid_3\", \"username\": \"Owen Milford\", \"gender\": \"male\", \"age\": 30, \"picture_url\": \"../images/profile/Owen Milford.png\"}], \"car\": [{\"carid\": \"car_4\", \"make\": \"Honda\", \"year\": \"2013\", \"category\": \"SVU\", \"model\": \"CR-V\", \"color\": \"Brown\", \"pride\": 11000}]}</td></tr><tr><td>{\"user_profile\": [{\"userid\": \"userid_0\", \"username\": \"Maria Dandridge\", \"gender\": \"female\", \"age\": 20, \"picture_url\": \"../images/profile/Maria Dandridge.png\"}], \"car\": [{\"carid\": \"car_10\", \"make\": \"Ferarri\", \"year\": \"2015\", \"category\": \"SportCar\", \"model\": \"Spider\", \"color\": \"Red\", \"pride\": 70000}]}</td></tr><tr><td>{\"user_profile\": [{\"userid\": \"userid_2\", \"username\": \"Nathan Finley\", \"gender\": \"male\", \"age\": 20, \"picture_url\": \"../images/profile/Nathan Finley.png\"}], \"car\": [{\"carid\": \"car_2\", \"make\": \"Nissan\", \"year\": \"2018\", \"category\": \"Sedan\", \"model\": \"Altima\", \"color\": \"Gold\", \"pride\": 13000}]}</td></tr><tr><td>{\"user_profile\": [{\"userid\": \"userid_4\", \"username\": \"Keith Farrar\", \"gender\": \"male\", \"age\": 50, \"picture_url\": \"../images/profile/Keith Farrar.png\"}], \"car\": [{\"carid\": \"car_2\", \"make\": \"Nissan\", \"year\": \"2018\", \"category\": \"Sedan\", \"model\": \"Altima\", \"color\": \"Gold\", \"pride\": 13000}]}</td></tr><tr><td>{\"user_profile\": [{\"userid\": \"userid_2\", \"username\": \"Nathan Finley\", \"gender\": \"male\", \"age\": 20, \"picture_url\": \"../images/profile/Nathan Finley.png\"}], \"car\": [{\"carid\": \"car_3\", \"make\": \"Toyota\", \"year\": \"2012\", \"category\": \"Sedan\", \"model\": \"Camry\", \"color\": \"Silver\", \"pride\": 11000}]}</td></tr><tr><td>{\"user_profile\": [{\"userid\": \"userid_2\", \"username\": \"Nathan Finley\", \"gender\": \"male\", \"age\": 20, \"picture_url\": \"../images/profile/Nathan Finley.png\"}], \"car\": [{\"carid\": \"car_9\", \"make\": \"Ram\", \"year\": \"2010\", \"category\": \"Truck\", \"model\": \"1500\", \"color\": \"Black\", \"pride\": 17000}]}</td></tr><tr><td>{\"user_profile\": [{\"userid\": \"userid_4\", \"username\": \"Keith Farrar\", \"gender\": \"male\", \"age\": 50, \"picture_url\": \"../images/profile/Keith Farrar.png\"}], \"car\": [{\"carid\": \"car_6\", \"make\": \"Nissan\", \"year\": \"2015\", \"category\": \"SUV\", \"model\": \"Rouge\", \"color\": \"Brown\", \"pride\": 15500}]}</td></tr><tr><td>{\"user_profile\": [{\"userid\": \"userid_3\", \"username\": \"Owen Milford\", \"gender\": \"male\", \"age\": 30, \"picture_url\": \"../images/profile/Owen Milford.png\"}], \"car\": [{\"carid\": \"car_7\", \"make\": \"Chevrolet\", \"year\": \"2016\", \"category\": \"Truck\", \"model\": \"Silverado\", \"color\": \"White\", \"pride\": 17000}]}</td></tr><tr><td>{\"user_profile\": [{\"userid\": \"userid_2\", \"username\": \"Nathan Finley\", \"gender\": \"male\", \"age\": 20, \"picture_url\": \"../images/profile/Nathan Finley.png\"}], \"car\": [{\"carid\": \"car_10\", \"make\": \"Ferarri\", \"year\": \"2015\", \"category\": \"SportCar\", \"model\": \"Spider\", \"color\": \"Red\", \"pride\": 70000}]}</td></tr><tr><td>{\"user_profile\": [{\"userid\": \"userid_0\", \"username\": \"Maria Dandridge\", \"gender\": \"female\", \"age\": 20, \"picture_url\": \"../images/profile/Maria Dandridge.png\"}], \"car\": [{\"carid\": \"car_3\", \"make\": \"Toyota\", \"year\": \"2012\", \"category\": \"Sedan\", \"model\": \"Camry\", \"color\": \"Silver\", \"pride\": 11000}]}</td></tr><tr><td>{\"user_profile\": [{\"userid\": \"userid_3\", \"username\": \"Owen Milford\", \"gender\": \"male\", \"age\": 30, \"picture_url\": \"../images/profile/Owen Milford.png\"}], \"car\": [{\"carid\": \"car_11\", \"make\": \"Tesla\", \"year\": \"2019\", \"category\": \"EV\", \"model\": \"Model Y\", \"color\": \"Black\", \"pride\": 40000}]}</td></tr><tr><td>{\"user_profile\": [{\"userid\": \"userid_2\", \"username\": \"Nathan Finley\", \"gender\": \"male\", \"age\": 20, \"picture_url\": \"../images/profile/Nathan Finley.png\"}], \"car\": [{\"carid\": \"car_6\", \"make\": \"Nissan\", \"year\": \"2015\", \"category\": \"SUV\", \"model\": \"Rouge\", \"color\": \"Brown\", \"pride\": 15500}]}</td></tr><tr><td>{\"user_profile\": [{\"userid\": \"userid_3\", \"username\": \"Owen Milford\", \"gender\": \"male\", \"age\": 30, \"picture_url\": \"../images/profile/Owen Milford.png\"}], \"car\": [{\"carid\": \"car_7\", \"make\": \"Chevrolet\", \"year\": \"2016\", \"category\": \"Truck\", \"model\": \"Silverado\", \"color\": \"White\", \"pride\": 17000}]}</td></tr><tr><td>{\"user_profile\": [{\"userid\": \"userid_1\", \"username\": \"Jenna Bostwick\", \"gender\": \"female\", \"age\": 25, \"picture_url\": \"../images/profile/Jenna Bostwick.png\"}], \"car\": [{\"carid\": \"car_5\", \"make\": \"Toyota\", \"year\": \"2015\", \"category\": \"SUV\", \"model\": \"RAV4\", \"color\": \"White\", \"pride\": 15000}]}</td></tr><tr><td>{\"user_profile\": [{\"userid\": \"userid_4\", \"username\": \"Keith Farrar\", \"gender\": \"male\", \"age\": 50, \"picture_url\": \"../images/profile/Keith Farrar.png\"}], \"car\": [{\"carid\": \"car_2\", \"make\": \"Nissan\", \"year\": \"2018\", \"category\": \"Sedan\", \"model\": \"Altima\", \"color\": \"Gold\", \"pride\": 13000}]}</td></tr><tr><td>{\"user_profile\": [{\"userid\": \"userid_1\", \"username\": \"Jenna Bostwick\", \"gender\": \"female\", \"age\": 25, \"picture_url\": \"../images/profile/Jenna Bostwick.png\"}], \"car\": [{\"carid\": \"car_7\", \"make\": \"Chevrolet\", \"year\": \"2016\", \"category\": \"Truck\", \"model\": \"Silverado\", \"color\": \"White\", \"pride\": 17000}]}</td></tr><tr><td>{\"user_profile\": [{\"userid\": \"userid_0\", \"username\": \"Maria Dandridge\", \"gender\": \"female\", \"age\": 20, \"picture_url\": \"../images/profile/Maria Dandridge.png\"}], \"car\": [{\"carid\": \"car_7\", \"make\": \"Chevrolet\", \"year\": \"2016\", \"category\": \"Truck\", \"model\": \"Silverado\", \"color\": \"White\", \"pride\": 17000}]}</td></tr><tr><td>{\"user_profile\": [{\"userid\": \"userid_2\", \"username\": \"Nathan Finley\", \"gender\": \"male\", \"age\": 20, \"picture_url\": \"../images/profile/Nathan Finley.png\"}], \"car\": [{\"carid\": \"car_9\", \"make\": \"Ram\", \"year\": \"2010\", \"category\": \"Truck\", \"model\": \"1500\", \"color\": \"Black\", \"pride\": 17000}]}</td></tr><tr><td>{\"user_profile\": [{\"userid\": \"userid_0\", \"username\": \"Maria Dandridge\", \"gender\": \"female\", \"age\": 20, \"picture_url\": \"../images/profile/Maria Dandridge.png\"}], \"car\": [{\"carid\": \"car_8\", \"make\": \"Ford\", \"year\": \"2016\", \"category\": \"Truck\", \"model\": \"F-150\", \"color\": \"Brown\", \"pride\": 17000}]}</td></tr><tr><td>{\"user_profile\": [{\"userid\": \"userid_4\", \"username\": \"Keith Farrar\", \"gender\": \"male\", \"age\": 50, \"picture_url\": \"../images/profile/Keith Farrar.png\"}], \"car\": [{\"carid\": \"car_5\", \"make\": \"Toyota\", \"year\": \"2015\", \"category\": \"SUV\", \"model\": \"RAV4\", \"color\": \"White\", \"pride\": 15000}]}</td></tr><tr><td>{\"user_profile\": [{\"userid\": \"userid_0\", \"username\": \"Maria Dandridge\", \"gender\": \"female\", \"age\": 20, \"picture_url\": \"../images/profile/Maria Dandridge.png\"}], \"car\": [{\"carid\": \"car_10\", \"make\": \"Ferarri\", \"year\": \"2015\", \"category\": \"SportCar\", \"model\": \"Spider\", \"color\": \"Red\", \"pride\": 70000}]}</td></tr><tr><td>{\"user_profile\": [{\"userid\": \"userid_1\", \"username\": \"Jenna Bostwick\", \"gender\": \"female\", \"age\": 25, \"picture_url\": \"../images/profile/Jenna Bostwick.png\"}], \"car\": [{\"carid\": \"car_6\", \"make\": \"Nissan\", \"year\": \"2015\", \"category\": \"SUV\", \"model\": \"Rouge\", \"color\": \"Brown\", \"pride\": 15500}]}</td></tr><tr><td>{\"user_profile\": [{\"userid\": \"userid_4\", \"username\": \"Keith Farrar\", \"gender\": \"male\", \"age\": 50, \"picture_url\": \"../images/profile/Keith Farrar.png\"}], \"car\": [{\"carid\": \"car_2\", \"make\": \"Nissan\", \"year\": \"2018\", \"category\": \"Sedan\", \"model\": \"Altima\", \"color\": \"Gold\", \"pride\": 13000}]}</td></tr><tr><td>{\"user_profile\": [{\"userid\": \"userid_4\", \"username\": \"Keith Farrar\", \"gender\": \"male\", \"age\": 50, \"picture_url\": \"../images/profile/Keith Farrar.png\"}], \"car\": [{\"carid\": \"car_10\", \"make\": \"Ferarri\", \"year\": \"2015\", \"category\": \"SportCar\", \"model\": \"Spider\", \"color\": \"Red\", \"pride\": 70000}]}</td></tr><tr><td>{\"user_profile\": [{\"userid\": \"userid_1\", \"username\": \"Jenna Bostwick\", \"gender\": \"female\", \"age\": 25, \"picture_url\": \"../images/profile/Jenna Bostwick.png\"}], \"car\": [{\"carid\": \"car_2\", \"make\": \"Nissan\", \"year\": \"2018\", \"category\": \"Sedan\", \"model\": \"Altima\", \"color\": \"Gold\", \"pride\": 13000}]}</td></tr><tr><td>{\"user_profile\": [{\"userid\": \"userid_1\", \"username\": \"Jenna Bostwick\", \"gender\": \"female\", \"age\": 25, \"picture_url\": \"../images/profile/Jenna Bostwick.png\"}], \"car\": [{\"carid\": \"car_7\", \"make\": \"Chevrolet\", \"year\": \"2016\", \"category\": \"Truck\", \"model\": \"Silverado\", \"color\": \"White\", \"pride\": 17000}]}</td></tr><tr><td>{\"user_profile\": [{\"userid\": \"userid_0\", \"username\": \"Maria Dandridge\", \"gender\": \"female\", \"age\": 20, \"picture_url\": \"../images/profile/Maria Dandridge.png\"}], \"car\": [{\"carid\": \"car_11\", \"make\": \"Tesla\", \"year\": \"2019\", \"category\": \"EV\", \"model\": \"Model Y\", \"color\": \"Black\", \"pride\": 40000}]}</td></tr><tr><td>{\"user_profile\": [{\"userid\": \"userid_0\", \"username\": \"Maria Dandridge\", \"gender\": \"female\", \"age\": 20, \"picture_url\": \"../images/profile/Maria Dandridge.png\"}], \"car\": [{\"carid\": \"car_8\", \"make\": \"Ford\", \"year\": \"2016\", \"category\": \"Truck\", \"model\": \"F-150\", \"color\": \"Brown\", \"pride\": 17000}]}</td></tr><tr><td>{\"user_profile\": [{\"userid\": \"userid_2\", \"username\": \"Nathan Finley\", \"gender\": \"male\", \"age\": 20, \"picture_url\": \"../images/profile/Nathan Finley.png\"}], \"car\": [{\"carid\": \"car_11\", \"make\": \"Tesla\", \"year\": \"2019\", \"category\": \"EV\", \"model\": \"Model Y\", \"color\": \"Black\", \"pride\": 40000}]}</td></tr><tr><td>{\"user_profile\": [{\"userid\": \"userid_4\", \"username\": \"Keith Farrar\", \"gender\": \"male\", \"age\": 50, \"picture_url\": \"../images/profile/Keith Farrar.png\"}], \"car\": [{\"carid\": \"car_11\", \"make\": \"Tesla\", \"year\": \"2019\", \"category\": \"EV\", \"model\": \"Model Y\", \"color\": \"Black\", \"pride\": 40000}]}</td></tr><tr><td>{\"user_profile\": [{\"userid\": \"userid_2\", \"username\": \"Nathan Finley\", \"gender\": \"male\", \"age\": 20, \"picture_url\": \"../images/profile/Nathan Finley.png\"}], \"car\": [{\"carid\": \"car_3\", \"make\": \"Toyota\", \"year\": \"2012\", \"category\": \"Sedan\", \"model\": \"Camry\", \"color\": \"Silver\", \"pride\": 11000}]}</td></tr><tr><td>{\"user_profile\": [{\"userid\": \"userid_1\", \"username\": \"Jenna Bostwick\", \"gender\": \"female\", \"age\": 25, \"picture_url\": \"../images/profile/Jenna Bostwick.png\"}], \"car\": [{\"carid\": \"car_4\", \"make\": \"Honda\", \"year\": \"2013\", \"category\": \"SVU\", \"model\": \"CR-V\", \"color\": \"Brown\", \"pride\": 11000}]}</td></tr><tr><td>{\"user_profile\": [{\"userid\": \"userid_1\", \"username\": \"Jenna Bostwick\", \"gender\": \"female\", \"age\": 25, \"picture_url\": \"../images/profile/Jenna Bostwick.png\"}], \"car\": [{\"carid\": \"car_5\", \"make\": \"Toyota\", \"year\": \"2015\", \"category\": \"SUV\", \"model\": \"RAV4\", \"color\": \"White\", \"pride\": 15000}]}</td></tr><tr><td>{\"user_profile\": [{\"userid\": \"userid_2\", \"username\": \"Nathan Finley\", \"gender\": \"male\", \"age\": 20, \"picture_url\": \"../images/profile/Nathan Finley.png\"}], \"car\": [{\"carid\": \"car_10\", \"make\": \"Ferarri\", \"year\": \"2015\", \"category\": \"SportCar\", \"model\": \"Spider\", \"color\": \"Red\", \"pride\": 70000}]}</td></tr><tr><td>{\"user_profile\": [{\"userid\": \"userid_0\", \"username\": \"Maria Dandridge\", \"gender\": \"female\", \"age\": 20, \"picture_url\": \"../images/profile/Maria Dandridge.png\"}], \"car\": [{\"carid\": \"car_5\", \"make\": \"Toyota\", \"year\": \"2015\", \"category\": \"SUV\", \"model\": \"RAV4\", \"color\": \"White\", \"pride\": 15000}]}</td></tr><tr><td>{\"user_profile\": [{\"userid\": \"userid_2\", \"username\": \"Nathan Finley\", \"gender\": \"male\", \"age\": 20, \"picture_url\": \"../images/profile/Nathan Finley.png\"}], \"car\": [{\"carid\": \"car_4\", \"make\": \"Honda\", \"year\": \"2013\", \"category\": \"SVU\", \"model\": \"CR-V\", \"color\": \"Brown\", \"pride\": 11000}]}</td></tr><tr><td>{\"user_profile\": [{\"userid\": \"userid_4\", \"username\": \"Keith Farrar\", \"gender\": \"male\", \"age\": 50, \"picture_url\": \"../images/profile/Keith Farrar.png\"}], \"car\": [{\"carid\": \"car_0\", \"make\": \"Honda\", \"year\": \"2020\", \"category\": \"Sedan\", \"model\": \"Accord\", \"color\": \"Black\", \"pride\": 14000}]}</td></tr><tr><td>{\"user_profile\": [{\"userid\": \"userid_1\", \"username\": \"Jenna Bostwick\", \"gender\": \"female\", \"age\": 25, \"picture_url\": \"../images/profile/Jenna Bostwick.png\"}], \"car\": [{\"carid\": \"car_5\", \"make\": \"Toyota\", \"year\": \"2015\", \"category\": \"SUV\", \"model\": \"RAV4\", \"color\": \"White\", \"pride\": 15000}]}</td></tr><tr><td>{\"user_profile\": [{\"userid\": \"userid_1\", \"username\": \"Jenna Bostwick\", \"gender\": \"female\", \"age\": 25, \"picture_url\": \"../images/profile/Jenna Bostwick.png\"}], \"car\": [{\"carid\": \"car_6\", \"make\": \"Nissan\", \"year\": \"2015\", \"category\": \"SUV\", \"model\": \"Rouge\", \"color\": \"Brown\", \"pride\": 15500}]}</td></tr><tr><td>{\"user_profile\": [{\"userid\": \"userid_0\", \"username\": \"Maria Dandridge\", \"gender\": \"female\", \"age\": 20, \"picture_url\": \"../images/profile/Maria Dandridge.png\"}], \"car\": [{\"carid\": \"car_2\", \"make\": \"Nissan\", \"year\": \"2018\", \"category\": \"Sedan\", \"model\": \"Altima\", \"color\": \"Gold\", \"pride\": 13000}]}</td></tr><tr><td>{\"user_profile\": [{\"userid\": \"userid_3\", \"username\": \"Owen Milford\", \"gender\": \"male\", \"age\": 30, \"picture_url\": \"../images/profile/Owen Milford.png\"}], \"car\": [{\"carid\": \"car_9\", \"make\": \"Ram\", \"year\": \"2010\", \"category\": \"Truck\", \"model\": \"1500\", \"color\": \"Black\", \"pride\": 17000}]}</td></tr><tr><td>{\"user_profile\": [{\"userid\": \"userid_2\", \"username\": \"Nathan Finley\", \"gender\": \"male\", \"age\": 20, \"picture_url\": \"../images/profile/Nathan Finley.png\"}], \"car\": [{\"carid\": \"car_8\", \"make\": \"Ford\", \"year\": \"2016\", \"category\": \"Truck\", \"model\": \"F-150\", \"color\": \"Brown\", \"pride\": 17000}]}</td></tr><tr><td>{\"user_profile\": [{\"userid\": \"userid_2\", \"username\": \"Nathan Finley\", \"gender\": \"male\", \"age\": 20, \"picture_url\": \"../images/profile/Nathan Finley.png\"}], \"car\": [{\"carid\": \"car_2\", \"make\": \"Nissan\", \"year\": \"2018\", \"category\": \"Sedan\", \"model\": \"Altima\", \"color\": \"Gold\", \"pride\": 13000}]}</td></tr><tr><td>{\"user_profile\": [{\"userid\": \"userid_4\", \"username\": \"Keith Farrar\", \"gender\": \"male\", \"age\": 50, \"picture_url\": \"../images/profile/Keith Farrar.png\"}], \"car\": [{\"carid\": \"car_0\", \"make\": \"Honda\", \"year\": \"2020\", \"category\": \"Sedan\", \"model\": \"Accord\", \"color\": \"Black\", \"pride\": 14000}]}</td></tr><tr><td>{\"user_profile\": [{\"userid\": \"userid_4\", \"username\": \"Keith Farrar\", \"gender\": \"male\", \"age\": 50, \"picture_url\": \"../images/profile/Keith Farrar.png\"}], \"car\": [{\"carid\": \"car_5\", \"make\": \"Toyota\", \"year\": \"2015\", \"category\": \"SUV\", \"model\": \"RAV4\", \"color\": \"White\", \"pride\": 15000}]}</td></tr><tr><td>{\"user_profile\": [{\"userid\": \"userid_1\", \"username\": \"Jenna Bostwick\", \"gender\": \"female\", \"age\": 25, \"picture_url\": \"../images/profile/Jenna Bostwick.png\"}], \"car\": [{\"carid\": \"car_9\", \"make\": \"Ram\", \"year\": \"2010\", \"category\": \"Truck\", \"model\": \"1500\", \"color\": \"Black\", \"pride\": 17000}]}</td></tr><tr><td>{\"user_profile\": [{\"userid\": \"userid_0\", \"username\": \"Maria Dandridge\", \"gender\": \"female\", \"age\": 20, \"picture_url\": \"../images/profile/Maria Dandridge.png\"}], \"car\": [{\"carid\": \"car_11\", \"make\": \"Tesla\", \"year\": \"2019\", \"category\": \"EV\", \"model\": \"Model Y\", \"color\": \"Black\", \"pride\": 40000}]}</td></tr><tr><td>{\"user_profile\": [{\"userid\": \"userid_2\", \"username\": \"Nathan Finley\", \"gender\": \"male\", \"age\": 20, \"picture_url\": \"../images/profile/Nathan Finley.png\"}], \"car\": [{\"carid\": \"car_7\", \"make\": \"Chevrolet\", \"year\": \"2016\", \"category\": \"Truck\", \"model\": \"Silverado\", \"color\": \"White\", \"pride\": 17000}]}</td></tr><tr><td>{\"user_profile\": [{\"userid\": \"userid_2\", \"username\": \"Nathan Finley\", \"gender\": \"male\", \"age\": 20, \"picture_url\": \"../images/profile/Nathan Finley.png\"}], \"car\": [{\"carid\": \"car_0\", \"make\": \"Honda\", \"year\": \"2020\", \"category\": \"Sedan\", \"model\": \"Accord\", \"color\": \"Black\", \"pride\": 14000}]}</td></tr><tr><td>{\"user_profile\": [{\"userid\": \"userid_0\", \"username\": \"Maria Dandridge\", \"gender\": \"female\", \"age\": 20, \"picture_url\": \"../images/profile/Maria Dandridge.png\"}], \"car\": [{\"carid\": \"car_2\", \"make\": \"Nissan\", \"year\": \"2018\", \"category\": \"Sedan\", \"model\": \"Altima\", \"color\": \"Gold\", \"pride\": 13000}]}</td></tr><tr><td>{\"user_profile\": [{\"userid\": \"userid_4\", \"username\": \"Keith Farrar\", \"gender\": \"male\", \"age\": 50, \"picture_url\": \"../images/profile/Keith Farrar.png\"}], \"car\": [{\"carid\": \"car_8\", \"make\": \"Ford\", \"year\": \"2016\", \"category\": \"Truck\", \"model\": \"F-150\", \"color\": \"Brown\", \"pride\": 17000}]}</td></tr><tr><td>{\"user_profile\": [{\"userid\": \"userid_1\", \"username\": \"Jenna Bostwick\", \"gender\": \"female\", \"age\": 25, \"picture_url\": \"../images/profile/Jenna Bostwick.png\"}], \"car\": [{\"carid\": \"car_6\", \"make\": \"Nissan\", \"year\": \"2015\", \"category\": \"SUV\", \"model\": \"Rouge\", \"color\": \"Brown\", \"pride\": 15500}]}</td></tr><tr><td>{\"user_profile\": [{\"userid\": \"userid_0\", \"username\": \"Maria Dandridge\", \"gender\": \"female\", \"age\": 20, \"picture_url\": \"../images/profile/Maria Dandridge.png\"}], \"car\": [{\"carid\": \"car_10\", \"make\": \"Ferarri\", \"year\": \"2015\", \"category\": \"SportCar\", \"model\": \"Spider\", \"color\": \"Red\", \"pride\": 70000}]}</td></tr><tr><td>{\"user_profile\": [{\"userid\": \"userid_0\", \"username\": \"Maria Dandridge\", \"gender\": \"female\", \"age\": 20, \"picture_url\": \"../images/profile/Maria Dandridge.png\"}], \"car\": [{\"carid\": \"car_1\", \"make\": \"Hyundai\", \"year\": \"2017\", \"category\": \"Sedan\", \"model\": \"Sonata\", \"color\": \"Gray\", \"pride\": 14000}]}</td></tr><tr><td>{\"user_profile\": [{\"userid\": \"userid_3\", \"username\": \"Owen Milford\", \"gender\": \"male\", \"age\": 30, \"picture_url\": \"../images/profile/Owen Milford.png\"}], \"car\": [{\"carid\": \"car_6\", \"make\": \"Nissan\", \"year\": \"2015\", \"category\": \"SUV\", \"model\": \"Rouge\", \"color\": \"Brown\", \"pride\": 15500}]}</td></tr><tr><td>{\"user_profile\": [{\"userid\": \"userid_1\", \"username\": \"Jenna Bostwick\", \"gender\": \"female\", \"age\": 25, \"picture_url\": \"../images/profile/Jenna Bostwick.png\"}], \"car\": [{\"carid\": \"car_0\", \"make\": \"Honda\", \"year\": \"2020\", \"category\": \"Sedan\", \"model\": \"Accord\", \"color\": \"Black\", \"pride\": 14000}]}</td></tr><tr><td>{\"user_profile\": [{\"userid\": \"userid_0\", \"username\": \"Maria Dandridge\", \"gender\": \"female\", \"age\": 20, \"picture_url\": \"../images/profile/Maria Dandridge.png\"}], \"car\": [{\"carid\": \"car_7\", \"make\": \"Chevrolet\", \"year\": \"2016\", \"category\": \"Truck\", \"model\": \"Silverado\", \"color\": \"White\", \"pride\": 17000}]}</td></tr><tr><td>{\"user_profile\": [{\"userid\": \"userid_4\", \"username\": \"Keith Farrar\", \"gender\": \"male\", \"age\": 50, \"picture_url\": \"../images/profile/Keith Farrar.png\"}], \"car\": [{\"carid\": \"car_3\", \"make\": \"Toyota\", \"year\": \"2012\", \"category\": \"Sedan\", \"model\": \"Camry\", \"color\": \"Silver\", \"pride\": 11000}]}</td></tr><tr><td>{\"user_profile\": [{\"userid\": \"userid_3\", \"username\": \"Owen Milford\", \"gender\": \"male\", \"age\": 30, \"picture_url\": \"../images/profile/Owen Milford.png\"}], \"car\": [{\"carid\": \"car_1\", \"make\": \"Hyundai\", \"year\": \"2017\", \"category\": \"Sedan\", \"model\": \"Sonata\", \"color\": \"Gray\", \"pride\": 14000}]}</td></tr><tr><td>{\"user_profile\": [{\"userid\": \"userid_3\", \"username\": \"Owen Milford\", \"gender\": \"male\", \"age\": 30, \"picture_url\": \"../images/profile/Owen Milford.png\"}], \"car\": [{\"carid\": \"car_4\", \"make\": \"Honda\", \"year\": \"2013\", \"category\": \"SVU\", \"model\": \"CR-V\", \"color\": \"Brown\", \"pride\": 11000}]}</td></tr><tr><td>{\"user_profile\": [{\"userid\": \"userid_0\", \"username\": \"Maria Dandridge\", \"gender\": \"female\", \"age\": 20, \"picture_url\": \"../images/profile/Maria Dandridge.png\"}], \"car\": [{\"carid\": \"car_10\", \"make\": \"Ferarri\", \"year\": \"2015\", \"category\": \"SportCar\", \"model\": \"Spider\", \"color\": \"Red\", \"pride\": 70000}]}</td></tr><tr><td>{\"user_profile\": [{\"userid\": \"userid_2\", \"username\": \"Nathan Finley\", \"gender\": \"male\", \"age\": 20, \"picture_url\": \"../images/profile/Nathan Finley.png\"}], \"car\": [{\"carid\": \"car_6\", \"make\": \"Nissan\", \"year\": \"2015\", \"category\": \"SUV\", \"model\": \"Rouge\", \"color\": \"Brown\", \"pride\": 15500}]}</td></tr><tr><td>{\"user_profile\": [{\"userid\": \"userid_3\", \"username\": \"Owen Milford\", \"gender\": \"male\", \"age\": 30, \"picture_url\": \"../images/profile/Owen Milford.png\"}], \"car\": [{\"carid\": \"car_9\", \"make\": \"Ram\", \"year\": \"2010\", \"category\": \"Truck\", \"model\": \"1500\", \"color\": \"Black\", \"pride\": 17000}]}</td></tr><tr><td>{\"user_profile\": [{\"userid\": \"userid_4\", \"username\": \"Keith Farrar\", \"gender\": \"male\", \"age\": 50, \"picture_url\": \"../images/profile/Keith Farrar.png\"}], \"car\": [{\"carid\": \"car_8\", \"make\": \"Ford\", \"year\": \"2016\", \"category\": \"Truck\", \"model\": \"F-150\", \"color\": \"Brown\", \"pride\": 17000}]}</td></tr><tr><td>{\"user_profile\": [{\"userid\": \"userid_1\", \"username\": \"Jenna Bostwick\", \"gender\": \"female\", \"age\": 25, \"picture_url\": \"../images/profile/Jenna Bostwick.png\"}], \"car\": [{\"carid\": \"car_11\", \"make\": \"Tesla\", \"year\": \"2019\", \"category\": \"EV\", \"model\": \"Model Y\", \"color\": \"Black\", \"pride\": 40000}]}</td></tr><tr><td>{\"user_profile\": [{\"userid\": \"userid_4\", \"username\": \"Keith Farrar\", \"gender\": \"male\", \"age\": 50, \"picture_url\": \"../images/profile/Keith Farrar.png\"}], \"car\": [{\"carid\": \"car_7\", \"make\": \"Chevrolet\", \"year\": \"2016\", \"category\": \"Truck\", \"model\": \"Silverado\", \"color\": \"White\", \"pride\": 17000}]}</td></tr><tr><td>{\"user_profile\": [{\"userid\": \"userid_1\", \"username\": \"Jenna Bostwick\", \"gender\": \"female\", \"age\": 25, \"picture_url\": \"../images/profile/Jenna Bostwick.png\"}], \"car\": [{\"carid\": \"car_0\", \"make\": \"Honda\", \"year\": \"2020\", \"category\": \"Sedan\", \"model\": \"Accord\", \"color\": \"Black\", \"pride\": 14000}]}</td></tr><tr><td>{\"user_profile\": [{\"userid\": \"userid_0\", \"username\": \"Maria Dandridge\", \"gender\": \"female\", \"age\": 20, \"picture_url\": \"../images/profile/Maria Dandridge.png\"}], \"car\": [{\"carid\": \"car_8\", \"make\": \"Ford\", \"year\": \"2016\", \"category\": \"Truck\", \"model\": \"F-150\", \"color\": \"Brown\", \"pride\": 17000}]}</td></tr><tr><td>{\"user_profile\": [{\"userid\": \"userid_4\", \"username\": \"Keith Farrar\", \"gender\": \"male\", \"age\": 50, \"picture_url\": \"../images/profile/Keith Farrar.png\"}], \"car\": [{\"carid\": \"car_7\", \"make\": \"Chevrolet\", \"year\": \"2016\", \"category\": \"Truck\", \"model\": \"Silverado\", \"color\": \"White\", \"pride\": 17000}]}</td></tr><tr><td>{\"user_profile\": [{\"userid\": \"userid_2\", \"username\": \"Nathan Finley\", \"gender\": \"male\", \"age\": 20, \"picture_url\": \"../images/profile/Nathan Finley.png\"}], \"car\": [{\"carid\": \"car_9\", \"make\": \"Ram\", \"year\": \"2010\", \"category\": \"Truck\", \"model\": \"1500\", \"color\": \"Black\", \"pride\": 17000}]}</td></tr><tr><td>{\"user_profile\": [{\"userid\": \"userid_0\", \"username\": \"Maria Dandridge\", \"gender\": \"female\", \"age\": 20, \"picture_url\": \"../images/profile/Maria Dandridge.png\"}], \"car\": [{\"carid\": \"car_1\", \"make\": \"Hyundai\", \"year\": \"2017\", \"category\": \"Sedan\", \"model\": \"Sonata\", \"color\": \"Gray\", \"pride\": 14000}]}</td></tr><tr><td>{\"user_profile\": [{\"userid\": \"userid_3\", \"username\": \"Owen Milford\", \"gender\": \"male\", \"age\": 30, \"picture_url\": \"../images/profile/Owen Milford.png\"}], \"car\": [{\"carid\": \"car_9\", \"make\": \"Ram\", \"year\": \"2010\", \"category\": \"Truck\", \"model\": \"1500\", \"color\": \"Black\", \"pride\": 17000}]}</td></tr><tr><td>{\"user_profile\": [{\"userid\": \"userid_1\", \"username\": \"Jenna Bostwick\", \"gender\": \"female\", \"age\": 25, \"picture_url\": \"../images/profile/Jenna Bostwick.png\"}], \"car\": [{\"carid\": \"car_6\", \"make\": \"Nissan\", \"year\": \"2015\", \"category\": \"SUV\", \"model\": \"Rouge\", \"color\": \"Brown\", \"pride\": 15500}]}</td></tr><tr><td>{\"user_profile\": [{\"userid\": \"userid_4\", \"username\": \"Keith Farrar\", \"gender\": \"male\", \"age\": 50, \"picture_url\": \"../images/profile/Keith Farrar.png\"}], \"car\": [{\"carid\": \"car_6\", \"make\": \"Nissan\", \"year\": \"2015\", \"category\": \"SUV\", \"model\": \"Rouge\", \"color\": \"Brown\", \"pride\": 15500}]}</td></tr><tr><td>{\"user_profile\": [{\"userid\": \"userid_0\", \"username\": \"Maria Dandridge\", \"gender\": \"female\", \"age\": 20, \"picture_url\": \"../images/profile/Maria Dandridge.png\"}], \"car\": [{\"carid\": \"car_6\", \"make\": \"Nissan\", \"year\": \"2015\", \"category\": \"SUV\", \"model\": \"Rouge\", \"color\": \"Brown\", \"pride\": 15500}]}</td></tr><tr><td>{\"user_profile\": [{\"userid\": \"userid_2\", \"username\": \"Nathan Finley\", \"gender\": \"male\", \"age\": 20, \"picture_url\": \"../images/profile/Nathan Finley.png\"}], \"car\": [{\"carid\": \"car_10\", \"make\": \"Ferarri\", \"year\": \"2015\", \"category\": \"SportCar\", \"model\": \"Spider\", \"color\": \"Red\", \"pride\": 70000}]}</td></tr><tr><td>{\"user_profile\": [{\"userid\": \"userid_4\", \"username\": \"Keith Farrar\", \"gender\": \"male\", \"age\": 50, \"picture_url\": \"../images/profile/Keith Farrar.png\"}], \"car\": [{\"carid\": \"car_7\", \"make\": \"Chevrolet\", \"year\": \"2016\", \"category\": \"Truck\", \"model\": \"Silverado\", \"color\": \"White\", \"pride\": 17000}]}</td></tr><tr><td>{\"user_profile\": [{\"userid\": \"userid_4\", \"username\": \"Keith Farrar\", \"gender\": \"male\", \"age\": 50, \"picture_url\": \"../images/profile/Keith Farrar.png\"}], \"car\": [{\"carid\": \"car_4\", \"make\": \"Honda\", \"year\": \"2013\", \"category\": \"SVU\", \"model\": \"CR-V\", \"color\": \"Brown\", \"pride\": 11000}]}</td></tr><tr><td>{\"user_profile\": [{\"userid\": \"userid_2\", \"username\": \"Nathan Finley\", \"gender\": \"male\", \"age\": 20, \"picture_url\": \"../images/profile/Nathan Finley.png\"}], \"car\": [{\"carid\": \"car_4\", \"make\": \"Honda\", \"year\": \"2013\", \"category\": \"SVU\", \"model\": \"CR-V\", \"color\": \"Brown\", \"pride\": 11000}]}</td></tr><tr><td>{\"user_profile\": [{\"userid\": \"userid_2\", \"username\": \"Nathan Finley\", \"gender\": \"male\", \"age\": 20, \"picture_url\": \"../images/profile/Nathan Finley.png\"}], \"car\": [{\"carid\": \"car_11\", \"make\": \"Tesla\", \"year\": \"2019\", \"category\": \"EV\", \"model\": \"Model Y\", \"color\": \"Black\", \"pride\": 40000}]}</td></tr><tr><td>{\"user_profile\": [{\"userid\": \"userid_3\", \"username\": \"Owen Milford\", \"gender\": \"male\", \"age\": 30, \"picture_url\": \"../images/profile/Owen Milford.png\"}], \"car\": [{\"carid\": \"car_5\", \"make\": \"Toyota\", \"year\": \"2015\", \"category\": \"SUV\", \"model\": \"RAV4\", \"color\": \"White\", \"pride\": 15000}]}</td></tr><tr><td>{\"user_profile\": [{\"userid\": \"userid_1\", \"username\": \"Jenna Bostwick\", \"gender\": \"female\", \"age\": 25, \"picture_url\": \"../images/profile/Jenna Bostwick.png\"}], \"car\": [{\"carid\": \"car_7\", \"make\": \"Chevrolet\", \"year\": \"2016\", \"category\": \"Truck\", \"model\": \"Silverado\", \"color\": \"White\", \"pride\": 17000}]}</td></tr><tr><td>{\"user_profile\": [{\"userid\": \"userid_0\", \"username\": \"Maria Dandridge\", \"gender\": \"female\", \"age\": 20, \"picture_url\": \"../images/profile/Maria Dandridge.png\"}], \"car\": [{\"carid\": \"car_4\", \"make\": \"Honda\", \"year\": \"2013\", \"category\": \"SVU\", \"model\": \"CR-V\", \"color\": \"Brown\", \"pride\": 11000}]}</td></tr><tr><td>{\"user_profile\": [{\"userid\": \"userid_0\", \"username\": \"Maria Dandridge\", \"gender\": \"female\", \"age\": 20, \"picture_url\": \"../images/profile/Maria Dandridge.png\"}], \"car\": [{\"carid\": \"car_8\", \"make\": \"Ford\", \"year\": \"2016\", \"category\": \"Truck\", \"model\": \"F-150\", \"color\": \"Brown\", \"pride\": 17000}]}</td></tr></tbody></table></div>"
      ]
     },
     "metadata": {
      "application/vnd.databricks.v1+output": {
       "addedWidgets": {},
       "aggData": [],
       "aggError": "",
       "aggOverflow": false,
       "aggSchema": [],
       "aggSeriesLimitReached": false,
       "aggType": "",
       "arguments": {},
       "columnCustomDisplayInfos": {},
       "data": [
        [
         "{\"user_profile\": [{\"userid\": \"userid_0\", \"username\": \"Maria Dandridge\", \"gender\": \"female\", \"age\": 20, \"picture_url\": \"../images/profile/Maria Dandridge.png\"}], \"car\": [{\"carid\": \"car_2\", \"make\": \"Nissan\", \"year\": \"2018\", \"category\": \"Sedan\", \"model\": \"Altima\", \"color\": \"Gold\", \"pride\": 13000}]}"
        ],
        [
         "{\"user_profile\": [{\"userid\": \"userid_3\", \"username\": \"Owen Milford\", \"gender\": \"male\", \"age\": 30, \"picture_url\": \"../images/profile/Owen Milford.png\"}], \"car\": [{\"carid\": \"car_8\", \"make\": \"Ford\", \"year\": \"2016\", \"category\": \"Truck\", \"model\": \"F-150\", \"color\": \"Brown\", \"pride\": 17000}]}"
        ],
        [
         "{\"user_profile\": [{\"userid\": \"userid_4\", \"username\": \"Keith Farrar\", \"gender\": \"male\", \"age\": 50, \"picture_url\": \"../images/profile/Keith Farrar.png\"}], \"car\": [{\"carid\": \"car_3\", \"make\": \"Toyota\", \"year\": \"2012\", \"category\": \"Sedan\", \"model\": \"Camry\", \"color\": \"Silver\", \"pride\": 11000}]}"
        ],
        [
         "{\"user_profile\": [{\"userid\": \"userid_2\", \"username\": \"Nathan Finley\", \"gender\": \"male\", \"age\": 20, \"picture_url\": \"../images/profile/Nathan Finley.png\"}], \"car\": [{\"carid\": \"car_10\", \"make\": \"Ferarri\", \"year\": \"2015\", \"category\": \"SportCar\", \"model\": \"Spider\", \"color\": \"Red\", \"pride\": 70000}]}"
        ],
        [
         "{\"user_profile\": [{\"userid\": \"userid_3\", \"username\": \"Owen Milford\", \"gender\": \"male\", \"age\": 30, \"picture_url\": \"../images/profile/Owen Milford.png\"}], \"car\": [{\"carid\": \"car_0\", \"make\": \"Honda\", \"year\": \"2020\", \"category\": \"Sedan\", \"model\": \"Accord\", \"color\": \"Black\", \"pride\": 14000}]}"
        ],
        [
         "{\"user_profile\": [{\"userid\": \"userid_0\", \"username\": \"Maria Dandridge\", \"gender\": \"female\", \"age\": 20, \"picture_url\": \"../images/profile/Maria Dandridge.png\"}], \"car\": [{\"carid\": \"car_2\", \"make\": \"Nissan\", \"year\": \"2018\", \"category\": \"Sedan\", \"model\": \"Altima\", \"color\": \"Gold\", \"pride\": 13000}]}"
        ],
        [
         "{\"user_profile\": [{\"userid\": \"userid_3\", \"username\": \"Owen Milford\", \"gender\": \"male\", \"age\": 30, \"picture_url\": \"../images/profile/Owen Milford.png\"}], \"car\": [{\"carid\": \"car_1\", \"make\": \"Hyundai\", \"year\": \"2017\", \"category\": \"Sedan\", \"model\": \"Sonata\", \"color\": \"Gray\", \"pride\": 14000}]}"
        ],
        [
         "{\"user_profile\": [{\"userid\": \"userid_2\", \"username\": \"Nathan Finley\", \"gender\": \"male\", \"age\": 20, \"picture_url\": \"../images/profile/Nathan Finley.png\"}], \"car\": [{\"carid\": \"car_3\", \"make\": \"Toyota\", \"year\": \"2012\", \"category\": \"Sedan\", \"model\": \"Camry\", \"color\": \"Silver\", \"pride\": 11000}]}"
        ],
        [
         "{\"user_profile\": [{\"userid\": \"userid_4\", \"username\": \"Keith Farrar\", \"gender\": \"male\", \"age\": 50, \"picture_url\": \"../images/profile/Keith Farrar.png\"}], \"car\": [{\"carid\": \"car_3\", \"make\": \"Toyota\", \"year\": \"2012\", \"category\": \"Sedan\", \"model\": \"Camry\", \"color\": \"Silver\", \"pride\": 11000}]}"
        ],
        [
         "{\"user_profile\": [{\"userid\": \"userid_3\", \"username\": \"Owen Milford\", \"gender\": \"male\", \"age\": 30, \"picture_url\": \"../images/profile/Owen Milford.png\"}], \"car\": [{\"carid\": \"car_10\", \"make\": \"Ferarri\", \"year\": \"2015\", \"category\": \"SportCar\", \"model\": \"Spider\", \"color\": \"Red\", \"pride\": 70000}]}"
        ],
        [
         "{\"user_profile\": [{\"userid\": \"userid_2\", \"username\": \"Nathan Finley\", \"gender\": \"male\", \"age\": 20, \"picture_url\": \"../images/profile/Nathan Finley.png\"}], \"car\": [{\"carid\": \"car_10\", \"make\": \"Ferarri\", \"year\": \"2015\", \"category\": \"SportCar\", \"model\": \"Spider\", \"color\": \"Red\", \"pride\": 70000}]}"
        ],
        [
         "{\"user_profile\": [{\"userid\": \"userid_4\", \"username\": \"Keith Farrar\", \"gender\": \"male\", \"age\": 50, \"picture_url\": \"../images/profile/Keith Farrar.png\"}], \"car\": [{\"carid\": \"car_1\", \"make\": \"Hyundai\", \"year\": \"2017\", \"category\": \"Sedan\", \"model\": \"Sonata\", \"color\": \"Gray\", \"pride\": 14000}]}"
        ],
        [
         "{\"user_profile\": [{\"userid\": \"userid_3\", \"username\": \"Owen Milford\", \"gender\": \"male\", \"age\": 30, \"picture_url\": \"../images/profile/Owen Milford.png\"}], \"car\": [{\"carid\": \"car_1\", \"make\": \"Hyundai\", \"year\": \"2017\", \"category\": \"Sedan\", \"model\": \"Sonata\", \"color\": \"Gray\", \"pride\": 14000}]}"
        ],
        [
         "{\"user_profile\": [{\"userid\": \"userid_4\", \"username\": \"Keith Farrar\", \"gender\": \"male\", \"age\": 50, \"picture_url\": \"../images/profile/Keith Farrar.png\"}], \"car\": [{\"carid\": \"car_4\", \"make\": \"Honda\", \"year\": \"2013\", \"category\": \"SVU\", \"model\": \"CR-V\", \"color\": \"Brown\", \"pride\": 11000}]}"
        ],
        [
         "{\"user_profile\": [{\"userid\": \"userid_4\", \"username\": \"Keith Farrar\", \"gender\": \"male\", \"age\": 50, \"picture_url\": \"../images/profile/Keith Farrar.png\"}], \"car\": [{\"carid\": \"car_3\", \"make\": \"Toyota\", \"year\": \"2012\", \"category\": \"Sedan\", \"model\": \"Camry\", \"color\": \"Silver\", \"pride\": 11000}]}"
        ],
        [
         "{\"user_profile\": [{\"userid\": \"userid_2\", \"username\": \"Nathan Finley\", \"gender\": \"male\", \"age\": 20, \"picture_url\": \"../images/profile/Nathan Finley.png\"}], \"car\": [{\"carid\": \"car_11\", \"make\": \"Tesla\", \"year\": \"2019\", \"category\": \"EV\", \"model\": \"Model Y\", \"color\": \"Black\", \"pride\": 40000}]}"
        ],
        [
         "{\"user_profile\": [{\"userid\": \"userid_2\", \"username\": \"Nathan Finley\", \"gender\": \"male\", \"age\": 20, \"picture_url\": \"../images/profile/Nathan Finley.png\"}], \"car\": [{\"carid\": \"car_2\", \"make\": \"Nissan\", \"year\": \"2018\", \"category\": \"Sedan\", \"model\": \"Altima\", \"color\": \"Gold\", \"pride\": 13000}]}"
        ],
        [
         "{\"user_profile\": [{\"userid\": \"userid_0\", \"username\": \"Maria Dandridge\", \"gender\": \"female\", \"age\": 20, \"picture_url\": \"../images/profile/Maria Dandridge.png\"}], \"car\": [{\"carid\": \"car_7\", \"make\": \"Chevrolet\", \"year\": \"2016\", \"category\": \"Truck\", \"model\": \"Silverado\", \"color\": \"White\", \"pride\": 17000}]}"
        ],
        [
         "{\"user_profile\": [{\"userid\": \"userid_4\", \"username\": \"Keith Farrar\", \"gender\": \"male\", \"age\": 50, \"picture_url\": \"../images/profile/Keith Farrar.png\"}], \"car\": [{\"carid\": \"car_10\", \"make\": \"Ferarri\", \"year\": \"2015\", \"category\": \"SportCar\", \"model\": \"Spider\", \"color\": \"Red\", \"pride\": 70000}]}"
        ],
        [
         "{\"user_profile\": [{\"userid\": \"userid_2\", \"username\": \"Nathan Finley\", \"gender\": \"male\", \"age\": 20, \"picture_url\": \"../images/profile/Nathan Finley.png\"}], \"car\": [{\"carid\": \"car_6\", \"make\": \"Nissan\", \"year\": \"2015\", \"category\": \"SUV\", \"model\": \"Rouge\", \"color\": \"Brown\", \"pride\": 15500}]}"
        ],
        [
         "{\"user_profile\": [{\"userid\": \"userid_2\", \"username\": \"Nathan Finley\", \"gender\": \"male\", \"age\": 20, \"picture_url\": \"../images/profile/Nathan Finley.png\"}], \"car\": [{\"carid\": \"car_0\", \"make\": \"Honda\", \"year\": \"2020\", \"category\": \"Sedan\", \"model\": \"Accord\", \"color\": \"Black\", \"pride\": 14000}]}"
        ],
        [
         "{\"user_profile\": [{\"userid\": \"userid_2\", \"username\": \"Nathan Finley\", \"gender\": \"male\", \"age\": 20, \"picture_url\": \"../images/profile/Nathan Finley.png\"}], \"car\": [{\"carid\": \"car_9\", \"make\": \"Ram\", \"year\": \"2010\", \"category\": \"Truck\", \"model\": \"1500\", \"color\": \"Black\", \"pride\": 17000}]}"
        ],
        [
         "{\"user_profile\": [{\"userid\": \"userid_3\", \"username\": \"Owen Milford\", \"gender\": \"male\", \"age\": 30, \"picture_url\": \"../images/profile/Owen Milford.png\"}], \"car\": [{\"carid\": \"car_11\", \"make\": \"Tesla\", \"year\": \"2019\", \"category\": \"EV\", \"model\": \"Model Y\", \"color\": \"Black\", \"pride\": 40000}]}"
        ],
        [
         "{\"user_profile\": [{\"userid\": \"userid_2\", \"username\": \"Nathan Finley\", \"gender\": \"male\", \"age\": 20, \"picture_url\": \"../images/profile/Nathan Finley.png\"}], \"car\": [{\"carid\": \"car_6\", \"make\": \"Nissan\", \"year\": \"2015\", \"category\": \"SUV\", \"model\": \"Rouge\", \"color\": \"Brown\", \"pride\": 15500}]}"
        ],
        [
         "{\"user_profile\": [{\"userid\": \"userid_4\", \"username\": \"Keith Farrar\", \"gender\": \"male\", \"age\": 50, \"picture_url\": \"../images/profile/Keith Farrar.png\"}], \"car\": [{\"carid\": \"car_6\", \"make\": \"Nissan\", \"year\": \"2015\", \"category\": \"SUV\", \"model\": \"Rouge\", \"color\": \"Brown\", \"pride\": 15500}]}"
        ],
        [
         "{\"user_profile\": [{\"userid\": \"userid_1\", \"username\": \"Jenna Bostwick\", \"gender\": \"female\", \"age\": 25, \"picture_url\": \"../images/profile/Jenna Bostwick.png\"}], \"car\": [{\"carid\": \"car_0\", \"make\": \"Honda\", \"year\": \"2020\", \"category\": \"Sedan\", \"model\": \"Accord\", \"color\": \"Black\", \"pride\": 14000}]}"
        ],
        [
         "{\"user_profile\": [{\"userid\": \"userid_4\", \"username\": \"Keith Farrar\", \"gender\": \"male\", \"age\": 50, \"picture_url\": \"../images/profile/Keith Farrar.png\"}], \"car\": [{\"carid\": \"car_2\", \"make\": \"Nissan\", \"year\": \"2018\", \"category\": \"Sedan\", \"model\": \"Altima\", \"color\": \"Gold\", \"pride\": 13000}]}"
        ],
        [
         "{\"user_profile\": [{\"userid\": \"userid_0\", \"username\": \"Maria Dandridge\", \"gender\": \"female\", \"age\": 20, \"picture_url\": \"../images/profile/Maria Dandridge.png\"}], \"car\": [{\"carid\": \"car_6\", \"make\": \"Nissan\", \"year\": \"2015\", \"category\": \"SUV\", \"model\": \"Rouge\", \"color\": \"Brown\", \"pride\": 15500}]}"
        ],
        [
         "{\"user_profile\": [{\"userid\": \"userid_4\", \"username\": \"Keith Farrar\", \"gender\": \"male\", \"age\": 50, \"picture_url\": \"../images/profile/Keith Farrar.png\"}], \"car\": [{\"carid\": \"car_10\", \"make\": \"Ferarri\", \"year\": \"2015\", \"category\": \"SportCar\", \"model\": \"Spider\", \"color\": \"Red\", \"pride\": 70000}]}"
        ],
        [
         "{\"user_profile\": [{\"userid\": \"userid_0\", \"username\": \"Maria Dandridge\", \"gender\": \"female\", \"age\": 20, \"picture_url\": \"../images/profile/Maria Dandridge.png\"}], \"car\": [{\"carid\": \"car_6\", \"make\": \"Nissan\", \"year\": \"2015\", \"category\": \"SUV\", \"model\": \"Rouge\", \"color\": \"Brown\", \"pride\": 15500}]}"
        ],
        [
         "{\"user_profile\": [{\"userid\": \"userid_1\", \"username\": \"Jenna Bostwick\", \"gender\": \"female\", \"age\": 25, \"picture_url\": \"../images/profile/Jenna Bostwick.png\"}], \"car\": [{\"carid\": \"car_10\", \"make\": \"Ferarri\", \"year\": \"2015\", \"category\": \"SportCar\", \"model\": \"Spider\", \"color\": \"Red\", \"pride\": 70000}]}"
        ],
        [
         "{\"user_profile\": [{\"userid\": \"userid_0\", \"username\": \"Maria Dandridge\", \"gender\": \"female\", \"age\": 20, \"picture_url\": \"../images/profile/Maria Dandridge.png\"}], \"car\": [{\"carid\": \"car_10\", \"make\": \"Ferarri\", \"year\": \"2015\", \"category\": \"SportCar\", \"model\": \"Spider\", \"color\": \"Red\", \"pride\": 70000}]}"
        ],
        [
         "{\"user_profile\": [{\"userid\": \"userid_3\", \"username\": \"Owen Milford\", \"gender\": \"male\", \"age\": 30, \"picture_url\": \"../images/profile/Owen Milford.png\"}], \"car\": [{\"carid\": \"car_1\", \"make\": \"Hyundai\", \"year\": \"2017\", \"category\": \"Sedan\", \"model\": \"Sonata\", \"color\": \"Gray\", \"pride\": 14000}]}"
        ],
        [
         "{\"user_profile\": [{\"userid\": \"userid_1\", \"username\": \"Jenna Bostwick\", \"gender\": \"female\", \"age\": 25, \"picture_url\": \"../images/profile/Jenna Bostwick.png\"}], \"car\": [{\"carid\": \"car_11\", \"make\": \"Tesla\", \"year\": \"2019\", \"category\": \"EV\", \"model\": \"Model Y\", \"color\": \"Black\", \"pride\": 40000}]}"
        ],
        [
         "{\"user_profile\": [{\"userid\": \"userid_3\", \"username\": \"Owen Milford\", \"gender\": \"male\", \"age\": 30, \"picture_url\": \"../images/profile/Owen Milford.png\"}], \"car\": [{\"carid\": \"car_4\", \"make\": \"Honda\", \"year\": \"2013\", \"category\": \"SVU\", \"model\": \"CR-V\", \"color\": \"Brown\", \"pride\": 11000}]}"
        ],
        [
         "{\"user_profile\": [{\"userid\": \"userid_1\", \"username\": \"Jenna Bostwick\", \"gender\": \"female\", \"age\": 25, \"picture_url\": \"../images/profile/Jenna Bostwick.png\"}], \"car\": [{\"carid\": \"car_5\", \"make\": \"Toyota\", \"year\": \"2015\", \"category\": \"SUV\", \"model\": \"RAV4\", \"color\": \"White\", \"pride\": 15000}]}"
        ],
        [
         "{\"user_profile\": [{\"userid\": \"userid_1\", \"username\": \"Jenna Bostwick\", \"gender\": \"female\", \"age\": 25, \"picture_url\": \"../images/profile/Jenna Bostwick.png\"}], \"car\": [{\"carid\": \"car_0\", \"make\": \"Honda\", \"year\": \"2020\", \"category\": \"Sedan\", \"model\": \"Accord\", \"color\": \"Black\", \"pride\": 14000}]}"
        ],
        [
         "{\"user_profile\": [{\"userid\": \"userid_2\", \"username\": \"Nathan Finley\", \"gender\": \"male\", \"age\": 20, \"picture_url\": \"../images/profile/Nathan Finley.png\"}], \"car\": [{\"carid\": \"car_10\", \"make\": \"Ferarri\", \"year\": \"2015\", \"category\": \"SportCar\", \"model\": \"Spider\", \"color\": \"Red\", \"pride\": 70000}]}"
        ],
        [
         "{\"user_profile\": [{\"userid\": \"userid_4\", \"username\": \"Keith Farrar\", \"gender\": \"male\", \"age\": 50, \"picture_url\": \"../images/profile/Keith Farrar.png\"}], \"car\": [{\"carid\": \"car_3\", \"make\": \"Toyota\", \"year\": \"2012\", \"category\": \"Sedan\", \"model\": \"Camry\", \"color\": \"Silver\", \"pride\": 11000}]}"
        ],
        [
         "{\"user_profile\": [{\"userid\": \"userid_1\", \"username\": \"Jenna Bostwick\", \"gender\": \"female\", \"age\": 25, \"picture_url\": \"../images/profile/Jenna Bostwick.png\"}], \"car\": [{\"carid\": \"car_3\", \"make\": \"Toyota\", \"year\": \"2012\", \"category\": \"Sedan\", \"model\": \"Camry\", \"color\": \"Silver\", \"pride\": 11000}]}"
        ],
        [
         "{\"user_profile\": [{\"userid\": \"userid_4\", \"username\": \"Keith Farrar\", \"gender\": \"male\", \"age\": 50, \"picture_url\": \"../images/profile/Keith Farrar.png\"}], \"car\": [{\"carid\": \"car_7\", \"make\": \"Chevrolet\", \"year\": \"2016\", \"category\": \"Truck\", \"model\": \"Silverado\", \"color\": \"White\", \"pride\": 17000}]}"
        ],
        [
         "{\"user_profile\": [{\"userid\": \"userid_0\", \"username\": \"Maria Dandridge\", \"gender\": \"female\", \"age\": 20, \"picture_url\": \"../images/profile/Maria Dandridge.png\"}], \"car\": [{\"carid\": \"car_3\", \"make\": \"Toyota\", \"year\": \"2012\", \"category\": \"Sedan\", \"model\": \"Camry\", \"color\": \"Silver\", \"pride\": 11000}]}"
        ],
        [
         "{\"user_profile\": [{\"userid\": \"userid_0\", \"username\": \"Maria Dandridge\", \"gender\": \"female\", \"age\": 20, \"picture_url\": \"../images/profile/Maria Dandridge.png\"}], \"car\": [{\"carid\": \"car_0\", \"make\": \"Honda\", \"year\": \"2020\", \"category\": \"Sedan\", \"model\": \"Accord\", \"color\": \"Black\", \"pride\": 14000}]}"
        ],
        [
         "{\"user_profile\": [{\"userid\": \"userid_2\", \"username\": \"Nathan Finley\", \"gender\": \"male\", \"age\": 20, \"picture_url\": \"../images/profile/Nathan Finley.png\"}], \"car\": [{\"carid\": \"car_8\", \"make\": \"Ford\", \"year\": \"2016\", \"category\": \"Truck\", \"model\": \"F-150\", \"color\": \"Brown\", \"pride\": 17000}]}"
        ],
        [
         "{\"user_profile\": [{\"userid\": \"userid_4\", \"username\": \"Keith Farrar\", \"gender\": \"male\", \"age\": 50, \"picture_url\": \"../images/profile/Keith Farrar.png\"}], \"car\": [{\"carid\": \"car_7\", \"make\": \"Chevrolet\", \"year\": \"2016\", \"category\": \"Truck\", \"model\": \"Silverado\", \"color\": \"White\", \"pride\": 17000}]}"
        ],
        [
         "{\"user_profile\": [{\"userid\": \"userid_4\", \"username\": \"Keith Farrar\", \"gender\": \"male\", \"age\": 50, \"picture_url\": \"../images/profile/Keith Farrar.png\"}], \"car\": [{\"carid\": \"car_0\", \"make\": \"Honda\", \"year\": \"2020\", \"category\": \"Sedan\", \"model\": \"Accord\", \"color\": \"Black\", \"pride\": 14000}]}"
        ],
        [
         "{\"user_profile\": [{\"userid\": \"userid_1\", \"username\": \"Jenna Bostwick\", \"gender\": \"female\", \"age\": 25, \"picture_url\": \"../images/profile/Jenna Bostwick.png\"}], \"car\": [{\"carid\": \"car_3\", \"make\": \"Toyota\", \"year\": \"2012\", \"category\": \"Sedan\", \"model\": \"Camry\", \"color\": \"Silver\", \"pride\": 11000}]}"
        ],
        [
         "{\"user_profile\": [{\"userid\": \"userid_3\", \"username\": \"Owen Milford\", \"gender\": \"male\", \"age\": 30, \"picture_url\": \"../images/profile/Owen Milford.png\"}], \"car\": [{\"carid\": \"car_2\", \"make\": \"Nissan\", \"year\": \"2018\", \"category\": \"Sedan\", \"model\": \"Altima\", \"color\": \"Gold\", \"pride\": 13000}]}"
        ],
        [
         "{\"user_profile\": [{\"userid\": \"userid_1\", \"username\": \"Jenna Bostwick\", \"gender\": \"female\", \"age\": 25, \"picture_url\": \"../images/profile/Jenna Bostwick.png\"}], \"car\": [{\"carid\": \"car_7\", \"make\": \"Chevrolet\", \"year\": \"2016\", \"category\": \"Truck\", \"model\": \"Silverado\", \"color\": \"White\", \"pride\": 17000}]}"
        ],
        [
         "{\"user_profile\": [{\"userid\": \"userid_2\", \"username\": \"Nathan Finley\", \"gender\": \"male\", \"age\": 20, \"picture_url\": \"../images/profile/Nathan Finley.png\"}], \"car\": [{\"carid\": \"car_5\", \"make\": \"Toyota\", \"year\": \"2015\", \"category\": \"SUV\", \"model\": \"RAV4\", \"color\": \"White\", \"pride\": 15000}]}"
        ],
        [
         "{\"user_profile\": [{\"userid\": \"userid_2\", \"username\": \"Nathan Finley\", \"gender\": \"male\", \"age\": 20, \"picture_url\": \"../images/profile/Nathan Finley.png\"}], \"car\": [{\"carid\": \"car_4\", \"make\": \"Honda\", \"year\": \"2013\", \"category\": \"SVU\", \"model\": \"CR-V\", \"color\": \"Brown\", \"pride\": 11000}]}"
        ],
        [
         "{\"user_profile\": [{\"userid\": \"userid_3\", \"username\": \"Owen Milford\", \"gender\": \"male\", \"age\": 30, \"picture_url\": \"../images/profile/Owen Milford.png\"}], \"car\": [{\"carid\": \"car_1\", \"make\": \"Hyundai\", \"year\": \"2017\", \"category\": \"Sedan\", \"model\": \"Sonata\", \"color\": \"Gray\", \"pride\": 14000}]}"
        ],
        [
         "{\"user_profile\": [{\"userid\": \"userid_0\", \"username\": \"Maria Dandridge\", \"gender\": \"female\", \"age\": 20, \"picture_url\": \"../images/profile/Maria Dandridge.png\"}], \"car\": [{\"carid\": \"car_0\", \"make\": \"Honda\", \"year\": \"2020\", \"category\": \"Sedan\", \"model\": \"Accord\", \"color\": \"Black\", \"pride\": 14000}]}"
        ],
        [
         "{\"user_profile\": [{\"userid\": \"userid_2\", \"username\": \"Nathan Finley\", \"gender\": \"male\", \"age\": 20, \"picture_url\": \"../images/profile/Nathan Finley.png\"}], \"car\": [{\"carid\": \"car_9\", \"make\": \"Ram\", \"year\": \"2010\", \"category\": \"Truck\", \"model\": \"1500\", \"color\": \"Black\", \"pride\": 17000}]}"
        ],
        [
         "{\"user_profile\": [{\"userid\": \"userid_0\", \"username\": \"Maria Dandridge\", \"gender\": \"female\", \"age\": 20, \"picture_url\": \"../images/profile/Maria Dandridge.png\"}], \"car\": [{\"carid\": \"car_3\", \"make\": \"Toyota\", \"year\": \"2012\", \"category\": \"Sedan\", \"model\": \"Camry\", \"color\": \"Silver\", \"pride\": 11000}]}"
        ],
        [
         "{\"user_profile\": [{\"userid\": \"userid_4\", \"username\": \"Keith Farrar\", \"gender\": \"male\", \"age\": 50, \"picture_url\": \"../images/profile/Keith Farrar.png\"}], \"car\": [{\"carid\": \"car_8\", \"make\": \"Ford\", \"year\": \"2016\", \"category\": \"Truck\", \"model\": \"F-150\", \"color\": \"Brown\", \"pride\": 17000}]}"
        ],
        [
         "{\"user_profile\": [{\"userid\": \"userid_0\", \"username\": \"Maria Dandridge\", \"gender\": \"female\", \"age\": 20, \"picture_url\": \"../images/profile/Maria Dandridge.png\"}], \"car\": [{\"carid\": \"car_8\", \"make\": \"Ford\", \"year\": \"2016\", \"category\": \"Truck\", \"model\": \"F-150\", \"color\": \"Brown\", \"pride\": 17000}]}"
        ],
        [
         "{\"user_profile\": [{\"userid\": \"userid_0\", \"username\": \"Maria Dandridge\", \"gender\": \"female\", \"age\": 20, \"picture_url\": \"../images/profile/Maria Dandridge.png\"}], \"car\": [{\"carid\": \"car_9\", \"make\": \"Ram\", \"year\": \"2010\", \"category\": \"Truck\", \"model\": \"1500\", \"color\": \"Black\", \"pride\": 17000}]}"
        ],
        [
         "{\"user_profile\": [{\"userid\": \"userid_1\", \"username\": \"Jenna Bostwick\", \"gender\": \"female\", \"age\": 25, \"picture_url\": \"../images/profile/Jenna Bostwick.png\"}], \"car\": [{\"carid\": \"car_3\", \"make\": \"Toyota\", \"year\": \"2012\", \"category\": \"Sedan\", \"model\": \"Camry\", \"color\": \"Silver\", \"pride\": 11000}]}"
        ],
        [
         "{\"user_profile\": [{\"userid\": \"userid_3\", \"username\": \"Owen Milford\", \"gender\": \"male\", \"age\": 30, \"picture_url\": \"../images/profile/Owen Milford.png\"}], \"car\": [{\"carid\": \"car_4\", \"make\": \"Honda\", \"year\": \"2013\", \"category\": \"SVU\", \"model\": \"CR-V\", \"color\": \"Brown\", \"pride\": 11000}]}"
        ],
        [
         "{\"user_profile\": [{\"userid\": \"userid_1\", \"username\": \"Jenna Bostwick\", \"gender\": \"female\", \"age\": 25, \"picture_url\": \"../images/profile/Jenna Bostwick.png\"}], \"car\": [{\"carid\": \"car_5\", \"make\": \"Toyota\", \"year\": \"2015\", \"category\": \"SUV\", \"model\": \"RAV4\", \"color\": \"White\", \"pride\": 15000}]}"
        ],
        [
         "{\"user_profile\": [{\"userid\": \"userid_3\", \"username\": \"Owen Milford\", \"gender\": \"male\", \"age\": 30, \"picture_url\": \"../images/profile/Owen Milford.png\"}], \"car\": [{\"carid\": \"car_1\", \"make\": \"Hyundai\", \"year\": \"2017\", \"category\": \"Sedan\", \"model\": \"Sonata\", \"color\": \"Gray\", \"pride\": 14000}]}"
        ],
        [
         "{\"user_profile\": [{\"userid\": \"userid_4\", \"username\": \"Keith Farrar\", \"gender\": \"male\", \"age\": 50, \"picture_url\": \"../images/profile/Keith Farrar.png\"}], \"car\": [{\"carid\": \"car_10\", \"make\": \"Ferarri\", \"year\": \"2015\", \"category\": \"SportCar\", \"model\": \"Spider\", \"color\": \"Red\", \"pride\": 70000}]}"
        ],
        [
         "{\"user_profile\": [{\"userid\": \"userid_4\", \"username\": \"Keith Farrar\", \"gender\": \"male\", \"age\": 50, \"picture_url\": \"../images/profile/Keith Farrar.png\"}], \"car\": [{\"carid\": \"car_2\", \"make\": \"Nissan\", \"year\": \"2018\", \"category\": \"Sedan\", \"model\": \"Altima\", \"color\": \"Gold\", \"pride\": 13000}]}"
        ],
        [
         "{\"user_profile\": [{\"userid\": \"userid_1\", \"username\": \"Jenna Bostwick\", \"gender\": \"female\", \"age\": 25, \"picture_url\": \"../images/profile/Jenna Bostwick.png\"}], \"car\": [{\"carid\": \"car_3\", \"make\": \"Toyota\", \"year\": \"2012\", \"category\": \"Sedan\", \"model\": \"Camry\", \"color\": \"Silver\", \"pride\": 11000}]}"
        ],
        [
         "{\"user_profile\": [{\"userid\": \"userid_3\", \"username\": \"Owen Milford\", \"gender\": \"male\", \"age\": 30, \"picture_url\": \"../images/profile/Owen Milford.png\"}], \"car\": [{\"carid\": \"car_3\", \"make\": \"Toyota\", \"year\": \"2012\", \"category\": \"Sedan\", \"model\": \"Camry\", \"color\": \"Silver\", \"pride\": 11000}]}"
        ],
        [
         "{\"user_profile\": [{\"userid\": \"userid_1\", \"username\": \"Jenna Bostwick\", \"gender\": \"female\", \"age\": 25, \"picture_url\": \"../images/profile/Jenna Bostwick.png\"}], \"car\": [{\"carid\": \"car_3\", \"make\": \"Toyota\", \"year\": \"2012\", \"category\": \"Sedan\", \"model\": \"Camry\", \"color\": \"Silver\", \"pride\": 11000}]}"
        ],
        [
         "{\"user_profile\": [{\"userid\": \"userid_2\", \"username\": \"Nathan Finley\", \"gender\": \"male\", \"age\": 20, \"picture_url\": \"../images/profile/Nathan Finley.png\"}], \"car\": [{\"carid\": \"car_4\", \"make\": \"Honda\", \"year\": \"2013\", \"category\": \"SVU\", \"model\": \"CR-V\", \"color\": \"Brown\", \"pride\": 11000}]}"
        ],
        [
         "{\"user_profile\": [{\"userid\": \"userid_0\", \"username\": \"Maria Dandridge\", \"gender\": \"female\", \"age\": 20, \"picture_url\": \"../images/profile/Maria Dandridge.png\"}], \"car\": [{\"carid\": \"car_3\", \"make\": \"Toyota\", \"year\": \"2012\", \"category\": \"Sedan\", \"model\": \"Camry\", \"color\": \"Silver\", \"pride\": 11000}]}"
        ],
        [
         "{\"user_profile\": [{\"userid\": \"userid_3\", \"username\": \"Owen Milford\", \"gender\": \"male\", \"age\": 30, \"picture_url\": \"../images/profile/Owen Milford.png\"}], \"car\": [{\"carid\": \"car_1\", \"make\": \"Hyundai\", \"year\": \"2017\", \"category\": \"Sedan\", \"model\": \"Sonata\", \"color\": \"Gray\", \"pride\": 14000}]}"
        ],
        [
         "{\"user_profile\": [{\"userid\": \"userid_0\", \"username\": \"Maria Dandridge\", \"gender\": \"female\", \"age\": 20, \"picture_url\": \"../images/profile/Maria Dandridge.png\"}], \"car\": [{\"carid\": \"car_10\", \"make\": \"Ferarri\", \"year\": \"2015\", \"category\": \"SportCar\", \"model\": \"Spider\", \"color\": \"Red\", \"pride\": 70000}]}"
        ],
        [
         "{\"user_profile\": [{\"userid\": \"userid_2\", \"username\": \"Nathan Finley\", \"gender\": \"male\", \"age\": 20, \"picture_url\": \"../images/profile/Nathan Finley.png\"}], \"car\": [{\"carid\": \"car_6\", \"make\": \"Nissan\", \"year\": \"2015\", \"category\": \"SUV\", \"model\": \"Rouge\", \"color\": \"Brown\", \"pride\": 15500}]}"
        ],
        [
         "{\"user_profile\": [{\"userid\": \"userid_2\", \"username\": \"Nathan Finley\", \"gender\": \"male\", \"age\": 20, \"picture_url\": \"../images/profile/Nathan Finley.png\"}], \"car\": [{\"carid\": \"car_2\", \"make\": \"Nissan\", \"year\": \"2018\", \"category\": \"Sedan\", \"model\": \"Altima\", \"color\": \"Gold\", \"pride\": 13000}]}"
        ],
        [
         "{\"user_profile\": [{\"userid\": \"userid_4\", \"username\": \"Keith Farrar\", \"gender\": \"male\", \"age\": 50, \"picture_url\": \"../images/profile/Keith Farrar.png\"}], \"car\": [{\"carid\": \"car_9\", \"make\": \"Ram\", \"year\": \"2010\", \"category\": \"Truck\", \"model\": \"1500\", \"color\": \"Black\", \"pride\": 17000}]}"
        ],
        [
         "{\"user_profile\": [{\"userid\": \"userid_3\", \"username\": \"Owen Milford\", \"gender\": \"male\", \"age\": 30, \"picture_url\": \"../images/profile/Owen Milford.png\"}], \"car\": [{\"carid\": \"car_3\", \"make\": \"Toyota\", \"year\": \"2012\", \"category\": \"Sedan\", \"model\": \"Camry\", \"color\": \"Silver\", \"pride\": 11000}]}"
        ],
        [
         "{\"user_profile\": [{\"userid\": \"userid_4\", \"username\": \"Keith Farrar\", \"gender\": \"male\", \"age\": 50, \"picture_url\": \"../images/profile/Keith Farrar.png\"}], \"car\": [{\"carid\": \"car_11\", \"make\": \"Tesla\", \"year\": \"2019\", \"category\": \"EV\", \"model\": \"Model Y\", \"color\": \"Black\", \"pride\": 40000}]}"
        ],
        [
         "{\"user_profile\": [{\"userid\": \"userid_3\", \"username\": \"Owen Milford\", \"gender\": \"male\", \"age\": 30, \"picture_url\": \"../images/profile/Owen Milford.png\"}], \"car\": [{\"carid\": \"car_2\", \"make\": \"Nissan\", \"year\": \"2018\", \"category\": \"Sedan\", \"model\": \"Altima\", \"color\": \"Gold\", \"pride\": 13000}]}"
        ],
        [
         "{\"user_profile\": [{\"userid\": \"userid_4\", \"username\": \"Keith Farrar\", \"gender\": \"male\", \"age\": 50, \"picture_url\": \"../images/profile/Keith Farrar.png\"}], \"car\": [{\"carid\": \"car_1\", \"make\": \"Hyundai\", \"year\": \"2017\", \"category\": \"Sedan\", \"model\": \"Sonata\", \"color\": \"Gray\", \"pride\": 14000}]}"
        ],
        [
         "{\"user_profile\": [{\"userid\": \"userid_4\", \"username\": \"Keith Farrar\", \"gender\": \"male\", \"age\": 50, \"picture_url\": \"../images/profile/Keith Farrar.png\"}], \"car\": [{\"carid\": \"car_10\", \"make\": \"Ferarri\", \"year\": \"2015\", \"category\": \"SportCar\", \"model\": \"Spider\", \"color\": \"Red\", \"pride\": 70000}]}"
        ],
        [
         "{\"user_profile\": [{\"userid\": \"userid_1\", \"username\": \"Jenna Bostwick\", \"gender\": \"female\", \"age\": 25, \"picture_url\": \"../images/profile/Jenna Bostwick.png\"}], \"car\": [{\"carid\": \"car_8\", \"make\": \"Ford\", \"year\": \"2016\", \"category\": \"Truck\", \"model\": \"F-150\", \"color\": \"Brown\", \"pride\": 17000}]}"
        ],
        [
         "{\"user_profile\": [{\"userid\": \"userid_1\", \"username\": \"Jenna Bostwick\", \"gender\": \"female\", \"age\": 25, \"picture_url\": \"../images/profile/Jenna Bostwick.png\"}], \"car\": [{\"carid\": \"car_4\", \"make\": \"Honda\", \"year\": \"2013\", \"category\": \"SVU\", \"model\": \"CR-V\", \"color\": \"Brown\", \"pride\": 11000}]}"
        ],
        [
         "{\"user_profile\": [{\"userid\": \"userid_3\", \"username\": \"Owen Milford\", \"gender\": \"male\", \"age\": 30, \"picture_url\": \"../images/profile/Owen Milford.png\"}], \"car\": [{\"carid\": \"car_11\", \"make\": \"Tesla\", \"year\": \"2019\", \"category\": \"EV\", \"model\": \"Model Y\", \"color\": \"Black\", \"pride\": 40000}]}"
        ],
        [
         "{\"user_profile\": [{\"userid\": \"userid_3\", \"username\": \"Owen Milford\", \"gender\": \"male\", \"age\": 30, \"picture_url\": \"../images/profile/Owen Milford.png\"}], \"car\": [{\"carid\": \"car_2\", \"make\": \"Nissan\", \"year\": \"2018\", \"category\": \"Sedan\", \"model\": \"Altima\", \"color\": \"Gold\", \"pride\": 13000}]}"
        ],
        [
         "{\"user_profile\": [{\"userid\": \"userid_2\", \"username\": \"Nathan Finley\", \"gender\": \"male\", \"age\": 20, \"picture_url\": \"../images/profile/Nathan Finley.png\"}], \"car\": [{\"carid\": \"car_0\", \"make\": \"Honda\", \"year\": \"2020\", \"category\": \"Sedan\", \"model\": \"Accord\", \"color\": \"Black\", \"pride\": 14000}]}"
        ],
        [
         "{\"user_profile\": [{\"userid\": \"userid_4\", \"username\": \"Keith Farrar\", \"gender\": \"male\", \"age\": 50, \"picture_url\": \"../images/profile/Keith Farrar.png\"}], \"car\": [{\"carid\": \"car_4\", \"make\": \"Honda\", \"year\": \"2013\", \"category\": \"SVU\", \"model\": \"CR-V\", \"color\": \"Brown\", \"pride\": 11000}]}"
        ],
        [
         "{\"user_profile\": [{\"userid\": \"userid_2\", \"username\": \"Nathan Finley\", \"gender\": \"male\", \"age\": 20, \"picture_url\": \"../images/profile/Nathan Finley.png\"}], \"car\": [{\"carid\": \"car_0\", \"make\": \"Honda\", \"year\": \"2020\", \"category\": \"Sedan\", \"model\": \"Accord\", \"color\": \"Black\", \"pride\": 14000}]}"
        ],
        [
         "{\"user_profile\": [{\"userid\": \"userid_0\", \"username\": \"Maria Dandridge\", \"gender\": \"female\", \"age\": 20, \"picture_url\": \"../images/profile/Maria Dandridge.png\"}], \"car\": [{\"carid\": \"car_2\", \"make\": \"Nissan\", \"year\": \"2018\", \"category\": \"Sedan\", \"model\": \"Altima\", \"color\": \"Gold\", \"pride\": 13000}]}"
        ],
        [
         "{\"user_profile\": [{\"userid\": \"userid_0\", \"username\": \"Maria Dandridge\", \"gender\": \"female\", \"age\": 20, \"picture_url\": \"../images/profile/Maria Dandridge.png\"}], \"car\": [{\"carid\": \"car_8\", \"make\": \"Ford\", \"year\": \"2016\", \"category\": \"Truck\", \"model\": \"F-150\", \"color\": \"Brown\", \"pride\": 17000}]}"
        ],
        [
         "{\"user_profile\": [{\"userid\": \"userid_2\", \"username\": \"Nathan Finley\", \"gender\": \"male\", \"age\": 20, \"picture_url\": \"../images/profile/Nathan Finley.png\"}], \"car\": [{\"carid\": \"car_5\", \"make\": \"Toyota\", \"year\": \"2015\", \"category\": \"SUV\", \"model\": \"RAV4\", \"color\": \"White\", \"pride\": 15000}]}"
        ],
        [
         "{\"user_profile\": [{\"userid\": \"userid_4\", \"username\": \"Keith Farrar\", \"gender\": \"male\", \"age\": 50, \"picture_url\": \"../images/profile/Keith Farrar.png\"}], \"car\": [{\"carid\": \"car_11\", \"make\": \"Tesla\", \"year\": \"2019\", \"category\": \"EV\", \"model\": \"Model Y\", \"color\": \"Black\", \"pride\": 40000}]}"
        ],
        [
         "{\"user_profile\": [{\"userid\": \"userid_3\", \"username\": \"Owen Milford\", \"gender\": \"male\", \"age\": 30, \"picture_url\": \"../images/profile/Owen Milford.png\"}], \"car\": [{\"carid\": \"car_0\", \"make\": \"Honda\", \"year\": \"2020\", \"category\": \"Sedan\", \"model\": \"Accord\", \"color\": \"Black\", \"pride\": 14000}]}"
        ],
        [
         "{\"user_profile\": [{\"userid\": \"userid_3\", \"username\": \"Owen Milford\", \"gender\": \"male\", \"age\": 30, \"picture_url\": \"../images/profile/Owen Milford.png\"}], \"car\": [{\"carid\": \"car_9\", \"make\": \"Ram\", \"year\": \"2010\", \"category\": \"Truck\", \"model\": \"1500\", \"color\": \"Black\", \"pride\": 17000}]}"
        ],
        [
         "{\"user_profile\": [{\"userid\": \"userid_4\", \"username\": \"Keith Farrar\", \"gender\": \"male\", \"age\": 50, \"picture_url\": \"../images/profile/Keith Farrar.png\"}], \"car\": [{\"carid\": \"car_7\", \"make\": \"Chevrolet\", \"year\": \"2016\", \"category\": \"Truck\", \"model\": \"Silverado\", \"color\": \"White\", \"pride\": 17000}]}"
        ],
        [
         "{\"user_profile\": [{\"userid\": \"userid_2\", \"username\": \"Nathan Finley\", \"gender\": \"male\", \"age\": 20, \"picture_url\": \"../images/profile/Nathan Finley.png\"}], \"car\": [{\"carid\": \"car_8\", \"make\": \"Ford\", \"year\": \"2016\", \"category\": \"Truck\", \"model\": \"F-150\", \"color\": \"Brown\", \"pride\": 17000}]}"
        ],
        [
         "{\"user_profile\": [{\"userid\": \"userid_1\", \"username\": \"Jenna Bostwick\", \"gender\": \"female\", \"age\": 25, \"picture_url\": \"../images/profile/Jenna Bostwick.png\"}], \"car\": [{\"carid\": \"car_7\", \"make\": \"Chevrolet\", \"year\": \"2016\", \"category\": \"Truck\", \"model\": \"Silverado\", \"color\": \"White\", \"pride\": 17000}]}"
        ],
        [
         "{\"user_profile\": [{\"userid\": \"userid_4\", \"username\": \"Keith Farrar\", \"gender\": \"male\", \"age\": 50, \"picture_url\": \"../images/profile/Keith Farrar.png\"}], \"car\": [{\"carid\": \"car_5\", \"make\": \"Toyota\", \"year\": \"2015\", \"category\": \"SUV\", \"model\": \"RAV4\", \"color\": \"White\", \"pride\": 15000}]}"
        ],
        [
         "{\"user_profile\": [{\"userid\": \"userid_0\", \"username\": \"Maria Dandridge\", \"gender\": \"female\", \"age\": 20, \"picture_url\": \"../images/profile/Maria Dandridge.png\"}], \"car\": [{\"carid\": \"car_2\", \"make\": \"Nissan\", \"year\": \"2018\", \"category\": \"Sedan\", \"model\": \"Altima\", \"color\": \"Gold\", \"pride\": 13000}]}"
        ],
        [
         "{\"user_profile\": [{\"userid\": \"userid_4\", \"username\": \"Keith Farrar\", \"gender\": \"male\", \"age\": 50, \"picture_url\": \"../images/profile/Keith Farrar.png\"}], \"car\": [{\"carid\": \"car_3\", \"make\": \"Toyota\", \"year\": \"2012\", \"category\": \"Sedan\", \"model\": \"Camry\", \"color\": \"Silver\", \"pride\": 11000}]}"
        ],
        [
         "{\"user_profile\": [{\"userid\": \"userid_1\", \"username\": \"Jenna Bostwick\", \"gender\": \"female\", \"age\": 25, \"picture_url\": \"../images/profile/Jenna Bostwick.png\"}], \"car\": [{\"carid\": \"car_7\", \"make\": \"Chevrolet\", \"year\": \"2016\", \"category\": \"Truck\", \"model\": \"Silverado\", \"color\": \"White\", \"pride\": 17000}]}"
        ],
        [
         "{\"user_profile\": [{\"userid\": \"userid_2\", \"username\": \"Nathan Finley\", \"gender\": \"male\", \"age\": 20, \"picture_url\": \"../images/profile/Nathan Finley.png\"}], \"car\": [{\"carid\": \"car_0\", \"make\": \"Honda\", \"year\": \"2020\", \"category\": \"Sedan\", \"model\": \"Accord\", \"color\": \"Black\", \"pride\": 14000}]}"
        ],
        [
         "{\"user_profile\": [{\"userid\": \"userid_0\", \"username\": \"Maria Dandridge\", \"gender\": \"female\", \"age\": 20, \"picture_url\": \"../images/profile/Maria Dandridge.png\"}], \"car\": [{\"carid\": \"car_6\", \"make\": \"Nissan\", \"year\": \"2015\", \"category\": \"SUV\", \"model\": \"Rouge\", \"color\": \"Brown\", \"pride\": 15500}]}"
        ],
        [
         "{\"user_profile\": [{\"userid\": \"userid_0\", \"username\": \"Maria Dandridge\", \"gender\": \"female\", \"age\": 20, \"picture_url\": \"../images/profile/Maria Dandridge.png\"}], \"car\": [{\"carid\": \"car_5\", \"make\": \"Toyota\", \"year\": \"2015\", \"category\": \"SUV\", \"model\": \"RAV4\", \"color\": \"White\", \"pride\": 15000}]}"
        ],
        [
         "{\"user_profile\": [{\"userid\": \"userid_4\", \"username\": \"Keith Farrar\", \"gender\": \"male\", \"age\": 50, \"picture_url\": \"../images/profile/Keith Farrar.png\"}], \"car\": [{\"carid\": \"car_10\", \"make\": \"Ferarri\", \"year\": \"2015\", \"category\": \"SportCar\", \"model\": \"Spider\", \"color\": \"Red\", \"pride\": 70000}]}"
        ],
        [
         "{\"user_profile\": [{\"userid\": \"userid_0\", \"username\": \"Maria Dandridge\", \"gender\": \"female\", \"age\": 20, \"picture_url\": \"../images/profile/Maria Dandridge.png\"}], \"car\": [{\"carid\": \"car_6\", \"make\": \"Nissan\", \"year\": \"2015\", \"category\": \"SUV\", \"model\": \"Rouge\", \"color\": \"Brown\", \"pride\": 15500}]}"
        ],
        [
         "{\"user_profile\": [{\"userid\": \"userid_0\", \"username\": \"Maria Dandridge\", \"gender\": \"female\", \"age\": 20, \"picture_url\": \"../images/profile/Maria Dandridge.png\"}], \"car\": [{\"carid\": \"car_9\", \"make\": \"Ram\", \"year\": \"2010\", \"category\": \"Truck\", \"model\": \"1500\", \"color\": \"Black\", \"pride\": 17000}]}"
        ],
        [
         "{\"user_profile\": [{\"userid\": \"userid_3\", \"username\": \"Owen Milford\", \"gender\": \"male\", \"age\": 30, \"picture_url\": \"../images/profile/Owen Milford.png\"}], \"car\": [{\"carid\": \"car_5\", \"make\": \"Toyota\", \"year\": \"2015\", \"category\": \"SUV\", \"model\": \"RAV4\", \"color\": \"White\", \"pride\": 15000}]}"
        ],
        [
         "{\"user_profile\": [{\"userid\": \"userid_0\", \"username\": \"Maria Dandridge\", \"gender\": \"female\", \"age\": 20, \"picture_url\": \"../images/profile/Maria Dandridge.png\"}], \"car\": [{\"carid\": \"car_2\", \"make\": \"Nissan\", \"year\": \"2018\", \"category\": \"Sedan\", \"model\": \"Altima\", \"color\": \"Gold\", \"pride\": 13000}]}"
        ],
        [
         "{\"user_profile\": [{\"userid\": \"userid_4\", \"username\": \"Keith Farrar\", \"gender\": \"male\", \"age\": 50, \"picture_url\": \"../images/profile/Keith Farrar.png\"}], \"car\": [{\"carid\": \"car_3\", \"make\": \"Toyota\", \"year\": \"2012\", \"category\": \"Sedan\", \"model\": \"Camry\", \"color\": \"Silver\", \"pride\": 11000}]}"
        ],
        [
         "{\"user_profile\": [{\"userid\": \"userid_0\", \"username\": \"Maria Dandridge\", \"gender\": \"female\", \"age\": 20, \"picture_url\": \"../images/profile/Maria Dandridge.png\"}], \"car\": [{\"carid\": \"car_6\", \"make\": \"Nissan\", \"year\": \"2015\", \"category\": \"SUV\", \"model\": \"Rouge\", \"color\": \"Brown\", \"pride\": 15500}]}"
        ],
        [
         "{\"user_profile\": [{\"userid\": \"userid_1\", \"username\": \"Jenna Bostwick\", \"gender\": \"female\", \"age\": 25, \"picture_url\": \"../images/profile/Jenna Bostwick.png\"}], \"car\": [{\"carid\": \"car_11\", \"make\": \"Tesla\", \"year\": \"2019\", \"category\": \"EV\", \"model\": \"Model Y\", \"color\": \"Black\", \"pride\": 40000}]}"
        ],
        [
         "{\"user_profile\": [{\"userid\": \"userid_0\", \"username\": \"Maria Dandridge\", \"gender\": \"female\", \"age\": 20, \"picture_url\": \"../images/profile/Maria Dandridge.png\"}], \"car\": [{\"carid\": \"car_8\", \"make\": \"Ford\", \"year\": \"2016\", \"category\": \"Truck\", \"model\": \"F-150\", \"color\": \"Brown\", \"pride\": 17000}]}"
        ],
        [
         "{\"user_profile\": [{\"userid\": \"userid_3\", \"username\": \"Owen Milford\", \"gender\": \"male\", \"age\": 30, \"picture_url\": \"../images/profile/Owen Milford.png\"}], \"car\": [{\"carid\": \"car_1\", \"make\": \"Hyundai\", \"year\": \"2017\", \"category\": \"Sedan\", \"model\": \"Sonata\", \"color\": \"Gray\", \"pride\": 14000}]}"
        ],
        [
         "{\"user_profile\": [{\"userid\": \"userid_4\", \"username\": \"Keith Farrar\", \"gender\": \"male\", \"age\": 50, \"picture_url\": \"../images/profile/Keith Farrar.png\"}], \"car\": [{\"carid\": \"car_7\", \"make\": \"Chevrolet\", \"year\": \"2016\", \"category\": \"Truck\", \"model\": \"Silverado\", \"color\": \"White\", \"pride\": 17000}]}"
        ],
        [
         "{\"user_profile\": [{\"userid\": \"userid_1\", \"username\": \"Jenna Bostwick\", \"gender\": \"female\", \"age\": 25, \"picture_url\": \"../images/profile/Jenna Bostwick.png\"}], \"car\": [{\"carid\": \"car_4\", \"make\": \"Honda\", \"year\": \"2013\", \"category\": \"SVU\", \"model\": \"CR-V\", \"color\": \"Brown\", \"pride\": 11000}]}"
        ],
        [
         "{\"user_profile\": [{\"userid\": \"userid_4\", \"username\": \"Keith Farrar\", \"gender\": \"male\", \"age\": 50, \"picture_url\": \"../images/profile/Keith Farrar.png\"}], \"car\": [{\"carid\": \"car_5\", \"make\": \"Toyota\", \"year\": \"2015\", \"category\": \"SUV\", \"model\": \"RAV4\", \"color\": \"White\", \"pride\": 15000}]}"
        ],
        [
         "{\"user_profile\": [{\"userid\": \"userid_1\", \"username\": \"Jenna Bostwick\", \"gender\": \"female\", \"age\": 25, \"picture_url\": \"../images/profile/Jenna Bostwick.png\"}], \"car\": [{\"carid\": \"car_9\", \"make\": \"Ram\", \"year\": \"2010\", \"category\": \"Truck\", \"model\": \"1500\", \"color\": \"Black\", \"pride\": 17000}]}"
        ],
        [
         "{\"user_profile\": [{\"userid\": \"userid_3\", \"username\": \"Owen Milford\", \"gender\": \"male\", \"age\": 30, \"picture_url\": \"../images/profile/Owen Milford.png\"}], \"car\": [{\"carid\": \"car_5\", \"make\": \"Toyota\", \"year\": \"2015\", \"category\": \"SUV\", \"model\": \"RAV4\", \"color\": \"White\", \"pride\": 15000}]}"
        ],
        [
         "{\"user_profile\": [{\"userid\": \"userid_2\", \"username\": \"Nathan Finley\", \"gender\": \"male\", \"age\": 20, \"picture_url\": \"../images/profile/Nathan Finley.png\"}], \"car\": [{\"carid\": \"car_3\", \"make\": \"Toyota\", \"year\": \"2012\", \"category\": \"Sedan\", \"model\": \"Camry\", \"color\": \"Silver\", \"pride\": 11000}]}"
        ],
        [
         "{\"user_profile\": [{\"userid\": \"userid_1\", \"username\": \"Jenna Bostwick\", \"gender\": \"female\", \"age\": 25, \"picture_url\": \"../images/profile/Jenna Bostwick.png\"}], \"car\": [{\"carid\": \"car_9\", \"make\": \"Ram\", \"year\": \"2010\", \"category\": \"Truck\", \"model\": \"1500\", \"color\": \"Black\", \"pride\": 17000}]}"
        ],
        [
         "{\"user_profile\": [{\"userid\": \"userid_1\", \"username\": \"Jenna Bostwick\", \"gender\": \"female\", \"age\": 25, \"picture_url\": \"../images/profile/Jenna Bostwick.png\"}], \"car\": [{\"carid\": \"car_3\", \"make\": \"Toyota\", \"year\": \"2012\", \"category\": \"Sedan\", \"model\": \"Camry\", \"color\": \"Silver\", \"pride\": 11000}]}"
        ],
        [
         "{\"user_profile\": [{\"userid\": \"userid_4\", \"username\": \"Keith Farrar\", \"gender\": \"male\", \"age\": 50, \"picture_url\": \"../images/profile/Keith Farrar.png\"}], \"car\": [{\"carid\": \"car_9\", \"make\": \"Ram\", \"year\": \"2010\", \"category\": \"Truck\", \"model\": \"1500\", \"color\": \"Black\", \"pride\": 17000}]}"
        ],
        [
         "{\"user_profile\": [{\"userid\": \"userid_0\", \"username\": \"Maria Dandridge\", \"gender\": \"female\", \"age\": 20, \"picture_url\": \"../images/profile/Maria Dandridge.png\"}], \"car\": [{\"carid\": \"car_4\", \"make\": \"Honda\", \"year\": \"2013\", \"category\": \"SVU\", \"model\": \"CR-V\", \"color\": \"Brown\", \"pride\": 11000}]}"
        ],
        [
         "{\"user_profile\": [{\"userid\": \"userid_3\", \"username\": \"Owen Milford\", \"gender\": \"male\", \"age\": 30, \"picture_url\": \"../images/profile/Owen Milford.png\"}], \"car\": [{\"carid\": \"car_0\", \"make\": \"Honda\", \"year\": \"2020\", \"category\": \"Sedan\", \"model\": \"Accord\", \"color\": \"Black\", \"pride\": 14000}]}"
        ],
        [
         "{\"user_profile\": [{\"userid\": \"userid_0\", \"username\": \"Maria Dandridge\", \"gender\": \"female\", \"age\": 20, \"picture_url\": \"../images/profile/Maria Dandridge.png\"}], \"car\": [{\"carid\": \"car_4\", \"make\": \"Honda\", \"year\": \"2013\", \"category\": \"SVU\", \"model\": \"CR-V\", \"color\": \"Brown\", \"pride\": 11000}]}"
        ],
        [
         "{\"user_profile\": [{\"userid\": \"userid_4\", \"username\": \"Keith Farrar\", \"gender\": \"male\", \"age\": 50, \"picture_url\": \"../images/profile/Keith Farrar.png\"}], \"car\": [{\"carid\": \"car_11\", \"make\": \"Tesla\", \"year\": \"2019\", \"category\": \"EV\", \"model\": \"Model Y\", \"color\": \"Black\", \"pride\": 40000}]}"
        ],
        [
         "{\"user_profile\": [{\"userid\": \"userid_1\", \"username\": \"Jenna Bostwick\", \"gender\": \"female\", \"age\": 25, \"picture_url\": \"../images/profile/Jenna Bostwick.png\"}], \"car\": [{\"carid\": \"car_10\", \"make\": \"Ferarri\", \"year\": \"2015\", \"category\": \"SportCar\", \"model\": \"Spider\", \"color\": \"Red\", \"pride\": 70000}]}"
        ],
        [
         "{\"user_profile\": [{\"userid\": \"userid_3\", \"username\": \"Owen Milford\", \"gender\": \"male\", \"age\": 30, \"picture_url\": \"../images/profile/Owen Milford.png\"}], \"car\": [{\"carid\": \"car_4\", \"make\": \"Honda\", \"year\": \"2013\", \"category\": \"SVU\", \"model\": \"CR-V\", \"color\": \"Brown\", \"pride\": 11000}]}"
        ],
        [
         "{\"user_profile\": [{\"userid\": \"userid_2\", \"username\": \"Nathan Finley\", \"gender\": \"male\", \"age\": 20, \"picture_url\": \"../images/profile/Nathan Finley.png\"}], \"car\": [{\"carid\": \"car_0\", \"make\": \"Honda\", \"year\": \"2020\", \"category\": \"Sedan\", \"model\": \"Accord\", \"color\": \"Black\", \"pride\": 14000}]}"
        ],
        [
         "{\"user_profile\": [{\"userid\": \"userid_3\", \"username\": \"Owen Milford\", \"gender\": \"male\", \"age\": 30, \"picture_url\": \"../images/profile/Owen Milford.png\"}], \"car\": [{\"carid\": \"car_11\", \"make\": \"Tesla\", \"year\": \"2019\", \"category\": \"EV\", \"model\": \"Model Y\", \"color\": \"Black\", \"pride\": 40000}]}"
        ],
        [
         "{\"user_profile\": [{\"userid\": \"userid_4\", \"username\": \"Keith Farrar\", \"gender\": \"male\", \"age\": 50, \"picture_url\": \"../images/profile/Keith Farrar.png\"}], \"car\": [{\"carid\": \"car_10\", \"make\": \"Ferarri\", \"year\": \"2015\", \"category\": \"SportCar\", \"model\": \"Spider\", \"color\": \"Red\", \"pride\": 70000}]}"
        ],
        [
         "{\"user_profile\": [{\"userid\": \"userid_2\", \"username\": \"Nathan Finley\", \"gender\": \"male\", \"age\": 20, \"picture_url\": \"../images/profile/Nathan Finley.png\"}], \"car\": [{\"carid\": \"car_11\", \"make\": \"Tesla\", \"year\": \"2019\", \"category\": \"EV\", \"model\": \"Model Y\", \"color\": \"Black\", \"pride\": 40000}]}"
        ],
        [
         "{\"user_profile\": [{\"userid\": \"userid_3\", \"username\": \"Owen Milford\", \"gender\": \"male\", \"age\": 30, \"picture_url\": \"../images/profile/Owen Milford.png\"}], \"car\": [{\"carid\": \"car_9\", \"make\": \"Ram\", \"year\": \"2010\", \"category\": \"Truck\", \"model\": \"1500\", \"color\": \"Black\", \"pride\": 17000}]}"
        ],
        [
         "{\"user_profile\": [{\"userid\": \"userid_1\", \"username\": \"Jenna Bostwick\", \"gender\": \"female\", \"age\": 25, \"picture_url\": \"../images/profile/Jenna Bostwick.png\"}], \"car\": [{\"carid\": \"car_4\", \"make\": \"Honda\", \"year\": \"2013\", \"category\": \"SVU\", \"model\": \"CR-V\", \"color\": \"Brown\", \"pride\": 11000}]}"
        ],
        [
         "{\"user_profile\": [{\"userid\": \"userid_3\", \"username\": \"Owen Milford\", \"gender\": \"male\", \"age\": 30, \"picture_url\": \"../images/profile/Owen Milford.png\"}], \"car\": [{\"carid\": \"car_1\", \"make\": \"Hyundai\", \"year\": \"2017\", \"category\": \"Sedan\", \"model\": \"Sonata\", \"color\": \"Gray\", \"pride\": 14000}]}"
        ],
        [
         "{\"user_profile\": [{\"userid\": \"userid_1\", \"username\": \"Jenna Bostwick\", \"gender\": \"female\", \"age\": 25, \"picture_url\": \"../images/profile/Jenna Bostwick.png\"}], \"car\": [{\"carid\": \"car_8\", \"make\": \"Ford\", \"year\": \"2016\", \"category\": \"Truck\", \"model\": \"F-150\", \"color\": \"Brown\", \"pride\": 17000}]}"
        ],
        [
         "{\"user_profile\": [{\"userid\": \"userid_0\", \"username\": \"Maria Dandridge\", \"gender\": \"female\", \"age\": 20, \"picture_url\": \"../images/profile/Maria Dandridge.png\"}], \"car\": [{\"carid\": \"car_7\", \"make\": \"Chevrolet\", \"year\": \"2016\", \"category\": \"Truck\", \"model\": \"Silverado\", \"color\": \"White\", \"pride\": 17000}]}"
        ],
        [
         "{\"user_profile\": [{\"userid\": \"userid_4\", \"username\": \"Keith Farrar\", \"gender\": \"male\", \"age\": 50, \"picture_url\": \"../images/profile/Keith Farrar.png\"}], \"car\": [{\"carid\": \"car_9\", \"make\": \"Ram\", \"year\": \"2010\", \"category\": \"Truck\", \"model\": \"1500\", \"color\": \"Black\", \"pride\": 17000}]}"
        ],
        [
         "{\"user_profile\": [{\"userid\": \"userid_0\", \"username\": \"Maria Dandridge\", \"gender\": \"female\", \"age\": 20, \"picture_url\": \"../images/profile/Maria Dandridge.png\"}], \"car\": [{\"carid\": \"car_1\", \"make\": \"Hyundai\", \"year\": \"2017\", \"category\": \"Sedan\", \"model\": \"Sonata\", \"color\": \"Gray\", \"pride\": 14000}]}"
        ],
        [
         "{\"user_profile\": [{\"userid\": \"userid_4\", \"username\": \"Keith Farrar\", \"gender\": \"male\", \"age\": 50, \"picture_url\": \"../images/profile/Keith Farrar.png\"}], \"car\": [{\"carid\": \"car_3\", \"make\": \"Toyota\", \"year\": \"2012\", \"category\": \"Sedan\", \"model\": \"Camry\", \"color\": \"Silver\", \"pride\": 11000}]}"
        ],
        [
         "{\"user_profile\": [{\"userid\": \"userid_0\", \"username\": \"Maria Dandridge\", \"gender\": \"female\", \"age\": 20, \"picture_url\": \"../images/profile/Maria Dandridge.png\"}], \"car\": [{\"carid\": \"car_9\", \"make\": \"Ram\", \"year\": \"2010\", \"category\": \"Truck\", \"model\": \"1500\", \"color\": \"Black\", \"pride\": 17000}]}"
        ],
        [
         "{\"user_profile\": [{\"userid\": \"userid_0\", \"username\": \"Maria Dandridge\", \"gender\": \"female\", \"age\": 20, \"picture_url\": \"../images/profile/Maria Dandridge.png\"}], \"car\": [{\"carid\": \"car_2\", \"make\": \"Nissan\", \"year\": \"2018\", \"category\": \"Sedan\", \"model\": \"Altima\", \"color\": \"Gold\", \"pride\": 13000}]}"
        ],
        [
         "{\"user_profile\": [{\"userid\": \"userid_4\", \"username\": \"Keith Farrar\", \"gender\": \"male\", \"age\": 50, \"picture_url\": \"../images/profile/Keith Farrar.png\"}], \"car\": [{\"carid\": \"car_2\", \"make\": \"Nissan\", \"year\": \"2018\", \"category\": \"Sedan\", \"model\": \"Altima\", \"color\": \"Gold\", \"pride\": 13000}]}"
        ],
        [
         "{\"user_profile\": [{\"userid\": \"userid_4\", \"username\": \"Keith Farrar\", \"gender\": \"male\", \"age\": 50, \"picture_url\": \"../images/profile/Keith Farrar.png\"}], \"car\": [{\"carid\": \"car_9\", \"make\": \"Ram\", \"year\": \"2010\", \"category\": \"Truck\", \"model\": \"1500\", \"color\": \"Black\", \"pride\": 17000}]}"
        ],
        [
         "{\"user_profile\": [{\"userid\": \"userid_0\", \"username\": \"Maria Dandridge\", \"gender\": \"female\", \"age\": 20, \"picture_url\": \"../images/profile/Maria Dandridge.png\"}], \"car\": [{\"carid\": \"car_6\", \"make\": \"Nissan\", \"year\": \"2015\", \"category\": \"SUV\", \"model\": \"Rouge\", \"color\": \"Brown\", \"pride\": 15500}]}"
        ],
        [
         "{\"user_profile\": [{\"userid\": \"userid_4\", \"username\": \"Keith Farrar\", \"gender\": \"male\", \"age\": 50, \"picture_url\": \"../images/profile/Keith Farrar.png\"}], \"car\": [{\"carid\": \"car_10\", \"make\": \"Ferarri\", \"year\": \"2015\", \"category\": \"SportCar\", \"model\": \"Spider\", \"color\": \"Red\", \"pride\": 70000}]}"
        ],
        [
         "{\"user_profile\": [{\"userid\": \"userid_1\", \"username\": \"Jenna Bostwick\", \"gender\": \"female\", \"age\": 25, \"picture_url\": \"../images/profile/Jenna Bostwick.png\"}], \"car\": [{\"carid\": \"car_7\", \"make\": \"Chevrolet\", \"year\": \"2016\", \"category\": \"Truck\", \"model\": \"Silverado\", \"color\": \"White\", \"pride\": 17000}]}"
        ],
        [
         "{\"user_profile\": [{\"userid\": \"userid_0\", \"username\": \"Maria Dandridge\", \"gender\": \"female\", \"age\": 20, \"picture_url\": \"../images/profile/Maria Dandridge.png\"}], \"car\": [{\"carid\": \"car_4\", \"make\": \"Honda\", \"year\": \"2013\", \"category\": \"SVU\", \"model\": \"CR-V\", \"color\": \"Brown\", \"pride\": 11000}]}"
        ],
        [
         "{\"user_profile\": [{\"userid\": \"userid_0\", \"username\": \"Maria Dandridge\", \"gender\": \"female\", \"age\": 20, \"picture_url\": \"../images/profile/Maria Dandridge.png\"}], \"car\": [{\"carid\": \"car_11\", \"make\": \"Tesla\", \"year\": \"2019\", \"category\": \"EV\", \"model\": \"Model Y\", \"color\": \"Black\", \"pride\": 40000}]}"
        ],
        [
         "{\"user_profile\": [{\"userid\": \"userid_4\", \"username\": \"Keith Farrar\", \"gender\": \"male\", \"age\": 50, \"picture_url\": \"../images/profile/Keith Farrar.png\"}], \"car\": [{\"carid\": \"car_3\", \"make\": \"Toyota\", \"year\": \"2012\", \"category\": \"Sedan\", \"model\": \"Camry\", \"color\": \"Silver\", \"pride\": 11000}]}"
        ],
        [
         "{\"user_profile\": [{\"userid\": \"userid_1\", \"username\": \"Jenna Bostwick\", \"gender\": \"female\", \"age\": 25, \"picture_url\": \"../images/profile/Jenna Bostwick.png\"}], \"car\": [{\"carid\": \"car_6\", \"make\": \"Nissan\", \"year\": \"2015\", \"category\": \"SUV\", \"model\": \"Rouge\", \"color\": \"Brown\", \"pride\": 15500}]}"
        ],
        [
         "{\"user_profile\": [{\"userid\": \"userid_3\", \"username\": \"Owen Milford\", \"gender\": \"male\", \"age\": 30, \"picture_url\": \"../images/profile/Owen Milford.png\"}], \"car\": [{\"carid\": \"car_10\", \"make\": \"Ferarri\", \"year\": \"2015\", \"category\": \"SportCar\", \"model\": \"Spider\", \"color\": \"Red\", \"pride\": 70000}]}"
        ],
        [
         "{\"user_profile\": [{\"userid\": \"userid_4\", \"username\": \"Keith Farrar\", \"gender\": \"male\", \"age\": 50, \"picture_url\": \"../images/profile/Keith Farrar.png\"}], \"car\": [{\"carid\": \"car_9\", \"make\": \"Ram\", \"year\": \"2010\", \"category\": \"Truck\", \"model\": \"1500\", \"color\": \"Black\", \"pride\": 17000}]}"
        ],
        [
         "{\"user_profile\": [{\"userid\": \"userid_3\", \"username\": \"Owen Milford\", \"gender\": \"male\", \"age\": 30, \"picture_url\": \"../images/profile/Owen Milford.png\"}], \"car\": [{\"carid\": \"car_3\", \"make\": \"Toyota\", \"year\": \"2012\", \"category\": \"Sedan\", \"model\": \"Camry\", \"color\": \"Silver\", \"pride\": 11000}]}"
        ],
        [
         "{\"user_profile\": [{\"userid\": \"userid_3\", \"username\": \"Owen Milford\", \"gender\": \"male\", \"age\": 30, \"picture_url\": \"../images/profile/Owen Milford.png\"}], \"car\": [{\"carid\": \"car_9\", \"make\": \"Ram\", \"year\": \"2010\", \"category\": \"Truck\", \"model\": \"1500\", \"color\": \"Black\", \"pride\": 17000}]}"
        ],
        [
         "{\"user_profile\": [{\"userid\": \"userid_0\", \"username\": \"Maria Dandridge\", \"gender\": \"female\", \"age\": 20, \"picture_url\": \"../images/profile/Maria Dandridge.png\"}], \"car\": [{\"carid\": \"car_0\", \"make\": \"Honda\", \"year\": \"2020\", \"category\": \"Sedan\", \"model\": \"Accord\", \"color\": \"Black\", \"pride\": 14000}]}"
        ],
        [
         "{\"user_profile\": [{\"userid\": \"userid_0\", \"username\": \"Maria Dandridge\", \"gender\": \"female\", \"age\": 20, \"picture_url\": \"../images/profile/Maria Dandridge.png\"}], \"car\": [{\"carid\": \"car_5\", \"make\": \"Toyota\", \"year\": \"2015\", \"category\": \"SUV\", \"model\": \"RAV4\", \"color\": \"White\", \"pride\": 15000}]}"
        ],
        [
         "{\"user_profile\": [{\"userid\": \"userid_4\", \"username\": \"Keith Farrar\", \"gender\": \"male\", \"age\": 50, \"picture_url\": \"../images/profile/Keith Farrar.png\"}], \"car\": [{\"carid\": \"car_1\", \"make\": \"Hyundai\", \"year\": \"2017\", \"category\": \"Sedan\", \"model\": \"Sonata\", \"color\": \"Gray\", \"pride\": 14000}]}"
        ],
        [
         "{\"user_profile\": [{\"userid\": \"userid_2\", \"username\": \"Nathan Finley\", \"gender\": \"male\", \"age\": 20, \"picture_url\": \"../images/profile/Nathan Finley.png\"}], \"car\": [{\"carid\": \"car_1\", \"make\": \"Hyundai\", \"year\": \"2017\", \"category\": \"Sedan\", \"model\": \"Sonata\", \"color\": \"Gray\", \"pride\": 14000}]}"
        ],
        [
         "{\"user_profile\": [{\"userid\": \"userid_2\", \"username\": \"Nathan Finley\", \"gender\": \"male\", \"age\": 20, \"picture_url\": \"../images/profile/Nathan Finley.png\"}], \"car\": [{\"carid\": \"car_10\", \"make\": \"Ferarri\", \"year\": \"2015\", \"category\": \"SportCar\", \"model\": \"Spider\", \"color\": \"Red\", \"pride\": 70000}]}"
        ],
        [
         "{\"user_profile\": [{\"userid\": \"userid_4\", \"username\": \"Keith Farrar\", \"gender\": \"male\", \"age\": 50, \"picture_url\": \"../images/profile/Keith Farrar.png\"}], \"car\": [{\"carid\": \"car_11\", \"make\": \"Tesla\", \"year\": \"2019\", \"category\": \"EV\", \"model\": \"Model Y\", \"color\": \"Black\", \"pride\": 40000}]}"
        ],
        [
         "{\"user_profile\": [{\"userid\": \"userid_0\", \"username\": \"Maria Dandridge\", \"gender\": \"female\", \"age\": 20, \"picture_url\": \"../images/profile/Maria Dandridge.png\"}], \"car\": [{\"carid\": \"car_1\", \"make\": \"Hyundai\", \"year\": \"2017\", \"category\": \"Sedan\", \"model\": \"Sonata\", \"color\": \"Gray\", \"pride\": 14000}]}"
        ],
        [
         "{\"user_profile\": [{\"userid\": \"userid_4\", \"username\": \"Keith Farrar\", \"gender\": \"male\", \"age\": 50, \"picture_url\": \"../images/profile/Keith Farrar.png\"}], \"car\": [{\"carid\": \"car_10\", \"make\": \"Ferarri\", \"year\": \"2015\", \"category\": \"SportCar\", \"model\": \"Spider\", \"color\": \"Red\", \"pride\": 70000}]}"
        ],
        [
         "{\"user_profile\": [{\"userid\": \"userid_1\", \"username\": \"Jenna Bostwick\", \"gender\": \"female\", \"age\": 25, \"picture_url\": \"../images/profile/Jenna Bostwick.png\"}], \"car\": [{\"carid\": \"car_3\", \"make\": \"Toyota\", \"year\": \"2012\", \"category\": \"Sedan\", \"model\": \"Camry\", \"color\": \"Silver\", \"pride\": 11000}]}"
        ],
        [
         "{\"user_profile\": [{\"userid\": \"userid_0\", \"username\": \"Maria Dandridge\", \"gender\": \"female\", \"age\": 20, \"picture_url\": \"../images/profile/Maria Dandridge.png\"}], \"car\": [{\"carid\": \"car_3\", \"make\": \"Toyota\", \"year\": \"2012\", \"category\": \"Sedan\", \"model\": \"Camry\", \"color\": \"Silver\", \"pride\": 11000}]}"
        ],
        [
         "{\"user_profile\": [{\"userid\": \"userid_0\", \"username\": \"Maria Dandridge\", \"gender\": \"female\", \"age\": 20, \"picture_url\": \"../images/profile/Maria Dandridge.png\"}], \"car\": [{\"carid\": \"car_0\", \"make\": \"Honda\", \"year\": \"2020\", \"category\": \"Sedan\", \"model\": \"Accord\", \"color\": \"Black\", \"pride\": 14000}]}"
        ],
        [
         "{\"user_profile\": [{\"userid\": \"userid_0\", \"username\": \"Maria Dandridge\", \"gender\": \"female\", \"age\": 20, \"picture_url\": \"../images/profile/Maria Dandridge.png\"}], \"car\": [{\"carid\": \"car_1\", \"make\": \"Hyundai\", \"year\": \"2017\", \"category\": \"Sedan\", \"model\": \"Sonata\", \"color\": \"Gray\", \"pride\": 14000}]}"
        ],
        [
         "{\"user_profile\": [{\"userid\": \"userid_0\", \"username\": \"Maria Dandridge\", \"gender\": \"female\", \"age\": 20, \"picture_url\": \"../images/profile/Maria Dandridge.png\"}], \"car\": [{\"carid\": \"car_0\", \"make\": \"Honda\", \"year\": \"2020\", \"category\": \"Sedan\", \"model\": \"Accord\", \"color\": \"Black\", \"pride\": 14000}]}"
        ],
        [
         "{\"user_profile\": [{\"userid\": \"userid_1\", \"username\": \"Jenna Bostwick\", \"gender\": \"female\", \"age\": 25, \"picture_url\": \"../images/profile/Jenna Bostwick.png\"}], \"car\": [{\"carid\": \"car_5\", \"make\": \"Toyota\", \"year\": \"2015\", \"category\": \"SUV\", \"model\": \"RAV4\", \"color\": \"White\", \"pride\": 15000}]}"
        ],
        [
         "{\"user_profile\": [{\"userid\": \"userid_2\", \"username\": \"Nathan Finley\", \"gender\": \"male\", \"age\": 20, \"picture_url\": \"../images/profile/Nathan Finley.png\"}], \"car\": [{\"carid\": \"car_0\", \"make\": \"Honda\", \"year\": \"2020\", \"category\": \"Sedan\", \"model\": \"Accord\", \"color\": \"Black\", \"pride\": 14000}]}"
        ],
        [
         "{\"user_profile\": [{\"userid\": \"userid_1\", \"username\": \"Jenna Bostwick\", \"gender\": \"female\", \"age\": 25, \"picture_url\": \"../images/profile/Jenna Bostwick.png\"}], \"car\": [{\"carid\": \"car_6\", \"make\": \"Nissan\", \"year\": \"2015\", \"category\": \"SUV\", \"model\": \"Rouge\", \"color\": \"Brown\", \"pride\": 15500}]}"
        ],
        [
         "{\"user_profile\": [{\"userid\": \"userid_2\", \"username\": \"Nathan Finley\", \"gender\": \"male\", \"age\": 20, \"picture_url\": \"../images/profile/Nathan Finley.png\"}], \"car\": [{\"carid\": \"car_10\", \"make\": \"Ferarri\", \"year\": \"2015\", \"category\": \"SportCar\", \"model\": \"Spider\", \"color\": \"Red\", \"pride\": 70000}]}"
        ],
        [
         "{\"user_profile\": [{\"userid\": \"userid_0\", \"username\": \"Maria Dandridge\", \"gender\": \"female\", \"age\": 20, \"picture_url\": \"../images/profile/Maria Dandridge.png\"}], \"car\": [{\"carid\": \"car_8\", \"make\": \"Ford\", \"year\": \"2016\", \"category\": \"Truck\", \"model\": \"F-150\", \"color\": \"Brown\", \"pride\": 17000}]}"
        ],
        [
         "{\"user_profile\": [{\"userid\": \"userid_2\", \"username\": \"Nathan Finley\", \"gender\": \"male\", \"age\": 20, \"picture_url\": \"../images/profile/Nathan Finley.png\"}], \"car\": [{\"carid\": \"car_2\", \"make\": \"Nissan\", \"year\": \"2018\", \"category\": \"Sedan\", \"model\": \"Altima\", \"color\": \"Gold\", \"pride\": 13000}]}"
        ],
        [
         "{\"user_profile\": [{\"userid\": \"userid_3\", \"username\": \"Owen Milford\", \"gender\": \"male\", \"age\": 30, \"picture_url\": \"../images/profile/Owen Milford.png\"}], \"car\": [{\"carid\": \"car_9\", \"make\": \"Ram\", \"year\": \"2010\", \"category\": \"Truck\", \"model\": \"1500\", \"color\": \"Black\", \"pride\": 17000}]}"
        ],
        [
         "{\"user_profile\": [{\"userid\": \"userid_0\", \"username\": \"Maria Dandridge\", \"gender\": \"female\", \"age\": 20, \"picture_url\": \"../images/profile/Maria Dandridge.png\"}], \"car\": [{\"carid\": \"car_4\", \"make\": \"Honda\", \"year\": \"2013\", \"category\": \"SVU\", \"model\": \"CR-V\", \"color\": \"Brown\", \"pride\": 11000}]}"
        ],
        [
         "{\"user_profile\": [{\"userid\": \"userid_4\", \"username\": \"Keith Farrar\", \"gender\": \"male\", \"age\": 50, \"picture_url\": \"../images/profile/Keith Farrar.png\"}], \"car\": [{\"carid\": \"car_3\", \"make\": \"Toyota\", \"year\": \"2012\", \"category\": \"Sedan\", \"model\": \"Camry\", \"color\": \"Silver\", \"pride\": 11000}]}"
        ],
        [
         "{\"user_profile\": [{\"userid\": \"userid_2\", \"username\": \"Nathan Finley\", \"gender\": \"male\", \"age\": 20, \"picture_url\": \"../images/profile/Nathan Finley.png\"}], \"car\": [{\"carid\": \"car_0\", \"make\": \"Honda\", \"year\": \"2020\", \"category\": \"Sedan\", \"model\": \"Accord\", \"color\": \"Black\", \"pride\": 14000}]}"
        ],
        [
         "{\"user_profile\": [{\"userid\": \"userid_1\", \"username\": \"Jenna Bostwick\", \"gender\": \"female\", \"age\": 25, \"picture_url\": \"../images/profile/Jenna Bostwick.png\"}], \"car\": [{\"carid\": \"car_5\", \"make\": \"Toyota\", \"year\": \"2015\", \"category\": \"SUV\", \"model\": \"RAV4\", \"color\": \"White\", \"pride\": 15000}]}"
        ],
        [
         "{\"user_profile\": [{\"userid\": \"userid_3\", \"username\": \"Owen Milford\", \"gender\": \"male\", \"age\": 30, \"picture_url\": \"../images/profile/Owen Milford.png\"}], \"car\": [{\"carid\": \"car_1\", \"make\": \"Hyundai\", \"year\": \"2017\", \"category\": \"Sedan\", \"model\": \"Sonata\", \"color\": \"Gray\", \"pride\": 14000}]}"
        ],
        [
         "{\"user_profile\": [{\"userid\": \"userid_3\", \"username\": \"Owen Milford\", \"gender\": \"male\", \"age\": 30, \"picture_url\": \"../images/profile/Owen Milford.png\"}], \"car\": [{\"carid\": \"car_4\", \"make\": \"Honda\", \"year\": \"2013\", \"category\": \"SVU\", \"model\": \"CR-V\", \"color\": \"Brown\", \"pride\": 11000}]}"
        ],
        [
         "{\"user_profile\": [{\"userid\": \"userid_0\", \"username\": \"Maria Dandridge\", \"gender\": \"female\", \"age\": 20, \"picture_url\": \"../images/profile/Maria Dandridge.png\"}], \"car\": [{\"carid\": \"car_10\", \"make\": \"Ferarri\", \"year\": \"2015\", \"category\": \"SportCar\", \"model\": \"Spider\", \"color\": \"Red\", \"pride\": 70000}]}"
        ],
        [
         "{\"user_profile\": [{\"userid\": \"userid_2\", \"username\": \"Nathan Finley\", \"gender\": \"male\", \"age\": 20, \"picture_url\": \"../images/profile/Nathan Finley.png\"}], \"car\": [{\"carid\": \"car_2\", \"make\": \"Nissan\", \"year\": \"2018\", \"category\": \"Sedan\", \"model\": \"Altima\", \"color\": \"Gold\", \"pride\": 13000}]}"
        ],
        [
         "{\"user_profile\": [{\"userid\": \"userid_4\", \"username\": \"Keith Farrar\", \"gender\": \"male\", \"age\": 50, \"picture_url\": \"../images/profile/Keith Farrar.png\"}], \"car\": [{\"carid\": \"car_2\", \"make\": \"Nissan\", \"year\": \"2018\", \"category\": \"Sedan\", \"model\": \"Altima\", \"color\": \"Gold\", \"pride\": 13000}]}"
        ],
        [
         "{\"user_profile\": [{\"userid\": \"userid_2\", \"username\": \"Nathan Finley\", \"gender\": \"male\", \"age\": 20, \"picture_url\": \"../images/profile/Nathan Finley.png\"}], \"car\": [{\"carid\": \"car_3\", \"make\": \"Toyota\", \"year\": \"2012\", \"category\": \"Sedan\", \"model\": \"Camry\", \"color\": \"Silver\", \"pride\": 11000}]}"
        ],
        [
         "{\"user_profile\": [{\"userid\": \"userid_2\", \"username\": \"Nathan Finley\", \"gender\": \"male\", \"age\": 20, \"picture_url\": \"../images/profile/Nathan Finley.png\"}], \"car\": [{\"carid\": \"car_9\", \"make\": \"Ram\", \"year\": \"2010\", \"category\": \"Truck\", \"model\": \"1500\", \"color\": \"Black\", \"pride\": 17000}]}"
        ],
        [
         "{\"user_profile\": [{\"userid\": \"userid_4\", \"username\": \"Keith Farrar\", \"gender\": \"male\", \"age\": 50, \"picture_url\": \"../images/profile/Keith Farrar.png\"}], \"car\": [{\"carid\": \"car_6\", \"make\": \"Nissan\", \"year\": \"2015\", \"category\": \"SUV\", \"model\": \"Rouge\", \"color\": \"Brown\", \"pride\": 15500}]}"
        ],
        [
         "{\"user_profile\": [{\"userid\": \"userid_3\", \"username\": \"Owen Milford\", \"gender\": \"male\", \"age\": 30, \"picture_url\": \"../images/profile/Owen Milford.png\"}], \"car\": [{\"carid\": \"car_7\", \"make\": \"Chevrolet\", \"year\": \"2016\", \"category\": \"Truck\", \"model\": \"Silverado\", \"color\": \"White\", \"pride\": 17000}]}"
        ],
        [
         "{\"user_profile\": [{\"userid\": \"userid_2\", \"username\": \"Nathan Finley\", \"gender\": \"male\", \"age\": 20, \"picture_url\": \"../images/profile/Nathan Finley.png\"}], \"car\": [{\"carid\": \"car_10\", \"make\": \"Ferarri\", \"year\": \"2015\", \"category\": \"SportCar\", \"model\": \"Spider\", \"color\": \"Red\", \"pride\": 70000}]}"
        ],
        [
         "{\"user_profile\": [{\"userid\": \"userid_0\", \"username\": \"Maria Dandridge\", \"gender\": \"female\", \"age\": 20, \"picture_url\": \"../images/profile/Maria Dandridge.png\"}], \"car\": [{\"carid\": \"car_3\", \"make\": \"Toyota\", \"year\": \"2012\", \"category\": \"Sedan\", \"model\": \"Camry\", \"color\": \"Silver\", \"pride\": 11000}]}"
        ],
        [
         "{\"user_profile\": [{\"userid\": \"userid_3\", \"username\": \"Owen Milford\", \"gender\": \"male\", \"age\": 30, \"picture_url\": \"../images/profile/Owen Milford.png\"}], \"car\": [{\"carid\": \"car_11\", \"make\": \"Tesla\", \"year\": \"2019\", \"category\": \"EV\", \"model\": \"Model Y\", \"color\": \"Black\", \"pride\": 40000}]}"
        ],
        [
         "{\"user_profile\": [{\"userid\": \"userid_2\", \"username\": \"Nathan Finley\", \"gender\": \"male\", \"age\": 20, \"picture_url\": \"../images/profile/Nathan Finley.png\"}], \"car\": [{\"carid\": \"car_6\", \"make\": \"Nissan\", \"year\": \"2015\", \"category\": \"SUV\", \"model\": \"Rouge\", \"color\": \"Brown\", \"pride\": 15500}]}"
        ],
        [
         "{\"user_profile\": [{\"userid\": \"userid_3\", \"username\": \"Owen Milford\", \"gender\": \"male\", \"age\": 30, \"picture_url\": \"../images/profile/Owen Milford.png\"}], \"car\": [{\"carid\": \"car_7\", \"make\": \"Chevrolet\", \"year\": \"2016\", \"category\": \"Truck\", \"model\": \"Silverado\", \"color\": \"White\", \"pride\": 17000}]}"
        ],
        [
         "{\"user_profile\": [{\"userid\": \"userid_1\", \"username\": \"Jenna Bostwick\", \"gender\": \"female\", \"age\": 25, \"picture_url\": \"../images/profile/Jenna Bostwick.png\"}], \"car\": [{\"carid\": \"car_5\", \"make\": \"Toyota\", \"year\": \"2015\", \"category\": \"SUV\", \"model\": \"RAV4\", \"color\": \"White\", \"pride\": 15000}]}"
        ],
        [
         "{\"user_profile\": [{\"userid\": \"userid_4\", \"username\": \"Keith Farrar\", \"gender\": \"male\", \"age\": 50, \"picture_url\": \"../images/profile/Keith Farrar.png\"}], \"car\": [{\"carid\": \"car_2\", \"make\": \"Nissan\", \"year\": \"2018\", \"category\": \"Sedan\", \"model\": \"Altima\", \"color\": \"Gold\", \"pride\": 13000}]}"
        ],
        [
         "{\"user_profile\": [{\"userid\": \"userid_1\", \"username\": \"Jenna Bostwick\", \"gender\": \"female\", \"age\": 25, \"picture_url\": \"../images/profile/Jenna Bostwick.png\"}], \"car\": [{\"carid\": \"car_7\", \"make\": \"Chevrolet\", \"year\": \"2016\", \"category\": \"Truck\", \"model\": \"Silverado\", \"color\": \"White\", \"pride\": 17000}]}"
        ],
        [
         "{\"user_profile\": [{\"userid\": \"userid_0\", \"username\": \"Maria Dandridge\", \"gender\": \"female\", \"age\": 20, \"picture_url\": \"../images/profile/Maria Dandridge.png\"}], \"car\": [{\"carid\": \"car_7\", \"make\": \"Chevrolet\", \"year\": \"2016\", \"category\": \"Truck\", \"model\": \"Silverado\", \"color\": \"White\", \"pride\": 17000}]}"
        ],
        [
         "{\"user_profile\": [{\"userid\": \"userid_2\", \"username\": \"Nathan Finley\", \"gender\": \"male\", \"age\": 20, \"picture_url\": \"../images/profile/Nathan Finley.png\"}], \"car\": [{\"carid\": \"car_9\", \"make\": \"Ram\", \"year\": \"2010\", \"category\": \"Truck\", \"model\": \"1500\", \"color\": \"Black\", \"pride\": 17000}]}"
        ],
        [
         "{\"user_profile\": [{\"userid\": \"userid_0\", \"username\": \"Maria Dandridge\", \"gender\": \"female\", \"age\": 20, \"picture_url\": \"../images/profile/Maria Dandridge.png\"}], \"car\": [{\"carid\": \"car_8\", \"make\": \"Ford\", \"year\": \"2016\", \"category\": \"Truck\", \"model\": \"F-150\", \"color\": \"Brown\", \"pride\": 17000}]}"
        ],
        [
         "{\"user_profile\": [{\"userid\": \"userid_4\", \"username\": \"Keith Farrar\", \"gender\": \"male\", \"age\": 50, \"picture_url\": \"../images/profile/Keith Farrar.png\"}], \"car\": [{\"carid\": \"car_5\", \"make\": \"Toyota\", \"year\": \"2015\", \"category\": \"SUV\", \"model\": \"RAV4\", \"color\": \"White\", \"pride\": 15000}]}"
        ],
        [
         "{\"user_profile\": [{\"userid\": \"userid_0\", \"username\": \"Maria Dandridge\", \"gender\": \"female\", \"age\": 20, \"picture_url\": \"../images/profile/Maria Dandridge.png\"}], \"car\": [{\"carid\": \"car_10\", \"make\": \"Ferarri\", \"year\": \"2015\", \"category\": \"SportCar\", \"model\": \"Spider\", \"color\": \"Red\", \"pride\": 70000}]}"
        ],
        [
         "{\"user_profile\": [{\"userid\": \"userid_1\", \"username\": \"Jenna Bostwick\", \"gender\": \"female\", \"age\": 25, \"picture_url\": \"../images/profile/Jenna Bostwick.png\"}], \"car\": [{\"carid\": \"car_6\", \"make\": \"Nissan\", \"year\": \"2015\", \"category\": \"SUV\", \"model\": \"Rouge\", \"color\": \"Brown\", \"pride\": 15500}]}"
        ],
        [
         "{\"user_profile\": [{\"userid\": \"userid_4\", \"username\": \"Keith Farrar\", \"gender\": \"male\", \"age\": 50, \"picture_url\": \"../images/profile/Keith Farrar.png\"}], \"car\": [{\"carid\": \"car_2\", \"make\": \"Nissan\", \"year\": \"2018\", \"category\": \"Sedan\", \"model\": \"Altima\", \"color\": \"Gold\", \"pride\": 13000}]}"
        ],
        [
         "{\"user_profile\": [{\"userid\": \"userid_4\", \"username\": \"Keith Farrar\", \"gender\": \"male\", \"age\": 50, \"picture_url\": \"../images/profile/Keith Farrar.png\"}], \"car\": [{\"carid\": \"car_10\", \"make\": \"Ferarri\", \"year\": \"2015\", \"category\": \"SportCar\", \"model\": \"Spider\", \"color\": \"Red\", \"pride\": 70000}]}"
        ],
        [
         "{\"user_profile\": [{\"userid\": \"userid_1\", \"username\": \"Jenna Bostwick\", \"gender\": \"female\", \"age\": 25, \"picture_url\": \"../images/profile/Jenna Bostwick.png\"}], \"car\": [{\"carid\": \"car_2\", \"make\": \"Nissan\", \"year\": \"2018\", \"category\": \"Sedan\", \"model\": \"Altima\", \"color\": \"Gold\", \"pride\": 13000}]}"
        ],
        [
         "{\"user_profile\": [{\"userid\": \"userid_1\", \"username\": \"Jenna Bostwick\", \"gender\": \"female\", \"age\": 25, \"picture_url\": \"../images/profile/Jenna Bostwick.png\"}], \"car\": [{\"carid\": \"car_7\", \"make\": \"Chevrolet\", \"year\": \"2016\", \"category\": \"Truck\", \"model\": \"Silverado\", \"color\": \"White\", \"pride\": 17000}]}"
        ],
        [
         "{\"user_profile\": [{\"userid\": \"userid_0\", \"username\": \"Maria Dandridge\", \"gender\": \"female\", \"age\": 20, \"picture_url\": \"../images/profile/Maria Dandridge.png\"}], \"car\": [{\"carid\": \"car_11\", \"make\": \"Tesla\", \"year\": \"2019\", \"category\": \"EV\", \"model\": \"Model Y\", \"color\": \"Black\", \"pride\": 40000}]}"
        ],
        [
         "{\"user_profile\": [{\"userid\": \"userid_0\", \"username\": \"Maria Dandridge\", \"gender\": \"female\", \"age\": 20, \"picture_url\": \"../images/profile/Maria Dandridge.png\"}], \"car\": [{\"carid\": \"car_8\", \"make\": \"Ford\", \"year\": \"2016\", \"category\": \"Truck\", \"model\": \"F-150\", \"color\": \"Brown\", \"pride\": 17000}]}"
        ],
        [
         "{\"user_profile\": [{\"userid\": \"userid_2\", \"username\": \"Nathan Finley\", \"gender\": \"male\", \"age\": 20, \"picture_url\": \"../images/profile/Nathan Finley.png\"}], \"car\": [{\"carid\": \"car_11\", \"make\": \"Tesla\", \"year\": \"2019\", \"category\": \"EV\", \"model\": \"Model Y\", \"color\": \"Black\", \"pride\": 40000}]}"
        ],
        [
         "{\"user_profile\": [{\"userid\": \"userid_4\", \"username\": \"Keith Farrar\", \"gender\": \"male\", \"age\": 50, \"picture_url\": \"../images/profile/Keith Farrar.png\"}], \"car\": [{\"carid\": \"car_11\", \"make\": \"Tesla\", \"year\": \"2019\", \"category\": \"EV\", \"model\": \"Model Y\", \"color\": \"Black\", \"pride\": 40000}]}"
        ],
        [
         "{\"user_profile\": [{\"userid\": \"userid_2\", \"username\": \"Nathan Finley\", \"gender\": \"male\", \"age\": 20, \"picture_url\": \"../images/profile/Nathan Finley.png\"}], \"car\": [{\"carid\": \"car_3\", \"make\": \"Toyota\", \"year\": \"2012\", \"category\": \"Sedan\", \"model\": \"Camry\", \"color\": \"Silver\", \"pride\": 11000}]}"
        ],
        [
         "{\"user_profile\": [{\"userid\": \"userid_1\", \"username\": \"Jenna Bostwick\", \"gender\": \"female\", \"age\": 25, \"picture_url\": \"../images/profile/Jenna Bostwick.png\"}], \"car\": [{\"carid\": \"car_4\", \"make\": \"Honda\", \"year\": \"2013\", \"category\": \"SVU\", \"model\": \"CR-V\", \"color\": \"Brown\", \"pride\": 11000}]}"
        ],
        [
         "{\"user_profile\": [{\"userid\": \"userid_1\", \"username\": \"Jenna Bostwick\", \"gender\": \"female\", \"age\": 25, \"picture_url\": \"../images/profile/Jenna Bostwick.png\"}], \"car\": [{\"carid\": \"car_5\", \"make\": \"Toyota\", \"year\": \"2015\", \"category\": \"SUV\", \"model\": \"RAV4\", \"color\": \"White\", \"pride\": 15000}]}"
        ],
        [
         "{\"user_profile\": [{\"userid\": \"userid_2\", \"username\": \"Nathan Finley\", \"gender\": \"male\", \"age\": 20, \"picture_url\": \"../images/profile/Nathan Finley.png\"}], \"car\": [{\"carid\": \"car_10\", \"make\": \"Ferarri\", \"year\": \"2015\", \"category\": \"SportCar\", \"model\": \"Spider\", \"color\": \"Red\", \"pride\": 70000}]}"
        ],
        [
         "{\"user_profile\": [{\"userid\": \"userid_0\", \"username\": \"Maria Dandridge\", \"gender\": \"female\", \"age\": 20, \"picture_url\": \"../images/profile/Maria Dandridge.png\"}], \"car\": [{\"carid\": \"car_5\", \"make\": \"Toyota\", \"year\": \"2015\", \"category\": \"SUV\", \"model\": \"RAV4\", \"color\": \"White\", \"pride\": 15000}]}"
        ],
        [
         "{\"user_profile\": [{\"userid\": \"userid_2\", \"username\": \"Nathan Finley\", \"gender\": \"male\", \"age\": 20, \"picture_url\": \"../images/profile/Nathan Finley.png\"}], \"car\": [{\"carid\": \"car_4\", \"make\": \"Honda\", \"year\": \"2013\", \"category\": \"SVU\", \"model\": \"CR-V\", \"color\": \"Brown\", \"pride\": 11000}]}"
        ],
        [
         "{\"user_profile\": [{\"userid\": \"userid_4\", \"username\": \"Keith Farrar\", \"gender\": \"male\", \"age\": 50, \"picture_url\": \"../images/profile/Keith Farrar.png\"}], \"car\": [{\"carid\": \"car_0\", \"make\": \"Honda\", \"year\": \"2020\", \"category\": \"Sedan\", \"model\": \"Accord\", \"color\": \"Black\", \"pride\": 14000}]}"
        ],
        [
         "{\"user_profile\": [{\"userid\": \"userid_1\", \"username\": \"Jenna Bostwick\", \"gender\": \"female\", \"age\": 25, \"picture_url\": \"../images/profile/Jenna Bostwick.png\"}], \"car\": [{\"carid\": \"car_5\", \"make\": \"Toyota\", \"year\": \"2015\", \"category\": \"SUV\", \"model\": \"RAV4\", \"color\": \"White\", \"pride\": 15000}]}"
        ],
        [
         "{\"user_profile\": [{\"userid\": \"userid_1\", \"username\": \"Jenna Bostwick\", \"gender\": \"female\", \"age\": 25, \"picture_url\": \"../images/profile/Jenna Bostwick.png\"}], \"car\": [{\"carid\": \"car_6\", \"make\": \"Nissan\", \"year\": \"2015\", \"category\": \"SUV\", \"model\": \"Rouge\", \"color\": \"Brown\", \"pride\": 15500}]}"
        ],
        [
         "{\"user_profile\": [{\"userid\": \"userid_0\", \"username\": \"Maria Dandridge\", \"gender\": \"female\", \"age\": 20, \"picture_url\": \"../images/profile/Maria Dandridge.png\"}], \"car\": [{\"carid\": \"car_2\", \"make\": \"Nissan\", \"year\": \"2018\", \"category\": \"Sedan\", \"model\": \"Altima\", \"color\": \"Gold\", \"pride\": 13000}]}"
        ],
        [
         "{\"user_profile\": [{\"userid\": \"userid_3\", \"username\": \"Owen Milford\", \"gender\": \"male\", \"age\": 30, \"picture_url\": \"../images/profile/Owen Milford.png\"}], \"car\": [{\"carid\": \"car_9\", \"make\": \"Ram\", \"year\": \"2010\", \"category\": \"Truck\", \"model\": \"1500\", \"color\": \"Black\", \"pride\": 17000}]}"
        ],
        [
         "{\"user_profile\": [{\"userid\": \"userid_2\", \"username\": \"Nathan Finley\", \"gender\": \"male\", \"age\": 20, \"picture_url\": \"../images/profile/Nathan Finley.png\"}], \"car\": [{\"carid\": \"car_8\", \"make\": \"Ford\", \"year\": \"2016\", \"category\": \"Truck\", \"model\": \"F-150\", \"color\": \"Brown\", \"pride\": 17000}]}"
        ],
        [
         "{\"user_profile\": [{\"userid\": \"userid_2\", \"username\": \"Nathan Finley\", \"gender\": \"male\", \"age\": 20, \"picture_url\": \"../images/profile/Nathan Finley.png\"}], \"car\": [{\"carid\": \"car_2\", \"make\": \"Nissan\", \"year\": \"2018\", \"category\": \"Sedan\", \"model\": \"Altima\", \"color\": \"Gold\", \"pride\": 13000}]}"
        ],
        [
         "{\"user_profile\": [{\"userid\": \"userid_4\", \"username\": \"Keith Farrar\", \"gender\": \"male\", \"age\": 50, \"picture_url\": \"../images/profile/Keith Farrar.png\"}], \"car\": [{\"carid\": \"car_0\", \"make\": \"Honda\", \"year\": \"2020\", \"category\": \"Sedan\", \"model\": \"Accord\", \"color\": \"Black\", \"pride\": 14000}]}"
        ],
        [
         "{\"user_profile\": [{\"userid\": \"userid_4\", \"username\": \"Keith Farrar\", \"gender\": \"male\", \"age\": 50, \"picture_url\": \"../images/profile/Keith Farrar.png\"}], \"car\": [{\"carid\": \"car_5\", \"make\": \"Toyota\", \"year\": \"2015\", \"category\": \"SUV\", \"model\": \"RAV4\", \"color\": \"White\", \"pride\": 15000}]}"
        ],
        [
         "{\"user_profile\": [{\"userid\": \"userid_1\", \"username\": \"Jenna Bostwick\", \"gender\": \"female\", \"age\": 25, \"picture_url\": \"../images/profile/Jenna Bostwick.png\"}], \"car\": [{\"carid\": \"car_9\", \"make\": \"Ram\", \"year\": \"2010\", \"category\": \"Truck\", \"model\": \"1500\", \"color\": \"Black\", \"pride\": 17000}]}"
        ],
        [
         "{\"user_profile\": [{\"userid\": \"userid_0\", \"username\": \"Maria Dandridge\", \"gender\": \"female\", \"age\": 20, \"picture_url\": \"../images/profile/Maria Dandridge.png\"}], \"car\": [{\"carid\": \"car_11\", \"make\": \"Tesla\", \"year\": \"2019\", \"category\": \"EV\", \"model\": \"Model Y\", \"color\": \"Black\", \"pride\": 40000}]}"
        ],
        [
         "{\"user_profile\": [{\"userid\": \"userid_2\", \"username\": \"Nathan Finley\", \"gender\": \"male\", \"age\": 20, \"picture_url\": \"../images/profile/Nathan Finley.png\"}], \"car\": [{\"carid\": \"car_7\", \"make\": \"Chevrolet\", \"year\": \"2016\", \"category\": \"Truck\", \"model\": \"Silverado\", \"color\": \"White\", \"pride\": 17000}]}"
        ],
        [
         "{\"user_profile\": [{\"userid\": \"userid_2\", \"username\": \"Nathan Finley\", \"gender\": \"male\", \"age\": 20, \"picture_url\": \"../images/profile/Nathan Finley.png\"}], \"car\": [{\"carid\": \"car_0\", \"make\": \"Honda\", \"year\": \"2020\", \"category\": \"Sedan\", \"model\": \"Accord\", \"color\": \"Black\", \"pride\": 14000}]}"
        ],
        [
         "{\"user_profile\": [{\"userid\": \"userid_0\", \"username\": \"Maria Dandridge\", \"gender\": \"female\", \"age\": 20, \"picture_url\": \"../images/profile/Maria Dandridge.png\"}], \"car\": [{\"carid\": \"car_2\", \"make\": \"Nissan\", \"year\": \"2018\", \"category\": \"Sedan\", \"model\": \"Altima\", \"color\": \"Gold\", \"pride\": 13000}]}"
        ],
        [
         "{\"user_profile\": [{\"userid\": \"userid_4\", \"username\": \"Keith Farrar\", \"gender\": \"male\", \"age\": 50, \"picture_url\": \"../images/profile/Keith Farrar.png\"}], \"car\": [{\"carid\": \"car_8\", \"make\": \"Ford\", \"year\": \"2016\", \"category\": \"Truck\", \"model\": \"F-150\", \"color\": \"Brown\", \"pride\": 17000}]}"
        ],
        [
         "{\"user_profile\": [{\"userid\": \"userid_1\", \"username\": \"Jenna Bostwick\", \"gender\": \"female\", \"age\": 25, \"picture_url\": \"../images/profile/Jenna Bostwick.png\"}], \"car\": [{\"carid\": \"car_6\", \"make\": \"Nissan\", \"year\": \"2015\", \"category\": \"SUV\", \"model\": \"Rouge\", \"color\": \"Brown\", \"pride\": 15500}]}"
        ],
        [
         "{\"user_profile\": [{\"userid\": \"userid_0\", \"username\": \"Maria Dandridge\", \"gender\": \"female\", \"age\": 20, \"picture_url\": \"../images/profile/Maria Dandridge.png\"}], \"car\": [{\"carid\": \"car_10\", \"make\": \"Ferarri\", \"year\": \"2015\", \"category\": \"SportCar\", \"model\": \"Spider\", \"color\": \"Red\", \"pride\": 70000}]}"
        ],
        [
         "{\"user_profile\": [{\"userid\": \"userid_0\", \"username\": \"Maria Dandridge\", \"gender\": \"female\", \"age\": 20, \"picture_url\": \"../images/profile/Maria Dandridge.png\"}], \"car\": [{\"carid\": \"car_1\", \"make\": \"Hyundai\", \"year\": \"2017\", \"category\": \"Sedan\", \"model\": \"Sonata\", \"color\": \"Gray\", \"pride\": 14000}]}"
        ],
        [
         "{\"user_profile\": [{\"userid\": \"userid_3\", \"username\": \"Owen Milford\", \"gender\": \"male\", \"age\": 30, \"picture_url\": \"../images/profile/Owen Milford.png\"}], \"car\": [{\"carid\": \"car_6\", \"make\": \"Nissan\", \"year\": \"2015\", \"category\": \"SUV\", \"model\": \"Rouge\", \"color\": \"Brown\", \"pride\": 15500}]}"
        ],
        [
         "{\"user_profile\": [{\"userid\": \"userid_1\", \"username\": \"Jenna Bostwick\", \"gender\": \"female\", \"age\": 25, \"picture_url\": \"../images/profile/Jenna Bostwick.png\"}], \"car\": [{\"carid\": \"car_0\", \"make\": \"Honda\", \"year\": \"2020\", \"category\": \"Sedan\", \"model\": \"Accord\", \"color\": \"Black\", \"pride\": 14000}]}"
        ],
        [
         "{\"user_profile\": [{\"userid\": \"userid_0\", \"username\": \"Maria Dandridge\", \"gender\": \"female\", \"age\": 20, \"picture_url\": \"../images/profile/Maria Dandridge.png\"}], \"car\": [{\"carid\": \"car_7\", \"make\": \"Chevrolet\", \"year\": \"2016\", \"category\": \"Truck\", \"model\": \"Silverado\", \"color\": \"White\", \"pride\": 17000}]}"
        ],
        [
         "{\"user_profile\": [{\"userid\": \"userid_4\", \"username\": \"Keith Farrar\", \"gender\": \"male\", \"age\": 50, \"picture_url\": \"../images/profile/Keith Farrar.png\"}], \"car\": [{\"carid\": \"car_3\", \"make\": \"Toyota\", \"year\": \"2012\", \"category\": \"Sedan\", \"model\": \"Camry\", \"color\": \"Silver\", \"pride\": 11000}]}"
        ],
        [
         "{\"user_profile\": [{\"userid\": \"userid_3\", \"username\": \"Owen Milford\", \"gender\": \"male\", \"age\": 30, \"picture_url\": \"../images/profile/Owen Milford.png\"}], \"car\": [{\"carid\": \"car_1\", \"make\": \"Hyundai\", \"year\": \"2017\", \"category\": \"Sedan\", \"model\": \"Sonata\", \"color\": \"Gray\", \"pride\": 14000}]}"
        ],
        [
         "{\"user_profile\": [{\"userid\": \"userid_3\", \"username\": \"Owen Milford\", \"gender\": \"male\", \"age\": 30, \"picture_url\": \"../images/profile/Owen Milford.png\"}], \"car\": [{\"carid\": \"car_4\", \"make\": \"Honda\", \"year\": \"2013\", \"category\": \"SVU\", \"model\": \"CR-V\", \"color\": \"Brown\", \"pride\": 11000}]}"
        ],
        [
         "{\"user_profile\": [{\"userid\": \"userid_0\", \"username\": \"Maria Dandridge\", \"gender\": \"female\", \"age\": 20, \"picture_url\": \"../images/profile/Maria Dandridge.png\"}], \"car\": [{\"carid\": \"car_10\", \"make\": \"Ferarri\", \"year\": \"2015\", \"category\": \"SportCar\", \"model\": \"Spider\", \"color\": \"Red\", \"pride\": 70000}]}"
        ],
        [
         "{\"user_profile\": [{\"userid\": \"userid_2\", \"username\": \"Nathan Finley\", \"gender\": \"male\", \"age\": 20, \"picture_url\": \"../images/profile/Nathan Finley.png\"}], \"car\": [{\"carid\": \"car_6\", \"make\": \"Nissan\", \"year\": \"2015\", \"category\": \"SUV\", \"model\": \"Rouge\", \"color\": \"Brown\", \"pride\": 15500}]}"
        ],
        [
         "{\"user_profile\": [{\"userid\": \"userid_3\", \"username\": \"Owen Milford\", \"gender\": \"male\", \"age\": 30, \"picture_url\": \"../images/profile/Owen Milford.png\"}], \"car\": [{\"carid\": \"car_9\", \"make\": \"Ram\", \"year\": \"2010\", \"category\": \"Truck\", \"model\": \"1500\", \"color\": \"Black\", \"pride\": 17000}]}"
        ],
        [
         "{\"user_profile\": [{\"userid\": \"userid_4\", \"username\": \"Keith Farrar\", \"gender\": \"male\", \"age\": 50, \"picture_url\": \"../images/profile/Keith Farrar.png\"}], \"car\": [{\"carid\": \"car_8\", \"make\": \"Ford\", \"year\": \"2016\", \"category\": \"Truck\", \"model\": \"F-150\", \"color\": \"Brown\", \"pride\": 17000}]}"
        ],
        [
         "{\"user_profile\": [{\"userid\": \"userid_1\", \"username\": \"Jenna Bostwick\", \"gender\": \"female\", \"age\": 25, \"picture_url\": \"../images/profile/Jenna Bostwick.png\"}], \"car\": [{\"carid\": \"car_11\", \"make\": \"Tesla\", \"year\": \"2019\", \"category\": \"EV\", \"model\": \"Model Y\", \"color\": \"Black\", \"pride\": 40000}]}"
        ],
        [
         "{\"user_profile\": [{\"userid\": \"userid_4\", \"username\": \"Keith Farrar\", \"gender\": \"male\", \"age\": 50, \"picture_url\": \"../images/profile/Keith Farrar.png\"}], \"car\": [{\"carid\": \"car_7\", \"make\": \"Chevrolet\", \"year\": \"2016\", \"category\": \"Truck\", \"model\": \"Silverado\", \"color\": \"White\", \"pride\": 17000}]}"
        ],
        [
         "{\"user_profile\": [{\"userid\": \"userid_1\", \"username\": \"Jenna Bostwick\", \"gender\": \"female\", \"age\": 25, \"picture_url\": \"../images/profile/Jenna Bostwick.png\"}], \"car\": [{\"carid\": \"car_0\", \"make\": \"Honda\", \"year\": \"2020\", \"category\": \"Sedan\", \"model\": \"Accord\", \"color\": \"Black\", \"pride\": 14000}]}"
        ],
        [
         "{\"user_profile\": [{\"userid\": \"userid_0\", \"username\": \"Maria Dandridge\", \"gender\": \"female\", \"age\": 20, \"picture_url\": \"../images/profile/Maria Dandridge.png\"}], \"car\": [{\"carid\": \"car_8\", \"make\": \"Ford\", \"year\": \"2016\", \"category\": \"Truck\", \"model\": \"F-150\", \"color\": \"Brown\", \"pride\": 17000}]}"
        ],
        [
         "{\"user_profile\": [{\"userid\": \"userid_4\", \"username\": \"Keith Farrar\", \"gender\": \"male\", \"age\": 50, \"picture_url\": \"../images/profile/Keith Farrar.png\"}], \"car\": [{\"carid\": \"car_7\", \"make\": \"Chevrolet\", \"year\": \"2016\", \"category\": \"Truck\", \"model\": \"Silverado\", \"color\": \"White\", \"pride\": 17000}]}"
        ],
        [
         "{\"user_profile\": [{\"userid\": \"userid_2\", \"username\": \"Nathan Finley\", \"gender\": \"male\", \"age\": 20, \"picture_url\": \"../images/profile/Nathan Finley.png\"}], \"car\": [{\"carid\": \"car_9\", \"make\": \"Ram\", \"year\": \"2010\", \"category\": \"Truck\", \"model\": \"1500\", \"color\": \"Black\", \"pride\": 17000}]}"
        ],
        [
         "{\"user_profile\": [{\"userid\": \"userid_0\", \"username\": \"Maria Dandridge\", \"gender\": \"female\", \"age\": 20, \"picture_url\": \"../images/profile/Maria Dandridge.png\"}], \"car\": [{\"carid\": \"car_1\", \"make\": \"Hyundai\", \"year\": \"2017\", \"category\": \"Sedan\", \"model\": \"Sonata\", \"color\": \"Gray\", \"pride\": 14000}]}"
        ],
        [
         "{\"user_profile\": [{\"userid\": \"userid_3\", \"username\": \"Owen Milford\", \"gender\": \"male\", \"age\": 30, \"picture_url\": \"../images/profile/Owen Milford.png\"}], \"car\": [{\"carid\": \"car_9\", \"make\": \"Ram\", \"year\": \"2010\", \"category\": \"Truck\", \"model\": \"1500\", \"color\": \"Black\", \"pride\": 17000}]}"
        ],
        [
         "{\"user_profile\": [{\"userid\": \"userid_1\", \"username\": \"Jenna Bostwick\", \"gender\": \"female\", \"age\": 25, \"picture_url\": \"../images/profile/Jenna Bostwick.png\"}], \"car\": [{\"carid\": \"car_6\", \"make\": \"Nissan\", \"year\": \"2015\", \"category\": \"SUV\", \"model\": \"Rouge\", \"color\": \"Brown\", \"pride\": 15500}]}"
        ],
        [
         "{\"user_profile\": [{\"userid\": \"userid_4\", \"username\": \"Keith Farrar\", \"gender\": \"male\", \"age\": 50, \"picture_url\": \"../images/profile/Keith Farrar.png\"}], \"car\": [{\"carid\": \"car_6\", \"make\": \"Nissan\", \"year\": \"2015\", \"category\": \"SUV\", \"model\": \"Rouge\", \"color\": \"Brown\", \"pride\": 15500}]}"
        ],
        [
         "{\"user_profile\": [{\"userid\": \"userid_0\", \"username\": \"Maria Dandridge\", \"gender\": \"female\", \"age\": 20, \"picture_url\": \"../images/profile/Maria Dandridge.png\"}], \"car\": [{\"carid\": \"car_6\", \"make\": \"Nissan\", \"year\": \"2015\", \"category\": \"SUV\", \"model\": \"Rouge\", \"color\": \"Brown\", \"pride\": 15500}]}"
        ],
        [
         "{\"user_profile\": [{\"userid\": \"userid_2\", \"username\": \"Nathan Finley\", \"gender\": \"male\", \"age\": 20, \"picture_url\": \"../images/profile/Nathan Finley.png\"}], \"car\": [{\"carid\": \"car_10\", \"make\": \"Ferarri\", \"year\": \"2015\", \"category\": \"SportCar\", \"model\": \"Spider\", \"color\": \"Red\", \"pride\": 70000}]}"
        ],
        [
         "{\"user_profile\": [{\"userid\": \"userid_4\", \"username\": \"Keith Farrar\", \"gender\": \"male\", \"age\": 50, \"picture_url\": \"../images/profile/Keith Farrar.png\"}], \"car\": [{\"carid\": \"car_7\", \"make\": \"Chevrolet\", \"year\": \"2016\", \"category\": \"Truck\", \"model\": \"Silverado\", \"color\": \"White\", \"pride\": 17000}]}"
        ],
        [
         "{\"user_profile\": [{\"userid\": \"userid_4\", \"username\": \"Keith Farrar\", \"gender\": \"male\", \"age\": 50, \"picture_url\": \"../images/profile/Keith Farrar.png\"}], \"car\": [{\"carid\": \"car_4\", \"make\": \"Honda\", \"year\": \"2013\", \"category\": \"SVU\", \"model\": \"CR-V\", \"color\": \"Brown\", \"pride\": 11000}]}"
        ],
        [
         "{\"user_profile\": [{\"userid\": \"userid_2\", \"username\": \"Nathan Finley\", \"gender\": \"male\", \"age\": 20, \"picture_url\": \"../images/profile/Nathan Finley.png\"}], \"car\": [{\"carid\": \"car_4\", \"make\": \"Honda\", \"year\": \"2013\", \"category\": \"SVU\", \"model\": \"CR-V\", \"color\": \"Brown\", \"pride\": 11000}]}"
        ],
        [
         "{\"user_profile\": [{\"userid\": \"userid_2\", \"username\": \"Nathan Finley\", \"gender\": \"male\", \"age\": 20, \"picture_url\": \"../images/profile/Nathan Finley.png\"}], \"car\": [{\"carid\": \"car_11\", \"make\": \"Tesla\", \"year\": \"2019\", \"category\": \"EV\", \"model\": \"Model Y\", \"color\": \"Black\", \"pride\": 40000}]}"
        ],
        [
         "{\"user_profile\": [{\"userid\": \"userid_3\", \"username\": \"Owen Milford\", \"gender\": \"male\", \"age\": 30, \"picture_url\": \"../images/profile/Owen Milford.png\"}], \"car\": [{\"carid\": \"car_5\", \"make\": \"Toyota\", \"year\": \"2015\", \"category\": \"SUV\", \"model\": \"RAV4\", \"color\": \"White\", \"pride\": 15000}]}"
        ],
        [
         "{\"user_profile\": [{\"userid\": \"userid_1\", \"username\": \"Jenna Bostwick\", \"gender\": \"female\", \"age\": 25, \"picture_url\": \"../images/profile/Jenna Bostwick.png\"}], \"car\": [{\"carid\": \"car_7\", \"make\": \"Chevrolet\", \"year\": \"2016\", \"category\": \"Truck\", \"model\": \"Silverado\", \"color\": \"White\", \"pride\": 17000}]}"
        ],
        [
         "{\"user_profile\": [{\"userid\": \"userid_0\", \"username\": \"Maria Dandridge\", \"gender\": \"female\", \"age\": 20, \"picture_url\": \"../images/profile/Maria Dandridge.png\"}], \"car\": [{\"carid\": \"car_4\", \"make\": \"Honda\", \"year\": \"2013\", \"category\": \"SVU\", \"model\": \"CR-V\", \"color\": \"Brown\", \"pride\": 11000}]}"
        ],
        [
         "{\"user_profile\": [{\"userid\": \"userid_0\", \"username\": \"Maria Dandridge\", \"gender\": \"female\", \"age\": 20, \"picture_url\": \"../images/profile/Maria Dandridge.png\"}], \"car\": [{\"carid\": \"car_8\", \"make\": \"Ford\", \"year\": \"2016\", \"category\": \"Truck\", \"model\": \"F-150\", \"color\": \"Brown\", \"pride\": 17000}]}"
        ]
       ],
       "datasetInfos": [],
       "dbfsResultPath": null,
       "isJsonSchema": true,
       "metadata": {},
       "overflow": false,
       "plotOptions": {
        "customPlotOptions": {},
        "displayType": "table",
        "pivotAggregation": null,
        "pivotColumns": null,
        "xColumns": null,
        "yColumns": null
       },
       "removedWidgets": [],
       "schema": [
        {
         "metadata": "{}",
         "name": "parsed_json",
         "type": "\"string\""
        }
       ],
       "type": "table"
      }
     },
     "output_type": "display_data"
    }
   ],
   "source": [
    "%sql\n",
    "SELECT * FROM uc_hsshin.kickthetires.clickEvents0"
   ]
  },
  {
   "cell_type": "code",
   "execution_count": 0,
   "metadata": {
    "application/vnd.databricks.v1+cell": {
     "cellMetadata": {
      "byteLimit": 2048000,
      "rowLimit": 10000
     },
     "inputWidgets": {},
     "nuid": "e908197c-ec8f-40fa-bf0c-2f951a9dcc50",
     "showTitle": false,
     "title": ""
    }
   },
   "outputs": [
    {
     "output_type": "display_data",
     "data": {
      "text/html": [
       "<style scoped>\n",
       "  .ansiout {\n",
       "    display: block;\n",
       "    unicode-bidi: embed;\n",
       "    white-space: pre-wrap;\n",
       "    word-wrap: break-word;\n",
       "    word-break: break-all;\n",
       "    font-family: \"Source Code Pro\", \"Menlo\", monospace;;\n",
       "    font-size: 13px;\n",
       "    color: #555;\n",
       "    margin-left: 4px;\n",
       "    line-height: 19px;\n",
       "  }\n",
       "</style>\n",
       "<div class=\"ansiout\">updateddf: org.apache.spark.sql.DataFrame = [enqueued_time: timestamp, json_string: string]\n",
       "</div>"
      ]
     },
     "metadata": {
      "application/vnd.databricks.v1+output": {
       "addedWidgets": {},
       "arguments": {},
       "data": "<div class=\"ansiout\">updateddf: org.apache.spark.sql.DataFrame = [enqueued_time: timestamp, json_string: string]\n</div>",
       "datasetInfos": [
        {
         "name": "updateddf",
         "schema": {
          "fields": [
           {
            "metadata": {},
            "name": "enqueued_time",
            "nullable": true,
            "type": "timestamp"
           },
           {
            "metadata": {},
            "name": "json_string",
            "nullable": true,
            "type": "string"
           }
          ],
          "type": "struct"
         },
         "tableIdentifier": null,
         "typeStr": "org.apache.spark.sql.DataFrame"
        }
       ],
       "metadata": {
        "isDbfsCommandResult": false
       },
       "removedWidgets": [],
       "type": "html"
      }
     },
     "output_type": "display_data"
    }
   ],
   "source": [
    "%scala\n",
    "val updateddf = eventhubs.select(\n",
    "  $\"enqueuedTime\".as(\"enqueued_time\"),\n",
    "  $\"body\".cast(\"string\").as(\"json_string\")\n",
    "  )"
   ]
  },
  {
   "cell_type": "code",
   "execution_count": 0,
   "metadata": {
    "application/vnd.databricks.v1+cell": {
     "cellMetadata": {
      "byteLimit": 2048000,
      "rowLimit": 10000
     },
     "inputWidgets": {},
     "nuid": "2878fff3-2367-4a08-bdc2-60d290b23daa",
     "showTitle": false,
     "title": ""
    }
   },
   "outputs": [
    {
     "output_type": "display_data",
     "data": {
      "text/html": [
       "<style scoped>\n",
       "  .ansiout {\n",
       "    display: block;\n",
       "    unicode-bidi: embed;\n",
       "    white-space: pre-wrap;\n",
       "    word-wrap: break-word;\n",
       "    word-break: break-all;\n",
       "    font-family: \"Source Code Pro\", \"Menlo\", monospace;;\n",
       "    font-size: 13px;\n",
       "    color: #555;\n",
       "    margin-left: 4px;\n",
       "    line-height: 19px;\n",
       "  }\n",
       "</style>\n",
       "<div class=\"ansiout\">res11: org.apache.spark.sql.DataFrame = []\n",
       "</div>"
      ]
     },
     "metadata": {
      "application/vnd.databricks.v1+output": {
       "addedWidgets": {},
       "arguments": {},
       "data": "<div class=\"ansiout\">res11: org.apache.spark.sql.DataFrame = []\n</div>",
       "datasetInfos": [
        {
         "name": "res11",
         "schema": {
          "fields": [],
          "type": "struct"
         },
         "tableIdentifier": null,
         "typeStr": "org.apache.spark.sql.DataFrame"
        }
       ],
       "metadata": {
        "isDbfsCommandResult": false
       },
       "removedWidgets": [],
       "type": "html"
      }
     },
     "output_type": "display_data"
    }
   ],
   "source": [
    "%scala\n",
    "// Create an empty Delta table with the same schema as your streaming DataFrame  \n",
    "spark.sql(s\"\"\"  \n",
    "  ALTER TABLE $ucName.$schemaName.$icebergTableName\n",
    "    ADD COLUMNS (enqueued_time timestamp);\n",
    "\"\"\")  "
   ]
  },
  {
   "cell_type": "code",
   "execution_count": 0,
   "metadata": {
    "application/vnd.databricks.v1+cell": {
     "cellMetadata": {
      "byteLimit": 2048000,
      "rowLimit": 10000
     },
     "inputWidgets": {},
     "nuid": "0479f380-6736-41d8-9bd3-633f072f70e3",
     "showTitle": false,
     "title": ""
    }
   },
   "outputs": [
    {
     "output_type": "display_data",
     "data": {
      "text/html": [
       "<style scoped>\n",
       "  .ansiout {\n",
       "    display: block;\n",
       "    unicode-bidi: embed;\n",
       "    white-space: pre-wrap;\n",
       "    word-wrap: break-word;\n",
       "    word-break: break-all;\n",
       "    font-family: \"Source Code Pro\", \"Menlo\", monospace;;\n",
       "    font-size: 13px;\n",
       "    color: #555;\n",
       "    margin-left: 4px;\n",
       "    line-height: 19px;\n",
       "  }\n",
       "</style>\n",
       "<div class=\"ansiout\"></div>"
      ]
     },
     "metadata": {
      "application/vnd.databricks.v1+output": {
       "addedWidgets": {},
       "arguments": {},
       "data": "<div class=\"ansiout\"></div>",
       "datasetInfos": [],
       "metadata": {
        "isDbfsCommandResult": false
       },
       "removedWidgets": [],
       "type": "html"
      }
     },
     "output_type": "display_data"
    },
    {
     "output_type": "display_data",
     "data": {
      "text/html": [
       "<style scoped>\n",
       "  .ansiout {\n",
       "    display: block;\n",
       "    unicode-bidi: embed;\n",
       "    white-space: pre-wrap;\n",
       "    word-wrap: break-word;\n",
       "    word-break: break-all;\n",
       "    font-family: \"Source Code Pro\", \"Menlo\", monospace;;\n",
       "    font-size: 13px;\n",
       "    color: #555;\n",
       "    margin-left: 4px;\n",
       "    line-height: 19px;\n",
       "  }\n",
       "</style>"
      ]
     },
     "metadata": {
      "application/vnd.databricks.v1+output": {
       "arguments": {},
       "data": "",
       "errorSummary": "Cancelled",
       "errorTraceType": "html",
       "metadata": {},
       "type": "ipynbError"
      }
     },
     "output_type": "display_data"
    }
   ],
   "source": [
    "%scala\n",
    "val icebergcheckpointLocation = \"/mnt/bronze/iceberg_checkpoint/\"\n",
    "\n",
    "dbutils.fs.mkdirs(icebergcheckpointLocation)\n",
    "\n",
    "val streamQuery = updateddf.writeStream  \n",
    "  .format(\"iceberg\")  \n",
    "  .outputMode(\"append\")\n",
    "  .option(\"checkpointLocation\", icebergcheckpointLocation) // Choose an appropriate checkpoint location  \n",
    "  .option(\"mergeSchema\", \"true\")\n",
    "  .trigger(Trigger.ProcessingTime(\"30 seconds\")) // Data will be written every 30 seconds\n",
    "  .table(s\"$ucName.$schemaName.$icebergTableName\") // Write to the iceberg table  \n",
    "  \n",
    "streamQuery.awaitTermination()"
   ]
  },
  {
   "cell_type": "code",
   "execution_count": 0,
   "metadata": {
    "application/vnd.databricks.v1+cell": {
     "cellMetadata": {
      "byteLimit": 2048000,
      "rowLimit": 10000
     },
     "inputWidgets": {},
     "nuid": "7ef328c3-8b72-49fe-bffd-5693c4349a17",
     "showTitle": false,
     "title": ""
    }
   },
   "outputs": [
    {
     "output_type": "display_data",
     "data": {
      "text/html": [
       "<style scoped>\n",
       "  .table-result-container {\n",
       "    max-height: 300px;\n",
       "    overflow: auto;\n",
       "  }\n",
       "  table, th, td {\n",
       "    border: 1px solid black;\n",
       "    border-collapse: collapse;\n",
       "  }\n",
       "  th, td {\n",
       "    padding: 5px;\n",
       "  }\n",
       "  th {\n",
       "    text-align: left;\n",
       "  }\n",
       "</style><div class='table-result-container'><table class='table-result'><thead style='background-color: white'><tr><th>parsed_json</th><th>enqueued_time</th><th>json_string</th></tr></thead><tbody><tr><td>{\"user_profile\": [{\"userid\": \"userid_0\", \"username\": \"Maria Dandridge\", \"gender\": \"female\", \"age\": 20, \"picture_url\": \"../images/profile/Maria Dandridge.png\"}], \"car\": [{\"carid\": \"car_2\", \"make\": \"Nissan\", \"year\": \"2018\", \"category\": \"Sedan\", \"model\": \"Altima\", \"color\": \"Gold\", \"pride\": 13000}]}</td><td>null</td><td>null</td></tr><tr><td>{\"user_profile\": [{\"userid\": \"userid_3\", \"username\": \"Owen Milford\", \"gender\": \"male\", \"age\": 30, \"picture_url\": \"../images/profile/Owen Milford.png\"}], \"car\": [{\"carid\": \"car_8\", \"make\": \"Ford\", \"year\": \"2016\", \"category\": \"Truck\", \"model\": \"F-150\", \"color\": \"Brown\", \"pride\": 17000}]}</td><td>null</td><td>null</td></tr><tr><td>{\"user_profile\": [{\"userid\": \"userid_4\", \"username\": \"Keith Farrar\", \"gender\": \"male\", \"age\": 50, \"picture_url\": \"../images/profile/Keith Farrar.png\"}], \"car\": [{\"carid\": \"car_3\", \"make\": \"Toyota\", \"year\": \"2012\", \"category\": \"Sedan\", \"model\": \"Camry\", \"color\": \"Silver\", \"pride\": 11000}]}</td><td>null</td><td>null</td></tr><tr><td>{\"user_profile\": [{\"userid\": \"userid_2\", \"username\": \"Nathan Finley\", \"gender\": \"male\", \"age\": 20, \"picture_url\": \"../images/profile/Nathan Finley.png\"}], \"car\": [{\"carid\": \"car_10\", \"make\": \"Ferarri\", \"year\": \"2015\", \"category\": \"SportCar\", \"model\": \"Spider\", \"color\": \"Red\", \"pride\": 70000}]}</td><td>null</td><td>null</td></tr><tr><td>{\"user_profile\": [{\"userid\": \"userid_3\", \"username\": \"Owen Milford\", \"gender\": \"male\", \"age\": 30, \"picture_url\": \"../images/profile/Owen Milford.png\"}], \"car\": [{\"carid\": \"car_0\", \"make\": \"Honda\", \"year\": \"2020\", \"category\": \"Sedan\", \"model\": \"Accord\", \"color\": \"Black\", \"pride\": 14000}]}</td><td>null</td><td>null</td></tr><tr><td>{\"user_profile\": [{\"userid\": \"userid_0\", \"username\": \"Maria Dandridge\", \"gender\": \"female\", \"age\": 20, \"picture_url\": \"../images/profile/Maria Dandridge.png\"}], \"car\": [{\"carid\": \"car_2\", \"make\": \"Nissan\", \"year\": \"2018\", \"category\": \"Sedan\", \"model\": \"Altima\", \"color\": \"Gold\", \"pride\": 13000}]}</td><td>null</td><td>null</td></tr><tr><td>{\"user_profile\": [{\"userid\": \"userid_3\", \"username\": \"Owen Milford\", \"gender\": \"male\", \"age\": 30, \"picture_url\": \"../images/profile/Owen Milford.png\"}], \"car\": [{\"carid\": \"car_1\", \"make\": \"Hyundai\", \"year\": \"2017\", \"category\": \"Sedan\", \"model\": \"Sonata\", \"color\": \"Gray\", \"pride\": 14000}]}</td><td>null</td><td>null</td></tr><tr><td>{\"user_profile\": [{\"userid\": \"userid_2\", \"username\": \"Nathan Finley\", \"gender\": \"male\", \"age\": 20, \"picture_url\": \"../images/profile/Nathan Finley.png\"}], \"car\": [{\"carid\": \"car_3\", \"make\": \"Toyota\", \"year\": \"2012\", \"category\": \"Sedan\", \"model\": \"Camry\", \"color\": \"Silver\", \"pride\": 11000}]}</td><td>null</td><td>null</td></tr><tr><td>{\"user_profile\": [{\"userid\": \"userid_4\", \"username\": \"Keith Farrar\", \"gender\": \"male\", \"age\": 50, \"picture_url\": \"../images/profile/Keith Farrar.png\"}], \"car\": [{\"carid\": \"car_3\", \"make\": \"Toyota\", \"year\": \"2012\", \"category\": \"Sedan\", \"model\": \"Camry\", \"color\": \"Silver\", \"pride\": 11000}]}</td><td>null</td><td>null</td></tr><tr><td>{\"user_profile\": [{\"userid\": \"userid_3\", \"username\": \"Owen Milford\", \"gender\": \"male\", \"age\": 30, \"picture_url\": \"../images/profile/Owen Milford.png\"}], \"car\": [{\"carid\": \"car_10\", \"make\": \"Ferarri\", \"year\": \"2015\", \"category\": \"SportCar\", \"model\": \"Spider\", \"color\": \"Red\", \"pride\": 70000}]}</td><td>null</td><td>null</td></tr><tr><td>{\"user_profile\": [{\"userid\": \"userid_2\", \"username\": \"Nathan Finley\", \"gender\": \"male\", \"age\": 20, \"picture_url\": \"../images/profile/Nathan Finley.png\"}], \"car\": [{\"carid\": \"car_10\", \"make\": \"Ferarri\", \"year\": \"2015\", \"category\": \"SportCar\", \"model\": \"Spider\", \"color\": \"Red\", \"pride\": 70000}]}</td><td>null</td><td>null</td></tr><tr><td>{\"user_profile\": [{\"userid\": \"userid_4\", \"username\": \"Keith Farrar\", \"gender\": \"male\", \"age\": 50, \"picture_url\": \"../images/profile/Keith Farrar.png\"}], \"car\": [{\"carid\": \"car_1\", \"make\": \"Hyundai\", \"year\": \"2017\", \"category\": \"Sedan\", \"model\": \"Sonata\", \"color\": \"Gray\", \"pride\": 14000}]}</td><td>null</td><td>null</td></tr><tr><td>{\"user_profile\": [{\"userid\": \"userid_3\", \"username\": \"Owen Milford\", \"gender\": \"male\", \"age\": 30, \"picture_url\": \"../images/profile/Owen Milford.png\"}], \"car\": [{\"carid\": \"car_1\", \"make\": \"Hyundai\", \"year\": \"2017\", \"category\": \"Sedan\", \"model\": \"Sonata\", \"color\": \"Gray\", \"pride\": 14000}]}</td><td>null</td><td>null</td></tr><tr><td>{\"user_profile\": [{\"userid\": \"userid_4\", \"username\": \"Keith Farrar\", \"gender\": \"male\", \"age\": 50, \"picture_url\": \"../images/profile/Keith Farrar.png\"}], \"car\": [{\"carid\": \"car_4\", \"make\": \"Honda\", \"year\": \"2013\", \"category\": \"SVU\", \"model\": \"CR-V\", \"color\": \"Brown\", \"pride\": 11000}]}</td><td>null</td><td>null</td></tr><tr><td>{\"user_profile\": [{\"userid\": \"userid_4\", \"username\": \"Keith Farrar\", \"gender\": \"male\", \"age\": 50, \"picture_url\": \"../images/profile/Keith Farrar.png\"}], \"car\": [{\"carid\": \"car_3\", \"make\": \"Toyota\", \"year\": \"2012\", \"category\": \"Sedan\", \"model\": \"Camry\", \"color\": \"Silver\", \"pride\": 11000}]}</td><td>null</td><td>null</td></tr><tr><td>{\"user_profile\": [{\"userid\": \"userid_2\", \"username\": \"Nathan Finley\", \"gender\": \"male\", \"age\": 20, \"picture_url\": \"../images/profile/Nathan Finley.png\"}], \"car\": [{\"carid\": \"car_11\", \"make\": \"Tesla\", \"year\": \"2019\", \"category\": \"EV\", \"model\": \"Model Y\", \"color\": \"Black\", \"pride\": 40000}]}</td><td>null</td><td>null</td></tr><tr><td>{\"user_profile\": [{\"userid\": \"userid_2\", \"username\": \"Nathan Finley\", \"gender\": \"male\", \"age\": 20, \"picture_url\": \"../images/profile/Nathan Finley.png\"}], \"car\": [{\"carid\": \"car_2\", \"make\": \"Nissan\", \"year\": \"2018\", \"category\": \"Sedan\", \"model\": \"Altima\", \"color\": \"Gold\", \"pride\": 13000}]}</td><td>null</td><td>null</td></tr><tr><td>{\"user_profile\": [{\"userid\": \"userid_0\", \"username\": \"Maria Dandridge\", \"gender\": \"female\", \"age\": 20, \"picture_url\": \"../images/profile/Maria Dandridge.png\"}], \"car\": [{\"carid\": \"car_7\", \"make\": \"Chevrolet\", \"year\": \"2016\", \"category\": \"Truck\", \"model\": \"Silverado\", \"color\": \"White\", \"pride\": 17000}]}</td><td>null</td><td>null</td></tr><tr><td>{\"user_profile\": [{\"userid\": \"userid_4\", \"username\": \"Keith Farrar\", \"gender\": \"male\", \"age\": 50, \"picture_url\": \"../images/profile/Keith Farrar.png\"}], \"car\": [{\"carid\": \"car_10\", \"make\": \"Ferarri\", \"year\": \"2015\", \"category\": \"SportCar\", \"model\": \"Spider\", \"color\": \"Red\", \"pride\": 70000}]}</td><td>null</td><td>null</td></tr><tr><td>{\"user_profile\": [{\"userid\": \"userid_2\", \"username\": \"Nathan Finley\", \"gender\": \"male\", \"age\": 20, \"picture_url\": \"../images/profile/Nathan Finley.png\"}], \"car\": [{\"carid\": \"car_6\", \"make\": \"Nissan\", \"year\": \"2015\", \"category\": \"SUV\", \"model\": \"Rouge\", \"color\": \"Brown\", \"pride\": 15500}]}</td><td>null</td><td>null</td></tr><tr><td>{\"user_profile\": [{\"userid\": \"userid_2\", \"username\": \"Nathan Finley\", \"gender\": \"male\", \"age\": 20, \"picture_url\": \"../images/profile/Nathan Finley.png\"}], \"car\": [{\"carid\": \"car_0\", \"make\": \"Honda\", \"year\": \"2020\", \"category\": \"Sedan\", \"model\": \"Accord\", \"color\": \"Black\", \"pride\": 14000}]}</td><td>null</td><td>null</td></tr><tr><td>{\"user_profile\": [{\"userid\": \"userid_2\", \"username\": \"Nathan Finley\", \"gender\": \"male\", \"age\": 20, \"picture_url\": \"../images/profile/Nathan Finley.png\"}], \"car\": [{\"carid\": \"car_9\", \"make\": \"Ram\", \"year\": \"2010\", \"category\": \"Truck\", \"model\": \"1500\", \"color\": \"Black\", \"pride\": 17000}]}</td><td>null</td><td>null</td></tr><tr><td>{\"user_profile\": [{\"userid\": \"userid_3\", \"username\": \"Owen Milford\", \"gender\": \"male\", \"age\": 30, \"picture_url\": \"../images/profile/Owen Milford.png\"}], \"car\": [{\"carid\": \"car_11\", \"make\": \"Tesla\", \"year\": \"2019\", \"category\": \"EV\", \"model\": \"Model Y\", \"color\": \"Black\", \"pride\": 40000}]}</td><td>null</td><td>null</td></tr><tr><td>{\"user_profile\": [{\"userid\": \"userid_2\", \"username\": \"Nathan Finley\", \"gender\": \"male\", \"age\": 20, \"picture_url\": \"../images/profile/Nathan Finley.png\"}], \"car\": [{\"carid\": \"car_6\", \"make\": \"Nissan\", \"year\": \"2015\", \"category\": \"SUV\", \"model\": \"Rouge\", \"color\": \"Brown\", \"pride\": 15500}]}</td><td>null</td><td>null</td></tr><tr><td>{\"user_profile\": [{\"userid\": \"userid_4\", \"username\": \"Keith Farrar\", \"gender\": \"male\", \"age\": 50, \"picture_url\": \"../images/profile/Keith Farrar.png\"}], \"car\": [{\"carid\": \"car_6\", \"make\": \"Nissan\", \"year\": \"2015\", \"category\": \"SUV\", \"model\": \"Rouge\", \"color\": \"Brown\", \"pride\": 15500}]}</td><td>null</td><td>null</td></tr><tr><td>{\"user_profile\": [{\"userid\": \"userid_1\", \"username\": \"Jenna Bostwick\", \"gender\": \"female\", \"age\": 25, \"picture_url\": \"../images/profile/Jenna Bostwick.png\"}], \"car\": [{\"carid\": \"car_0\", \"make\": \"Honda\", \"year\": \"2020\", \"category\": \"Sedan\", \"model\": \"Accord\", \"color\": \"Black\", \"pride\": 14000}]}</td><td>null</td><td>null</td></tr><tr><td>{\"user_profile\": [{\"userid\": \"userid_4\", \"username\": \"Keith Farrar\", \"gender\": \"male\", \"age\": 50, \"picture_url\": \"../images/profile/Keith Farrar.png\"}], \"car\": [{\"carid\": \"car_2\", \"make\": \"Nissan\", \"year\": \"2018\", \"category\": \"Sedan\", \"model\": \"Altima\", \"color\": \"Gold\", \"pride\": 13000}]}</td><td>null</td><td>null</td></tr><tr><td>{\"user_profile\": [{\"userid\": \"userid_0\", \"username\": \"Maria Dandridge\", \"gender\": \"female\", \"age\": 20, \"picture_url\": \"../images/profile/Maria Dandridge.png\"}], \"car\": [{\"carid\": \"car_6\", \"make\": \"Nissan\", \"year\": \"2015\", \"category\": \"SUV\", \"model\": \"Rouge\", \"color\": \"Brown\", \"pride\": 15500}]}</td><td>null</td><td>null</td></tr><tr><td>{\"user_profile\": [{\"userid\": \"userid_4\", \"username\": \"Keith Farrar\", \"gender\": \"male\", \"age\": 50, \"picture_url\": \"../images/profile/Keith Farrar.png\"}], \"car\": [{\"carid\": \"car_10\", \"make\": \"Ferarri\", \"year\": \"2015\", \"category\": \"SportCar\", \"model\": \"Spider\", \"color\": \"Red\", \"pride\": 70000}]}</td><td>null</td><td>null</td></tr><tr><td>{\"user_profile\": [{\"userid\": \"userid_0\", \"username\": \"Maria Dandridge\", \"gender\": \"female\", \"age\": 20, \"picture_url\": \"../images/profile/Maria Dandridge.png\"}], \"car\": [{\"carid\": \"car_6\", \"make\": \"Nissan\", \"year\": \"2015\", \"category\": \"SUV\", \"model\": \"Rouge\", \"color\": \"Brown\", \"pride\": 15500}]}</td><td>null</td><td>null</td></tr><tr><td>{\"user_profile\": [{\"userid\": \"userid_1\", \"username\": \"Jenna Bostwick\", \"gender\": \"female\", \"age\": 25, \"picture_url\": \"../images/profile/Jenna Bostwick.png\"}], \"car\": [{\"carid\": \"car_10\", \"make\": \"Ferarri\", \"year\": \"2015\", \"category\": \"SportCar\", \"model\": \"Spider\", \"color\": \"Red\", \"pride\": 70000}]}</td><td>null</td><td>null</td></tr><tr><td>{\"user_profile\": [{\"userid\": \"userid_0\", \"username\": \"Maria Dandridge\", \"gender\": \"female\", \"age\": 20, \"picture_url\": \"../images/profile/Maria Dandridge.png\"}], \"car\": [{\"carid\": \"car_10\", \"make\": \"Ferarri\", \"year\": \"2015\", \"category\": \"SportCar\", \"model\": \"Spider\", \"color\": \"Red\", \"pride\": 70000}]}</td><td>null</td><td>null</td></tr><tr><td>{\"user_profile\": [{\"userid\": \"userid_3\", \"username\": \"Owen Milford\", \"gender\": \"male\", \"age\": 30, \"picture_url\": \"../images/profile/Owen Milford.png\"}], \"car\": [{\"carid\": \"car_1\", \"make\": \"Hyundai\", \"year\": \"2017\", \"category\": \"Sedan\", \"model\": \"Sonata\", \"color\": \"Gray\", \"pride\": 14000}]}</td><td>null</td><td>null</td></tr><tr><td>{\"user_profile\": [{\"userid\": \"userid_1\", \"username\": \"Jenna Bostwick\", \"gender\": \"female\", \"age\": 25, \"picture_url\": \"../images/profile/Jenna Bostwick.png\"}], \"car\": [{\"carid\": \"car_11\", \"make\": \"Tesla\", \"year\": \"2019\", \"category\": \"EV\", \"model\": \"Model Y\", \"color\": \"Black\", \"pride\": 40000}]}</td><td>null</td><td>null</td></tr><tr><td>{\"user_profile\": [{\"userid\": \"userid_3\", \"username\": \"Owen Milford\", \"gender\": \"male\", \"age\": 30, \"picture_url\": \"../images/profile/Owen Milford.png\"}], \"car\": [{\"carid\": \"car_4\", \"make\": \"Honda\", \"year\": \"2013\", \"category\": \"SVU\", \"model\": \"CR-V\", \"color\": \"Brown\", \"pride\": 11000}]}</td><td>null</td><td>null</td></tr><tr><td>{\"user_profile\": [{\"userid\": \"userid_1\", \"username\": \"Jenna Bostwick\", \"gender\": \"female\", \"age\": 25, \"picture_url\": \"../images/profile/Jenna Bostwick.png\"}], \"car\": [{\"carid\": \"car_5\", \"make\": \"Toyota\", \"year\": \"2015\", \"category\": \"SUV\", \"model\": \"RAV4\", \"color\": \"White\", \"pride\": 15000}]}</td><td>null</td><td>null</td></tr><tr><td>{\"user_profile\": [{\"userid\": \"userid_1\", \"username\": \"Jenna Bostwick\", \"gender\": \"female\", \"age\": 25, \"picture_url\": \"../images/profile/Jenna Bostwick.png\"}], \"car\": [{\"carid\": \"car_0\", \"make\": \"Honda\", \"year\": \"2020\", \"category\": \"Sedan\", \"model\": \"Accord\", \"color\": \"Black\", \"pride\": 14000}]}</td><td>null</td><td>null</td></tr><tr><td>{\"user_profile\": [{\"userid\": \"userid_2\", \"username\": \"Nathan Finley\", \"gender\": \"male\", \"age\": 20, \"picture_url\": \"../images/profile/Nathan Finley.png\"}], \"car\": [{\"carid\": \"car_10\", \"make\": \"Ferarri\", \"year\": \"2015\", \"category\": \"SportCar\", \"model\": \"Spider\", \"color\": \"Red\", \"pride\": 70000}]}</td><td>null</td><td>null</td></tr><tr><td>{\"user_profile\": [{\"userid\": \"userid_4\", \"username\": \"Keith Farrar\", \"gender\": \"male\", \"age\": 50, \"picture_url\": \"../images/profile/Keith Farrar.png\"}], \"car\": [{\"carid\": \"car_3\", \"make\": \"Toyota\", \"year\": \"2012\", \"category\": \"Sedan\", \"model\": \"Camry\", \"color\": \"Silver\", \"pride\": 11000}]}</td><td>null</td><td>null</td></tr><tr><td>{\"user_profile\": [{\"userid\": \"userid_1\", \"username\": \"Jenna Bostwick\", \"gender\": \"female\", \"age\": 25, \"picture_url\": \"../images/profile/Jenna Bostwick.png\"}], \"car\": [{\"carid\": \"car_3\", \"make\": \"Toyota\", \"year\": \"2012\", \"category\": \"Sedan\", \"model\": \"Camry\", \"color\": \"Silver\", \"pride\": 11000}]}</td><td>null</td><td>null</td></tr><tr><td>{\"user_profile\": [{\"userid\": \"userid_4\", \"username\": \"Keith Farrar\", \"gender\": \"male\", \"age\": 50, \"picture_url\": \"../images/profile/Keith Farrar.png\"}], \"car\": [{\"carid\": \"car_7\", \"make\": \"Chevrolet\", \"year\": \"2016\", \"category\": \"Truck\", \"model\": \"Silverado\", \"color\": \"White\", \"pride\": 17000}]}</td><td>null</td><td>null</td></tr><tr><td>{\"user_profile\": [{\"userid\": \"userid_0\", \"username\": \"Maria Dandridge\", \"gender\": \"female\", \"age\": 20, \"picture_url\": \"../images/profile/Maria Dandridge.png\"}], \"car\": [{\"carid\": \"car_3\", \"make\": \"Toyota\", \"year\": \"2012\", \"category\": \"Sedan\", \"model\": \"Camry\", \"color\": \"Silver\", \"pride\": 11000}]}</td><td>null</td><td>null</td></tr><tr><td>{\"user_profile\": [{\"userid\": \"userid_0\", \"username\": \"Maria Dandridge\", \"gender\": \"female\", \"age\": 20, \"picture_url\": \"../images/profile/Maria Dandridge.png\"}], \"car\": [{\"carid\": \"car_0\", \"make\": \"Honda\", \"year\": \"2020\", \"category\": \"Sedan\", \"model\": \"Accord\", \"color\": \"Black\", \"pride\": 14000}]}</td><td>null</td><td>null</td></tr><tr><td>{\"user_profile\": [{\"userid\": \"userid_2\", \"username\": \"Nathan Finley\", \"gender\": \"male\", \"age\": 20, \"picture_url\": \"../images/profile/Nathan Finley.png\"}], \"car\": [{\"carid\": \"car_8\", \"make\": \"Ford\", \"year\": \"2016\", \"category\": \"Truck\", \"model\": \"F-150\", \"color\": \"Brown\", \"pride\": 17000}]}</td><td>null</td><td>null</td></tr><tr><td>{\"user_profile\": [{\"userid\": \"userid_4\", \"username\": \"Keith Farrar\", \"gender\": \"male\", \"age\": 50, \"picture_url\": \"../images/profile/Keith Farrar.png\"}], \"car\": [{\"carid\": \"car_7\", \"make\": \"Chevrolet\", \"year\": \"2016\", \"category\": \"Truck\", \"model\": \"Silverado\", \"color\": \"White\", \"pride\": 17000}]}</td><td>null</td><td>null</td></tr><tr><td>{\"user_profile\": [{\"userid\": \"userid_4\", \"username\": \"Keith Farrar\", \"gender\": \"male\", \"age\": 50, \"picture_url\": \"../images/profile/Keith Farrar.png\"}], \"car\": [{\"carid\": \"car_0\", \"make\": \"Honda\", \"year\": \"2020\", \"category\": \"Sedan\", \"model\": \"Accord\", \"color\": \"Black\", \"pride\": 14000}]}</td><td>null</td><td>null</td></tr><tr><td>{\"user_profile\": [{\"userid\": \"userid_1\", \"username\": \"Jenna Bostwick\", \"gender\": \"female\", \"age\": 25, \"picture_url\": \"../images/profile/Jenna Bostwick.png\"}], \"car\": [{\"carid\": \"car_3\", \"make\": \"Toyota\", \"year\": \"2012\", \"category\": \"Sedan\", \"model\": \"Camry\", \"color\": \"Silver\", \"pride\": 11000}]}</td><td>null</td><td>null</td></tr><tr><td>{\"user_profile\": [{\"userid\": \"userid_3\", \"username\": \"Owen Milford\", \"gender\": \"male\", \"age\": 30, \"picture_url\": \"../images/profile/Owen Milford.png\"}], \"car\": [{\"carid\": \"car_2\", \"make\": \"Nissan\", \"year\": \"2018\", \"category\": \"Sedan\", \"model\": \"Altima\", \"color\": \"Gold\", \"pride\": 13000}]}</td><td>null</td><td>null</td></tr><tr><td>{\"user_profile\": [{\"userid\": \"userid_1\", \"username\": \"Jenna Bostwick\", \"gender\": \"female\", \"age\": 25, \"picture_url\": \"../images/profile/Jenna Bostwick.png\"}], \"car\": [{\"carid\": \"car_7\", \"make\": \"Chevrolet\", \"year\": \"2016\", \"category\": \"Truck\", \"model\": \"Silverado\", \"color\": \"White\", \"pride\": 17000}]}</td><td>null</td><td>null</td></tr><tr><td>{\"user_profile\": [{\"userid\": \"userid_2\", \"username\": \"Nathan Finley\", \"gender\": \"male\", \"age\": 20, \"picture_url\": \"../images/profile/Nathan Finley.png\"}], \"car\": [{\"carid\": \"car_5\", \"make\": \"Toyota\", \"year\": \"2015\", \"category\": \"SUV\", \"model\": \"RAV4\", \"color\": \"White\", \"pride\": 15000}]}</td><td>null</td><td>null</td></tr><tr><td>{\"user_profile\": [{\"userid\": \"userid_2\", \"username\": \"Nathan Finley\", \"gender\": \"male\", \"age\": 20, \"picture_url\": \"../images/profile/Nathan Finley.png\"}], \"car\": [{\"carid\": \"car_4\", \"make\": \"Honda\", \"year\": \"2013\", \"category\": \"SVU\", \"model\": \"CR-V\", \"color\": \"Brown\", \"pride\": 11000}]}</td><td>null</td><td>null</td></tr><tr><td>{\"user_profile\": [{\"userid\": \"userid_3\", \"username\": \"Owen Milford\", \"gender\": \"male\", \"age\": 30, \"picture_url\": \"../images/profile/Owen Milford.png\"}], \"car\": [{\"carid\": \"car_1\", \"make\": \"Hyundai\", \"year\": \"2017\", \"category\": \"Sedan\", \"model\": \"Sonata\", \"color\": \"Gray\", \"pride\": 14000}]}</td><td>null</td><td>null</td></tr><tr><td>{\"user_profile\": [{\"userid\": \"userid_0\", \"username\": \"Maria Dandridge\", \"gender\": \"female\", \"age\": 20, \"picture_url\": \"../images/profile/Maria Dandridge.png\"}], \"car\": [{\"carid\": \"car_0\", \"make\": \"Honda\", \"year\": \"2020\", \"category\": \"Sedan\", \"model\": \"Accord\", \"color\": \"Black\", \"pride\": 14000}]}</td><td>null</td><td>null</td></tr><tr><td>{\"user_profile\": [{\"userid\": \"userid_2\", \"username\": \"Nathan Finley\", \"gender\": \"male\", \"age\": 20, \"picture_url\": \"../images/profile/Nathan Finley.png\"}], \"car\": [{\"carid\": \"car_9\", \"make\": \"Ram\", \"year\": \"2010\", \"category\": \"Truck\", \"model\": \"1500\", \"color\": \"Black\", \"pride\": 17000}]}</td><td>null</td><td>null</td></tr><tr><td>{\"user_profile\": [{\"userid\": \"userid_0\", \"username\": \"Maria Dandridge\", \"gender\": \"female\", \"age\": 20, \"picture_url\": \"../images/profile/Maria Dandridge.png\"}], \"car\": [{\"carid\": \"car_3\", \"make\": \"Toyota\", \"year\": \"2012\", \"category\": \"Sedan\", \"model\": \"Camry\", \"color\": \"Silver\", \"pride\": 11000}]}</td><td>null</td><td>null</td></tr><tr><td>{\"user_profile\": [{\"userid\": \"userid_4\", \"username\": \"Keith Farrar\", \"gender\": \"male\", \"age\": 50, \"picture_url\": \"../images/profile/Keith Farrar.png\"}], \"car\": [{\"carid\": \"car_8\", \"make\": \"Ford\", \"year\": \"2016\", \"category\": \"Truck\", \"model\": \"F-150\", \"color\": \"Brown\", \"pride\": 17000}]}</td><td>null</td><td>null</td></tr><tr><td>{\"user_profile\": [{\"userid\": \"userid_0\", \"username\": \"Maria Dandridge\", \"gender\": \"female\", \"age\": 20, \"picture_url\": \"../images/profile/Maria Dandridge.png\"}], \"car\": [{\"carid\": \"car_8\", \"make\": \"Ford\", \"year\": \"2016\", \"category\": \"Truck\", \"model\": \"F-150\", \"color\": \"Brown\", \"pride\": 17000}]}</td><td>null</td><td>null</td></tr><tr><td>{\"user_profile\": [{\"userid\": \"userid_0\", \"username\": \"Maria Dandridge\", \"gender\": \"female\", \"age\": 20, \"picture_url\": \"../images/profile/Maria Dandridge.png\"}], \"car\": [{\"carid\": \"car_9\", \"make\": \"Ram\", \"year\": \"2010\", \"category\": \"Truck\", \"model\": \"1500\", \"color\": \"Black\", \"pride\": 17000}]}</td><td>null</td><td>null</td></tr><tr><td>{\"user_profile\": [{\"userid\": \"userid_1\", \"username\": \"Jenna Bostwick\", \"gender\": \"female\", \"age\": 25, \"picture_url\": \"../images/profile/Jenna Bostwick.png\"}], \"car\": [{\"carid\": \"car_3\", \"make\": \"Toyota\", \"year\": \"2012\", \"category\": \"Sedan\", \"model\": \"Camry\", \"color\": \"Silver\", \"pride\": 11000}]}</td><td>null</td><td>null</td></tr><tr><td>{\"user_profile\": [{\"userid\": \"userid_3\", \"username\": \"Owen Milford\", \"gender\": \"male\", \"age\": 30, \"picture_url\": \"../images/profile/Owen Milford.png\"}], \"car\": [{\"carid\": \"car_4\", \"make\": \"Honda\", \"year\": \"2013\", \"category\": \"SVU\", \"model\": \"CR-V\", \"color\": \"Brown\", \"pride\": 11000}]}</td><td>null</td><td>null</td></tr><tr><td>{\"user_profile\": [{\"userid\": \"userid_1\", \"username\": \"Jenna Bostwick\", \"gender\": \"female\", \"age\": 25, \"picture_url\": \"../images/profile/Jenna Bostwick.png\"}], \"car\": [{\"carid\": \"car_5\", \"make\": \"Toyota\", \"year\": \"2015\", \"category\": \"SUV\", \"model\": \"RAV4\", \"color\": \"White\", \"pride\": 15000}]}</td><td>null</td><td>null</td></tr><tr><td>{\"user_profile\": [{\"userid\": \"userid_3\", \"username\": \"Owen Milford\", \"gender\": \"male\", \"age\": 30, \"picture_url\": \"../images/profile/Owen Milford.png\"}], \"car\": [{\"carid\": \"car_1\", \"make\": \"Hyundai\", \"year\": \"2017\", \"category\": \"Sedan\", \"model\": \"Sonata\", \"color\": \"Gray\", \"pride\": 14000}]}</td><td>null</td><td>null</td></tr><tr><td>{\"user_profile\": [{\"userid\": \"userid_4\", \"username\": \"Keith Farrar\", \"gender\": \"male\", \"age\": 50, \"picture_url\": \"../images/profile/Keith Farrar.png\"}], \"car\": [{\"carid\": \"car_10\", \"make\": \"Ferarri\", \"year\": \"2015\", \"category\": \"SportCar\", \"model\": \"Spider\", \"color\": \"Red\", \"pride\": 70000}]}</td><td>null</td><td>null</td></tr><tr><td>{\"user_profile\": [{\"userid\": \"userid_4\", \"username\": \"Keith Farrar\", \"gender\": \"male\", \"age\": 50, \"picture_url\": \"../images/profile/Keith Farrar.png\"}], \"car\": [{\"carid\": \"car_2\", \"make\": \"Nissan\", \"year\": \"2018\", \"category\": \"Sedan\", \"model\": \"Altima\", \"color\": \"Gold\", \"pride\": 13000}]}</td><td>null</td><td>null</td></tr><tr><td>{\"user_profile\": [{\"userid\": \"userid_1\", \"username\": \"Jenna Bostwick\", \"gender\": \"female\", \"age\": 25, \"picture_url\": \"../images/profile/Jenna Bostwick.png\"}], \"car\": [{\"carid\": \"car_3\", \"make\": \"Toyota\", \"year\": \"2012\", \"category\": \"Sedan\", \"model\": \"Camry\", \"color\": \"Silver\", \"pride\": 11000}]}</td><td>null</td><td>null</td></tr><tr><td>{\"user_profile\": [{\"userid\": \"userid_3\", \"username\": \"Owen Milford\", \"gender\": \"male\", \"age\": 30, \"picture_url\": \"../images/profile/Owen Milford.png\"}], \"car\": [{\"carid\": \"car_3\", \"make\": \"Toyota\", \"year\": \"2012\", \"category\": \"Sedan\", \"model\": \"Camry\", \"color\": \"Silver\", \"pride\": 11000}]}</td><td>null</td><td>null</td></tr><tr><td>{\"user_profile\": [{\"userid\": \"userid_1\", \"username\": \"Jenna Bostwick\", \"gender\": \"female\", \"age\": 25, \"picture_url\": \"../images/profile/Jenna Bostwick.png\"}], \"car\": [{\"carid\": \"car_3\", \"make\": \"Toyota\", \"year\": \"2012\", \"category\": \"Sedan\", \"model\": \"Camry\", \"color\": \"Silver\", \"pride\": 11000}]}</td><td>null</td><td>null</td></tr><tr><td>{\"user_profile\": [{\"userid\": \"userid_2\", \"username\": \"Nathan Finley\", \"gender\": \"male\", \"age\": 20, \"picture_url\": \"../images/profile/Nathan Finley.png\"}], \"car\": [{\"carid\": \"car_4\", \"make\": \"Honda\", \"year\": \"2013\", \"category\": \"SVU\", \"model\": \"CR-V\", \"color\": \"Brown\", \"pride\": 11000}]}</td><td>null</td><td>null</td></tr><tr><td>{\"user_profile\": [{\"userid\": \"userid_0\", \"username\": \"Maria Dandridge\", \"gender\": \"female\", \"age\": 20, \"picture_url\": \"../images/profile/Maria Dandridge.png\"}], \"car\": [{\"carid\": \"car_3\", \"make\": \"Toyota\", \"year\": \"2012\", \"category\": \"Sedan\", \"model\": \"Camry\", \"color\": \"Silver\", \"pride\": 11000}]}</td><td>null</td><td>null</td></tr><tr><td>{\"user_profile\": [{\"userid\": \"userid_3\", \"username\": \"Owen Milford\", \"gender\": \"male\", \"age\": 30, \"picture_url\": \"../images/profile/Owen Milford.png\"}], \"car\": [{\"carid\": \"car_1\", \"make\": \"Hyundai\", \"year\": \"2017\", \"category\": \"Sedan\", \"model\": \"Sonata\", \"color\": \"Gray\", \"pride\": 14000}]}</td><td>null</td><td>null</td></tr><tr><td>{\"user_profile\": [{\"userid\": \"userid_0\", \"username\": \"Maria Dandridge\", \"gender\": \"female\", \"age\": 20, \"picture_url\": \"../images/profile/Maria Dandridge.png\"}], \"car\": [{\"carid\": \"car_10\", \"make\": \"Ferarri\", \"year\": \"2015\", \"category\": \"SportCar\", \"model\": \"Spider\", \"color\": \"Red\", \"pride\": 70000}]}</td><td>null</td><td>null</td></tr><tr><td>{\"user_profile\": [{\"userid\": \"userid_2\", \"username\": \"Nathan Finley\", \"gender\": \"male\", \"age\": 20, \"picture_url\": \"../images/profile/Nathan Finley.png\"}], \"car\": [{\"carid\": \"car_6\", \"make\": \"Nissan\", \"year\": \"2015\", \"category\": \"SUV\", \"model\": \"Rouge\", \"color\": \"Brown\", \"pride\": 15500}]}</td><td>null</td><td>null</td></tr><tr><td>{\"user_profile\": [{\"userid\": \"userid_2\", \"username\": \"Nathan Finley\", \"gender\": \"male\", \"age\": 20, \"picture_url\": \"../images/profile/Nathan Finley.png\"}], \"car\": [{\"carid\": \"car_2\", \"make\": \"Nissan\", \"year\": \"2018\", \"category\": \"Sedan\", \"model\": \"Altima\", \"color\": \"Gold\", \"pride\": 13000}]}</td><td>null</td><td>null</td></tr><tr><td>{\"user_profile\": [{\"userid\": \"userid_4\", \"username\": \"Keith Farrar\", \"gender\": \"male\", \"age\": 50, \"picture_url\": \"../images/profile/Keith Farrar.png\"}], \"car\": [{\"carid\": \"car_9\", \"make\": \"Ram\", \"year\": \"2010\", \"category\": \"Truck\", \"model\": \"1500\", \"color\": \"Black\", \"pride\": 17000}]}</td><td>null</td><td>null</td></tr><tr><td>{\"user_profile\": [{\"userid\": \"userid_3\", \"username\": \"Owen Milford\", \"gender\": \"male\", \"age\": 30, \"picture_url\": \"../images/profile/Owen Milford.png\"}], \"car\": [{\"carid\": \"car_3\", \"make\": \"Toyota\", \"year\": \"2012\", \"category\": \"Sedan\", \"model\": \"Camry\", \"color\": \"Silver\", \"pride\": 11000}]}</td><td>null</td><td>null</td></tr><tr><td>{\"user_profile\": [{\"userid\": \"userid_4\", \"username\": \"Keith Farrar\", \"gender\": \"male\", \"age\": 50, \"picture_url\": \"../images/profile/Keith Farrar.png\"}], \"car\": [{\"carid\": \"car_11\", \"make\": \"Tesla\", \"year\": \"2019\", \"category\": \"EV\", \"model\": \"Model Y\", \"color\": \"Black\", \"pride\": 40000}]}</td><td>null</td><td>null</td></tr><tr><td>{\"user_profile\": [{\"userid\": \"userid_3\", \"username\": \"Owen Milford\", \"gender\": \"male\", \"age\": 30, \"picture_url\": \"../images/profile/Owen Milford.png\"}], \"car\": [{\"carid\": \"car_2\", \"make\": \"Nissan\", \"year\": \"2018\", \"category\": \"Sedan\", \"model\": \"Altima\", \"color\": \"Gold\", \"pride\": 13000}]}</td><td>null</td><td>null</td></tr><tr><td>{\"user_profile\": [{\"userid\": \"userid_4\", \"username\": \"Keith Farrar\", \"gender\": \"male\", \"age\": 50, \"picture_url\": \"../images/profile/Keith Farrar.png\"}], \"car\": [{\"carid\": \"car_1\", \"make\": \"Hyundai\", \"year\": \"2017\", \"category\": \"Sedan\", \"model\": \"Sonata\", \"color\": \"Gray\", \"pride\": 14000}]}</td><td>null</td><td>null</td></tr><tr><td>{\"user_profile\": [{\"userid\": \"userid_4\", \"username\": \"Keith Farrar\", \"gender\": \"male\", \"age\": 50, \"picture_url\": \"../images/profile/Keith Farrar.png\"}], \"car\": [{\"carid\": \"car_10\", \"make\": \"Ferarri\", \"year\": \"2015\", \"category\": \"SportCar\", \"model\": \"Spider\", \"color\": \"Red\", \"pride\": 70000}]}</td><td>null</td><td>null</td></tr><tr><td>{\"user_profile\": [{\"userid\": \"userid_1\", \"username\": \"Jenna Bostwick\", \"gender\": \"female\", \"age\": 25, \"picture_url\": \"../images/profile/Jenna Bostwick.png\"}], \"car\": [{\"carid\": \"car_8\", \"make\": \"Ford\", \"year\": \"2016\", \"category\": \"Truck\", \"model\": \"F-150\", \"color\": \"Brown\", \"pride\": 17000}]}</td><td>null</td><td>null</td></tr><tr><td>{\"user_profile\": [{\"userid\": \"userid_1\", \"username\": \"Jenna Bostwick\", \"gender\": \"female\", \"age\": 25, \"picture_url\": \"../images/profile/Jenna Bostwick.png\"}], \"car\": [{\"carid\": \"car_4\", \"make\": \"Honda\", \"year\": \"2013\", \"category\": \"SVU\", \"model\": \"CR-V\", \"color\": \"Brown\", \"pride\": 11000}]}</td><td>null</td><td>null</td></tr><tr><td>{\"user_profile\": [{\"userid\": \"userid_3\", \"username\": \"Owen Milford\", \"gender\": \"male\", \"age\": 30, \"picture_url\": \"../images/profile/Owen Milford.png\"}], \"car\": [{\"carid\": \"car_11\", \"make\": \"Tesla\", \"year\": \"2019\", \"category\": \"EV\", \"model\": \"Model Y\", \"color\": \"Black\", \"pride\": 40000}]}</td><td>null</td><td>null</td></tr><tr><td>{\"user_profile\": [{\"userid\": \"userid_3\", \"username\": \"Owen Milford\", \"gender\": \"male\", \"age\": 30, \"picture_url\": \"../images/profile/Owen Milford.png\"}], \"car\": [{\"carid\": \"car_2\", \"make\": \"Nissan\", \"year\": \"2018\", \"category\": \"Sedan\", \"model\": \"Altima\", \"color\": \"Gold\", \"pride\": 13000}]}</td><td>null</td><td>null</td></tr><tr><td>{\"user_profile\": [{\"userid\": \"userid_2\", \"username\": \"Nathan Finley\", \"gender\": \"male\", \"age\": 20, \"picture_url\": \"../images/profile/Nathan Finley.png\"}], \"car\": [{\"carid\": \"car_0\", \"make\": \"Honda\", \"year\": \"2020\", \"category\": \"Sedan\", \"model\": \"Accord\", \"color\": \"Black\", \"pride\": 14000}]}</td><td>null</td><td>null</td></tr><tr><td>{\"user_profile\": [{\"userid\": \"userid_4\", \"username\": \"Keith Farrar\", \"gender\": \"male\", \"age\": 50, \"picture_url\": \"../images/profile/Keith Farrar.png\"}], \"car\": [{\"carid\": \"car_4\", \"make\": \"Honda\", \"year\": \"2013\", \"category\": \"SVU\", \"model\": \"CR-V\", \"color\": \"Brown\", \"pride\": 11000}]}</td><td>null</td><td>null</td></tr><tr><td>{\"user_profile\": [{\"userid\": \"userid_2\", \"username\": \"Nathan Finley\", \"gender\": \"male\", \"age\": 20, \"picture_url\": \"../images/profile/Nathan Finley.png\"}], \"car\": [{\"carid\": \"car_0\", \"make\": \"Honda\", \"year\": \"2020\", \"category\": \"Sedan\", \"model\": \"Accord\", \"color\": \"Black\", \"pride\": 14000}]}</td><td>null</td><td>null</td></tr><tr><td>{\"user_profile\": [{\"userid\": \"userid_0\", \"username\": \"Maria Dandridge\", \"gender\": \"female\", \"age\": 20, \"picture_url\": \"../images/profile/Maria Dandridge.png\"}], \"car\": [{\"carid\": \"car_2\", \"make\": \"Nissan\", \"year\": \"2018\", \"category\": \"Sedan\", \"model\": \"Altima\", \"color\": \"Gold\", \"pride\": 13000}]}</td><td>null</td><td>null</td></tr><tr><td>{\"user_profile\": [{\"userid\": \"userid_0\", \"username\": \"Maria Dandridge\", \"gender\": \"female\", \"age\": 20, \"picture_url\": \"../images/profile/Maria Dandridge.png\"}], \"car\": [{\"carid\": \"car_8\", \"make\": \"Ford\", \"year\": \"2016\", \"category\": \"Truck\", \"model\": \"F-150\", \"color\": \"Brown\", \"pride\": 17000}]}</td><td>null</td><td>null</td></tr><tr><td>{\"user_profile\": [{\"userid\": \"userid_2\", \"username\": \"Nathan Finley\", \"gender\": \"male\", \"age\": 20, \"picture_url\": \"../images/profile/Nathan Finley.png\"}], \"car\": [{\"carid\": \"car_5\", \"make\": \"Toyota\", \"year\": \"2015\", \"category\": \"SUV\", \"model\": \"RAV4\", \"color\": \"White\", \"pride\": 15000}]}</td><td>null</td><td>null</td></tr><tr><td>{\"user_profile\": [{\"userid\": \"userid_4\", \"username\": \"Keith Farrar\", \"gender\": \"male\", \"age\": 50, \"picture_url\": \"../images/profile/Keith Farrar.png\"}], \"car\": [{\"carid\": \"car_11\", \"make\": \"Tesla\", \"year\": \"2019\", \"category\": \"EV\", \"model\": \"Model Y\", \"color\": \"Black\", \"pride\": 40000}]}</td><td>null</td><td>null</td></tr><tr><td>{\"user_profile\": [{\"userid\": \"userid_3\", \"username\": \"Owen Milford\", \"gender\": \"male\", \"age\": 30, \"picture_url\": \"../images/profile/Owen Milford.png\"}], \"car\": [{\"carid\": \"car_0\", \"make\": \"Honda\", \"year\": \"2020\", \"category\": \"Sedan\", \"model\": \"Accord\", \"color\": \"Black\", \"pride\": 14000}]}</td><td>null</td><td>null</td></tr><tr><td>{\"user_profile\": [{\"userid\": \"userid_3\", \"username\": \"Owen Milford\", \"gender\": \"male\", \"age\": 30, \"picture_url\": \"../images/profile/Owen Milford.png\"}], \"car\": [{\"carid\": \"car_9\", \"make\": \"Ram\", \"year\": \"2010\", \"category\": \"Truck\", \"model\": \"1500\", \"color\": \"Black\", \"pride\": 17000}]}</td><td>null</td><td>null</td></tr><tr><td>{\"user_profile\": [{\"userid\": \"userid_4\", \"username\": \"Keith Farrar\", \"gender\": \"male\", \"age\": 50, \"picture_url\": \"../images/profile/Keith Farrar.png\"}], \"car\": [{\"carid\": \"car_7\", \"make\": \"Chevrolet\", \"year\": \"2016\", \"category\": \"Truck\", \"model\": \"Silverado\", \"color\": \"White\", \"pride\": 17000}]}</td><td>null</td><td>null</td></tr><tr><td>{\"user_profile\": [{\"userid\": \"userid_2\", \"username\": \"Nathan Finley\", \"gender\": \"male\", \"age\": 20, \"picture_url\": \"../images/profile/Nathan Finley.png\"}], \"car\": [{\"carid\": \"car_8\", \"make\": \"Ford\", \"year\": \"2016\", \"category\": \"Truck\", \"model\": \"F-150\", \"color\": \"Brown\", \"pride\": 17000}]}</td><td>null</td><td>null</td></tr><tr><td>{\"user_profile\": [{\"userid\": \"userid_1\", \"username\": \"Jenna Bostwick\", \"gender\": \"female\", \"age\": 25, \"picture_url\": \"../images/profile/Jenna Bostwick.png\"}], \"car\": [{\"carid\": \"car_7\", \"make\": \"Chevrolet\", \"year\": \"2016\", \"category\": \"Truck\", \"model\": \"Silverado\", \"color\": \"White\", \"pride\": 17000}]}</td><td>null</td><td>null</td></tr><tr><td>{\"user_profile\": [{\"userid\": \"userid_4\", \"username\": \"Keith Farrar\", \"gender\": \"male\", \"age\": 50, \"picture_url\": \"../images/profile/Keith Farrar.png\"}], \"car\": [{\"carid\": \"car_5\", \"make\": \"Toyota\", \"year\": \"2015\", \"category\": \"SUV\", \"model\": \"RAV4\", \"color\": \"White\", \"pride\": 15000}]}</td><td>null</td><td>null</td></tr><tr><td>{\"user_profile\": [{\"userid\": \"userid_0\", \"username\": \"Maria Dandridge\", \"gender\": \"female\", \"age\": 20, \"picture_url\": \"../images/profile/Maria Dandridge.png\"}], \"car\": [{\"carid\": \"car_2\", \"make\": \"Nissan\", \"year\": \"2018\", \"category\": \"Sedan\", \"model\": \"Altima\", \"color\": \"Gold\", \"pride\": 13000}]}</td><td>null</td><td>null</td></tr><tr><td>{\"user_profile\": [{\"userid\": \"userid_4\", \"username\": \"Keith Farrar\", \"gender\": \"male\", \"age\": 50, \"picture_url\": \"../images/profile/Keith Farrar.png\"}], \"car\": [{\"carid\": \"car_3\", \"make\": \"Toyota\", \"year\": \"2012\", \"category\": \"Sedan\", \"model\": \"Camry\", \"color\": \"Silver\", \"pride\": 11000}]}</td><td>null</td><td>null</td></tr><tr><td>{\"user_profile\": [{\"userid\": \"userid_1\", \"username\": \"Jenna Bostwick\", \"gender\": \"female\", \"age\": 25, \"picture_url\": \"../images/profile/Jenna Bostwick.png\"}], \"car\": [{\"carid\": \"car_7\", \"make\": \"Chevrolet\", \"year\": \"2016\", \"category\": \"Truck\", \"model\": \"Silverado\", \"color\": \"White\", \"pride\": 17000}]}</td><td>null</td><td>null</td></tr><tr><td>{\"user_profile\": [{\"userid\": \"userid_2\", \"username\": \"Nathan Finley\", \"gender\": \"male\", \"age\": 20, \"picture_url\": \"../images/profile/Nathan Finley.png\"}], \"car\": [{\"carid\": \"car_0\", \"make\": \"Honda\", \"year\": \"2020\", \"category\": \"Sedan\", \"model\": \"Accord\", \"color\": \"Black\", \"pride\": 14000}]}</td><td>null</td><td>null</td></tr><tr><td>{\"user_profile\": [{\"userid\": \"userid_0\", \"username\": \"Maria Dandridge\", \"gender\": \"female\", \"age\": 20, \"picture_url\": \"../images/profile/Maria Dandridge.png\"}], \"car\": [{\"carid\": \"car_6\", \"make\": \"Nissan\", \"year\": \"2015\", \"category\": \"SUV\", \"model\": \"Rouge\", \"color\": \"Brown\", \"pride\": 15500}]}</td><td>null</td><td>null</td></tr><tr><td>{\"user_profile\": [{\"userid\": \"userid_0\", \"username\": \"Maria Dandridge\", \"gender\": \"female\", \"age\": 20, \"picture_url\": \"../images/profile/Maria Dandridge.png\"}], \"car\": [{\"carid\": \"car_5\", \"make\": \"Toyota\", \"year\": \"2015\", \"category\": \"SUV\", \"model\": \"RAV4\", \"color\": \"White\", \"pride\": 15000}]}</td><td>null</td><td>null</td></tr><tr><td>{\"user_profile\": [{\"userid\": \"userid_4\", \"username\": \"Keith Farrar\", \"gender\": \"male\", \"age\": 50, \"picture_url\": \"../images/profile/Keith Farrar.png\"}], \"car\": [{\"carid\": \"car_10\", \"make\": \"Ferarri\", \"year\": \"2015\", \"category\": \"SportCar\", \"model\": \"Spider\", \"color\": \"Red\", \"pride\": 70000}]}</td><td>null</td><td>null</td></tr><tr><td>{\"user_profile\": [{\"userid\": \"userid_0\", \"username\": \"Maria Dandridge\", \"gender\": \"female\", \"age\": 20, \"picture_url\": \"../images/profile/Maria Dandridge.png\"}], \"car\": [{\"carid\": \"car_6\", \"make\": \"Nissan\", \"year\": \"2015\", \"category\": \"SUV\", \"model\": \"Rouge\", \"color\": \"Brown\", \"pride\": 15500}]}</td><td>null</td><td>null</td></tr><tr><td>{\"user_profile\": [{\"userid\": \"userid_0\", \"username\": \"Maria Dandridge\", \"gender\": \"female\", \"age\": 20, \"picture_url\": \"../images/profile/Maria Dandridge.png\"}], \"car\": [{\"carid\": \"car_9\", \"make\": \"Ram\", \"year\": \"2010\", \"category\": \"Truck\", \"model\": \"1500\", \"color\": \"Black\", \"pride\": 17000}]}</td><td>null</td><td>null</td></tr><tr><td>{\"user_profile\": [{\"userid\": \"userid_3\", \"username\": \"Owen Milford\", \"gender\": \"male\", \"age\": 30, \"picture_url\": \"../images/profile/Owen Milford.png\"}], \"car\": [{\"carid\": \"car_5\", \"make\": \"Toyota\", \"year\": \"2015\", \"category\": \"SUV\", \"model\": \"RAV4\", \"color\": \"White\", \"pride\": 15000}]}</td><td>null</td><td>null</td></tr><tr><td>{\"user_profile\": [{\"userid\": \"userid_0\", \"username\": \"Maria Dandridge\", \"gender\": \"female\", \"age\": 20, \"picture_url\": \"../images/profile/Maria Dandridge.png\"}], \"car\": [{\"carid\": \"car_2\", \"make\": \"Nissan\", \"year\": \"2018\", \"category\": \"Sedan\", \"model\": \"Altima\", \"color\": \"Gold\", \"pride\": 13000}]}</td><td>null</td><td>null</td></tr><tr><td>{\"user_profile\": [{\"userid\": \"userid_4\", \"username\": \"Keith Farrar\", \"gender\": \"male\", \"age\": 50, \"picture_url\": \"../images/profile/Keith Farrar.png\"}], \"car\": [{\"carid\": \"car_3\", \"make\": \"Toyota\", \"year\": \"2012\", \"category\": \"Sedan\", \"model\": \"Camry\", \"color\": \"Silver\", \"pride\": 11000}]}</td><td>null</td><td>null</td></tr><tr><td>{\"user_profile\": [{\"userid\": \"userid_0\", \"username\": \"Maria Dandridge\", \"gender\": \"female\", \"age\": 20, \"picture_url\": \"../images/profile/Maria Dandridge.png\"}], \"car\": [{\"carid\": \"car_6\", \"make\": \"Nissan\", \"year\": \"2015\", \"category\": \"SUV\", \"model\": \"Rouge\", \"color\": \"Brown\", \"pride\": 15500}]}</td><td>null</td><td>null</td></tr><tr><td>{\"user_profile\": [{\"userid\": \"userid_1\", \"username\": \"Jenna Bostwick\", \"gender\": \"female\", \"age\": 25, \"picture_url\": \"../images/profile/Jenna Bostwick.png\"}], \"car\": [{\"carid\": \"car_11\", \"make\": \"Tesla\", \"year\": \"2019\", \"category\": \"EV\", \"model\": \"Model Y\", \"color\": \"Black\", \"pride\": 40000}]}</td><td>null</td><td>null</td></tr><tr><td>{\"user_profile\": [{\"userid\": \"userid_0\", \"username\": \"Maria Dandridge\", \"gender\": \"female\", \"age\": 20, \"picture_url\": \"../images/profile/Maria Dandridge.png\"}], \"car\": [{\"carid\": \"car_8\", \"make\": \"Ford\", \"year\": \"2016\", \"category\": \"Truck\", \"model\": \"F-150\", \"color\": \"Brown\", \"pride\": 17000}]}</td><td>null</td><td>null</td></tr><tr><td>{\"user_profile\": [{\"userid\": \"userid_3\", \"username\": \"Owen Milford\", \"gender\": \"male\", \"age\": 30, \"picture_url\": \"../images/profile/Owen Milford.png\"}], \"car\": [{\"carid\": \"car_1\", \"make\": \"Hyundai\", \"year\": \"2017\", \"category\": \"Sedan\", \"model\": \"Sonata\", \"color\": \"Gray\", \"pride\": 14000}]}</td><td>null</td><td>null</td></tr><tr><td>{\"user_profile\": [{\"userid\": \"userid_4\", \"username\": \"Keith Farrar\", \"gender\": \"male\", \"age\": 50, \"picture_url\": \"../images/profile/Keith Farrar.png\"}], \"car\": [{\"carid\": \"car_7\", \"make\": \"Chevrolet\", \"year\": \"2016\", \"category\": \"Truck\", \"model\": \"Silverado\", \"color\": \"White\", \"pride\": 17000}]}</td><td>null</td><td>null</td></tr><tr><td>{\"user_profile\": [{\"userid\": \"userid_1\", \"username\": \"Jenna Bostwick\", \"gender\": \"female\", \"age\": 25, \"picture_url\": \"../images/profile/Jenna Bostwick.png\"}], \"car\": [{\"carid\": \"car_4\", \"make\": \"Honda\", \"year\": \"2013\", \"category\": \"SVU\", \"model\": \"CR-V\", \"color\": \"Brown\", \"pride\": 11000}]}</td><td>null</td><td>null</td></tr><tr><td>{\"user_profile\": [{\"userid\": \"userid_4\", \"username\": \"Keith Farrar\", \"gender\": \"male\", \"age\": 50, \"picture_url\": \"../images/profile/Keith Farrar.png\"}], \"car\": [{\"carid\": \"car_5\", \"make\": \"Toyota\", \"year\": \"2015\", \"category\": \"SUV\", \"model\": \"RAV4\", \"color\": \"White\", \"pride\": 15000}]}</td><td>null</td><td>null</td></tr><tr><td>{\"user_profile\": [{\"userid\": \"userid_1\", \"username\": \"Jenna Bostwick\", \"gender\": \"female\", \"age\": 25, \"picture_url\": \"../images/profile/Jenna Bostwick.png\"}], \"car\": [{\"carid\": \"car_9\", \"make\": \"Ram\", \"year\": \"2010\", \"category\": \"Truck\", \"model\": \"1500\", \"color\": \"Black\", \"pride\": 17000}]}</td><td>null</td><td>null</td></tr><tr><td>{\"user_profile\": [{\"userid\": \"userid_3\", \"username\": \"Owen Milford\", \"gender\": \"male\", \"age\": 30, \"picture_url\": \"../images/profile/Owen Milford.png\"}], \"car\": [{\"carid\": \"car_5\", \"make\": \"Toyota\", \"year\": \"2015\", \"category\": \"SUV\", \"model\": \"RAV4\", \"color\": \"White\", \"pride\": 15000}]}</td><td>null</td><td>null</td></tr><tr><td>{\"user_profile\": [{\"userid\": \"userid_2\", \"username\": \"Nathan Finley\", \"gender\": \"male\", \"age\": 20, \"picture_url\": \"../images/profile/Nathan Finley.png\"}], \"car\": [{\"carid\": \"car_3\", \"make\": \"Toyota\", \"year\": \"2012\", \"category\": \"Sedan\", \"model\": \"Camry\", \"color\": \"Silver\", \"pride\": 11000}]}</td><td>null</td><td>null</td></tr><tr><td>{\"user_profile\": [{\"userid\": \"userid_1\", \"username\": \"Jenna Bostwick\", \"gender\": \"female\", \"age\": 25, \"picture_url\": \"../images/profile/Jenna Bostwick.png\"}], \"car\": [{\"carid\": \"car_9\", \"make\": \"Ram\", \"year\": \"2010\", \"category\": \"Truck\", \"model\": \"1500\", \"color\": \"Black\", \"pride\": 17000}]}</td><td>null</td><td>null</td></tr><tr><td>{\"user_profile\": [{\"userid\": \"userid_1\", \"username\": \"Jenna Bostwick\", \"gender\": \"female\", \"age\": 25, \"picture_url\": \"../images/profile/Jenna Bostwick.png\"}], \"car\": [{\"carid\": \"car_3\", \"make\": \"Toyota\", \"year\": \"2012\", \"category\": \"Sedan\", \"model\": \"Camry\", \"color\": \"Silver\", \"pride\": 11000}]}</td><td>null</td><td>null</td></tr><tr><td>{\"user_profile\": [{\"userid\": \"userid_4\", \"username\": \"Keith Farrar\", \"gender\": \"male\", \"age\": 50, \"picture_url\": \"../images/profile/Keith Farrar.png\"}], \"car\": [{\"carid\": \"car_9\", \"make\": \"Ram\", \"year\": \"2010\", \"category\": \"Truck\", \"model\": \"1500\", \"color\": \"Black\", \"pride\": 17000}]}</td><td>null</td><td>null</td></tr><tr><td>{\"user_profile\": [{\"userid\": \"userid_0\", \"username\": \"Maria Dandridge\", \"gender\": \"female\", \"age\": 20, \"picture_url\": \"../images/profile/Maria Dandridge.png\"}], \"car\": [{\"carid\": \"car_4\", \"make\": \"Honda\", \"year\": \"2013\", \"category\": \"SVU\", \"model\": \"CR-V\", \"color\": \"Brown\", \"pride\": 11000}]}</td><td>null</td><td>null</td></tr><tr><td>{\"user_profile\": [{\"userid\": \"userid_3\", \"username\": \"Owen Milford\", \"gender\": \"male\", \"age\": 30, \"picture_url\": \"../images/profile/Owen Milford.png\"}], \"car\": [{\"carid\": \"car_0\", \"make\": \"Honda\", \"year\": \"2020\", \"category\": \"Sedan\", \"model\": \"Accord\", \"color\": \"Black\", \"pride\": 14000}]}</td><td>null</td><td>null</td></tr><tr><td>{\"user_profile\": [{\"userid\": \"userid_0\", \"username\": \"Maria Dandridge\", \"gender\": \"female\", \"age\": 20, \"picture_url\": \"../images/profile/Maria Dandridge.png\"}], \"car\": [{\"carid\": \"car_4\", \"make\": \"Honda\", \"year\": \"2013\", \"category\": \"SVU\", \"model\": \"CR-V\", \"color\": \"Brown\", \"pride\": 11000}]}</td><td>null</td><td>null</td></tr><tr><td>{\"user_profile\": [{\"userid\": \"userid_4\", \"username\": \"Keith Farrar\", \"gender\": \"male\", \"age\": 50, \"picture_url\": \"../images/profile/Keith Farrar.png\"}], \"car\": [{\"carid\": \"car_11\", \"make\": \"Tesla\", \"year\": \"2019\", \"category\": \"EV\", \"model\": \"Model Y\", \"color\": \"Black\", \"pride\": 40000}]}</td><td>null</td><td>null</td></tr><tr><td>{\"user_profile\": [{\"userid\": \"userid_1\", \"username\": \"Jenna Bostwick\", \"gender\": \"female\", \"age\": 25, \"picture_url\": \"../images/profile/Jenna Bostwick.png\"}], \"car\": [{\"carid\": \"car_10\", \"make\": \"Ferarri\", \"year\": \"2015\", \"category\": \"SportCar\", \"model\": \"Spider\", \"color\": \"Red\", \"pride\": 70000}]}</td><td>null</td><td>null</td></tr><tr><td>{\"user_profile\": [{\"userid\": \"userid_3\", \"username\": \"Owen Milford\", \"gender\": \"male\", \"age\": 30, \"picture_url\": \"../images/profile/Owen Milford.png\"}], \"car\": [{\"carid\": \"car_4\", \"make\": \"Honda\", \"year\": \"2013\", \"category\": \"SVU\", \"model\": \"CR-V\", \"color\": \"Brown\", \"pride\": 11000}]}</td><td>null</td><td>null</td></tr><tr><td>{\"user_profile\": [{\"userid\": \"userid_2\", \"username\": \"Nathan Finley\", \"gender\": \"male\", \"age\": 20, \"picture_url\": \"../images/profile/Nathan Finley.png\"}], \"car\": [{\"carid\": \"car_0\", \"make\": \"Honda\", \"year\": \"2020\", \"category\": \"Sedan\", \"model\": \"Accord\", \"color\": \"Black\", \"pride\": 14000}]}</td><td>null</td><td>null</td></tr><tr><td>{\"user_profile\": [{\"userid\": \"userid_3\", \"username\": \"Owen Milford\", \"gender\": \"male\", \"age\": 30, \"picture_url\": \"../images/profile/Owen Milford.png\"}], \"car\": [{\"carid\": \"car_11\", \"make\": \"Tesla\", \"year\": \"2019\", \"category\": \"EV\", \"model\": \"Model Y\", \"color\": \"Black\", \"pride\": 40000}]}</td><td>null</td><td>null</td></tr><tr><td>{\"user_profile\": [{\"userid\": \"userid_4\", \"username\": \"Keith Farrar\", \"gender\": \"male\", \"age\": 50, \"picture_url\": \"../images/profile/Keith Farrar.png\"}], \"car\": [{\"carid\": \"car_10\", \"make\": \"Ferarri\", \"year\": \"2015\", \"category\": \"SportCar\", \"model\": \"Spider\", \"color\": \"Red\", \"pride\": 70000}]}</td><td>null</td><td>null</td></tr><tr><td>{\"user_profile\": [{\"userid\": \"userid_2\", \"username\": \"Nathan Finley\", \"gender\": \"male\", \"age\": 20, \"picture_url\": \"../images/profile/Nathan Finley.png\"}], \"car\": [{\"carid\": \"car_11\", \"make\": \"Tesla\", \"year\": \"2019\", \"category\": \"EV\", \"model\": \"Model Y\", \"color\": \"Black\", \"pride\": 40000}]}</td><td>null</td><td>null</td></tr><tr><td>{\"user_profile\": [{\"userid\": \"userid_3\", \"username\": \"Owen Milford\", \"gender\": \"male\", \"age\": 30, \"picture_url\": \"../images/profile/Owen Milford.png\"}], \"car\": [{\"carid\": \"car_9\", \"make\": \"Ram\", \"year\": \"2010\", \"category\": \"Truck\", \"model\": \"1500\", \"color\": \"Black\", \"pride\": 17000}]}</td><td>null</td><td>null</td></tr><tr><td>{\"user_profile\": [{\"userid\": \"userid_1\", \"username\": \"Jenna Bostwick\", \"gender\": \"female\", \"age\": 25, \"picture_url\": \"../images/profile/Jenna Bostwick.png\"}], \"car\": [{\"carid\": \"car_4\", \"make\": \"Honda\", \"year\": \"2013\", \"category\": \"SVU\", \"model\": \"CR-V\", \"color\": \"Brown\", \"pride\": 11000}]}</td><td>null</td><td>null</td></tr><tr><td>{\"user_profile\": [{\"userid\": \"userid_3\", \"username\": \"Owen Milford\", \"gender\": \"male\", \"age\": 30, \"picture_url\": \"../images/profile/Owen Milford.png\"}], \"car\": [{\"carid\": \"car_1\", \"make\": \"Hyundai\", \"year\": \"2017\", \"category\": \"Sedan\", \"model\": \"Sonata\", \"color\": \"Gray\", \"pride\": 14000}]}</td><td>null</td><td>null</td></tr><tr><td>{\"user_profile\": [{\"userid\": \"userid_1\", \"username\": \"Jenna Bostwick\", \"gender\": \"female\", \"age\": 25, \"picture_url\": \"../images/profile/Jenna Bostwick.png\"}], \"car\": [{\"carid\": \"car_8\", \"make\": \"Ford\", \"year\": \"2016\", \"category\": \"Truck\", \"model\": \"F-150\", \"color\": \"Brown\", \"pride\": 17000}]}</td><td>null</td><td>null</td></tr><tr><td>{\"user_profile\": [{\"userid\": \"userid_0\", \"username\": \"Maria Dandridge\", \"gender\": \"female\", \"age\": 20, \"picture_url\": \"../images/profile/Maria Dandridge.png\"}], \"car\": [{\"carid\": \"car_7\", \"make\": \"Chevrolet\", \"year\": \"2016\", \"category\": \"Truck\", \"model\": \"Silverado\", \"color\": \"White\", \"pride\": 17000}]}</td><td>null</td><td>null</td></tr><tr><td>{\"user_profile\": [{\"userid\": \"userid_4\", \"username\": \"Keith Farrar\", \"gender\": \"male\", \"age\": 50, \"picture_url\": \"../images/profile/Keith Farrar.png\"}], \"car\": [{\"carid\": \"car_9\", \"make\": \"Ram\", \"year\": \"2010\", \"category\": \"Truck\", \"model\": \"1500\", \"color\": \"Black\", \"pride\": 17000}]}</td><td>null</td><td>null</td></tr><tr><td>{\"user_profile\": [{\"userid\": \"userid_0\", \"username\": \"Maria Dandridge\", \"gender\": \"female\", \"age\": 20, \"picture_url\": \"../images/profile/Maria Dandridge.png\"}], \"car\": [{\"carid\": \"car_1\", \"make\": \"Hyundai\", \"year\": \"2017\", \"category\": \"Sedan\", \"model\": \"Sonata\", \"color\": \"Gray\", \"pride\": 14000}]}</td><td>null</td><td>null</td></tr><tr><td>{\"user_profile\": [{\"userid\": \"userid_4\", \"username\": \"Keith Farrar\", \"gender\": \"male\", \"age\": 50, \"picture_url\": \"../images/profile/Keith Farrar.png\"}], \"car\": [{\"carid\": \"car_3\", \"make\": \"Toyota\", \"year\": \"2012\", \"category\": \"Sedan\", \"model\": \"Camry\", \"color\": \"Silver\", \"pride\": 11000}]}</td><td>null</td><td>null</td></tr><tr><td>{\"user_profile\": [{\"userid\": \"userid_0\", \"username\": \"Maria Dandridge\", \"gender\": \"female\", \"age\": 20, \"picture_url\": \"../images/profile/Maria Dandridge.png\"}], \"car\": [{\"carid\": \"car_9\", \"make\": \"Ram\", \"year\": \"2010\", \"category\": \"Truck\", \"model\": \"1500\", \"color\": \"Black\", \"pride\": 17000}]}</td><td>null</td><td>null</td></tr><tr><td>{\"user_profile\": [{\"userid\": \"userid_0\", \"username\": \"Maria Dandridge\", \"gender\": \"female\", \"age\": 20, \"picture_url\": \"../images/profile/Maria Dandridge.png\"}], \"car\": [{\"carid\": \"car_2\", \"make\": \"Nissan\", \"year\": \"2018\", \"category\": \"Sedan\", \"model\": \"Altima\", \"color\": \"Gold\", \"pride\": 13000}]}</td><td>null</td><td>null</td></tr><tr><td>{\"user_profile\": [{\"userid\": \"userid_4\", \"username\": \"Keith Farrar\", \"gender\": \"male\", \"age\": 50, \"picture_url\": \"../images/profile/Keith Farrar.png\"}], \"car\": [{\"carid\": \"car_2\", \"make\": \"Nissan\", \"year\": \"2018\", \"category\": \"Sedan\", \"model\": \"Altima\", \"color\": \"Gold\", \"pride\": 13000}]}</td><td>null</td><td>null</td></tr><tr><td>{\"user_profile\": [{\"userid\": \"userid_4\", \"username\": \"Keith Farrar\", \"gender\": \"male\", \"age\": 50, \"picture_url\": \"../images/profile/Keith Farrar.png\"}], \"car\": [{\"carid\": \"car_9\", \"make\": \"Ram\", \"year\": \"2010\", \"category\": \"Truck\", \"model\": \"1500\", \"color\": \"Black\", \"pride\": 17000}]}</td><td>null</td><td>null</td></tr><tr><td>{\"user_profile\": [{\"userid\": \"userid_0\", \"username\": \"Maria Dandridge\", \"gender\": \"female\", \"age\": 20, \"picture_url\": \"../images/profile/Maria Dandridge.png\"}], \"car\": [{\"carid\": \"car_6\", \"make\": \"Nissan\", \"year\": \"2015\", \"category\": \"SUV\", \"model\": \"Rouge\", \"color\": \"Brown\", \"pride\": 15500}]}</td><td>null</td><td>null</td></tr><tr><td>{\"user_profile\": [{\"userid\": \"userid_4\", \"username\": \"Keith Farrar\", \"gender\": \"male\", \"age\": 50, \"picture_url\": \"../images/profile/Keith Farrar.png\"}], \"car\": [{\"carid\": \"car_10\", \"make\": \"Ferarri\", \"year\": \"2015\", \"category\": \"SportCar\", \"model\": \"Spider\", \"color\": \"Red\", \"pride\": 70000}]}</td><td>null</td><td>null</td></tr><tr><td>{\"user_profile\": [{\"userid\": \"userid_1\", \"username\": \"Jenna Bostwick\", \"gender\": \"female\", \"age\": 25, \"picture_url\": \"../images/profile/Jenna Bostwick.png\"}], \"car\": [{\"carid\": \"car_7\", \"make\": \"Chevrolet\", \"year\": \"2016\", \"category\": \"Truck\", \"model\": \"Silverado\", \"color\": \"White\", \"pride\": 17000}]}</td><td>null</td><td>null</td></tr><tr><td>{\"user_profile\": [{\"userid\": \"userid_0\", \"username\": \"Maria Dandridge\", \"gender\": \"female\", \"age\": 20, \"picture_url\": \"../images/profile/Maria Dandridge.png\"}], \"car\": [{\"carid\": \"car_4\", \"make\": \"Honda\", \"year\": \"2013\", \"category\": \"SVU\", \"model\": \"CR-V\", \"color\": \"Brown\", \"pride\": 11000}]}</td><td>null</td><td>null</td></tr><tr><td>{\"user_profile\": [{\"userid\": \"userid_0\", \"username\": \"Maria Dandridge\", \"gender\": \"female\", \"age\": 20, \"picture_url\": \"../images/profile/Maria Dandridge.png\"}], \"car\": [{\"carid\": \"car_11\", \"make\": \"Tesla\", \"year\": \"2019\", \"category\": \"EV\", \"model\": \"Model Y\", \"color\": \"Black\", \"pride\": 40000}]}</td><td>null</td><td>null</td></tr><tr><td>{\"user_profile\": [{\"userid\": \"userid_4\", \"username\": \"Keith Farrar\", \"gender\": \"male\", \"age\": 50, \"picture_url\": \"../images/profile/Keith Farrar.png\"}], \"car\": [{\"carid\": \"car_3\", \"make\": \"Toyota\", \"year\": \"2012\", \"category\": \"Sedan\", \"model\": \"Camry\", \"color\": \"Silver\", \"pride\": 11000}]}</td><td>null</td><td>null</td></tr><tr><td>{\"user_profile\": [{\"userid\": \"userid_1\", \"username\": \"Jenna Bostwick\", \"gender\": \"female\", \"age\": 25, \"picture_url\": \"../images/profile/Jenna Bostwick.png\"}], \"car\": [{\"carid\": \"car_6\", \"make\": \"Nissan\", \"year\": \"2015\", \"category\": \"SUV\", \"model\": \"Rouge\", \"color\": \"Brown\", \"pride\": 15500}]}</td><td>null</td><td>null</td></tr><tr><td>{\"user_profile\": [{\"userid\": \"userid_3\", \"username\": \"Owen Milford\", \"gender\": \"male\", \"age\": 30, \"picture_url\": \"../images/profile/Owen Milford.png\"}], \"car\": [{\"carid\": \"car_10\", \"make\": \"Ferarri\", \"year\": \"2015\", \"category\": \"SportCar\", \"model\": \"Spider\", \"color\": \"Red\", \"pride\": 70000}]}</td><td>null</td><td>null</td></tr><tr><td>{\"user_profile\": [{\"userid\": \"userid_4\", \"username\": \"Keith Farrar\", \"gender\": \"male\", \"age\": 50, \"picture_url\": \"../images/profile/Keith Farrar.png\"}], \"car\": [{\"carid\": \"car_9\", \"make\": \"Ram\", \"year\": \"2010\", \"category\": \"Truck\", \"model\": \"1500\", \"color\": \"Black\", \"pride\": 17000}]}</td><td>null</td><td>null</td></tr><tr><td>{\"user_profile\": [{\"userid\": \"userid_3\", \"username\": \"Owen Milford\", \"gender\": \"male\", \"age\": 30, \"picture_url\": \"../images/profile/Owen Milford.png\"}], \"car\": [{\"carid\": \"car_3\", \"make\": \"Toyota\", \"year\": \"2012\", \"category\": \"Sedan\", \"model\": \"Camry\", \"color\": \"Silver\", \"pride\": 11000}]}</td><td>null</td><td>null</td></tr><tr><td>{\"user_profile\": [{\"userid\": \"userid_3\", \"username\": \"Owen Milford\", \"gender\": \"male\", \"age\": 30, \"picture_url\": \"../images/profile/Owen Milford.png\"}], \"car\": [{\"carid\": \"car_9\", \"make\": \"Ram\", \"year\": \"2010\", \"category\": \"Truck\", \"model\": \"1500\", \"color\": \"Black\", \"pride\": 17000}]}</td><td>null</td><td>null</td></tr><tr><td>{\"user_profile\": [{\"userid\": \"userid_0\", \"username\": \"Maria Dandridge\", \"gender\": \"female\", \"age\": 20, \"picture_url\": \"../images/profile/Maria Dandridge.png\"}], \"car\": [{\"carid\": \"car_0\", \"make\": \"Honda\", \"year\": \"2020\", \"category\": \"Sedan\", \"model\": \"Accord\", \"color\": \"Black\", \"pride\": 14000}]}</td><td>null</td><td>null</td></tr><tr><td>{\"user_profile\": [{\"userid\": \"userid_0\", \"username\": \"Maria Dandridge\", \"gender\": \"female\", \"age\": 20, \"picture_url\": \"../images/profile/Maria Dandridge.png\"}], \"car\": [{\"carid\": \"car_5\", \"make\": \"Toyota\", \"year\": \"2015\", \"category\": \"SUV\", \"model\": \"RAV4\", \"color\": \"White\", \"pride\": 15000}]}</td><td>null</td><td>null</td></tr><tr><td>{\"user_profile\": [{\"userid\": \"userid_4\", \"username\": \"Keith Farrar\", \"gender\": \"male\", \"age\": 50, \"picture_url\": \"../images/profile/Keith Farrar.png\"}], \"car\": [{\"carid\": \"car_1\", \"make\": \"Hyundai\", \"year\": \"2017\", \"category\": \"Sedan\", \"model\": \"Sonata\", \"color\": \"Gray\", \"pride\": 14000}]}</td><td>null</td><td>null</td></tr><tr><td>{\"user_profile\": [{\"userid\": \"userid_2\", \"username\": \"Nathan Finley\", \"gender\": \"male\", \"age\": 20, \"picture_url\": \"../images/profile/Nathan Finley.png\"}], \"car\": [{\"carid\": \"car_1\", \"make\": \"Hyundai\", \"year\": \"2017\", \"category\": \"Sedan\", \"model\": \"Sonata\", \"color\": \"Gray\", \"pride\": 14000}]}</td><td>null</td><td>null</td></tr><tr><td>{\"user_profile\": [{\"userid\": \"userid_2\", \"username\": \"Nathan Finley\", \"gender\": \"male\", \"age\": 20, \"picture_url\": \"../images/profile/Nathan Finley.png\"}], \"car\": [{\"carid\": \"car_10\", \"make\": \"Ferarri\", \"year\": \"2015\", \"category\": \"SportCar\", \"model\": \"Spider\", \"color\": \"Red\", \"pride\": 70000}]}</td><td>null</td><td>null</td></tr><tr><td>{\"user_profile\": [{\"userid\": \"userid_4\", \"username\": \"Keith Farrar\", \"gender\": \"male\", \"age\": 50, \"picture_url\": \"../images/profile/Keith Farrar.png\"}], \"car\": [{\"carid\": \"car_11\", \"make\": \"Tesla\", \"year\": \"2019\", \"category\": \"EV\", \"model\": \"Model Y\", \"color\": \"Black\", \"pride\": 40000}]}</td><td>null</td><td>null</td></tr><tr><td>{\"user_profile\": [{\"userid\": \"userid_0\", \"username\": \"Maria Dandridge\", \"gender\": \"female\", \"age\": 20, \"picture_url\": \"../images/profile/Maria Dandridge.png\"}], \"car\": [{\"carid\": \"car_1\", \"make\": \"Hyundai\", \"year\": \"2017\", \"category\": \"Sedan\", \"model\": \"Sonata\", \"color\": \"Gray\", \"pride\": 14000}]}</td><td>null</td><td>null</td></tr><tr><td>{\"user_profile\": [{\"userid\": \"userid_4\", \"username\": \"Keith Farrar\", \"gender\": \"male\", \"age\": 50, \"picture_url\": \"../images/profile/Keith Farrar.png\"}], \"car\": [{\"carid\": \"car_10\", \"make\": \"Ferarri\", \"year\": \"2015\", \"category\": \"SportCar\", \"model\": \"Spider\", \"color\": \"Red\", \"pride\": 70000}]}</td><td>null</td><td>null</td></tr><tr><td>{\"user_profile\": [{\"userid\": \"userid_1\", \"username\": \"Jenna Bostwick\", \"gender\": \"female\", \"age\": 25, \"picture_url\": \"../images/profile/Jenna Bostwick.png\"}], \"car\": [{\"carid\": \"car_3\", \"make\": \"Toyota\", \"year\": \"2012\", \"category\": \"Sedan\", \"model\": \"Camry\", \"color\": \"Silver\", \"pride\": 11000}]}</td><td>null</td><td>null</td></tr><tr><td>{\"user_profile\": [{\"userid\": \"userid_0\", \"username\": \"Maria Dandridge\", \"gender\": \"female\", \"age\": 20, \"picture_url\": \"../images/profile/Maria Dandridge.png\"}], \"car\": [{\"carid\": \"car_3\", \"make\": \"Toyota\", \"year\": \"2012\", \"category\": \"Sedan\", \"model\": \"Camry\", \"color\": \"Silver\", \"pride\": 11000}]}</td><td>null</td><td>null</td></tr><tr><td>{\"user_profile\": [{\"userid\": \"userid_0\", \"username\": \"Maria Dandridge\", \"gender\": \"female\", \"age\": 20, \"picture_url\": \"../images/profile/Maria Dandridge.png\"}], \"car\": [{\"carid\": \"car_0\", \"make\": \"Honda\", \"year\": \"2020\", \"category\": \"Sedan\", \"model\": \"Accord\", \"color\": \"Black\", \"pride\": 14000}]}</td><td>null</td><td>null</td></tr><tr><td>{\"user_profile\": [{\"userid\": \"userid_0\", \"username\": \"Maria Dandridge\", \"gender\": \"female\", \"age\": 20, \"picture_url\": \"../images/profile/Maria Dandridge.png\"}], \"car\": [{\"carid\": \"car_1\", \"make\": \"Hyundai\", \"year\": \"2017\", \"category\": \"Sedan\", \"model\": \"Sonata\", \"color\": \"Gray\", \"pride\": 14000}]}</td><td>null</td><td>null</td></tr><tr><td>{\"user_profile\": [{\"userid\": \"userid_0\", \"username\": \"Maria Dandridge\", \"gender\": \"female\", \"age\": 20, \"picture_url\": \"../images/profile/Maria Dandridge.png\"}], \"car\": [{\"carid\": \"car_0\", \"make\": \"Honda\", \"year\": \"2020\", \"category\": \"Sedan\", \"model\": \"Accord\", \"color\": \"Black\", \"pride\": 14000}]}</td><td>null</td><td>null</td></tr><tr><td>{\"user_profile\": [{\"userid\": \"userid_1\", \"username\": \"Jenna Bostwick\", \"gender\": \"female\", \"age\": 25, \"picture_url\": \"../images/profile/Jenna Bostwick.png\"}], \"car\": [{\"carid\": \"car_5\", \"make\": \"Toyota\", \"year\": \"2015\", \"category\": \"SUV\", \"model\": \"RAV4\", \"color\": \"White\", \"pride\": 15000}]}</td><td>null</td><td>null</td></tr><tr><td>{\"user_profile\": [{\"userid\": \"userid_2\", \"username\": \"Nathan Finley\", \"gender\": \"male\", \"age\": 20, \"picture_url\": \"../images/profile/Nathan Finley.png\"}], \"car\": [{\"carid\": \"car_0\", \"make\": \"Honda\", \"year\": \"2020\", \"category\": \"Sedan\", \"model\": \"Accord\", \"color\": \"Black\", \"pride\": 14000}]}</td><td>null</td><td>null</td></tr><tr><td>{\"user_profile\": [{\"userid\": \"userid_1\", \"username\": \"Jenna Bostwick\", \"gender\": \"female\", \"age\": 25, \"picture_url\": \"../images/profile/Jenna Bostwick.png\"}], \"car\": [{\"carid\": \"car_6\", \"make\": \"Nissan\", \"year\": \"2015\", \"category\": \"SUV\", \"model\": \"Rouge\", \"color\": \"Brown\", \"pride\": 15500}]}</td><td>null</td><td>null</td></tr><tr><td>{\"user_profile\": [{\"userid\": \"userid_2\", \"username\": \"Nathan Finley\", \"gender\": \"male\", \"age\": 20, \"picture_url\": \"../images/profile/Nathan Finley.png\"}], \"car\": [{\"carid\": \"car_10\", \"make\": \"Ferarri\", \"year\": \"2015\", \"category\": \"SportCar\", \"model\": \"Spider\", \"color\": \"Red\", \"pride\": 70000}]}</td><td>null</td><td>null</td></tr><tr><td>{\"user_profile\": [{\"userid\": \"userid_0\", \"username\": \"Maria Dandridge\", \"gender\": \"female\", \"age\": 20, \"picture_url\": \"../images/profile/Maria Dandridge.png\"}], \"car\": [{\"carid\": \"car_8\", \"make\": \"Ford\", \"year\": \"2016\", \"category\": \"Truck\", \"model\": \"F-150\", \"color\": \"Brown\", \"pride\": 17000}]}</td><td>null</td><td>null</td></tr><tr><td>{\"user_profile\": [{\"userid\": \"userid_2\", \"username\": \"Nathan Finley\", \"gender\": \"male\", \"age\": 20, \"picture_url\": \"../images/profile/Nathan Finley.png\"}], \"car\": [{\"carid\": \"car_2\", \"make\": \"Nissan\", \"year\": \"2018\", \"category\": \"Sedan\", \"model\": \"Altima\", \"color\": \"Gold\", \"pride\": 13000}]}</td><td>null</td><td>null</td></tr><tr><td>{\"user_profile\": [{\"userid\": \"userid_3\", \"username\": \"Owen Milford\", \"gender\": \"male\", \"age\": 30, \"picture_url\": \"../images/profile/Owen Milford.png\"}], \"car\": [{\"carid\": \"car_9\", \"make\": \"Ram\", \"year\": \"2010\", \"category\": \"Truck\", \"model\": \"1500\", \"color\": \"Black\", \"pride\": 17000}]}</td><td>null</td><td>null</td></tr><tr><td>{\"user_profile\": [{\"userid\": \"userid_0\", \"username\": \"Maria Dandridge\", \"gender\": \"female\", \"age\": 20, \"picture_url\": \"../images/profile/Maria Dandridge.png\"}], \"car\": [{\"carid\": \"car_4\", \"make\": \"Honda\", \"year\": \"2013\", \"category\": \"SVU\", \"model\": \"CR-V\", \"color\": \"Brown\", \"pride\": 11000}]}</td><td>null</td><td>null</td></tr><tr><td>{\"user_profile\": [{\"userid\": \"userid_4\", \"username\": \"Keith Farrar\", \"gender\": \"male\", \"age\": 50, \"picture_url\": \"../images/profile/Keith Farrar.png\"}], \"car\": [{\"carid\": \"car_3\", \"make\": \"Toyota\", \"year\": \"2012\", \"category\": \"Sedan\", \"model\": \"Camry\", \"color\": \"Silver\", \"pride\": 11000}]}</td><td>null</td><td>null</td></tr><tr><td>{\"user_profile\": [{\"userid\": \"userid_2\", \"username\": \"Nathan Finley\", \"gender\": \"male\", \"age\": 20, \"picture_url\": \"../images/profile/Nathan Finley.png\"}], \"car\": [{\"carid\": \"car_0\", \"make\": \"Honda\", \"year\": \"2020\", \"category\": \"Sedan\", \"model\": \"Accord\", \"color\": \"Black\", \"pride\": 14000}]}</td><td>null</td><td>null</td></tr><tr><td>{\"user_profile\": [{\"userid\": \"userid_1\", \"username\": \"Jenna Bostwick\", \"gender\": \"female\", \"age\": 25, \"picture_url\": \"../images/profile/Jenna Bostwick.png\"}], \"car\": [{\"carid\": \"car_5\", \"make\": \"Toyota\", \"year\": \"2015\", \"category\": \"SUV\", \"model\": \"RAV4\", \"color\": \"White\", \"pride\": 15000}]}</td><td>null</td><td>null</td></tr><tr><td>{\"user_profile\": [{\"userid\": \"userid_3\", \"username\": \"Owen Milford\", \"gender\": \"male\", \"age\": 30, \"picture_url\": \"../images/profile/Owen Milford.png\"}], \"car\": [{\"carid\": \"car_1\", \"make\": \"Hyundai\", \"year\": \"2017\", \"category\": \"Sedan\", \"model\": \"Sonata\", \"color\": \"Gray\", \"pride\": 14000}]}</td><td>null</td><td>null</td></tr><tr><td>{\"user_profile\": [{\"userid\": \"userid_3\", \"username\": \"Owen Milford\", \"gender\": \"male\", \"age\": 30, \"picture_url\": \"../images/profile/Owen Milford.png\"}], \"car\": [{\"carid\": \"car_4\", \"make\": \"Honda\", \"year\": \"2013\", \"category\": \"SVU\", \"model\": \"CR-V\", \"color\": \"Brown\", \"pride\": 11000}]}</td><td>null</td><td>null</td></tr><tr><td>{\"user_profile\": [{\"userid\": \"userid_0\", \"username\": \"Maria Dandridge\", \"gender\": \"female\", \"age\": 20, \"picture_url\": \"../images/profile/Maria Dandridge.png\"}], \"car\": [{\"carid\": \"car_10\", \"make\": \"Ferarri\", \"year\": \"2015\", \"category\": \"SportCar\", \"model\": \"Spider\", \"color\": \"Red\", \"pride\": 70000}]}</td><td>null</td><td>null</td></tr><tr><td>{\"user_profile\": [{\"userid\": \"userid_2\", \"username\": \"Nathan Finley\", \"gender\": \"male\", \"age\": 20, \"picture_url\": \"../images/profile/Nathan Finley.png\"}], \"car\": [{\"carid\": \"car_2\", \"make\": \"Nissan\", \"year\": \"2018\", \"category\": \"Sedan\", \"model\": \"Altima\", \"color\": \"Gold\", \"pride\": 13000}]}</td><td>null</td><td>null</td></tr><tr><td>{\"user_profile\": [{\"userid\": \"userid_4\", \"username\": \"Keith Farrar\", \"gender\": \"male\", \"age\": 50, \"picture_url\": \"../images/profile/Keith Farrar.png\"}], \"car\": [{\"carid\": \"car_2\", \"make\": \"Nissan\", \"year\": \"2018\", \"category\": \"Sedan\", \"model\": \"Altima\", \"color\": \"Gold\", \"pride\": 13000}]}</td><td>null</td><td>null</td></tr><tr><td>{\"user_profile\": [{\"userid\": \"userid_2\", \"username\": \"Nathan Finley\", \"gender\": \"male\", \"age\": 20, \"picture_url\": \"../images/profile/Nathan Finley.png\"}], \"car\": [{\"carid\": \"car_3\", \"make\": \"Toyota\", \"year\": \"2012\", \"category\": \"Sedan\", \"model\": \"Camry\", \"color\": \"Silver\", \"pride\": 11000}]}</td><td>null</td><td>null</td></tr><tr><td>{\"user_profile\": [{\"userid\": \"userid_2\", \"username\": \"Nathan Finley\", \"gender\": \"male\", \"age\": 20, \"picture_url\": \"../images/profile/Nathan Finley.png\"}], \"car\": [{\"carid\": \"car_9\", \"make\": \"Ram\", \"year\": \"2010\", \"category\": \"Truck\", \"model\": \"1500\", \"color\": \"Black\", \"pride\": 17000}]}</td><td>null</td><td>null</td></tr><tr><td>{\"user_profile\": [{\"userid\": \"userid_4\", \"username\": \"Keith Farrar\", \"gender\": \"male\", \"age\": 50, \"picture_url\": \"../images/profile/Keith Farrar.png\"}], \"car\": [{\"carid\": \"car_6\", \"make\": \"Nissan\", \"year\": \"2015\", \"category\": \"SUV\", \"model\": \"Rouge\", \"color\": \"Brown\", \"pride\": 15500}]}</td><td>null</td><td>null</td></tr><tr><td>{\"user_profile\": [{\"userid\": \"userid_3\", \"username\": \"Owen Milford\", \"gender\": \"male\", \"age\": 30, \"picture_url\": \"../images/profile/Owen Milford.png\"}], \"car\": [{\"carid\": \"car_7\", \"make\": \"Chevrolet\", \"year\": \"2016\", \"category\": \"Truck\", \"model\": \"Silverado\", \"color\": \"White\", \"pride\": 17000}]}</td><td>null</td><td>null</td></tr><tr><td>{\"user_profile\": [{\"userid\": \"userid_2\", \"username\": \"Nathan Finley\", \"gender\": \"male\", \"age\": 20, \"picture_url\": \"../images/profile/Nathan Finley.png\"}], \"car\": [{\"carid\": \"car_10\", \"make\": \"Ferarri\", \"year\": \"2015\", \"category\": \"SportCar\", \"model\": \"Spider\", \"color\": \"Red\", \"pride\": 70000}]}</td><td>null</td><td>null</td></tr><tr><td>{\"user_profile\": [{\"userid\": \"userid_0\", \"username\": \"Maria Dandridge\", \"gender\": \"female\", \"age\": 20, \"picture_url\": \"../images/profile/Maria Dandridge.png\"}], \"car\": [{\"carid\": \"car_3\", \"make\": \"Toyota\", \"year\": \"2012\", \"category\": \"Sedan\", \"model\": \"Camry\", \"color\": \"Silver\", \"pride\": 11000}]}</td><td>null</td><td>null</td></tr><tr><td>{\"user_profile\": [{\"userid\": \"userid_3\", \"username\": \"Owen Milford\", \"gender\": \"male\", \"age\": 30, \"picture_url\": \"../images/profile/Owen Milford.png\"}], \"car\": [{\"carid\": \"car_11\", \"make\": \"Tesla\", \"year\": \"2019\", \"category\": \"EV\", \"model\": \"Model Y\", \"color\": \"Black\", \"pride\": 40000}]}</td><td>null</td><td>null</td></tr><tr><td>{\"user_profile\": [{\"userid\": \"userid_2\", \"username\": \"Nathan Finley\", \"gender\": \"male\", \"age\": 20, \"picture_url\": \"../images/profile/Nathan Finley.png\"}], \"car\": [{\"carid\": \"car_6\", \"make\": \"Nissan\", \"year\": \"2015\", \"category\": \"SUV\", \"model\": \"Rouge\", \"color\": \"Brown\", \"pride\": 15500}]}</td><td>null</td><td>null</td></tr><tr><td>{\"user_profile\": [{\"userid\": \"userid_3\", \"username\": \"Owen Milford\", \"gender\": \"male\", \"age\": 30, \"picture_url\": \"../images/profile/Owen Milford.png\"}], \"car\": [{\"carid\": \"car_7\", \"make\": \"Chevrolet\", \"year\": \"2016\", \"category\": \"Truck\", \"model\": \"Silverado\", \"color\": \"White\", \"pride\": 17000}]}</td><td>null</td><td>null</td></tr><tr><td>{\"user_profile\": [{\"userid\": \"userid_1\", \"username\": \"Jenna Bostwick\", \"gender\": \"female\", \"age\": 25, \"picture_url\": \"../images/profile/Jenna Bostwick.png\"}], \"car\": [{\"carid\": \"car_5\", \"make\": \"Toyota\", \"year\": \"2015\", \"category\": \"SUV\", \"model\": \"RAV4\", \"color\": \"White\", \"pride\": 15000}]}</td><td>null</td><td>null</td></tr><tr><td>{\"user_profile\": [{\"userid\": \"userid_4\", \"username\": \"Keith Farrar\", \"gender\": \"male\", \"age\": 50, \"picture_url\": \"../images/profile/Keith Farrar.png\"}], \"car\": [{\"carid\": \"car_2\", \"make\": \"Nissan\", \"year\": \"2018\", \"category\": \"Sedan\", \"model\": \"Altima\", \"color\": \"Gold\", \"pride\": 13000}]}</td><td>null</td><td>null</td></tr><tr><td>{\"user_profile\": [{\"userid\": \"userid_1\", \"username\": \"Jenna Bostwick\", \"gender\": \"female\", \"age\": 25, \"picture_url\": \"../images/profile/Jenna Bostwick.png\"}], \"car\": [{\"carid\": \"car_7\", \"make\": \"Chevrolet\", \"year\": \"2016\", \"category\": \"Truck\", \"model\": \"Silverado\", \"color\": \"White\", \"pride\": 17000}]}</td><td>null</td><td>null</td></tr><tr><td>{\"user_profile\": [{\"userid\": \"userid_0\", \"username\": \"Maria Dandridge\", \"gender\": \"female\", \"age\": 20, \"picture_url\": \"../images/profile/Maria Dandridge.png\"}], \"car\": [{\"carid\": \"car_7\", \"make\": \"Chevrolet\", \"year\": \"2016\", \"category\": \"Truck\", \"model\": \"Silverado\", \"color\": \"White\", \"pride\": 17000}]}</td><td>null</td><td>null</td></tr><tr><td>{\"user_profile\": [{\"userid\": \"userid_2\", \"username\": \"Nathan Finley\", \"gender\": \"male\", \"age\": 20, \"picture_url\": \"../images/profile/Nathan Finley.png\"}], \"car\": [{\"carid\": \"car_9\", \"make\": \"Ram\", \"year\": \"2010\", \"category\": \"Truck\", \"model\": \"1500\", \"color\": \"Black\", \"pride\": 17000}]}</td><td>null</td><td>null</td></tr><tr><td>{\"user_profile\": [{\"userid\": \"userid_0\", \"username\": \"Maria Dandridge\", \"gender\": \"female\", \"age\": 20, \"picture_url\": \"../images/profile/Maria Dandridge.png\"}], \"car\": [{\"carid\": \"car_8\", \"make\": \"Ford\", \"year\": \"2016\", \"category\": \"Truck\", \"model\": \"F-150\", \"color\": \"Brown\", \"pride\": 17000}]}</td><td>null</td><td>null</td></tr><tr><td>{\"user_profile\": [{\"userid\": \"userid_4\", \"username\": \"Keith Farrar\", \"gender\": \"male\", \"age\": 50, \"picture_url\": \"../images/profile/Keith Farrar.png\"}], \"car\": [{\"carid\": \"car_5\", \"make\": \"Toyota\", \"year\": \"2015\", \"category\": \"SUV\", \"model\": \"RAV4\", \"color\": \"White\", \"pride\": 15000}]}</td><td>null</td><td>null</td></tr><tr><td>{\"user_profile\": [{\"userid\": \"userid_0\", \"username\": \"Maria Dandridge\", \"gender\": \"female\", \"age\": 20, \"picture_url\": \"../images/profile/Maria Dandridge.png\"}], \"car\": [{\"carid\": \"car_10\", \"make\": \"Ferarri\", \"year\": \"2015\", \"category\": \"SportCar\", \"model\": \"Spider\", \"color\": \"Red\", \"pride\": 70000}]}</td><td>null</td><td>null</td></tr><tr><td>{\"user_profile\": [{\"userid\": \"userid_1\", \"username\": \"Jenna Bostwick\", \"gender\": \"female\", \"age\": 25, \"picture_url\": \"../images/profile/Jenna Bostwick.png\"}], \"car\": [{\"carid\": \"car_6\", \"make\": \"Nissan\", \"year\": \"2015\", \"category\": \"SUV\", \"model\": \"Rouge\", \"color\": \"Brown\", \"pride\": 15500}]}</td><td>null</td><td>null</td></tr><tr><td>{\"user_profile\": [{\"userid\": \"userid_4\", \"username\": \"Keith Farrar\", \"gender\": \"male\", \"age\": 50, \"picture_url\": \"../images/profile/Keith Farrar.png\"}], \"car\": [{\"carid\": \"car_2\", \"make\": \"Nissan\", \"year\": \"2018\", \"category\": \"Sedan\", \"model\": \"Altima\", \"color\": \"Gold\", \"pride\": 13000}]}</td><td>null</td><td>null</td></tr><tr><td>{\"user_profile\": [{\"userid\": \"userid_4\", \"username\": \"Keith Farrar\", \"gender\": \"male\", \"age\": 50, \"picture_url\": \"../images/profile/Keith Farrar.png\"}], \"car\": [{\"carid\": \"car_10\", \"make\": \"Ferarri\", \"year\": \"2015\", \"category\": \"SportCar\", \"model\": \"Spider\", \"color\": \"Red\", \"pride\": 70000}]}</td><td>null</td><td>null</td></tr><tr><td>{\"user_profile\": [{\"userid\": \"userid_1\", \"username\": \"Jenna Bostwick\", \"gender\": \"female\", \"age\": 25, \"picture_url\": \"../images/profile/Jenna Bostwick.png\"}], \"car\": [{\"carid\": \"car_2\", \"make\": \"Nissan\", \"year\": \"2018\", \"category\": \"Sedan\", \"model\": \"Altima\", \"color\": \"Gold\", \"pride\": 13000}]}</td><td>null</td><td>null</td></tr><tr><td>{\"user_profile\": [{\"userid\": \"userid_1\", \"username\": \"Jenna Bostwick\", \"gender\": \"female\", \"age\": 25, \"picture_url\": \"../images/profile/Jenna Bostwick.png\"}], \"car\": [{\"carid\": \"car_7\", \"make\": \"Chevrolet\", \"year\": \"2016\", \"category\": \"Truck\", \"model\": \"Silverado\", \"color\": \"White\", \"pride\": 17000}]}</td><td>null</td><td>null</td></tr><tr><td>{\"user_profile\": [{\"userid\": \"userid_0\", \"username\": \"Maria Dandridge\", \"gender\": \"female\", \"age\": 20, \"picture_url\": \"../images/profile/Maria Dandridge.png\"}], \"car\": [{\"carid\": \"car_11\", \"make\": \"Tesla\", \"year\": \"2019\", \"category\": \"EV\", \"model\": \"Model Y\", \"color\": \"Black\", \"pride\": 40000}]}</td><td>null</td><td>null</td></tr><tr><td>{\"user_profile\": [{\"userid\": \"userid_0\", \"username\": \"Maria Dandridge\", \"gender\": \"female\", \"age\": 20, \"picture_url\": \"../images/profile/Maria Dandridge.png\"}], \"car\": [{\"carid\": \"car_8\", \"make\": \"Ford\", \"year\": \"2016\", \"category\": \"Truck\", \"model\": \"F-150\", \"color\": \"Brown\", \"pride\": 17000}]}</td><td>null</td><td>null</td></tr><tr><td>{\"user_profile\": [{\"userid\": \"userid_2\", \"username\": \"Nathan Finley\", \"gender\": \"male\", \"age\": 20, \"picture_url\": \"../images/profile/Nathan Finley.png\"}], \"car\": [{\"carid\": \"car_11\", \"make\": \"Tesla\", \"year\": \"2019\", \"category\": \"EV\", \"model\": \"Model Y\", \"color\": \"Black\", \"pride\": 40000}]}</td><td>null</td><td>null</td></tr><tr><td>{\"user_profile\": [{\"userid\": \"userid_4\", \"username\": \"Keith Farrar\", \"gender\": \"male\", \"age\": 50, \"picture_url\": \"../images/profile/Keith Farrar.png\"}], \"car\": [{\"carid\": \"car_11\", \"make\": \"Tesla\", \"year\": \"2019\", \"category\": \"EV\", \"model\": \"Model Y\", \"color\": \"Black\", \"pride\": 40000}]}</td><td>null</td><td>null</td></tr><tr><td>{\"user_profile\": [{\"userid\": \"userid_2\", \"username\": \"Nathan Finley\", \"gender\": \"male\", \"age\": 20, \"picture_url\": \"../images/profile/Nathan Finley.png\"}], \"car\": [{\"carid\": \"car_3\", \"make\": \"Toyota\", \"year\": \"2012\", \"category\": \"Sedan\", \"model\": \"Camry\", \"color\": \"Silver\", \"pride\": 11000}]}</td><td>null</td><td>null</td></tr><tr><td>{\"user_profile\": [{\"userid\": \"userid_1\", \"username\": \"Jenna Bostwick\", \"gender\": \"female\", \"age\": 25, \"picture_url\": \"../images/profile/Jenna Bostwick.png\"}], \"car\": [{\"carid\": \"car_4\", \"make\": \"Honda\", \"year\": \"2013\", \"category\": \"SVU\", \"model\": \"CR-V\", \"color\": \"Brown\", \"pride\": 11000}]}</td><td>null</td><td>null</td></tr><tr><td>{\"user_profile\": [{\"userid\": \"userid_1\", \"username\": \"Jenna Bostwick\", \"gender\": \"female\", \"age\": 25, \"picture_url\": \"../images/profile/Jenna Bostwick.png\"}], \"car\": [{\"carid\": \"car_5\", \"make\": \"Toyota\", \"year\": \"2015\", \"category\": \"SUV\", \"model\": \"RAV4\", \"color\": \"White\", \"pride\": 15000}]}</td><td>null</td><td>null</td></tr><tr><td>{\"user_profile\": [{\"userid\": \"userid_2\", \"username\": \"Nathan Finley\", \"gender\": \"male\", \"age\": 20, \"picture_url\": \"../images/profile/Nathan Finley.png\"}], \"car\": [{\"carid\": \"car_10\", \"make\": \"Ferarri\", \"year\": \"2015\", \"category\": \"SportCar\", \"model\": \"Spider\", \"color\": \"Red\", \"pride\": 70000}]}</td><td>null</td><td>null</td></tr><tr><td>{\"user_profile\": [{\"userid\": \"userid_0\", \"username\": \"Maria Dandridge\", \"gender\": \"female\", \"age\": 20, \"picture_url\": \"../images/profile/Maria Dandridge.png\"}], \"car\": [{\"carid\": \"car_5\", \"make\": \"Toyota\", \"year\": \"2015\", \"category\": \"SUV\", \"model\": \"RAV4\", \"color\": \"White\", \"pride\": 15000}]}</td><td>null</td><td>null</td></tr><tr><td>{\"user_profile\": [{\"userid\": \"userid_2\", \"username\": \"Nathan Finley\", \"gender\": \"male\", \"age\": 20, \"picture_url\": \"../images/profile/Nathan Finley.png\"}], \"car\": [{\"carid\": \"car_4\", \"make\": \"Honda\", \"year\": \"2013\", \"category\": \"SVU\", \"model\": \"CR-V\", \"color\": \"Brown\", \"pride\": 11000}]}</td><td>null</td><td>null</td></tr><tr><td>{\"user_profile\": [{\"userid\": \"userid_4\", \"username\": \"Keith Farrar\", \"gender\": \"male\", \"age\": 50, \"picture_url\": \"../images/profile/Keith Farrar.png\"}], \"car\": [{\"carid\": \"car_0\", \"make\": \"Honda\", \"year\": \"2020\", \"category\": \"Sedan\", \"model\": \"Accord\", \"color\": \"Black\", \"pride\": 14000}]}</td><td>null</td><td>null</td></tr><tr><td>{\"user_profile\": [{\"userid\": \"userid_1\", \"username\": \"Jenna Bostwick\", \"gender\": \"female\", \"age\": 25, \"picture_url\": \"../images/profile/Jenna Bostwick.png\"}], \"car\": [{\"carid\": \"car_5\", \"make\": \"Toyota\", \"year\": \"2015\", \"category\": \"SUV\", \"model\": \"RAV4\", \"color\": \"White\", \"pride\": 15000}]}</td><td>null</td><td>null</td></tr><tr><td>{\"user_profile\": [{\"userid\": \"userid_1\", \"username\": \"Jenna Bostwick\", \"gender\": \"female\", \"age\": 25, \"picture_url\": \"../images/profile/Jenna Bostwick.png\"}], \"car\": [{\"carid\": \"car_6\", \"make\": \"Nissan\", \"year\": \"2015\", \"category\": \"SUV\", \"model\": \"Rouge\", \"color\": \"Brown\", \"pride\": 15500}]}</td><td>null</td><td>null</td></tr><tr><td>{\"user_profile\": [{\"userid\": \"userid_0\", \"username\": \"Maria Dandridge\", \"gender\": \"female\", \"age\": 20, \"picture_url\": \"../images/profile/Maria Dandridge.png\"}], \"car\": [{\"carid\": \"car_2\", \"make\": \"Nissan\", \"year\": \"2018\", \"category\": \"Sedan\", \"model\": \"Altima\", \"color\": \"Gold\", \"pride\": 13000}]}</td><td>null</td><td>null</td></tr><tr><td>{\"user_profile\": [{\"userid\": \"userid_3\", \"username\": \"Owen Milford\", \"gender\": \"male\", \"age\": 30, \"picture_url\": \"../images/profile/Owen Milford.png\"}], \"car\": [{\"carid\": \"car_9\", \"make\": \"Ram\", \"year\": \"2010\", \"category\": \"Truck\", \"model\": \"1500\", \"color\": \"Black\", \"pride\": 17000}]}</td><td>null</td><td>null</td></tr><tr><td>{\"user_profile\": [{\"userid\": \"userid_2\", \"username\": \"Nathan Finley\", \"gender\": \"male\", \"age\": 20, \"picture_url\": \"../images/profile/Nathan Finley.png\"}], \"car\": [{\"carid\": \"car_8\", \"make\": \"Ford\", \"year\": \"2016\", \"category\": \"Truck\", \"model\": \"F-150\", \"color\": \"Brown\", \"pride\": 17000}]}</td><td>null</td><td>null</td></tr><tr><td>{\"user_profile\": [{\"userid\": \"userid_2\", \"username\": \"Nathan Finley\", \"gender\": \"male\", \"age\": 20, \"picture_url\": \"../images/profile/Nathan Finley.png\"}], \"car\": [{\"carid\": \"car_2\", \"make\": \"Nissan\", \"year\": \"2018\", \"category\": \"Sedan\", \"model\": \"Altima\", \"color\": \"Gold\", \"pride\": 13000}]}</td><td>null</td><td>null</td></tr><tr><td>{\"user_profile\": [{\"userid\": \"userid_4\", \"username\": \"Keith Farrar\", \"gender\": \"male\", \"age\": 50, \"picture_url\": \"../images/profile/Keith Farrar.png\"}], \"car\": [{\"carid\": \"car_0\", \"make\": \"Honda\", \"year\": \"2020\", \"category\": \"Sedan\", \"model\": \"Accord\", \"color\": \"Black\", \"pride\": 14000}]}</td><td>null</td><td>null</td></tr><tr><td>{\"user_profile\": [{\"userid\": \"userid_4\", \"username\": \"Keith Farrar\", \"gender\": \"male\", \"age\": 50, \"picture_url\": \"../images/profile/Keith Farrar.png\"}], \"car\": [{\"carid\": \"car_5\", \"make\": \"Toyota\", \"year\": \"2015\", \"category\": \"SUV\", \"model\": \"RAV4\", \"color\": \"White\", \"pride\": 15000}]}</td><td>null</td><td>null</td></tr><tr><td>{\"user_profile\": [{\"userid\": \"userid_1\", \"username\": \"Jenna Bostwick\", \"gender\": \"female\", \"age\": 25, \"picture_url\": \"../images/profile/Jenna Bostwick.png\"}], \"car\": [{\"carid\": \"car_9\", \"make\": \"Ram\", \"year\": \"2010\", \"category\": \"Truck\", \"model\": \"1500\", \"color\": \"Black\", \"pride\": 17000}]}</td><td>null</td><td>null</td></tr><tr><td>{\"user_profile\": [{\"userid\": \"userid_0\", \"username\": \"Maria Dandridge\", \"gender\": \"female\", \"age\": 20, \"picture_url\": \"../images/profile/Maria Dandridge.png\"}], \"car\": [{\"carid\": \"car_11\", \"make\": \"Tesla\", \"year\": \"2019\", \"category\": \"EV\", \"model\": \"Model Y\", \"color\": \"Black\", \"pride\": 40000}]}</td><td>null</td><td>null</td></tr><tr><td>{\"user_profile\": [{\"userid\": \"userid_2\", \"username\": \"Nathan Finley\", \"gender\": \"male\", \"age\": 20, \"picture_url\": \"../images/profile/Nathan Finley.png\"}], \"car\": [{\"carid\": \"car_7\", \"make\": \"Chevrolet\", \"year\": \"2016\", \"category\": \"Truck\", \"model\": \"Silverado\", \"color\": \"White\", \"pride\": 17000}]}</td><td>null</td><td>null</td></tr><tr><td>{\"user_profile\": [{\"userid\": \"userid_2\", \"username\": \"Nathan Finley\", \"gender\": \"male\", \"age\": 20, \"picture_url\": \"../images/profile/Nathan Finley.png\"}], \"car\": [{\"carid\": \"car_0\", \"make\": \"Honda\", \"year\": \"2020\", \"category\": \"Sedan\", \"model\": \"Accord\", \"color\": \"Black\", \"pride\": 14000}]}</td><td>null</td><td>null</td></tr><tr><td>{\"user_profile\": [{\"userid\": \"userid_0\", \"username\": \"Maria Dandridge\", \"gender\": \"female\", \"age\": 20, \"picture_url\": \"../images/profile/Maria Dandridge.png\"}], \"car\": [{\"carid\": \"car_2\", \"make\": \"Nissan\", \"year\": \"2018\", \"category\": \"Sedan\", \"model\": \"Altima\", \"color\": \"Gold\", \"pride\": 13000}]}</td><td>null</td><td>null</td></tr><tr><td>{\"user_profile\": [{\"userid\": \"userid_4\", \"username\": \"Keith Farrar\", \"gender\": \"male\", \"age\": 50, \"picture_url\": \"../images/profile/Keith Farrar.png\"}], \"car\": [{\"carid\": \"car_8\", \"make\": \"Ford\", \"year\": \"2016\", \"category\": \"Truck\", \"model\": \"F-150\", \"color\": \"Brown\", \"pride\": 17000}]}</td><td>null</td><td>null</td></tr><tr><td>null</td><td>2023-08-08T19:12:30.470+0000</td><td>{\"user_profile\": [{\"userid\": \"userid_3\", \"username\": \"Owen Milford\", \"gender\": \"male\", \"age\": 30, \"picture_url\": \"../images/profile/Owen Milford.png\"}], \"car\": [{\"carid\": \"car_1\", \"make\": \"Hyundai\", \"year\": \"2017\", \"category\": \"Sedan\", \"model\": \"Sonata\", \"color\": \"Gray\", \"pride\": 14000}]}</td></tr><tr><td>null</td><td>2023-08-08T19:12:31.657+0000</td><td>{\"user_profile\": [{\"userid\": \"userid_2\", \"username\": \"Nathan Finley\", \"gender\": \"male\", \"age\": 20, \"picture_url\": \"../images/profile/Nathan Finley.png\"}], \"car\": [{\"carid\": \"car_5\", \"make\": \"Toyota\", \"year\": \"2015\", \"category\": \"SUV\", \"model\": \"RAV4\", \"color\": \"White\", \"pride\": 15000}]}</td></tr><tr><td>null</td><td>2023-08-08T19:12:32.908+0000</td><td>{\"user_profile\": [{\"userid\": \"userid_1\", \"username\": \"Jenna Bostwick\", \"gender\": \"female\", \"age\": 25, \"picture_url\": \"../images/profile/Jenna Bostwick.png\"}], \"car\": [{\"carid\": \"car_2\", \"make\": \"Nissan\", \"year\": \"2018\", \"category\": \"Sedan\", \"model\": \"Altima\", \"color\": \"Gold\", \"pride\": 13000}]}</td></tr><tr><td>null</td><td>2023-08-08T19:12:34.127+0000</td><td>{\"user_profile\": [{\"userid\": \"userid_1\", \"username\": \"Jenna Bostwick\", \"gender\": \"female\", \"age\": 25, \"picture_url\": \"../images/profile/Jenna Bostwick.png\"}], \"car\": [{\"carid\": \"car_8\", \"make\": \"Ford\", \"year\": \"2016\", \"category\": \"Truck\", \"model\": \"F-150\", \"color\": \"Brown\", \"pride\": 17000}]}</td></tr><tr><td>null</td><td>2023-08-08T19:12:35.440+0000</td><td>{\"user_profile\": [{\"userid\": \"userid_0\", \"username\": \"Maria Dandridge\", \"gender\": \"female\", \"age\": 20, \"picture_url\": \"../images/profile/Maria Dandridge.png\"}], \"car\": [{\"carid\": \"car_4\", \"make\": \"Honda\", \"year\": \"2013\", \"category\": \"SVU\", \"model\": \"CR-V\", \"color\": \"Brown\", \"pride\": 11000}]}</td></tr><tr><td>null</td><td>2023-08-08T19:12:36.690+0000</td><td>{\"user_profile\": [{\"userid\": \"userid_2\", \"username\": \"Nathan Finley\", \"gender\": \"male\", \"age\": 20, \"picture_url\": \"../images/profile/Nathan Finley.png\"}], \"car\": [{\"carid\": \"car_10\", \"make\": \"Ferarri\", \"year\": \"2015\", \"category\": \"SportCar\", \"model\": \"Spider\", \"color\": \"Red\", \"pride\": 70000}]}</td></tr><tr><td>null</td><td>2023-08-08T19:12:38.003+0000</td><td>{\"user_profile\": [{\"userid\": \"userid_2\", \"username\": \"Nathan Finley\", \"gender\": \"male\", \"age\": 20, \"picture_url\": \"../images/profile/Nathan Finley.png\"}], \"car\": [{\"carid\": \"car_7\", \"make\": \"Chevrolet\", \"year\": \"2016\", \"category\": \"Truck\", \"model\": \"Silverado\", \"color\": \"White\", \"pride\": 17000}]}</td></tr><tr><td>null</td><td>2023-08-08T19:12:39.222+0000</td><td>{\"user_profile\": [{\"userid\": \"userid_4\", \"username\": \"Keith Farrar\", \"gender\": \"male\", \"age\": 50, \"picture_url\": \"../images/profile/Keith Farrar.png\"}], \"car\": [{\"carid\": \"car_7\", \"make\": \"Chevrolet\", \"year\": \"2016\", \"category\": \"Truck\", \"model\": \"Silverado\", \"color\": \"White\", \"pride\": 17000}]}</td></tr><tr><td>null</td><td>2023-08-08T19:12:40.457+0000</td><td>{\"user_profile\": [{\"userid\": \"userid_2\", \"username\": \"Nathan Finley\", \"gender\": \"male\", \"age\": 20, \"picture_url\": \"../images/profile/Nathan Finley.png\"}], \"car\": [{\"carid\": \"car_9\", \"make\": \"Ram\", \"year\": \"2010\", \"category\": \"Truck\", \"model\": \"1500\", \"color\": \"Black\", \"pride\": 17000}]}</td></tr><tr><td>null</td><td>2023-08-08T19:12:41.722+0000</td><td>{\"user_profile\": [{\"userid\": \"userid_2\", \"username\": \"Nathan Finley\", \"gender\": \"male\", \"age\": 20, \"picture_url\": \"../images/profile/Nathan Finley.png\"}], \"car\": [{\"carid\": \"car_11\", \"make\": \"Tesla\", \"year\": \"2019\", \"category\": \"EV\", \"model\": \"Model Y\", \"color\": \"Black\", \"pride\": 40000}]}</td></tr><tr><td>null</td><td>2023-08-08T19:12:42.957+0000</td><td>{\"user_profile\": [{\"userid\": \"userid_1\", \"username\": \"Jenna Bostwick\", \"gender\": \"female\", \"age\": 25, \"picture_url\": \"../images/profile/Jenna Bostwick.png\"}], \"car\": [{\"carid\": \"car_5\", \"make\": \"Toyota\", \"year\": \"2015\", \"category\": \"SUV\", \"model\": \"RAV4\", \"color\": \"White\", \"pride\": 15000}]}</td></tr><tr><td>null</td><td>2023-08-08T19:12:44.254+0000</td><td>{\"user_profile\": [{\"userid\": \"userid_1\", \"username\": \"Jenna Bostwick\", \"gender\": \"female\", \"age\": 25, \"picture_url\": \"../images/profile/Jenna Bostwick.png\"}], \"car\": [{\"carid\": \"car_2\", \"make\": \"Nissan\", \"year\": \"2018\", \"category\": \"Sedan\", \"model\": \"Altima\", \"color\": \"Gold\", \"pride\": 13000}]}</td></tr><tr><td>null</td><td>2023-08-08T19:12:45.472+0000</td><td>{\"user_profile\": [{\"userid\": \"userid_2\", \"username\": \"Nathan Finley\", \"gender\": \"male\", \"age\": 20, \"picture_url\": \"../images/profile/Nathan Finley.png\"}], \"car\": [{\"carid\": \"car_0\", \"make\": \"Honda\", \"year\": \"2020\", \"category\": \"Sedan\", \"model\": \"Accord\", \"color\": \"Black\", \"pride\": 14000}]}</td></tr><tr><td>null</td><td>2023-08-08T19:12:46.676+0000</td><td>{\"user_profile\": [{\"userid\": \"userid_1\", \"username\": \"Jenna Bostwick\", \"gender\": \"female\", \"age\": 25, \"picture_url\": \"../images/profile/Jenna Bostwick.png\"}], \"car\": [{\"carid\": \"car_7\", \"make\": \"Chevrolet\", \"year\": \"2016\", \"category\": \"Truck\", \"model\": \"Silverado\", \"color\": \"White\", \"pride\": 17000}]}</td></tr><tr><td>null</td><td>2023-08-08T19:12:47.894+0000</td><td>{\"user_profile\": [{\"userid\": \"userid_0\", \"username\": \"Maria Dandridge\", \"gender\": \"female\", \"age\": 20, \"picture_url\": \"../images/profile/Maria Dandridge.png\"}], \"car\": [{\"carid\": \"car_2\", \"make\": \"Nissan\", \"year\": \"2018\", \"category\": \"Sedan\", \"model\": \"Altima\", \"color\": \"Gold\", \"pride\": 13000}]}</td></tr><tr><td>null</td><td>2023-08-08T19:12:49.114+0000</td><td>{\"user_profile\": [{\"userid\": \"userid_3\", \"username\": \"Owen Milford\", \"gender\": \"male\", \"age\": 30, \"picture_url\": \"../images/profile/Owen Milford.png\"}], \"car\": [{\"carid\": \"car_2\", \"make\": \"Nissan\", \"year\": \"2018\", \"category\": \"Sedan\", \"model\": \"Altima\", \"color\": \"Gold\", \"pride\": 13000}]}</td></tr><tr><td>null</td><td>2023-08-08T19:12:50.285+0000</td><td>{\"user_profile\": [{\"userid\": \"userid_1\", \"username\": \"Jenna Bostwick\", \"gender\": \"female\", \"age\": 25, \"picture_url\": \"../images/profile/Jenna Bostwick.png\"}], \"car\": [{\"carid\": \"car_11\", \"make\": \"Tesla\", \"year\": \"2019\", \"category\": \"EV\", \"model\": \"Model Y\", \"color\": \"Black\", \"pride\": 40000}]}</td></tr><tr><td>null</td><td>2023-08-08T19:12:51.520+0000</td><td>{\"user_profile\": [{\"userid\": \"userid_1\", \"username\": \"Jenna Bostwick\", \"gender\": \"female\", \"age\": 25, \"picture_url\": \"../images/profile/Jenna Bostwick.png\"}], \"car\": [{\"carid\": \"car_6\", \"make\": \"Nissan\", \"year\": \"2015\", \"category\": \"SUV\", \"model\": \"Rouge\", \"color\": \"Brown\", \"pride\": 15500}]}</td></tr><tr><td>null</td><td>2023-08-08T19:12:52.708+0000</td><td>{\"user_profile\": [{\"userid\": \"userid_2\", \"username\": \"Nathan Finley\", \"gender\": \"male\", \"age\": 20, \"picture_url\": \"../images/profile/Nathan Finley.png\"}], \"car\": [{\"carid\": \"car_9\", \"make\": \"Ram\", \"year\": \"2010\", \"category\": \"Truck\", \"model\": \"1500\", \"color\": \"Black\", \"pride\": 17000}]}</td></tr><tr><td>null</td><td>2023-08-08T19:12:53.896+0000</td><td>{\"user_profile\": [{\"userid\": \"userid_2\", \"username\": \"Nathan Finley\", \"gender\": \"male\", \"age\": 20, \"picture_url\": \"../images/profile/Nathan Finley.png\"}], \"car\": [{\"carid\": \"car_8\", \"make\": \"Ford\", \"year\": \"2016\", \"category\": \"Truck\", \"model\": \"F-150\", \"color\": \"Brown\", \"pride\": 17000}]}</td></tr><tr><td>null</td><td>2023-08-08T19:12:55.177+0000</td><td>{\"user_profile\": [{\"userid\": \"userid_3\", \"username\": \"Owen Milford\", \"gender\": \"male\", \"age\": 30, \"picture_url\": \"../images/profile/Owen Milford.png\"}], \"car\": [{\"carid\": \"car_8\", \"make\": \"Ford\", \"year\": \"2016\", \"category\": \"Truck\", \"model\": \"F-150\", \"color\": \"Brown\", \"pride\": 17000}]}</td></tr><tr><td>null</td><td>2023-08-08T19:12:56.365+0000</td><td>{\"user_profile\": [{\"userid\": \"userid_3\", \"username\": \"Owen Milford\", \"gender\": \"male\", \"age\": 30, \"picture_url\": \"../images/profile/Owen Milford.png\"}], \"car\": [{\"carid\": \"car_3\", \"make\": \"Toyota\", \"year\": \"2012\", \"category\": \"Sedan\", \"model\": \"Camry\", \"color\": \"Silver\", \"pride\": 11000}]}</td></tr><tr><td>null</td><td>2023-08-08T19:12:57.599+0000</td><td>{\"user_profile\": [{\"userid\": \"userid_2\", \"username\": \"Nathan Finley\", \"gender\": \"male\", \"age\": 20, \"picture_url\": \"../images/profile/Nathan Finley.png\"}], \"car\": [{\"carid\": \"car_7\", \"make\": \"Chevrolet\", \"year\": \"2016\", \"category\": \"Truck\", \"model\": \"Silverado\", \"color\": \"White\", \"pride\": 17000}]}</td></tr><tr><td>null</td><td>2023-08-08T19:12:59.022+0000</td><td>{\"user_profile\": [{\"userid\": \"userid_0\", \"username\": \"Maria Dandridge\", \"gender\": \"female\", \"age\": 20, \"picture_url\": \"../images/profile/Maria Dandridge.png\"}], \"car\": [{\"carid\": \"car_3\", \"make\": \"Toyota\", \"year\": \"2012\", \"category\": \"Sedan\", \"model\": \"Camry\", \"color\": \"Silver\", \"pride\": 11000}]}</td></tr><tr><td>null</td><td>2023-08-08T19:13:00.225+0000</td><td>{\"user_profile\": [{\"userid\": \"userid_3\", \"username\": \"Owen Milford\", \"gender\": \"male\", \"age\": 30, \"picture_url\": \"../images/profile/Owen Milford.png\"}], \"car\": [{\"carid\": \"car_0\", \"make\": \"Honda\", \"year\": \"2020\", \"category\": \"Sedan\", \"model\": \"Accord\", \"color\": \"Black\", \"pride\": 14000}]}</td></tr><tr><td>null</td><td>2023-08-08T19:13:01.413+0000</td><td>{\"user_profile\": [{\"userid\": \"userid_4\", \"username\": \"Keith Farrar\", \"gender\": \"male\", \"age\": 50, \"picture_url\": \"../images/profile/Keith Farrar.png\"}], \"car\": [{\"carid\": \"car_9\", \"make\": \"Ram\", \"year\": \"2010\", \"category\": \"Truck\", \"model\": \"1500\", \"color\": \"Black\", \"pride\": 17000}]}</td></tr><tr><td>null</td><td>2023-08-08T19:13:02.600+0000</td><td>{\"user_profile\": [{\"userid\": \"userid_1\", \"username\": \"Jenna Bostwick\", \"gender\": \"female\", \"age\": 25, \"picture_url\": \"../images/profile/Jenna Bostwick.png\"}], \"car\": [{\"carid\": \"car_10\", \"make\": \"Ferarri\", \"year\": \"2015\", \"category\": \"SportCar\", \"model\": \"Spider\", \"color\": \"Red\", \"pride\": 70000}]}</td></tr><tr><td>null</td><td>2023-08-08T19:13:03.850+0000</td><td>{\"user_profile\": [{\"userid\": \"userid_1\", \"username\": \"Jenna Bostwick\", \"gender\": \"female\", \"age\": 25, \"picture_url\": \"../images/profile/Jenna Bostwick.png\"}], \"car\": [{\"carid\": \"car_1\", \"make\": \"Hyundai\", \"year\": \"2017\", \"category\": \"Sedan\", \"model\": \"Sonata\", \"color\": \"Gray\", \"pride\": 14000}]}</td></tr><tr><td>null</td><td>2023-08-08T19:13:05.069+0000</td><td>{\"user_profile\": [{\"userid\": \"userid_2\", \"username\": \"Nathan Finley\", \"gender\": \"male\", \"age\": 20, \"picture_url\": \"../images/profile/Nathan Finley.png\"}], \"car\": [{\"carid\": \"car_11\", \"make\": \"Tesla\", \"year\": \"2019\", \"category\": \"EV\", \"model\": \"Model Y\", \"color\": \"Black\", \"pride\": 40000}]}</td></tr><tr><td>null</td><td>2023-08-08T19:13:06.336+0000</td><td>{\"user_profile\": [{\"userid\": \"userid_4\", \"username\": \"Keith Farrar\", \"gender\": \"male\", \"age\": 50, \"picture_url\": \"../images/profile/Keith Farrar.png\"}], \"car\": [{\"carid\": \"car_3\", \"make\": \"Toyota\", \"year\": \"2012\", \"category\": \"Sedan\", \"model\": \"Camry\", \"color\": \"Silver\", \"pride\": 11000}]}</td></tr><tr><td>null</td><td>2023-08-08T19:13:07.523+0000</td><td>{\"user_profile\": [{\"userid\": \"userid_1\", \"username\": \"Jenna Bostwick\", \"gender\": \"female\", \"age\": 25, \"picture_url\": \"../images/profile/Jenna Bostwick.png\"}], \"car\": [{\"carid\": \"car_8\", \"make\": \"Ford\", \"year\": \"2016\", \"category\": \"Truck\", \"model\": \"F-150\", \"color\": \"Brown\", \"pride\": 17000}]}</td></tr><tr><td>null</td><td>2023-08-08T19:13:08.726+0000</td><td>{\"user_profile\": [{\"userid\": \"userid_3\", \"username\": \"Owen Milford\", \"gender\": \"male\", \"age\": 30, \"picture_url\": \"../images/profile/Owen Milford.png\"}], \"car\": [{\"carid\": \"car_0\", \"make\": \"Honda\", \"year\": \"2020\", \"category\": \"Sedan\", \"model\": \"Accord\", \"color\": \"Black\", \"pride\": 14000}]}</td></tr><tr><td>null</td><td>2023-08-08T19:13:09.914+0000</td><td>{\"user_profile\": [{\"userid\": \"userid_0\", \"username\": \"Maria Dandridge\", \"gender\": \"female\", \"age\": 20, \"picture_url\": \"../images/profile/Maria Dandridge.png\"}], \"car\": [{\"carid\": \"car_4\", \"make\": \"Honda\", \"year\": \"2013\", \"category\": \"SVU\", \"model\": \"CR-V\", \"color\": \"Brown\", \"pride\": 11000}]}</td></tr><tr><td>null</td><td>2023-08-08T19:13:11.102+0000</td><td>{\"user_profile\": [{\"userid\": \"userid_3\", \"username\": \"Owen Milford\", \"gender\": \"male\", \"age\": 30, \"picture_url\": \"../images/profile/Owen Milford.png\"}], \"car\": [{\"carid\": \"car_3\", \"make\": \"Toyota\", \"year\": \"2012\", \"category\": \"Sedan\", \"model\": \"Camry\", \"color\": \"Silver\", \"pride\": 11000}]}</td></tr><tr><td>null</td><td>2023-08-08T19:13:12.321+0000</td><td>{\"user_profile\": [{\"userid\": \"userid_0\", \"username\": \"Maria Dandridge\", \"gender\": \"female\", \"age\": 20, \"picture_url\": \"../images/profile/Maria Dandridge.png\"}], \"car\": [{\"carid\": \"car_8\", \"make\": \"Ford\", \"year\": \"2016\", \"category\": \"Truck\", \"model\": \"F-150\", \"color\": \"Brown\", \"pride\": 17000}]}</td></tr><tr><td>null</td><td>2023-08-08T19:13:13.539+0000</td><td>{\"user_profile\": [{\"userid\": \"userid_4\", \"username\": \"Keith Farrar\", \"gender\": \"male\", \"age\": 50, \"picture_url\": \"../images/profile/Keith Farrar.png\"}], \"car\": [{\"carid\": \"car_8\", \"make\": \"Ford\", \"year\": \"2016\", \"category\": \"Truck\", \"model\": \"F-150\", \"color\": \"Brown\", \"pride\": 17000}]}</td></tr><tr><td>null</td><td>2023-08-08T19:13:14.914+0000</td><td>{\"user_profile\": [{\"userid\": \"userid_4\", \"username\": \"Keith Farrar\", \"gender\": \"male\", \"age\": 50, \"picture_url\": \"../images/profile/Keith Farrar.png\"}], \"car\": [{\"carid\": \"car_3\", \"make\": \"Toyota\", \"year\": \"2012\", \"category\": \"Sedan\", \"model\": \"Camry\", \"color\": \"Silver\", \"pride\": 11000}]}</td></tr><tr><td>null</td><td>2023-08-08T19:13:16.164+0000</td><td>{\"user_profile\": [{\"userid\": \"userid_1\", \"username\": \"Jenna Bostwick\", \"gender\": \"female\", \"age\": 25, \"picture_url\": \"../images/profile/Jenna Bostwick.png\"}], \"car\": [{\"carid\": \"car_1\", \"make\": \"Hyundai\", \"year\": \"2017\", \"category\": \"Sedan\", \"model\": \"Sonata\", \"color\": \"Gray\", \"pride\": 14000}]}</td></tr><tr><td>null</td><td>2023-08-08T19:13:17.352+0000</td><td>{\"user_profile\": [{\"userid\": \"userid_4\", \"username\": \"Keith Farrar\", \"gender\": \"male\", \"age\": 50, \"picture_url\": \"../images/profile/Keith Farrar.png\"}], \"car\": [{\"carid\": \"car_0\", \"make\": \"Honda\", \"year\": \"2020\", \"category\": \"Sedan\", \"model\": \"Accord\", \"color\": \"Black\", \"pride\": 14000}]}</td></tr><tr><td>null</td><td>2023-08-08T19:13:18.539+0000</td><td>{\"user_profile\": [{\"userid\": \"userid_1\", \"username\": \"Jenna Bostwick\", \"gender\": \"female\", \"age\": 25, \"picture_url\": \"../images/profile/Jenna Bostwick.png\"}], \"car\": [{\"carid\": \"car_9\", \"make\": \"Ram\", \"year\": \"2010\", \"category\": \"Truck\", \"model\": \"1500\", \"color\": \"Black\", \"pride\": 17000}]}</td></tr><tr><td>null</td><td>2023-08-08T19:13:19.805+0000</td><td>{\"user_profile\": [{\"userid\": \"userid_2\", \"username\": \"Nathan Finley\", \"gender\": \"male\", \"age\": 20, \"picture_url\": \"../images/profile/Nathan Finley.png\"}], \"car\": [{\"carid\": \"car_0\", \"make\": \"Honda\", \"year\": \"2020\", \"category\": \"Sedan\", \"model\": \"Accord\", \"color\": \"Black\", \"pride\": 14000}]}</td></tr><tr><td>null</td><td>2023-08-08T19:13:21.055+0000</td><td>{\"user_profile\": [{\"userid\": \"userid_1\", \"username\": \"Jenna Bostwick\", \"gender\": \"female\", \"age\": 25, \"picture_url\": \"../images/profile/Jenna Bostwick.png\"}], \"car\": [{\"carid\": \"car_11\", \"make\": \"Tesla\", \"year\": \"2019\", \"category\": \"EV\", \"model\": \"Model Y\", \"color\": \"Black\", \"pride\": 40000}]}</td></tr><tr><td>null</td><td>2023-08-08T19:13:22.368+0000</td><td>{\"user_profile\": [{\"userid\": \"userid_0\", \"username\": \"Maria Dandridge\", \"gender\": \"female\", \"age\": 20, \"picture_url\": \"../images/profile/Maria Dandridge.png\"}], \"car\": [{\"carid\": \"car_6\", \"make\": \"Nissan\", \"year\": \"2015\", \"category\": \"SUV\", \"model\": \"Rouge\", \"color\": \"Brown\", \"pride\": 15500}]}</td></tr><tr><td>null</td><td>2023-08-08T19:13:23.602+0000</td><td>{\"user_profile\": [{\"userid\": \"userid_3\", \"username\": \"Owen Milford\", \"gender\": \"male\", \"age\": 30, \"picture_url\": \"../images/profile/Owen Milford.png\"}], \"car\": [{\"carid\": \"car_8\", \"make\": \"Ford\", \"year\": \"2016\", \"category\": \"Truck\", \"model\": \"F-150\", \"color\": \"Brown\", \"pride\": 17000}]}</td></tr><tr><td>null</td><td>2023-08-08T19:13:24.883+0000</td><td>{\"user_profile\": [{\"userid\": \"userid_0\", \"username\": \"Maria Dandridge\", \"gender\": \"female\", \"age\": 20, \"picture_url\": \"../images/profile/Maria Dandridge.png\"}], \"car\": [{\"carid\": \"car_6\", \"make\": \"Nissan\", \"year\": \"2015\", \"category\": \"SUV\", \"model\": \"Rouge\", \"color\": \"Brown\", \"pride\": 15500}]}</td></tr><tr><td>null</td><td>2023-08-08T19:13:26.071+0000</td><td>{\"user_profile\": [{\"userid\": \"userid_0\", \"username\": \"Maria Dandridge\", \"gender\": \"female\", \"age\": 20, \"picture_url\": \"../images/profile/Maria Dandridge.png\"}], \"car\": [{\"carid\": \"car_9\", \"make\": \"Ram\", \"year\": \"2010\", \"category\": \"Truck\", \"model\": \"1500\", \"color\": \"Black\", \"pride\": 17000}]}</td></tr><tr><td>null</td><td>2023-08-08T19:13:27.369+0000</td><td>{\"user_profile\": [{\"userid\": \"userid_2\", \"username\": \"Nathan Finley\", \"gender\": \"male\", \"age\": 20, \"picture_url\": \"../images/profile/Nathan Finley.png\"}], \"car\": [{\"carid\": \"car_0\", \"make\": \"Honda\", \"year\": \"2020\", \"category\": \"Sedan\", \"model\": \"Accord\", \"color\": \"Black\", \"pride\": 14000}]}</td></tr><tr><td>null</td><td>2023-08-08T19:13:28.556+0000</td><td>{\"user_profile\": [{\"userid\": \"userid_2\", \"username\": \"Nathan Finley\", \"gender\": \"male\", \"age\": 20, \"picture_url\": \"../images/profile/Nathan Finley.png\"}], \"car\": [{\"carid\": \"car_3\", \"make\": \"Toyota\", \"year\": \"2012\", \"category\": \"Sedan\", \"model\": \"Camry\", \"color\": \"Silver\", \"pride\": 11000}]}</td></tr><tr><td>null</td><td>2023-08-08T19:13:29.759+0000</td><td>{\"user_profile\": [{\"userid\": \"userid_0\", \"username\": \"Maria Dandridge\", \"gender\": \"female\", \"age\": 20, \"picture_url\": \"../images/profile/Maria Dandridge.png\"}], \"car\": [{\"carid\": \"car_0\", \"make\": \"Honda\", \"year\": \"2020\", \"category\": \"Sedan\", \"model\": \"Accord\", \"color\": \"Black\", \"pride\": 14000}]}</td></tr><tr><td>{\"user_profile\": [{\"userid\": \"userid_0\", \"username\": \"Maria Dandridge\", \"gender\": \"female\", \"age\": 20, \"picture_url\": \"../images/profile/Maria Dandridge.png\"}], \"car\": [{\"carid\": \"car_8\", \"make\": \"Ford\", \"year\": \"2016\", \"category\": \"Truck\", \"model\": \"F-150\", \"color\": \"Brown\", \"pride\": 17000}]}</td><td>null</td><td>null</td></tr><tr><td>{\"user_profile\": [{\"userid\": \"userid_0\", \"username\": \"Maria Dandridge\", \"gender\": \"female\", \"age\": 20, \"picture_url\": \"../images/profile/Maria Dandridge.png\"}], \"car\": [{\"carid\": \"car_1\", \"make\": \"Hyundai\", \"year\": \"2017\", \"category\": \"Sedan\", \"model\": \"Sonata\", \"color\": \"Gray\", \"pride\": 14000}]}</td><td>null</td><td>null</td></tr><tr><td>{\"user_profile\": [{\"userid\": \"userid_2\", \"username\": \"Nathan Finley\", \"gender\": \"male\", \"age\": 20, \"picture_url\": \"../images/profile/Nathan Finley.png\"}], \"car\": [{\"carid\": \"car_11\", \"make\": \"Tesla\", \"year\": \"2019\", \"category\": \"EV\", \"model\": \"Model Y\", \"color\": \"Black\", \"pride\": 40000}]}</td><td>null</td><td>null</td></tr><tr><td>{\"user_profile\": [{\"userid\": \"userid_4\", \"username\": \"Keith Farrar\", \"gender\": \"male\", \"age\": 50, \"picture_url\": \"../images/profile/Keith Farrar.png\"}], \"car\": [{\"carid\": \"car_0\", \"make\": \"Honda\", \"year\": \"2020\", \"category\": \"Sedan\", \"model\": \"Accord\", \"color\": \"Black\", \"pride\": 14000}]}</td><td>null</td><td>null</td></tr><tr><td>{\"user_profile\": [{\"userid\": \"userid_2\", \"username\": \"Nathan Finley\", \"gender\": \"male\", \"age\": 20, \"picture_url\": \"../images/profile/Nathan Finley.png\"}], \"car\": [{\"carid\": \"car_11\", \"make\": \"Tesla\", \"year\": \"2019\", \"category\": \"EV\", \"model\": \"Model Y\", \"color\": \"Black\", \"pride\": 40000}]}</td><td>null</td><td>null</td></tr><tr><td>{\"user_profile\": [{\"userid\": \"userid_2\", \"username\": \"Nathan Finley\", \"gender\": \"male\", \"age\": 20, \"picture_url\": \"../images/profile/Nathan Finley.png\"}], \"car\": [{\"carid\": \"car_2\", \"make\": \"Nissan\", \"year\": \"2018\", \"category\": \"Sedan\", \"model\": \"Altima\", \"color\": \"Gold\", \"pride\": 13000}]}</td><td>null</td><td>null</td></tr><tr><td>{\"user_profile\": [{\"userid\": \"userid_1\", \"username\": \"Jenna Bostwick\", \"gender\": \"female\", \"age\": 25, \"picture_url\": \"../images/profile/Jenna Bostwick.png\"}], \"car\": [{\"carid\": \"car_11\", \"make\": \"Tesla\", \"year\": \"2019\", \"category\": \"EV\", \"model\": \"Model Y\", \"color\": \"Black\", \"pride\": 40000}]}</td><td>null</td><td>null</td></tr><tr><td>{\"user_profile\": [{\"userid\": \"userid_2\", \"username\": \"Nathan Finley\", \"gender\": \"male\", \"age\": 20, \"picture_url\": \"../images/profile/Nathan Finley.png\"}], \"car\": [{\"carid\": \"car_7\", \"make\": \"Chevrolet\", \"year\": \"2016\", \"category\": \"Truck\", \"model\": \"Silverado\", \"color\": \"White\", \"pride\": 17000}]}</td><td>null</td><td>null</td></tr><tr><td>{\"user_profile\": [{\"userid\": \"userid_4\", \"username\": \"Keith Farrar\", \"gender\": \"male\", \"age\": 50, \"picture_url\": \"../images/profile/Keith Farrar.png\"}], \"car\": [{\"carid\": \"car_11\", \"make\": \"Tesla\", \"year\": \"2019\", \"category\": \"EV\", \"model\": \"Model Y\", \"color\": \"Black\", \"pride\": 40000}]}</td><td>null</td><td>null</td></tr><tr><td>{\"user_profile\": [{\"userid\": \"userid_3\", \"username\": \"Owen Milford\", \"gender\": \"male\", \"age\": 30, \"picture_url\": \"../images/profile/Owen Milford.png\"}], \"car\": [{\"carid\": \"car_6\", \"make\": \"Nissan\", \"year\": \"2015\", \"category\": \"SUV\", \"model\": \"Rouge\", \"color\": \"Brown\", \"pride\": 15500}]}</td><td>null</td><td>null</td></tr><tr><td>{\"user_profile\": [{\"userid\": \"userid_4\", \"username\": \"Keith Farrar\", \"gender\": \"male\", \"age\": 50, \"picture_url\": \"../images/profile/Keith Farrar.png\"}], \"car\": [{\"carid\": \"car_6\", \"make\": \"Nissan\", \"year\": \"2015\", \"category\": \"SUV\", \"model\": \"Rouge\", \"color\": \"Brown\", \"pride\": 15500}]}</td><td>null</td><td>null</td></tr><tr><td>{\"user_profile\": [{\"userid\": \"userid_0\", \"username\": \"Maria Dandridge\", \"gender\": \"female\", \"age\": 20, \"picture_url\": \"../images/profile/Maria Dandridge.png\"}], \"car\": [{\"carid\": \"car_9\", \"make\": \"Ram\", \"year\": \"2010\", \"category\": \"Truck\", \"model\": \"1500\", \"color\": \"Black\", \"pride\": 17000}]}</td><td>null</td><td>null</td></tr><tr><td>{\"user_profile\": [{\"userid\": \"userid_2\", \"username\": \"Nathan Finley\", \"gender\": \"male\", \"age\": 20, \"picture_url\": \"../images/profile/Nathan Finley.png\"}], \"car\": [{\"carid\": \"car_4\", \"make\": \"Honda\", \"year\": \"2013\", \"category\": \"SVU\", \"model\": \"CR-V\", \"color\": \"Brown\", \"pride\": 11000}]}</td><td>null</td><td>null</td></tr><tr><td>{\"user_profile\": [{\"userid\": \"userid_3\", \"username\": \"Owen Milford\", \"gender\": \"male\", \"age\": 30, \"picture_url\": \"../images/profile/Owen Milford.png\"}], \"car\": [{\"carid\": \"car_9\", \"make\": \"Ram\", \"year\": \"2010\", \"category\": \"Truck\", \"model\": \"1500\", \"color\": \"Black\", \"pride\": 17000}]}</td><td>null</td><td>null</td></tr><tr><td>{\"user_profile\": [{\"userid\": \"userid_3\", \"username\": \"Owen Milford\", \"gender\": \"male\", \"age\": 30, \"picture_url\": \"../images/profile/Owen Milford.png\"}], \"car\": [{\"carid\": \"car_0\", \"make\": \"Honda\", \"year\": \"2020\", \"category\": \"Sedan\", \"model\": \"Accord\", \"color\": \"Black\", \"pride\": 14000}]}</td><td>null</td><td>null</td></tr><tr><td>{\"user_profile\": [{\"userid\": \"userid_0\", \"username\": \"Maria Dandridge\", \"gender\": \"female\", \"age\": 20, \"picture_url\": \"../images/profile/Maria Dandridge.png\"}], \"car\": [{\"carid\": \"car_2\", \"make\": \"Nissan\", \"year\": \"2018\", \"category\": \"Sedan\", \"model\": \"Altima\", \"color\": \"Gold\", \"pride\": 13000}]}</td><td>null</td><td>null</td></tr><tr><td>{\"user_profile\": [{\"userid\": \"userid_3\", \"username\": \"Owen Milford\", \"gender\": \"male\", \"age\": 30, \"picture_url\": \"../images/profile/Owen Milford.png\"}], \"car\": [{\"carid\": \"car_1\", \"make\": \"Hyundai\", \"year\": \"2017\", \"category\": \"Sedan\", \"model\": \"Sonata\", \"color\": \"Gray\", \"pride\": 14000}]}</td><td>null</td><td>null</td></tr><tr><td>{\"user_profile\": [{\"userid\": \"userid_1\", \"username\": \"Jenna Bostwick\", \"gender\": \"female\", \"age\": 25, \"picture_url\": \"../images/profile/Jenna Bostwick.png\"}], \"car\": [{\"carid\": \"car_5\", \"make\": \"Toyota\", \"year\": \"2015\", \"category\": \"SUV\", \"model\": \"RAV4\", \"color\": \"White\", \"pride\": 15000}]}</td><td>null</td><td>null</td></tr><tr><td>{\"user_profile\": [{\"userid\": \"userid_1\", \"username\": \"Jenna Bostwick\", \"gender\": \"female\", \"age\": 25, \"picture_url\": \"../images/profile/Jenna Bostwick.png\"}], \"car\": [{\"carid\": \"car_4\", \"make\": \"Honda\", \"year\": \"2013\", \"category\": \"SVU\", \"model\": \"CR-V\", \"color\": \"Brown\", \"pride\": 11000}]}</td><td>null</td><td>null</td></tr><tr><td>{\"user_profile\": [{\"userid\": \"userid_4\", \"username\": \"Keith Farrar\", \"gender\": \"male\", \"age\": 50, \"picture_url\": \"../images/profile/Keith Farrar.png\"}], \"car\": [{\"carid\": \"car_9\", \"make\": \"Ram\", \"year\": \"2010\", \"category\": \"Truck\", \"model\": \"1500\", \"color\": \"Black\", \"pride\": 17000}]}</td><td>null</td><td>null</td></tr><tr><td>{\"user_profile\": [{\"userid\": \"userid_3\", \"username\": \"Owen Milford\", \"gender\": \"male\", \"age\": 30, \"picture_url\": \"../images/profile/Owen Milford.png\"}], \"car\": [{\"carid\": \"car_6\", \"make\": \"Nissan\", \"year\": \"2015\", \"category\": \"SUV\", \"model\": \"Rouge\", \"color\": \"Brown\", \"pride\": 15500}]}</td><td>null</td><td>null</td></tr><tr><td>{\"user_profile\": [{\"userid\": \"userid_1\", \"username\": \"Jenna Bostwick\", \"gender\": \"female\", \"age\": 25, \"picture_url\": \"../images/profile/Jenna Bostwick.png\"}], \"car\": [{\"carid\": \"car_8\", \"make\": \"Ford\", \"year\": \"2016\", \"category\": \"Truck\", \"model\": \"F-150\", \"color\": \"Brown\", \"pride\": 17000}]}</td><td>null</td><td>null</td></tr><tr><td>{\"user_profile\": [{\"userid\": \"userid_0\", \"username\": \"Maria Dandridge\", \"gender\": \"female\", \"age\": 20, \"picture_url\": \"../images/profile/Maria Dandridge.png\"}], \"car\": [{\"carid\": \"car_0\", \"make\": \"Honda\", \"year\": \"2020\", \"category\": \"Sedan\", \"model\": \"Accord\", \"color\": \"Black\", \"pride\": 14000}]}</td><td>null</td><td>null</td></tr><tr><td>{\"user_profile\": [{\"userid\": \"userid_0\", \"username\": \"Maria Dandridge\", \"gender\": \"female\", \"age\": 20, \"picture_url\": \"../images/profile/Maria Dandridge.png\"}], \"car\": [{\"carid\": \"car_10\", \"make\": \"Ferarri\", \"year\": \"2015\", \"category\": \"SportCar\", \"model\": \"Spider\", \"color\": \"Red\", \"pride\": 70000}]}</td><td>null</td><td>null</td></tr><tr><td>{\"user_profile\": [{\"userid\": \"userid_1\", \"username\": \"Jenna Bostwick\", \"gender\": \"female\", \"age\": 25, \"picture_url\": \"../images/profile/Jenna Bostwick.png\"}], \"car\": [{\"carid\": \"car_6\", \"make\": \"Nissan\", \"year\": \"2015\", \"category\": \"SUV\", \"model\": \"Rouge\", \"color\": \"Brown\", \"pride\": 15500}]}</td><td>null</td><td>null</td></tr><tr><td>{\"user_profile\": [{\"userid\": \"userid_0\", \"username\": \"Maria Dandridge\", \"gender\": \"female\", \"age\": 20, \"picture_url\": \"../images/profile/Maria Dandridge.png\"}], \"car\": [{\"carid\": \"car_10\", \"make\": \"Ferarri\", \"year\": \"2015\", \"category\": \"SportCar\", \"model\": \"Spider\", \"color\": \"Red\", \"pride\": 70000}]}</td><td>null</td><td>null</td></tr><tr><td>{\"user_profile\": [{\"userid\": \"userid_0\", \"username\": \"Maria Dandridge\", \"gender\": \"female\", \"age\": 20, \"picture_url\": \"../images/profile/Maria Dandridge.png\"}], \"car\": [{\"carid\": \"car_1\", \"make\": \"Hyundai\", \"year\": \"2017\", \"category\": \"Sedan\", \"model\": \"Sonata\", \"color\": \"Gray\", \"pride\": 14000}]}</td><td>null</td><td>null</td></tr><tr><td>{\"user_profile\": [{\"userid\": \"userid_3\", \"username\": \"Owen Milford\", \"gender\": \"male\", \"age\": 30, \"picture_url\": \"../images/profile/Owen Milford.png\"}], \"car\": [{\"carid\": \"car_6\", \"make\": \"Nissan\", \"year\": \"2015\", \"category\": \"SUV\", \"model\": \"Rouge\", \"color\": \"Brown\", \"pride\": 15500}]}</td><td>null</td><td>null</td></tr><tr><td>{\"user_profile\": [{\"userid\": \"userid_1\", \"username\": \"Jenna Bostwick\", \"gender\": \"female\", \"age\": 25, \"picture_url\": \"../images/profile/Jenna Bostwick.png\"}], \"car\": [{\"carid\": \"car_0\", \"make\": \"Honda\", \"year\": \"2020\", \"category\": \"Sedan\", \"model\": \"Accord\", \"color\": \"Black\", \"pride\": 14000}]}</td><td>null</td><td>null</td></tr><tr><td>{\"user_profile\": [{\"userid\": \"userid_0\", \"username\": \"Maria Dandridge\", \"gender\": \"female\", \"age\": 20, \"picture_url\": \"../images/profile/Maria Dandridge.png\"}], \"car\": [{\"carid\": \"car_7\", \"make\": \"Chevrolet\", \"year\": \"2016\", \"category\": \"Truck\", \"model\": \"Silverado\", \"color\": \"White\", \"pride\": 17000}]}</td><td>null</td><td>null</td></tr><tr><td>{\"user_profile\": [{\"userid\": \"userid_4\", \"username\": \"Keith Farrar\", \"gender\": \"male\", \"age\": 50, \"picture_url\": \"../images/profile/Keith Farrar.png\"}], \"car\": [{\"carid\": \"car_3\", \"make\": \"Toyota\", \"year\": \"2012\", \"category\": \"Sedan\", \"model\": \"Camry\", \"color\": \"Silver\", \"pride\": 11000}]}</td><td>null</td><td>null</td></tr><tr><td>{\"user_profile\": [{\"userid\": \"userid_3\", \"username\": \"Owen Milford\", \"gender\": \"male\", \"age\": 30, \"picture_url\": \"../images/profile/Owen Milford.png\"}], \"car\": [{\"carid\": \"car_1\", \"make\": \"Hyundai\", \"year\": \"2017\", \"category\": \"Sedan\", \"model\": \"Sonata\", \"color\": \"Gray\", \"pride\": 14000}]}</td><td>null</td><td>null</td></tr><tr><td>{\"user_profile\": [{\"userid\": \"userid_3\", \"username\": \"Owen Milford\", \"gender\": \"male\", \"age\": 30, \"picture_url\": \"../images/profile/Owen Milford.png\"}], \"car\": [{\"carid\": \"car_4\", \"make\": \"Honda\", \"year\": \"2013\", \"category\": \"SVU\", \"model\": \"CR-V\", \"color\": \"Brown\", \"pride\": 11000}]}</td><td>null</td><td>null</td></tr><tr><td>{\"user_profile\": [{\"userid\": \"userid_0\", \"username\": \"Maria Dandridge\", \"gender\": \"female\", \"age\": 20, \"picture_url\": \"../images/profile/Maria Dandridge.png\"}], \"car\": [{\"carid\": \"car_10\", \"make\": \"Ferarri\", \"year\": \"2015\", \"category\": \"SportCar\", \"model\": \"Spider\", \"color\": \"Red\", \"pride\": 70000}]}</td><td>null</td><td>null</td></tr><tr><td>{\"user_profile\": [{\"userid\": \"userid_2\", \"username\": \"Nathan Finley\", \"gender\": \"male\", \"age\": 20, \"picture_url\": \"../images/profile/Nathan Finley.png\"}], \"car\": [{\"carid\": \"car_6\", \"make\": \"Nissan\", \"year\": \"2015\", \"category\": \"SUV\", \"model\": \"Rouge\", \"color\": \"Brown\", \"pride\": 15500}]}</td><td>null</td><td>null</td></tr><tr><td>{\"user_profile\": [{\"userid\": \"userid_3\", \"username\": \"Owen Milford\", \"gender\": \"male\", \"age\": 30, \"picture_url\": \"../images/profile/Owen Milford.png\"}], \"car\": [{\"carid\": \"car_9\", \"make\": \"Ram\", \"year\": \"2010\", \"category\": \"Truck\", \"model\": \"1500\", \"color\": \"Black\", \"pride\": 17000}]}</td><td>null</td><td>null</td></tr><tr><td>{\"user_profile\": [{\"userid\": \"userid_4\", \"username\": \"Keith Farrar\", \"gender\": \"male\", \"age\": 50, \"picture_url\": \"../images/profile/Keith Farrar.png\"}], \"car\": [{\"carid\": \"car_8\", \"make\": \"Ford\", \"year\": \"2016\", \"category\": \"Truck\", \"model\": \"F-150\", \"color\": \"Brown\", \"pride\": 17000}]}</td><td>null</td><td>null</td></tr><tr><td>{\"user_profile\": [{\"userid\": \"userid_1\", \"username\": \"Jenna Bostwick\", \"gender\": \"female\", \"age\": 25, \"picture_url\": \"../images/profile/Jenna Bostwick.png\"}], \"car\": [{\"carid\": \"car_11\", \"make\": \"Tesla\", \"year\": \"2019\", \"category\": \"EV\", \"model\": \"Model Y\", \"color\": \"Black\", \"pride\": 40000}]}</td><td>null</td><td>null</td></tr><tr><td>{\"user_profile\": [{\"userid\": \"userid_4\", \"username\": \"Keith Farrar\", \"gender\": \"male\", \"age\": 50, \"picture_url\": \"../images/profile/Keith Farrar.png\"}], \"car\": [{\"carid\": \"car_7\", \"make\": \"Chevrolet\", \"year\": \"2016\", \"category\": \"Truck\", \"model\": \"Silverado\", \"color\": \"White\", \"pride\": 17000}]}</td><td>null</td><td>null</td></tr><tr><td>{\"user_profile\": [{\"userid\": \"userid_1\", \"username\": \"Jenna Bostwick\", \"gender\": \"female\", \"age\": 25, \"picture_url\": \"../images/profile/Jenna Bostwick.png\"}], \"car\": [{\"carid\": \"car_0\", \"make\": \"Honda\", \"year\": \"2020\", \"category\": \"Sedan\", \"model\": \"Accord\", \"color\": \"Black\", \"pride\": 14000}]}</td><td>null</td><td>null</td></tr><tr><td>{\"user_profile\": [{\"userid\": \"userid_0\", \"username\": \"Maria Dandridge\", \"gender\": \"female\", \"age\": 20, \"picture_url\": \"../images/profile/Maria Dandridge.png\"}], \"car\": [{\"carid\": \"car_8\", \"make\": \"Ford\", \"year\": \"2016\", \"category\": \"Truck\", \"model\": \"F-150\", \"color\": \"Brown\", \"pride\": 17000}]}</td><td>null</td><td>null</td></tr><tr><td>{\"user_profile\": [{\"userid\": \"userid_4\", \"username\": \"Keith Farrar\", \"gender\": \"male\", \"age\": 50, \"picture_url\": \"../images/profile/Keith Farrar.png\"}], \"car\": [{\"carid\": \"car_7\", \"make\": \"Chevrolet\", \"year\": \"2016\", \"category\": \"Truck\", \"model\": \"Silverado\", \"color\": \"White\", \"pride\": 17000}]}</td><td>null</td><td>null</td></tr><tr><td>{\"user_profile\": [{\"userid\": \"userid_2\", \"username\": \"Nathan Finley\", \"gender\": \"male\", \"age\": 20, \"picture_url\": \"../images/profile/Nathan Finley.png\"}], \"car\": [{\"carid\": \"car_9\", \"make\": \"Ram\", \"year\": \"2010\", \"category\": \"Truck\", \"model\": \"1500\", \"color\": \"Black\", \"pride\": 17000}]}</td><td>null</td><td>null</td></tr><tr><td>{\"user_profile\": [{\"userid\": \"userid_0\", \"username\": \"Maria Dandridge\", \"gender\": \"female\", \"age\": 20, \"picture_url\": \"../images/profile/Maria Dandridge.png\"}], \"car\": [{\"carid\": \"car_1\", \"make\": \"Hyundai\", \"year\": \"2017\", \"category\": \"Sedan\", \"model\": \"Sonata\", \"color\": \"Gray\", \"pride\": 14000}]}</td><td>null</td><td>null</td></tr><tr><td>{\"user_profile\": [{\"userid\": \"userid_3\", \"username\": \"Owen Milford\", \"gender\": \"male\", \"age\": 30, \"picture_url\": \"../images/profile/Owen Milford.png\"}], \"car\": [{\"carid\": \"car_9\", \"make\": \"Ram\", \"year\": \"2010\", \"category\": \"Truck\", \"model\": \"1500\", \"color\": \"Black\", \"pride\": 17000}]}</td><td>null</td><td>null</td></tr><tr><td>{\"user_profile\": [{\"userid\": \"userid_1\", \"username\": \"Jenna Bostwick\", \"gender\": \"female\", \"age\": 25, \"picture_url\": \"../images/profile/Jenna Bostwick.png\"}], \"car\": [{\"carid\": \"car_6\", \"make\": \"Nissan\", \"year\": \"2015\", \"category\": \"SUV\", \"model\": \"Rouge\", \"color\": \"Brown\", \"pride\": 15500}]}</td><td>null</td><td>null</td></tr><tr><td>{\"user_profile\": [{\"userid\": \"userid_4\", \"username\": \"Keith Farrar\", \"gender\": \"male\", \"age\": 50, \"picture_url\": \"../images/profile/Keith Farrar.png\"}], \"car\": [{\"carid\": \"car_6\", \"make\": \"Nissan\", \"year\": \"2015\", \"category\": \"SUV\", \"model\": \"Rouge\", \"color\": \"Brown\", \"pride\": 15500}]}</td><td>null</td><td>null</td></tr><tr><td>{\"user_profile\": [{\"userid\": \"userid_0\", \"username\": \"Maria Dandridge\", \"gender\": \"female\", \"age\": 20, \"picture_url\": \"../images/profile/Maria Dandridge.png\"}], \"car\": [{\"carid\": \"car_6\", \"make\": \"Nissan\", \"year\": \"2015\", \"category\": \"SUV\", \"model\": \"Rouge\", \"color\": \"Brown\", \"pride\": 15500}]}</td><td>null</td><td>null</td></tr><tr><td>{\"user_profile\": [{\"userid\": \"userid_2\", \"username\": \"Nathan Finley\", \"gender\": \"male\", \"age\": 20, \"picture_url\": \"../images/profile/Nathan Finley.png\"}], \"car\": [{\"carid\": \"car_10\", \"make\": \"Ferarri\", \"year\": \"2015\", \"category\": \"SportCar\", \"model\": \"Spider\", \"color\": \"Red\", \"pride\": 70000}]}</td><td>null</td><td>null</td></tr><tr><td>{\"user_profile\": [{\"userid\": \"userid_4\", \"username\": \"Keith Farrar\", \"gender\": \"male\", \"age\": 50, \"picture_url\": \"../images/profile/Keith Farrar.png\"}], \"car\": [{\"carid\": \"car_7\", \"make\": \"Chevrolet\", \"year\": \"2016\", \"category\": \"Truck\", \"model\": \"Silverado\", \"color\": \"White\", \"pride\": 17000}]}</td><td>null</td><td>null</td></tr><tr><td>{\"user_profile\": [{\"userid\": \"userid_4\", \"username\": \"Keith Farrar\", \"gender\": \"male\", \"age\": 50, \"picture_url\": \"../images/profile/Keith Farrar.png\"}], \"car\": [{\"carid\": \"car_4\", \"make\": \"Honda\", \"year\": \"2013\", \"category\": \"SVU\", \"model\": \"CR-V\", \"color\": \"Brown\", \"pride\": 11000}]}</td><td>null</td><td>null</td></tr><tr><td>{\"user_profile\": [{\"userid\": \"userid_2\", \"username\": \"Nathan Finley\", \"gender\": \"male\", \"age\": 20, \"picture_url\": \"../images/profile/Nathan Finley.png\"}], \"car\": [{\"carid\": \"car_4\", \"make\": \"Honda\", \"year\": \"2013\", \"category\": \"SVU\", \"model\": \"CR-V\", \"color\": \"Brown\", \"pride\": 11000}]}</td><td>null</td><td>null</td></tr><tr><td>{\"user_profile\": [{\"userid\": \"userid_2\", \"username\": \"Nathan Finley\", \"gender\": \"male\", \"age\": 20, \"picture_url\": \"../images/profile/Nathan Finley.png\"}], \"car\": [{\"carid\": \"car_11\", \"make\": \"Tesla\", \"year\": \"2019\", \"category\": \"EV\", \"model\": \"Model Y\", \"color\": \"Black\", \"pride\": 40000}]}</td><td>null</td><td>null</td></tr><tr><td>{\"user_profile\": [{\"userid\": \"userid_3\", \"username\": \"Owen Milford\", \"gender\": \"male\", \"age\": 30, \"picture_url\": \"../images/profile/Owen Milford.png\"}], \"car\": [{\"carid\": \"car_5\", \"make\": \"Toyota\", \"year\": \"2015\", \"category\": \"SUV\", \"model\": \"RAV4\", \"color\": \"White\", \"pride\": 15000}]}</td><td>null</td><td>null</td></tr><tr><td>{\"user_profile\": [{\"userid\": \"userid_1\", \"username\": \"Jenna Bostwick\", \"gender\": \"female\", \"age\": 25, \"picture_url\": \"../images/profile/Jenna Bostwick.png\"}], \"car\": [{\"carid\": \"car_7\", \"make\": \"Chevrolet\", \"year\": \"2016\", \"category\": \"Truck\", \"model\": \"Silverado\", \"color\": \"White\", \"pride\": 17000}]}</td><td>null</td><td>null</td></tr><tr><td>{\"user_profile\": [{\"userid\": \"userid_0\", \"username\": \"Maria Dandridge\", \"gender\": \"female\", \"age\": 20, \"picture_url\": \"../images/profile/Maria Dandridge.png\"}], \"car\": [{\"carid\": \"car_4\", \"make\": \"Honda\", \"year\": \"2013\", \"category\": \"SVU\", \"model\": \"CR-V\", \"color\": \"Brown\", \"pride\": 11000}]}</td><td>null</td><td>null</td></tr><tr><td>{\"user_profile\": [{\"userid\": \"userid_0\", \"username\": \"Maria Dandridge\", \"gender\": \"female\", \"age\": 20, \"picture_url\": \"../images/profile/Maria Dandridge.png\"}], \"car\": [{\"carid\": \"car_8\", \"make\": \"Ford\", \"year\": \"2016\", \"category\": \"Truck\", \"model\": \"F-150\", \"color\": \"Brown\", \"pride\": 17000}]}</td><td>null</td><td>null</td></tr></tbody></table></div>"
      ]
     },
     "metadata": {
      "application/vnd.databricks.v1+output": {
       "addedWidgets": {},
       "aggData": [],
       "aggError": "",
       "aggOverflow": false,
       "aggSchema": [],
       "aggSeriesLimitReached": false,
       "aggType": "",
       "arguments": {},
       "columnCustomDisplayInfos": {},
       "data": [
        [
         "{\"user_profile\": [{\"userid\": \"userid_0\", \"username\": \"Maria Dandridge\", \"gender\": \"female\", \"age\": 20, \"picture_url\": \"../images/profile/Maria Dandridge.png\"}], \"car\": [{\"carid\": \"car_2\", \"make\": \"Nissan\", \"year\": \"2018\", \"category\": \"Sedan\", \"model\": \"Altima\", \"color\": \"Gold\", \"pride\": 13000}]}",
         null,
         null
        ],
        [
         "{\"user_profile\": [{\"userid\": \"userid_3\", \"username\": \"Owen Milford\", \"gender\": \"male\", \"age\": 30, \"picture_url\": \"../images/profile/Owen Milford.png\"}], \"car\": [{\"carid\": \"car_8\", \"make\": \"Ford\", \"year\": \"2016\", \"category\": \"Truck\", \"model\": \"F-150\", \"color\": \"Brown\", \"pride\": 17000}]}",
         null,
         null
        ],
        [
         "{\"user_profile\": [{\"userid\": \"userid_4\", \"username\": \"Keith Farrar\", \"gender\": \"male\", \"age\": 50, \"picture_url\": \"../images/profile/Keith Farrar.png\"}], \"car\": [{\"carid\": \"car_3\", \"make\": \"Toyota\", \"year\": \"2012\", \"category\": \"Sedan\", \"model\": \"Camry\", \"color\": \"Silver\", \"pride\": 11000}]}",
         null,
         null
        ],
        [
         "{\"user_profile\": [{\"userid\": \"userid_2\", \"username\": \"Nathan Finley\", \"gender\": \"male\", \"age\": 20, \"picture_url\": \"../images/profile/Nathan Finley.png\"}], \"car\": [{\"carid\": \"car_10\", \"make\": \"Ferarri\", \"year\": \"2015\", \"category\": \"SportCar\", \"model\": \"Spider\", \"color\": \"Red\", \"pride\": 70000}]}",
         null,
         null
        ],
        [
         "{\"user_profile\": [{\"userid\": \"userid_3\", \"username\": \"Owen Milford\", \"gender\": \"male\", \"age\": 30, \"picture_url\": \"../images/profile/Owen Milford.png\"}], \"car\": [{\"carid\": \"car_0\", \"make\": \"Honda\", \"year\": \"2020\", \"category\": \"Sedan\", \"model\": \"Accord\", \"color\": \"Black\", \"pride\": 14000}]}",
         null,
         null
        ],
        [
         "{\"user_profile\": [{\"userid\": \"userid_0\", \"username\": \"Maria Dandridge\", \"gender\": \"female\", \"age\": 20, \"picture_url\": \"../images/profile/Maria Dandridge.png\"}], \"car\": [{\"carid\": \"car_2\", \"make\": \"Nissan\", \"year\": \"2018\", \"category\": \"Sedan\", \"model\": \"Altima\", \"color\": \"Gold\", \"pride\": 13000}]}",
         null,
         null
        ],
        [
         "{\"user_profile\": [{\"userid\": \"userid_3\", \"username\": \"Owen Milford\", \"gender\": \"male\", \"age\": 30, \"picture_url\": \"../images/profile/Owen Milford.png\"}], \"car\": [{\"carid\": \"car_1\", \"make\": \"Hyundai\", \"year\": \"2017\", \"category\": \"Sedan\", \"model\": \"Sonata\", \"color\": \"Gray\", \"pride\": 14000}]}",
         null,
         null
        ],
        [
         "{\"user_profile\": [{\"userid\": \"userid_2\", \"username\": \"Nathan Finley\", \"gender\": \"male\", \"age\": 20, \"picture_url\": \"../images/profile/Nathan Finley.png\"}], \"car\": [{\"carid\": \"car_3\", \"make\": \"Toyota\", \"year\": \"2012\", \"category\": \"Sedan\", \"model\": \"Camry\", \"color\": \"Silver\", \"pride\": 11000}]}",
         null,
         null
        ],
        [
         "{\"user_profile\": [{\"userid\": \"userid_4\", \"username\": \"Keith Farrar\", \"gender\": \"male\", \"age\": 50, \"picture_url\": \"../images/profile/Keith Farrar.png\"}], \"car\": [{\"carid\": \"car_3\", \"make\": \"Toyota\", \"year\": \"2012\", \"category\": \"Sedan\", \"model\": \"Camry\", \"color\": \"Silver\", \"pride\": 11000}]}",
         null,
         null
        ],
        [
         "{\"user_profile\": [{\"userid\": \"userid_3\", \"username\": \"Owen Milford\", \"gender\": \"male\", \"age\": 30, \"picture_url\": \"../images/profile/Owen Milford.png\"}], \"car\": [{\"carid\": \"car_10\", \"make\": \"Ferarri\", \"year\": \"2015\", \"category\": \"SportCar\", \"model\": \"Spider\", \"color\": \"Red\", \"pride\": 70000}]}",
         null,
         null
        ],
        [
         "{\"user_profile\": [{\"userid\": \"userid_2\", \"username\": \"Nathan Finley\", \"gender\": \"male\", \"age\": 20, \"picture_url\": \"../images/profile/Nathan Finley.png\"}], \"car\": [{\"carid\": \"car_10\", \"make\": \"Ferarri\", \"year\": \"2015\", \"category\": \"SportCar\", \"model\": \"Spider\", \"color\": \"Red\", \"pride\": 70000}]}",
         null,
         null
        ],
        [
         "{\"user_profile\": [{\"userid\": \"userid_4\", \"username\": \"Keith Farrar\", \"gender\": \"male\", \"age\": 50, \"picture_url\": \"../images/profile/Keith Farrar.png\"}], \"car\": [{\"carid\": \"car_1\", \"make\": \"Hyundai\", \"year\": \"2017\", \"category\": \"Sedan\", \"model\": \"Sonata\", \"color\": \"Gray\", \"pride\": 14000}]}",
         null,
         null
        ],
        [
         "{\"user_profile\": [{\"userid\": \"userid_3\", \"username\": \"Owen Milford\", \"gender\": \"male\", \"age\": 30, \"picture_url\": \"../images/profile/Owen Milford.png\"}], \"car\": [{\"carid\": \"car_1\", \"make\": \"Hyundai\", \"year\": \"2017\", \"category\": \"Sedan\", \"model\": \"Sonata\", \"color\": \"Gray\", \"pride\": 14000}]}",
         null,
         null
        ],
        [
         "{\"user_profile\": [{\"userid\": \"userid_4\", \"username\": \"Keith Farrar\", \"gender\": \"male\", \"age\": 50, \"picture_url\": \"../images/profile/Keith Farrar.png\"}], \"car\": [{\"carid\": \"car_4\", \"make\": \"Honda\", \"year\": \"2013\", \"category\": \"SVU\", \"model\": \"CR-V\", \"color\": \"Brown\", \"pride\": 11000}]}",
         null,
         null
        ],
        [
         "{\"user_profile\": [{\"userid\": \"userid_4\", \"username\": \"Keith Farrar\", \"gender\": \"male\", \"age\": 50, \"picture_url\": \"../images/profile/Keith Farrar.png\"}], \"car\": [{\"carid\": \"car_3\", \"make\": \"Toyota\", \"year\": \"2012\", \"category\": \"Sedan\", \"model\": \"Camry\", \"color\": \"Silver\", \"pride\": 11000}]}",
         null,
         null
        ],
        [
         "{\"user_profile\": [{\"userid\": \"userid_2\", \"username\": \"Nathan Finley\", \"gender\": \"male\", \"age\": 20, \"picture_url\": \"../images/profile/Nathan Finley.png\"}], \"car\": [{\"carid\": \"car_11\", \"make\": \"Tesla\", \"year\": \"2019\", \"category\": \"EV\", \"model\": \"Model Y\", \"color\": \"Black\", \"pride\": 40000}]}",
         null,
         null
        ],
        [
         "{\"user_profile\": [{\"userid\": \"userid_2\", \"username\": \"Nathan Finley\", \"gender\": \"male\", \"age\": 20, \"picture_url\": \"../images/profile/Nathan Finley.png\"}], \"car\": [{\"carid\": \"car_2\", \"make\": \"Nissan\", \"year\": \"2018\", \"category\": \"Sedan\", \"model\": \"Altima\", \"color\": \"Gold\", \"pride\": 13000}]}",
         null,
         null
        ],
        [
         "{\"user_profile\": [{\"userid\": \"userid_0\", \"username\": \"Maria Dandridge\", \"gender\": \"female\", \"age\": 20, \"picture_url\": \"../images/profile/Maria Dandridge.png\"}], \"car\": [{\"carid\": \"car_7\", \"make\": \"Chevrolet\", \"year\": \"2016\", \"category\": \"Truck\", \"model\": \"Silverado\", \"color\": \"White\", \"pride\": 17000}]}",
         null,
         null
        ],
        [
         "{\"user_profile\": [{\"userid\": \"userid_4\", \"username\": \"Keith Farrar\", \"gender\": \"male\", \"age\": 50, \"picture_url\": \"../images/profile/Keith Farrar.png\"}], \"car\": [{\"carid\": \"car_10\", \"make\": \"Ferarri\", \"year\": \"2015\", \"category\": \"SportCar\", \"model\": \"Spider\", \"color\": \"Red\", \"pride\": 70000}]}",
         null,
         null
        ],
        [
         "{\"user_profile\": [{\"userid\": \"userid_2\", \"username\": \"Nathan Finley\", \"gender\": \"male\", \"age\": 20, \"picture_url\": \"../images/profile/Nathan Finley.png\"}], \"car\": [{\"carid\": \"car_6\", \"make\": \"Nissan\", \"year\": \"2015\", \"category\": \"SUV\", \"model\": \"Rouge\", \"color\": \"Brown\", \"pride\": 15500}]}",
         null,
         null
        ],
        [
         "{\"user_profile\": [{\"userid\": \"userid_2\", \"username\": \"Nathan Finley\", \"gender\": \"male\", \"age\": 20, \"picture_url\": \"../images/profile/Nathan Finley.png\"}], \"car\": [{\"carid\": \"car_0\", \"make\": \"Honda\", \"year\": \"2020\", \"category\": \"Sedan\", \"model\": \"Accord\", \"color\": \"Black\", \"pride\": 14000}]}",
         null,
         null
        ],
        [
         "{\"user_profile\": [{\"userid\": \"userid_2\", \"username\": \"Nathan Finley\", \"gender\": \"male\", \"age\": 20, \"picture_url\": \"../images/profile/Nathan Finley.png\"}], \"car\": [{\"carid\": \"car_9\", \"make\": \"Ram\", \"year\": \"2010\", \"category\": \"Truck\", \"model\": \"1500\", \"color\": \"Black\", \"pride\": 17000}]}",
         null,
         null
        ],
        [
         "{\"user_profile\": [{\"userid\": \"userid_3\", \"username\": \"Owen Milford\", \"gender\": \"male\", \"age\": 30, \"picture_url\": \"../images/profile/Owen Milford.png\"}], \"car\": [{\"carid\": \"car_11\", \"make\": \"Tesla\", \"year\": \"2019\", \"category\": \"EV\", \"model\": \"Model Y\", \"color\": \"Black\", \"pride\": 40000}]}",
         null,
         null
        ],
        [
         "{\"user_profile\": [{\"userid\": \"userid_2\", \"username\": \"Nathan Finley\", \"gender\": \"male\", \"age\": 20, \"picture_url\": \"../images/profile/Nathan Finley.png\"}], \"car\": [{\"carid\": \"car_6\", \"make\": \"Nissan\", \"year\": \"2015\", \"category\": \"SUV\", \"model\": \"Rouge\", \"color\": \"Brown\", \"pride\": 15500}]}",
         null,
         null
        ],
        [
         "{\"user_profile\": [{\"userid\": \"userid_4\", \"username\": \"Keith Farrar\", \"gender\": \"male\", \"age\": 50, \"picture_url\": \"../images/profile/Keith Farrar.png\"}], \"car\": [{\"carid\": \"car_6\", \"make\": \"Nissan\", \"year\": \"2015\", \"category\": \"SUV\", \"model\": \"Rouge\", \"color\": \"Brown\", \"pride\": 15500}]}",
         null,
         null
        ],
        [
         "{\"user_profile\": [{\"userid\": \"userid_1\", \"username\": \"Jenna Bostwick\", \"gender\": \"female\", \"age\": 25, \"picture_url\": \"../images/profile/Jenna Bostwick.png\"}], \"car\": [{\"carid\": \"car_0\", \"make\": \"Honda\", \"year\": \"2020\", \"category\": \"Sedan\", \"model\": \"Accord\", \"color\": \"Black\", \"pride\": 14000}]}",
         null,
         null
        ],
        [
         "{\"user_profile\": [{\"userid\": \"userid_4\", \"username\": \"Keith Farrar\", \"gender\": \"male\", \"age\": 50, \"picture_url\": \"../images/profile/Keith Farrar.png\"}], \"car\": [{\"carid\": \"car_2\", \"make\": \"Nissan\", \"year\": \"2018\", \"category\": \"Sedan\", \"model\": \"Altima\", \"color\": \"Gold\", \"pride\": 13000}]}",
         null,
         null
        ],
        [
         "{\"user_profile\": [{\"userid\": \"userid_0\", \"username\": \"Maria Dandridge\", \"gender\": \"female\", \"age\": 20, \"picture_url\": \"../images/profile/Maria Dandridge.png\"}], \"car\": [{\"carid\": \"car_6\", \"make\": \"Nissan\", \"year\": \"2015\", \"category\": \"SUV\", \"model\": \"Rouge\", \"color\": \"Brown\", \"pride\": 15500}]}",
         null,
         null
        ],
        [
         "{\"user_profile\": [{\"userid\": \"userid_4\", \"username\": \"Keith Farrar\", \"gender\": \"male\", \"age\": 50, \"picture_url\": \"../images/profile/Keith Farrar.png\"}], \"car\": [{\"carid\": \"car_10\", \"make\": \"Ferarri\", \"year\": \"2015\", \"category\": \"SportCar\", \"model\": \"Spider\", \"color\": \"Red\", \"pride\": 70000}]}",
         null,
         null
        ],
        [
         "{\"user_profile\": [{\"userid\": \"userid_0\", \"username\": \"Maria Dandridge\", \"gender\": \"female\", \"age\": 20, \"picture_url\": \"../images/profile/Maria Dandridge.png\"}], \"car\": [{\"carid\": \"car_6\", \"make\": \"Nissan\", \"year\": \"2015\", \"category\": \"SUV\", \"model\": \"Rouge\", \"color\": \"Brown\", \"pride\": 15500}]}",
         null,
         null
        ],
        [
         "{\"user_profile\": [{\"userid\": \"userid_1\", \"username\": \"Jenna Bostwick\", \"gender\": \"female\", \"age\": 25, \"picture_url\": \"../images/profile/Jenna Bostwick.png\"}], \"car\": [{\"carid\": \"car_10\", \"make\": \"Ferarri\", \"year\": \"2015\", \"category\": \"SportCar\", \"model\": \"Spider\", \"color\": \"Red\", \"pride\": 70000}]}",
         null,
         null
        ],
        [
         "{\"user_profile\": [{\"userid\": \"userid_0\", \"username\": \"Maria Dandridge\", \"gender\": \"female\", \"age\": 20, \"picture_url\": \"../images/profile/Maria Dandridge.png\"}], \"car\": [{\"carid\": \"car_10\", \"make\": \"Ferarri\", \"year\": \"2015\", \"category\": \"SportCar\", \"model\": \"Spider\", \"color\": \"Red\", \"pride\": 70000}]}",
         null,
         null
        ],
        [
         "{\"user_profile\": [{\"userid\": \"userid_3\", \"username\": \"Owen Milford\", \"gender\": \"male\", \"age\": 30, \"picture_url\": \"../images/profile/Owen Milford.png\"}], \"car\": [{\"carid\": \"car_1\", \"make\": \"Hyundai\", \"year\": \"2017\", \"category\": \"Sedan\", \"model\": \"Sonata\", \"color\": \"Gray\", \"pride\": 14000}]}",
         null,
         null
        ],
        [
         "{\"user_profile\": [{\"userid\": \"userid_1\", \"username\": \"Jenna Bostwick\", \"gender\": \"female\", \"age\": 25, \"picture_url\": \"../images/profile/Jenna Bostwick.png\"}], \"car\": [{\"carid\": \"car_11\", \"make\": \"Tesla\", \"year\": \"2019\", \"category\": \"EV\", \"model\": \"Model Y\", \"color\": \"Black\", \"pride\": 40000}]}",
         null,
         null
        ],
        [
         "{\"user_profile\": [{\"userid\": \"userid_3\", \"username\": \"Owen Milford\", \"gender\": \"male\", \"age\": 30, \"picture_url\": \"../images/profile/Owen Milford.png\"}], \"car\": [{\"carid\": \"car_4\", \"make\": \"Honda\", \"year\": \"2013\", \"category\": \"SVU\", \"model\": \"CR-V\", \"color\": \"Brown\", \"pride\": 11000}]}",
         null,
         null
        ],
        [
         "{\"user_profile\": [{\"userid\": \"userid_1\", \"username\": \"Jenna Bostwick\", \"gender\": \"female\", \"age\": 25, \"picture_url\": \"../images/profile/Jenna Bostwick.png\"}], \"car\": [{\"carid\": \"car_5\", \"make\": \"Toyota\", \"year\": \"2015\", \"category\": \"SUV\", \"model\": \"RAV4\", \"color\": \"White\", \"pride\": 15000}]}",
         null,
         null
        ],
        [
         "{\"user_profile\": [{\"userid\": \"userid_1\", \"username\": \"Jenna Bostwick\", \"gender\": \"female\", \"age\": 25, \"picture_url\": \"../images/profile/Jenna Bostwick.png\"}], \"car\": [{\"carid\": \"car_0\", \"make\": \"Honda\", \"year\": \"2020\", \"category\": \"Sedan\", \"model\": \"Accord\", \"color\": \"Black\", \"pride\": 14000}]}",
         null,
         null
        ],
        [
         "{\"user_profile\": [{\"userid\": \"userid_2\", \"username\": \"Nathan Finley\", \"gender\": \"male\", \"age\": 20, \"picture_url\": \"../images/profile/Nathan Finley.png\"}], \"car\": [{\"carid\": \"car_10\", \"make\": \"Ferarri\", \"year\": \"2015\", \"category\": \"SportCar\", \"model\": \"Spider\", \"color\": \"Red\", \"pride\": 70000}]}",
         null,
         null
        ],
        [
         "{\"user_profile\": [{\"userid\": \"userid_4\", \"username\": \"Keith Farrar\", \"gender\": \"male\", \"age\": 50, \"picture_url\": \"../images/profile/Keith Farrar.png\"}], \"car\": [{\"carid\": \"car_3\", \"make\": \"Toyota\", \"year\": \"2012\", \"category\": \"Sedan\", \"model\": \"Camry\", \"color\": \"Silver\", \"pride\": 11000}]}",
         null,
         null
        ],
        [
         "{\"user_profile\": [{\"userid\": \"userid_1\", \"username\": \"Jenna Bostwick\", \"gender\": \"female\", \"age\": 25, \"picture_url\": \"../images/profile/Jenna Bostwick.png\"}], \"car\": [{\"carid\": \"car_3\", \"make\": \"Toyota\", \"year\": \"2012\", \"category\": \"Sedan\", \"model\": \"Camry\", \"color\": \"Silver\", \"pride\": 11000}]}",
         null,
         null
        ],
        [
         "{\"user_profile\": [{\"userid\": \"userid_4\", \"username\": \"Keith Farrar\", \"gender\": \"male\", \"age\": 50, \"picture_url\": \"../images/profile/Keith Farrar.png\"}], \"car\": [{\"carid\": \"car_7\", \"make\": \"Chevrolet\", \"year\": \"2016\", \"category\": \"Truck\", \"model\": \"Silverado\", \"color\": \"White\", \"pride\": 17000}]}",
         null,
         null
        ],
        [
         "{\"user_profile\": [{\"userid\": \"userid_0\", \"username\": \"Maria Dandridge\", \"gender\": \"female\", \"age\": 20, \"picture_url\": \"../images/profile/Maria Dandridge.png\"}], \"car\": [{\"carid\": \"car_3\", \"make\": \"Toyota\", \"year\": \"2012\", \"category\": \"Sedan\", \"model\": \"Camry\", \"color\": \"Silver\", \"pride\": 11000}]}",
         null,
         null
        ],
        [
         "{\"user_profile\": [{\"userid\": \"userid_0\", \"username\": \"Maria Dandridge\", \"gender\": \"female\", \"age\": 20, \"picture_url\": \"../images/profile/Maria Dandridge.png\"}], \"car\": [{\"carid\": \"car_0\", \"make\": \"Honda\", \"year\": \"2020\", \"category\": \"Sedan\", \"model\": \"Accord\", \"color\": \"Black\", \"pride\": 14000}]}",
         null,
         null
        ],
        [
         "{\"user_profile\": [{\"userid\": \"userid_2\", \"username\": \"Nathan Finley\", \"gender\": \"male\", \"age\": 20, \"picture_url\": \"../images/profile/Nathan Finley.png\"}], \"car\": [{\"carid\": \"car_8\", \"make\": \"Ford\", \"year\": \"2016\", \"category\": \"Truck\", \"model\": \"F-150\", \"color\": \"Brown\", \"pride\": 17000}]}",
         null,
         null
        ],
        [
         "{\"user_profile\": [{\"userid\": \"userid_4\", \"username\": \"Keith Farrar\", \"gender\": \"male\", \"age\": 50, \"picture_url\": \"../images/profile/Keith Farrar.png\"}], \"car\": [{\"carid\": \"car_7\", \"make\": \"Chevrolet\", \"year\": \"2016\", \"category\": \"Truck\", \"model\": \"Silverado\", \"color\": \"White\", \"pride\": 17000}]}",
         null,
         null
        ],
        [
         "{\"user_profile\": [{\"userid\": \"userid_4\", \"username\": \"Keith Farrar\", \"gender\": \"male\", \"age\": 50, \"picture_url\": \"../images/profile/Keith Farrar.png\"}], \"car\": [{\"carid\": \"car_0\", \"make\": \"Honda\", \"year\": \"2020\", \"category\": \"Sedan\", \"model\": \"Accord\", \"color\": \"Black\", \"pride\": 14000}]}",
         null,
         null
        ],
        [
         "{\"user_profile\": [{\"userid\": \"userid_1\", \"username\": \"Jenna Bostwick\", \"gender\": \"female\", \"age\": 25, \"picture_url\": \"../images/profile/Jenna Bostwick.png\"}], \"car\": [{\"carid\": \"car_3\", \"make\": \"Toyota\", \"year\": \"2012\", \"category\": \"Sedan\", \"model\": \"Camry\", \"color\": \"Silver\", \"pride\": 11000}]}",
         null,
         null
        ],
        [
         "{\"user_profile\": [{\"userid\": \"userid_3\", \"username\": \"Owen Milford\", \"gender\": \"male\", \"age\": 30, \"picture_url\": \"../images/profile/Owen Milford.png\"}], \"car\": [{\"carid\": \"car_2\", \"make\": \"Nissan\", \"year\": \"2018\", \"category\": \"Sedan\", \"model\": \"Altima\", \"color\": \"Gold\", \"pride\": 13000}]}",
         null,
         null
        ],
        [
         "{\"user_profile\": [{\"userid\": \"userid_1\", \"username\": \"Jenna Bostwick\", \"gender\": \"female\", \"age\": 25, \"picture_url\": \"../images/profile/Jenna Bostwick.png\"}], \"car\": [{\"carid\": \"car_7\", \"make\": \"Chevrolet\", \"year\": \"2016\", \"category\": \"Truck\", \"model\": \"Silverado\", \"color\": \"White\", \"pride\": 17000}]}",
         null,
         null
        ],
        [
         "{\"user_profile\": [{\"userid\": \"userid_2\", \"username\": \"Nathan Finley\", \"gender\": \"male\", \"age\": 20, \"picture_url\": \"../images/profile/Nathan Finley.png\"}], \"car\": [{\"carid\": \"car_5\", \"make\": \"Toyota\", \"year\": \"2015\", \"category\": \"SUV\", \"model\": \"RAV4\", \"color\": \"White\", \"pride\": 15000}]}",
         null,
         null
        ],
        [
         "{\"user_profile\": [{\"userid\": \"userid_2\", \"username\": \"Nathan Finley\", \"gender\": \"male\", \"age\": 20, \"picture_url\": \"../images/profile/Nathan Finley.png\"}], \"car\": [{\"carid\": \"car_4\", \"make\": \"Honda\", \"year\": \"2013\", \"category\": \"SVU\", \"model\": \"CR-V\", \"color\": \"Brown\", \"pride\": 11000}]}",
         null,
         null
        ],
        [
         "{\"user_profile\": [{\"userid\": \"userid_3\", \"username\": \"Owen Milford\", \"gender\": \"male\", \"age\": 30, \"picture_url\": \"../images/profile/Owen Milford.png\"}], \"car\": [{\"carid\": \"car_1\", \"make\": \"Hyundai\", \"year\": \"2017\", \"category\": \"Sedan\", \"model\": \"Sonata\", \"color\": \"Gray\", \"pride\": 14000}]}",
         null,
         null
        ],
        [
         "{\"user_profile\": [{\"userid\": \"userid_0\", \"username\": \"Maria Dandridge\", \"gender\": \"female\", \"age\": 20, \"picture_url\": \"../images/profile/Maria Dandridge.png\"}], \"car\": [{\"carid\": \"car_0\", \"make\": \"Honda\", \"year\": \"2020\", \"category\": \"Sedan\", \"model\": \"Accord\", \"color\": \"Black\", \"pride\": 14000}]}",
         null,
         null
        ],
        [
         "{\"user_profile\": [{\"userid\": \"userid_2\", \"username\": \"Nathan Finley\", \"gender\": \"male\", \"age\": 20, \"picture_url\": \"../images/profile/Nathan Finley.png\"}], \"car\": [{\"carid\": \"car_9\", \"make\": \"Ram\", \"year\": \"2010\", \"category\": \"Truck\", \"model\": \"1500\", \"color\": \"Black\", \"pride\": 17000}]}",
         null,
         null
        ],
        [
         "{\"user_profile\": [{\"userid\": \"userid_0\", \"username\": \"Maria Dandridge\", \"gender\": \"female\", \"age\": 20, \"picture_url\": \"../images/profile/Maria Dandridge.png\"}], \"car\": [{\"carid\": \"car_3\", \"make\": \"Toyota\", \"year\": \"2012\", \"category\": \"Sedan\", \"model\": \"Camry\", \"color\": \"Silver\", \"pride\": 11000}]}",
         null,
         null
        ],
        [
         "{\"user_profile\": [{\"userid\": \"userid_4\", \"username\": \"Keith Farrar\", \"gender\": \"male\", \"age\": 50, \"picture_url\": \"../images/profile/Keith Farrar.png\"}], \"car\": [{\"carid\": \"car_8\", \"make\": \"Ford\", \"year\": \"2016\", \"category\": \"Truck\", \"model\": \"F-150\", \"color\": \"Brown\", \"pride\": 17000}]}",
         null,
         null
        ],
        [
         "{\"user_profile\": [{\"userid\": \"userid_0\", \"username\": \"Maria Dandridge\", \"gender\": \"female\", \"age\": 20, \"picture_url\": \"../images/profile/Maria Dandridge.png\"}], \"car\": [{\"carid\": \"car_8\", \"make\": \"Ford\", \"year\": \"2016\", \"category\": \"Truck\", \"model\": \"F-150\", \"color\": \"Brown\", \"pride\": 17000}]}",
         null,
         null
        ],
        [
         "{\"user_profile\": [{\"userid\": \"userid_0\", \"username\": \"Maria Dandridge\", \"gender\": \"female\", \"age\": 20, \"picture_url\": \"../images/profile/Maria Dandridge.png\"}], \"car\": [{\"carid\": \"car_9\", \"make\": \"Ram\", \"year\": \"2010\", \"category\": \"Truck\", \"model\": \"1500\", \"color\": \"Black\", \"pride\": 17000}]}",
         null,
         null
        ],
        [
         "{\"user_profile\": [{\"userid\": \"userid_1\", \"username\": \"Jenna Bostwick\", \"gender\": \"female\", \"age\": 25, \"picture_url\": \"../images/profile/Jenna Bostwick.png\"}], \"car\": [{\"carid\": \"car_3\", \"make\": \"Toyota\", \"year\": \"2012\", \"category\": \"Sedan\", \"model\": \"Camry\", \"color\": \"Silver\", \"pride\": 11000}]}",
         null,
         null
        ],
        [
         "{\"user_profile\": [{\"userid\": \"userid_3\", \"username\": \"Owen Milford\", \"gender\": \"male\", \"age\": 30, \"picture_url\": \"../images/profile/Owen Milford.png\"}], \"car\": [{\"carid\": \"car_4\", \"make\": \"Honda\", \"year\": \"2013\", \"category\": \"SVU\", \"model\": \"CR-V\", \"color\": \"Brown\", \"pride\": 11000}]}",
         null,
         null
        ],
        [
         "{\"user_profile\": [{\"userid\": \"userid_1\", \"username\": \"Jenna Bostwick\", \"gender\": \"female\", \"age\": 25, \"picture_url\": \"../images/profile/Jenna Bostwick.png\"}], \"car\": [{\"carid\": \"car_5\", \"make\": \"Toyota\", \"year\": \"2015\", \"category\": \"SUV\", \"model\": \"RAV4\", \"color\": \"White\", \"pride\": 15000}]}",
         null,
         null
        ],
        [
         "{\"user_profile\": [{\"userid\": \"userid_3\", \"username\": \"Owen Milford\", \"gender\": \"male\", \"age\": 30, \"picture_url\": \"../images/profile/Owen Milford.png\"}], \"car\": [{\"carid\": \"car_1\", \"make\": \"Hyundai\", \"year\": \"2017\", \"category\": \"Sedan\", \"model\": \"Sonata\", \"color\": \"Gray\", \"pride\": 14000}]}",
         null,
         null
        ],
        [
         "{\"user_profile\": [{\"userid\": \"userid_4\", \"username\": \"Keith Farrar\", \"gender\": \"male\", \"age\": 50, \"picture_url\": \"../images/profile/Keith Farrar.png\"}], \"car\": [{\"carid\": \"car_10\", \"make\": \"Ferarri\", \"year\": \"2015\", \"category\": \"SportCar\", \"model\": \"Spider\", \"color\": \"Red\", \"pride\": 70000}]}",
         null,
         null
        ],
        [
         "{\"user_profile\": [{\"userid\": \"userid_4\", \"username\": \"Keith Farrar\", \"gender\": \"male\", \"age\": 50, \"picture_url\": \"../images/profile/Keith Farrar.png\"}], \"car\": [{\"carid\": \"car_2\", \"make\": \"Nissan\", \"year\": \"2018\", \"category\": \"Sedan\", \"model\": \"Altima\", \"color\": \"Gold\", \"pride\": 13000}]}",
         null,
         null
        ],
        [
         "{\"user_profile\": [{\"userid\": \"userid_1\", \"username\": \"Jenna Bostwick\", \"gender\": \"female\", \"age\": 25, \"picture_url\": \"../images/profile/Jenna Bostwick.png\"}], \"car\": [{\"carid\": \"car_3\", \"make\": \"Toyota\", \"year\": \"2012\", \"category\": \"Sedan\", \"model\": \"Camry\", \"color\": \"Silver\", \"pride\": 11000}]}",
         null,
         null
        ],
        [
         "{\"user_profile\": [{\"userid\": \"userid_3\", \"username\": \"Owen Milford\", \"gender\": \"male\", \"age\": 30, \"picture_url\": \"../images/profile/Owen Milford.png\"}], \"car\": [{\"carid\": \"car_3\", \"make\": \"Toyota\", \"year\": \"2012\", \"category\": \"Sedan\", \"model\": \"Camry\", \"color\": \"Silver\", \"pride\": 11000}]}",
         null,
         null
        ],
        [
         "{\"user_profile\": [{\"userid\": \"userid_1\", \"username\": \"Jenna Bostwick\", \"gender\": \"female\", \"age\": 25, \"picture_url\": \"../images/profile/Jenna Bostwick.png\"}], \"car\": [{\"carid\": \"car_3\", \"make\": \"Toyota\", \"year\": \"2012\", \"category\": \"Sedan\", \"model\": \"Camry\", \"color\": \"Silver\", \"pride\": 11000}]}",
         null,
         null
        ],
        [
         "{\"user_profile\": [{\"userid\": \"userid_2\", \"username\": \"Nathan Finley\", \"gender\": \"male\", \"age\": 20, \"picture_url\": \"../images/profile/Nathan Finley.png\"}], \"car\": [{\"carid\": \"car_4\", \"make\": \"Honda\", \"year\": \"2013\", \"category\": \"SVU\", \"model\": \"CR-V\", \"color\": \"Brown\", \"pride\": 11000}]}",
         null,
         null
        ],
        [
         "{\"user_profile\": [{\"userid\": \"userid_0\", \"username\": \"Maria Dandridge\", \"gender\": \"female\", \"age\": 20, \"picture_url\": \"../images/profile/Maria Dandridge.png\"}], \"car\": [{\"carid\": \"car_3\", \"make\": \"Toyota\", \"year\": \"2012\", \"category\": \"Sedan\", \"model\": \"Camry\", \"color\": \"Silver\", \"pride\": 11000}]}",
         null,
         null
        ],
        [
         "{\"user_profile\": [{\"userid\": \"userid_3\", \"username\": \"Owen Milford\", \"gender\": \"male\", \"age\": 30, \"picture_url\": \"../images/profile/Owen Milford.png\"}], \"car\": [{\"carid\": \"car_1\", \"make\": \"Hyundai\", \"year\": \"2017\", \"category\": \"Sedan\", \"model\": \"Sonata\", \"color\": \"Gray\", \"pride\": 14000}]}",
         null,
         null
        ],
        [
         "{\"user_profile\": [{\"userid\": \"userid_0\", \"username\": \"Maria Dandridge\", \"gender\": \"female\", \"age\": 20, \"picture_url\": \"../images/profile/Maria Dandridge.png\"}], \"car\": [{\"carid\": \"car_10\", \"make\": \"Ferarri\", \"year\": \"2015\", \"category\": \"SportCar\", \"model\": \"Spider\", \"color\": \"Red\", \"pride\": 70000}]}",
         null,
         null
        ],
        [
         "{\"user_profile\": [{\"userid\": \"userid_2\", \"username\": \"Nathan Finley\", \"gender\": \"male\", \"age\": 20, \"picture_url\": \"../images/profile/Nathan Finley.png\"}], \"car\": [{\"carid\": \"car_6\", \"make\": \"Nissan\", \"year\": \"2015\", \"category\": \"SUV\", \"model\": \"Rouge\", \"color\": \"Brown\", \"pride\": 15500}]}",
         null,
         null
        ],
        [
         "{\"user_profile\": [{\"userid\": \"userid_2\", \"username\": \"Nathan Finley\", \"gender\": \"male\", \"age\": 20, \"picture_url\": \"../images/profile/Nathan Finley.png\"}], \"car\": [{\"carid\": \"car_2\", \"make\": \"Nissan\", \"year\": \"2018\", \"category\": \"Sedan\", \"model\": \"Altima\", \"color\": \"Gold\", \"pride\": 13000}]}",
         null,
         null
        ],
        [
         "{\"user_profile\": [{\"userid\": \"userid_4\", \"username\": \"Keith Farrar\", \"gender\": \"male\", \"age\": 50, \"picture_url\": \"../images/profile/Keith Farrar.png\"}], \"car\": [{\"carid\": \"car_9\", \"make\": \"Ram\", \"year\": \"2010\", \"category\": \"Truck\", \"model\": \"1500\", \"color\": \"Black\", \"pride\": 17000}]}",
         null,
         null
        ],
        [
         "{\"user_profile\": [{\"userid\": \"userid_3\", \"username\": \"Owen Milford\", \"gender\": \"male\", \"age\": 30, \"picture_url\": \"../images/profile/Owen Milford.png\"}], \"car\": [{\"carid\": \"car_3\", \"make\": \"Toyota\", \"year\": \"2012\", \"category\": \"Sedan\", \"model\": \"Camry\", \"color\": \"Silver\", \"pride\": 11000}]}",
         null,
         null
        ],
        [
         "{\"user_profile\": [{\"userid\": \"userid_4\", \"username\": \"Keith Farrar\", \"gender\": \"male\", \"age\": 50, \"picture_url\": \"../images/profile/Keith Farrar.png\"}], \"car\": [{\"carid\": \"car_11\", \"make\": \"Tesla\", \"year\": \"2019\", \"category\": \"EV\", \"model\": \"Model Y\", \"color\": \"Black\", \"pride\": 40000}]}",
         null,
         null
        ],
        [
         "{\"user_profile\": [{\"userid\": \"userid_3\", \"username\": \"Owen Milford\", \"gender\": \"male\", \"age\": 30, \"picture_url\": \"../images/profile/Owen Milford.png\"}], \"car\": [{\"carid\": \"car_2\", \"make\": \"Nissan\", \"year\": \"2018\", \"category\": \"Sedan\", \"model\": \"Altima\", \"color\": \"Gold\", \"pride\": 13000}]}",
         null,
         null
        ],
        [
         "{\"user_profile\": [{\"userid\": \"userid_4\", \"username\": \"Keith Farrar\", \"gender\": \"male\", \"age\": 50, \"picture_url\": \"../images/profile/Keith Farrar.png\"}], \"car\": [{\"carid\": \"car_1\", \"make\": \"Hyundai\", \"year\": \"2017\", \"category\": \"Sedan\", \"model\": \"Sonata\", \"color\": \"Gray\", \"pride\": 14000}]}",
         null,
         null
        ],
        [
         "{\"user_profile\": [{\"userid\": \"userid_4\", \"username\": \"Keith Farrar\", \"gender\": \"male\", \"age\": 50, \"picture_url\": \"../images/profile/Keith Farrar.png\"}], \"car\": [{\"carid\": \"car_10\", \"make\": \"Ferarri\", \"year\": \"2015\", \"category\": \"SportCar\", \"model\": \"Spider\", \"color\": \"Red\", \"pride\": 70000}]}",
         null,
         null
        ],
        [
         "{\"user_profile\": [{\"userid\": \"userid_1\", \"username\": \"Jenna Bostwick\", \"gender\": \"female\", \"age\": 25, \"picture_url\": \"../images/profile/Jenna Bostwick.png\"}], \"car\": [{\"carid\": \"car_8\", \"make\": \"Ford\", \"year\": \"2016\", \"category\": \"Truck\", \"model\": \"F-150\", \"color\": \"Brown\", \"pride\": 17000}]}",
         null,
         null
        ],
        [
         "{\"user_profile\": [{\"userid\": \"userid_1\", \"username\": \"Jenna Bostwick\", \"gender\": \"female\", \"age\": 25, \"picture_url\": \"../images/profile/Jenna Bostwick.png\"}], \"car\": [{\"carid\": \"car_4\", \"make\": \"Honda\", \"year\": \"2013\", \"category\": \"SVU\", \"model\": \"CR-V\", \"color\": \"Brown\", \"pride\": 11000}]}",
         null,
         null
        ],
        [
         "{\"user_profile\": [{\"userid\": \"userid_3\", \"username\": \"Owen Milford\", \"gender\": \"male\", \"age\": 30, \"picture_url\": \"../images/profile/Owen Milford.png\"}], \"car\": [{\"carid\": \"car_11\", \"make\": \"Tesla\", \"year\": \"2019\", \"category\": \"EV\", \"model\": \"Model Y\", \"color\": \"Black\", \"pride\": 40000}]}",
         null,
         null
        ],
        [
         "{\"user_profile\": [{\"userid\": \"userid_3\", \"username\": \"Owen Milford\", \"gender\": \"male\", \"age\": 30, \"picture_url\": \"../images/profile/Owen Milford.png\"}], \"car\": [{\"carid\": \"car_2\", \"make\": \"Nissan\", \"year\": \"2018\", \"category\": \"Sedan\", \"model\": \"Altima\", \"color\": \"Gold\", \"pride\": 13000}]}",
         null,
         null
        ],
        [
         "{\"user_profile\": [{\"userid\": \"userid_2\", \"username\": \"Nathan Finley\", \"gender\": \"male\", \"age\": 20, \"picture_url\": \"../images/profile/Nathan Finley.png\"}], \"car\": [{\"carid\": \"car_0\", \"make\": \"Honda\", \"year\": \"2020\", \"category\": \"Sedan\", \"model\": \"Accord\", \"color\": \"Black\", \"pride\": 14000}]}",
         null,
         null
        ],
        [
         "{\"user_profile\": [{\"userid\": \"userid_4\", \"username\": \"Keith Farrar\", \"gender\": \"male\", \"age\": 50, \"picture_url\": \"../images/profile/Keith Farrar.png\"}], \"car\": [{\"carid\": \"car_4\", \"make\": \"Honda\", \"year\": \"2013\", \"category\": \"SVU\", \"model\": \"CR-V\", \"color\": \"Brown\", \"pride\": 11000}]}",
         null,
         null
        ],
        [
         "{\"user_profile\": [{\"userid\": \"userid_2\", \"username\": \"Nathan Finley\", \"gender\": \"male\", \"age\": 20, \"picture_url\": \"../images/profile/Nathan Finley.png\"}], \"car\": [{\"carid\": \"car_0\", \"make\": \"Honda\", \"year\": \"2020\", \"category\": \"Sedan\", \"model\": \"Accord\", \"color\": \"Black\", \"pride\": 14000}]}",
         null,
         null
        ],
        [
         "{\"user_profile\": [{\"userid\": \"userid_0\", \"username\": \"Maria Dandridge\", \"gender\": \"female\", \"age\": 20, \"picture_url\": \"../images/profile/Maria Dandridge.png\"}], \"car\": [{\"carid\": \"car_2\", \"make\": \"Nissan\", \"year\": \"2018\", \"category\": \"Sedan\", \"model\": \"Altima\", \"color\": \"Gold\", \"pride\": 13000}]}",
         null,
         null
        ],
        [
         "{\"user_profile\": [{\"userid\": \"userid_0\", \"username\": \"Maria Dandridge\", \"gender\": \"female\", \"age\": 20, \"picture_url\": \"../images/profile/Maria Dandridge.png\"}], \"car\": [{\"carid\": \"car_8\", \"make\": \"Ford\", \"year\": \"2016\", \"category\": \"Truck\", \"model\": \"F-150\", \"color\": \"Brown\", \"pride\": 17000}]}",
         null,
         null
        ],
        [
         "{\"user_profile\": [{\"userid\": \"userid_2\", \"username\": \"Nathan Finley\", \"gender\": \"male\", \"age\": 20, \"picture_url\": \"../images/profile/Nathan Finley.png\"}], \"car\": [{\"carid\": \"car_5\", \"make\": \"Toyota\", \"year\": \"2015\", \"category\": \"SUV\", \"model\": \"RAV4\", \"color\": \"White\", \"pride\": 15000}]}",
         null,
         null
        ],
        [
         "{\"user_profile\": [{\"userid\": \"userid_4\", \"username\": \"Keith Farrar\", \"gender\": \"male\", \"age\": 50, \"picture_url\": \"../images/profile/Keith Farrar.png\"}], \"car\": [{\"carid\": \"car_11\", \"make\": \"Tesla\", \"year\": \"2019\", \"category\": \"EV\", \"model\": \"Model Y\", \"color\": \"Black\", \"pride\": 40000}]}",
         null,
         null
        ],
        [
         "{\"user_profile\": [{\"userid\": \"userid_3\", \"username\": \"Owen Milford\", \"gender\": \"male\", \"age\": 30, \"picture_url\": \"../images/profile/Owen Milford.png\"}], \"car\": [{\"carid\": \"car_0\", \"make\": \"Honda\", \"year\": \"2020\", \"category\": \"Sedan\", \"model\": \"Accord\", \"color\": \"Black\", \"pride\": 14000}]}",
         null,
         null
        ],
        [
         "{\"user_profile\": [{\"userid\": \"userid_3\", \"username\": \"Owen Milford\", \"gender\": \"male\", \"age\": 30, \"picture_url\": \"../images/profile/Owen Milford.png\"}], \"car\": [{\"carid\": \"car_9\", \"make\": \"Ram\", \"year\": \"2010\", \"category\": \"Truck\", \"model\": \"1500\", \"color\": \"Black\", \"pride\": 17000}]}",
         null,
         null
        ],
        [
         "{\"user_profile\": [{\"userid\": \"userid_4\", \"username\": \"Keith Farrar\", \"gender\": \"male\", \"age\": 50, \"picture_url\": \"../images/profile/Keith Farrar.png\"}], \"car\": [{\"carid\": \"car_7\", \"make\": \"Chevrolet\", \"year\": \"2016\", \"category\": \"Truck\", \"model\": \"Silverado\", \"color\": \"White\", \"pride\": 17000}]}",
         null,
         null
        ],
        [
         "{\"user_profile\": [{\"userid\": \"userid_2\", \"username\": \"Nathan Finley\", \"gender\": \"male\", \"age\": 20, \"picture_url\": \"../images/profile/Nathan Finley.png\"}], \"car\": [{\"carid\": \"car_8\", \"make\": \"Ford\", \"year\": \"2016\", \"category\": \"Truck\", \"model\": \"F-150\", \"color\": \"Brown\", \"pride\": 17000}]}",
         null,
         null
        ],
        [
         "{\"user_profile\": [{\"userid\": \"userid_1\", \"username\": \"Jenna Bostwick\", \"gender\": \"female\", \"age\": 25, \"picture_url\": \"../images/profile/Jenna Bostwick.png\"}], \"car\": [{\"carid\": \"car_7\", \"make\": \"Chevrolet\", \"year\": \"2016\", \"category\": \"Truck\", \"model\": \"Silverado\", \"color\": \"White\", \"pride\": 17000}]}",
         null,
         null
        ],
        [
         "{\"user_profile\": [{\"userid\": \"userid_4\", \"username\": \"Keith Farrar\", \"gender\": \"male\", \"age\": 50, \"picture_url\": \"../images/profile/Keith Farrar.png\"}], \"car\": [{\"carid\": \"car_5\", \"make\": \"Toyota\", \"year\": \"2015\", \"category\": \"SUV\", \"model\": \"RAV4\", \"color\": \"White\", \"pride\": 15000}]}",
         null,
         null
        ],
        [
         "{\"user_profile\": [{\"userid\": \"userid_0\", \"username\": \"Maria Dandridge\", \"gender\": \"female\", \"age\": 20, \"picture_url\": \"../images/profile/Maria Dandridge.png\"}], \"car\": [{\"carid\": \"car_2\", \"make\": \"Nissan\", \"year\": \"2018\", \"category\": \"Sedan\", \"model\": \"Altima\", \"color\": \"Gold\", \"pride\": 13000}]}",
         null,
         null
        ],
        [
         "{\"user_profile\": [{\"userid\": \"userid_4\", \"username\": \"Keith Farrar\", \"gender\": \"male\", \"age\": 50, \"picture_url\": \"../images/profile/Keith Farrar.png\"}], \"car\": [{\"carid\": \"car_3\", \"make\": \"Toyota\", \"year\": \"2012\", \"category\": \"Sedan\", \"model\": \"Camry\", \"color\": \"Silver\", \"pride\": 11000}]}",
         null,
         null
        ],
        [
         "{\"user_profile\": [{\"userid\": \"userid_1\", \"username\": \"Jenna Bostwick\", \"gender\": \"female\", \"age\": 25, \"picture_url\": \"../images/profile/Jenna Bostwick.png\"}], \"car\": [{\"carid\": \"car_7\", \"make\": \"Chevrolet\", \"year\": \"2016\", \"category\": \"Truck\", \"model\": \"Silverado\", \"color\": \"White\", \"pride\": 17000}]}",
         null,
         null
        ],
        [
         "{\"user_profile\": [{\"userid\": \"userid_2\", \"username\": \"Nathan Finley\", \"gender\": \"male\", \"age\": 20, \"picture_url\": \"../images/profile/Nathan Finley.png\"}], \"car\": [{\"carid\": \"car_0\", \"make\": \"Honda\", \"year\": \"2020\", \"category\": \"Sedan\", \"model\": \"Accord\", \"color\": \"Black\", \"pride\": 14000}]}",
         null,
         null
        ],
        [
         "{\"user_profile\": [{\"userid\": \"userid_0\", \"username\": \"Maria Dandridge\", \"gender\": \"female\", \"age\": 20, \"picture_url\": \"../images/profile/Maria Dandridge.png\"}], \"car\": [{\"carid\": \"car_6\", \"make\": \"Nissan\", \"year\": \"2015\", \"category\": \"SUV\", \"model\": \"Rouge\", \"color\": \"Brown\", \"pride\": 15500}]}",
         null,
         null
        ],
        [
         "{\"user_profile\": [{\"userid\": \"userid_0\", \"username\": \"Maria Dandridge\", \"gender\": \"female\", \"age\": 20, \"picture_url\": \"../images/profile/Maria Dandridge.png\"}], \"car\": [{\"carid\": \"car_5\", \"make\": \"Toyota\", \"year\": \"2015\", \"category\": \"SUV\", \"model\": \"RAV4\", \"color\": \"White\", \"pride\": 15000}]}",
         null,
         null
        ],
        [
         "{\"user_profile\": [{\"userid\": \"userid_4\", \"username\": \"Keith Farrar\", \"gender\": \"male\", \"age\": 50, \"picture_url\": \"../images/profile/Keith Farrar.png\"}], \"car\": [{\"carid\": \"car_10\", \"make\": \"Ferarri\", \"year\": \"2015\", \"category\": \"SportCar\", \"model\": \"Spider\", \"color\": \"Red\", \"pride\": 70000}]}",
         null,
         null
        ],
        [
         "{\"user_profile\": [{\"userid\": \"userid_0\", \"username\": \"Maria Dandridge\", \"gender\": \"female\", \"age\": 20, \"picture_url\": \"../images/profile/Maria Dandridge.png\"}], \"car\": [{\"carid\": \"car_6\", \"make\": \"Nissan\", \"year\": \"2015\", \"category\": \"SUV\", \"model\": \"Rouge\", \"color\": \"Brown\", \"pride\": 15500}]}",
         null,
         null
        ],
        [
         "{\"user_profile\": [{\"userid\": \"userid_0\", \"username\": \"Maria Dandridge\", \"gender\": \"female\", \"age\": 20, \"picture_url\": \"../images/profile/Maria Dandridge.png\"}], \"car\": [{\"carid\": \"car_9\", \"make\": \"Ram\", \"year\": \"2010\", \"category\": \"Truck\", \"model\": \"1500\", \"color\": \"Black\", \"pride\": 17000}]}",
         null,
         null
        ],
        [
         "{\"user_profile\": [{\"userid\": \"userid_3\", \"username\": \"Owen Milford\", \"gender\": \"male\", \"age\": 30, \"picture_url\": \"../images/profile/Owen Milford.png\"}], \"car\": [{\"carid\": \"car_5\", \"make\": \"Toyota\", \"year\": \"2015\", \"category\": \"SUV\", \"model\": \"RAV4\", \"color\": \"White\", \"pride\": 15000}]}",
         null,
         null
        ],
        [
         "{\"user_profile\": [{\"userid\": \"userid_0\", \"username\": \"Maria Dandridge\", \"gender\": \"female\", \"age\": 20, \"picture_url\": \"../images/profile/Maria Dandridge.png\"}], \"car\": [{\"carid\": \"car_2\", \"make\": \"Nissan\", \"year\": \"2018\", \"category\": \"Sedan\", \"model\": \"Altima\", \"color\": \"Gold\", \"pride\": 13000}]}",
         null,
         null
        ],
        [
         "{\"user_profile\": [{\"userid\": \"userid_4\", \"username\": \"Keith Farrar\", \"gender\": \"male\", \"age\": 50, \"picture_url\": \"../images/profile/Keith Farrar.png\"}], \"car\": [{\"carid\": \"car_3\", \"make\": \"Toyota\", \"year\": \"2012\", \"category\": \"Sedan\", \"model\": \"Camry\", \"color\": \"Silver\", \"pride\": 11000}]}",
         null,
         null
        ],
        [
         "{\"user_profile\": [{\"userid\": \"userid_0\", \"username\": \"Maria Dandridge\", \"gender\": \"female\", \"age\": 20, \"picture_url\": \"../images/profile/Maria Dandridge.png\"}], \"car\": [{\"carid\": \"car_6\", \"make\": \"Nissan\", \"year\": \"2015\", \"category\": \"SUV\", \"model\": \"Rouge\", \"color\": \"Brown\", \"pride\": 15500}]}",
         null,
         null
        ],
        [
         "{\"user_profile\": [{\"userid\": \"userid_1\", \"username\": \"Jenna Bostwick\", \"gender\": \"female\", \"age\": 25, \"picture_url\": \"../images/profile/Jenna Bostwick.png\"}], \"car\": [{\"carid\": \"car_11\", \"make\": \"Tesla\", \"year\": \"2019\", \"category\": \"EV\", \"model\": \"Model Y\", \"color\": \"Black\", \"pride\": 40000}]}",
         null,
         null
        ],
        [
         "{\"user_profile\": [{\"userid\": \"userid_0\", \"username\": \"Maria Dandridge\", \"gender\": \"female\", \"age\": 20, \"picture_url\": \"../images/profile/Maria Dandridge.png\"}], \"car\": [{\"carid\": \"car_8\", \"make\": \"Ford\", \"year\": \"2016\", \"category\": \"Truck\", \"model\": \"F-150\", \"color\": \"Brown\", \"pride\": 17000}]}",
         null,
         null
        ],
        [
         "{\"user_profile\": [{\"userid\": \"userid_3\", \"username\": \"Owen Milford\", \"gender\": \"male\", \"age\": 30, \"picture_url\": \"../images/profile/Owen Milford.png\"}], \"car\": [{\"carid\": \"car_1\", \"make\": \"Hyundai\", \"year\": \"2017\", \"category\": \"Sedan\", \"model\": \"Sonata\", \"color\": \"Gray\", \"pride\": 14000}]}",
         null,
         null
        ],
        [
         "{\"user_profile\": [{\"userid\": \"userid_4\", \"username\": \"Keith Farrar\", \"gender\": \"male\", \"age\": 50, \"picture_url\": \"../images/profile/Keith Farrar.png\"}], \"car\": [{\"carid\": \"car_7\", \"make\": \"Chevrolet\", \"year\": \"2016\", \"category\": \"Truck\", \"model\": \"Silverado\", \"color\": \"White\", \"pride\": 17000}]}",
         null,
         null
        ],
        [
         "{\"user_profile\": [{\"userid\": \"userid_1\", \"username\": \"Jenna Bostwick\", \"gender\": \"female\", \"age\": 25, \"picture_url\": \"../images/profile/Jenna Bostwick.png\"}], \"car\": [{\"carid\": \"car_4\", \"make\": \"Honda\", \"year\": \"2013\", \"category\": \"SVU\", \"model\": \"CR-V\", \"color\": \"Brown\", \"pride\": 11000}]}",
         null,
         null
        ],
        [
         "{\"user_profile\": [{\"userid\": \"userid_4\", \"username\": \"Keith Farrar\", \"gender\": \"male\", \"age\": 50, \"picture_url\": \"../images/profile/Keith Farrar.png\"}], \"car\": [{\"carid\": \"car_5\", \"make\": \"Toyota\", \"year\": \"2015\", \"category\": \"SUV\", \"model\": \"RAV4\", \"color\": \"White\", \"pride\": 15000}]}",
         null,
         null
        ],
        [
         "{\"user_profile\": [{\"userid\": \"userid_1\", \"username\": \"Jenna Bostwick\", \"gender\": \"female\", \"age\": 25, \"picture_url\": \"../images/profile/Jenna Bostwick.png\"}], \"car\": [{\"carid\": \"car_9\", \"make\": \"Ram\", \"year\": \"2010\", \"category\": \"Truck\", \"model\": \"1500\", \"color\": \"Black\", \"pride\": 17000}]}",
         null,
         null
        ],
        [
         "{\"user_profile\": [{\"userid\": \"userid_3\", \"username\": \"Owen Milford\", \"gender\": \"male\", \"age\": 30, \"picture_url\": \"../images/profile/Owen Milford.png\"}], \"car\": [{\"carid\": \"car_5\", \"make\": \"Toyota\", \"year\": \"2015\", \"category\": \"SUV\", \"model\": \"RAV4\", \"color\": \"White\", \"pride\": 15000}]}",
         null,
         null
        ],
        [
         "{\"user_profile\": [{\"userid\": \"userid_2\", \"username\": \"Nathan Finley\", \"gender\": \"male\", \"age\": 20, \"picture_url\": \"../images/profile/Nathan Finley.png\"}], \"car\": [{\"carid\": \"car_3\", \"make\": \"Toyota\", \"year\": \"2012\", \"category\": \"Sedan\", \"model\": \"Camry\", \"color\": \"Silver\", \"pride\": 11000}]}",
         null,
         null
        ],
        [
         "{\"user_profile\": [{\"userid\": \"userid_1\", \"username\": \"Jenna Bostwick\", \"gender\": \"female\", \"age\": 25, \"picture_url\": \"../images/profile/Jenna Bostwick.png\"}], \"car\": [{\"carid\": \"car_9\", \"make\": \"Ram\", \"year\": \"2010\", \"category\": \"Truck\", \"model\": \"1500\", \"color\": \"Black\", \"pride\": 17000}]}",
         null,
         null
        ],
        [
         "{\"user_profile\": [{\"userid\": \"userid_1\", \"username\": \"Jenna Bostwick\", \"gender\": \"female\", \"age\": 25, \"picture_url\": \"../images/profile/Jenna Bostwick.png\"}], \"car\": [{\"carid\": \"car_3\", \"make\": \"Toyota\", \"year\": \"2012\", \"category\": \"Sedan\", \"model\": \"Camry\", \"color\": \"Silver\", \"pride\": 11000}]}",
         null,
         null
        ],
        [
         "{\"user_profile\": [{\"userid\": \"userid_4\", \"username\": \"Keith Farrar\", \"gender\": \"male\", \"age\": 50, \"picture_url\": \"../images/profile/Keith Farrar.png\"}], \"car\": [{\"carid\": \"car_9\", \"make\": \"Ram\", \"year\": \"2010\", \"category\": \"Truck\", \"model\": \"1500\", \"color\": \"Black\", \"pride\": 17000}]}",
         null,
         null
        ],
        [
         "{\"user_profile\": [{\"userid\": \"userid_0\", \"username\": \"Maria Dandridge\", \"gender\": \"female\", \"age\": 20, \"picture_url\": \"../images/profile/Maria Dandridge.png\"}], \"car\": [{\"carid\": \"car_4\", \"make\": \"Honda\", \"year\": \"2013\", \"category\": \"SVU\", \"model\": \"CR-V\", \"color\": \"Brown\", \"pride\": 11000}]}",
         null,
         null
        ],
        [
         "{\"user_profile\": [{\"userid\": \"userid_3\", \"username\": \"Owen Milford\", \"gender\": \"male\", \"age\": 30, \"picture_url\": \"../images/profile/Owen Milford.png\"}], \"car\": [{\"carid\": \"car_0\", \"make\": \"Honda\", \"year\": \"2020\", \"category\": \"Sedan\", \"model\": \"Accord\", \"color\": \"Black\", \"pride\": 14000}]}",
         null,
         null
        ],
        [
         "{\"user_profile\": [{\"userid\": \"userid_0\", \"username\": \"Maria Dandridge\", \"gender\": \"female\", \"age\": 20, \"picture_url\": \"../images/profile/Maria Dandridge.png\"}], \"car\": [{\"carid\": \"car_4\", \"make\": \"Honda\", \"year\": \"2013\", \"category\": \"SVU\", \"model\": \"CR-V\", \"color\": \"Brown\", \"pride\": 11000}]}",
         null,
         null
        ],
        [
         "{\"user_profile\": [{\"userid\": \"userid_4\", \"username\": \"Keith Farrar\", \"gender\": \"male\", \"age\": 50, \"picture_url\": \"../images/profile/Keith Farrar.png\"}], \"car\": [{\"carid\": \"car_11\", \"make\": \"Tesla\", \"year\": \"2019\", \"category\": \"EV\", \"model\": \"Model Y\", \"color\": \"Black\", \"pride\": 40000}]}",
         null,
         null
        ],
        [
         "{\"user_profile\": [{\"userid\": \"userid_1\", \"username\": \"Jenna Bostwick\", \"gender\": \"female\", \"age\": 25, \"picture_url\": \"../images/profile/Jenna Bostwick.png\"}], \"car\": [{\"carid\": \"car_10\", \"make\": \"Ferarri\", \"year\": \"2015\", \"category\": \"SportCar\", \"model\": \"Spider\", \"color\": \"Red\", \"pride\": 70000}]}",
         null,
         null
        ],
        [
         "{\"user_profile\": [{\"userid\": \"userid_3\", \"username\": \"Owen Milford\", \"gender\": \"male\", \"age\": 30, \"picture_url\": \"../images/profile/Owen Milford.png\"}], \"car\": [{\"carid\": \"car_4\", \"make\": \"Honda\", \"year\": \"2013\", \"category\": \"SVU\", \"model\": \"CR-V\", \"color\": \"Brown\", \"pride\": 11000}]}",
         null,
         null
        ],
        [
         "{\"user_profile\": [{\"userid\": \"userid_2\", \"username\": \"Nathan Finley\", \"gender\": \"male\", \"age\": 20, \"picture_url\": \"../images/profile/Nathan Finley.png\"}], \"car\": [{\"carid\": \"car_0\", \"make\": \"Honda\", \"year\": \"2020\", \"category\": \"Sedan\", \"model\": \"Accord\", \"color\": \"Black\", \"pride\": 14000}]}",
         null,
         null
        ],
        [
         "{\"user_profile\": [{\"userid\": \"userid_3\", \"username\": \"Owen Milford\", \"gender\": \"male\", \"age\": 30, \"picture_url\": \"../images/profile/Owen Milford.png\"}], \"car\": [{\"carid\": \"car_11\", \"make\": \"Tesla\", \"year\": \"2019\", \"category\": \"EV\", \"model\": \"Model Y\", \"color\": \"Black\", \"pride\": 40000}]}",
         null,
         null
        ],
        [
         "{\"user_profile\": [{\"userid\": \"userid_4\", \"username\": \"Keith Farrar\", \"gender\": \"male\", \"age\": 50, \"picture_url\": \"../images/profile/Keith Farrar.png\"}], \"car\": [{\"carid\": \"car_10\", \"make\": \"Ferarri\", \"year\": \"2015\", \"category\": \"SportCar\", \"model\": \"Spider\", \"color\": \"Red\", \"pride\": 70000}]}",
         null,
         null
        ],
        [
         "{\"user_profile\": [{\"userid\": \"userid_2\", \"username\": \"Nathan Finley\", \"gender\": \"male\", \"age\": 20, \"picture_url\": \"../images/profile/Nathan Finley.png\"}], \"car\": [{\"carid\": \"car_11\", \"make\": \"Tesla\", \"year\": \"2019\", \"category\": \"EV\", \"model\": \"Model Y\", \"color\": \"Black\", \"pride\": 40000}]}",
         null,
         null
        ],
        [
         "{\"user_profile\": [{\"userid\": \"userid_3\", \"username\": \"Owen Milford\", \"gender\": \"male\", \"age\": 30, \"picture_url\": \"../images/profile/Owen Milford.png\"}], \"car\": [{\"carid\": \"car_9\", \"make\": \"Ram\", \"year\": \"2010\", \"category\": \"Truck\", \"model\": \"1500\", \"color\": \"Black\", \"pride\": 17000}]}",
         null,
         null
        ],
        [
         "{\"user_profile\": [{\"userid\": \"userid_1\", \"username\": \"Jenna Bostwick\", \"gender\": \"female\", \"age\": 25, \"picture_url\": \"../images/profile/Jenna Bostwick.png\"}], \"car\": [{\"carid\": \"car_4\", \"make\": \"Honda\", \"year\": \"2013\", \"category\": \"SVU\", \"model\": \"CR-V\", \"color\": \"Brown\", \"pride\": 11000}]}",
         null,
         null
        ],
        [
         "{\"user_profile\": [{\"userid\": \"userid_3\", \"username\": \"Owen Milford\", \"gender\": \"male\", \"age\": 30, \"picture_url\": \"../images/profile/Owen Milford.png\"}], \"car\": [{\"carid\": \"car_1\", \"make\": \"Hyundai\", \"year\": \"2017\", \"category\": \"Sedan\", \"model\": \"Sonata\", \"color\": \"Gray\", \"pride\": 14000}]}",
         null,
         null
        ],
        [
         "{\"user_profile\": [{\"userid\": \"userid_1\", \"username\": \"Jenna Bostwick\", \"gender\": \"female\", \"age\": 25, \"picture_url\": \"../images/profile/Jenna Bostwick.png\"}], \"car\": [{\"carid\": \"car_8\", \"make\": \"Ford\", \"year\": \"2016\", \"category\": \"Truck\", \"model\": \"F-150\", \"color\": \"Brown\", \"pride\": 17000}]}",
         null,
         null
        ],
        [
         "{\"user_profile\": [{\"userid\": \"userid_0\", \"username\": \"Maria Dandridge\", \"gender\": \"female\", \"age\": 20, \"picture_url\": \"../images/profile/Maria Dandridge.png\"}], \"car\": [{\"carid\": \"car_7\", \"make\": \"Chevrolet\", \"year\": \"2016\", \"category\": \"Truck\", \"model\": \"Silverado\", \"color\": \"White\", \"pride\": 17000}]}",
         null,
         null
        ],
        [
         "{\"user_profile\": [{\"userid\": \"userid_4\", \"username\": \"Keith Farrar\", \"gender\": \"male\", \"age\": 50, \"picture_url\": \"../images/profile/Keith Farrar.png\"}], \"car\": [{\"carid\": \"car_9\", \"make\": \"Ram\", \"year\": \"2010\", \"category\": \"Truck\", \"model\": \"1500\", \"color\": \"Black\", \"pride\": 17000}]}",
         null,
         null
        ],
        [
         "{\"user_profile\": [{\"userid\": \"userid_0\", \"username\": \"Maria Dandridge\", \"gender\": \"female\", \"age\": 20, \"picture_url\": \"../images/profile/Maria Dandridge.png\"}], \"car\": [{\"carid\": \"car_1\", \"make\": \"Hyundai\", \"year\": \"2017\", \"category\": \"Sedan\", \"model\": \"Sonata\", \"color\": \"Gray\", \"pride\": 14000}]}",
         null,
         null
        ],
        [
         "{\"user_profile\": [{\"userid\": \"userid_4\", \"username\": \"Keith Farrar\", \"gender\": \"male\", \"age\": 50, \"picture_url\": \"../images/profile/Keith Farrar.png\"}], \"car\": [{\"carid\": \"car_3\", \"make\": \"Toyota\", \"year\": \"2012\", \"category\": \"Sedan\", \"model\": \"Camry\", \"color\": \"Silver\", \"pride\": 11000}]}",
         null,
         null
        ],
        [
         "{\"user_profile\": [{\"userid\": \"userid_0\", \"username\": \"Maria Dandridge\", \"gender\": \"female\", \"age\": 20, \"picture_url\": \"../images/profile/Maria Dandridge.png\"}], \"car\": [{\"carid\": \"car_9\", \"make\": \"Ram\", \"year\": \"2010\", \"category\": \"Truck\", \"model\": \"1500\", \"color\": \"Black\", \"pride\": 17000}]}",
         null,
         null
        ],
        [
         "{\"user_profile\": [{\"userid\": \"userid_0\", \"username\": \"Maria Dandridge\", \"gender\": \"female\", \"age\": 20, \"picture_url\": \"../images/profile/Maria Dandridge.png\"}], \"car\": [{\"carid\": \"car_2\", \"make\": \"Nissan\", \"year\": \"2018\", \"category\": \"Sedan\", \"model\": \"Altima\", \"color\": \"Gold\", \"pride\": 13000}]}",
         null,
         null
        ],
        [
         "{\"user_profile\": [{\"userid\": \"userid_4\", \"username\": \"Keith Farrar\", \"gender\": \"male\", \"age\": 50, \"picture_url\": \"../images/profile/Keith Farrar.png\"}], \"car\": [{\"carid\": \"car_2\", \"make\": \"Nissan\", \"year\": \"2018\", \"category\": \"Sedan\", \"model\": \"Altima\", \"color\": \"Gold\", \"pride\": 13000}]}",
         null,
         null
        ],
        [
         "{\"user_profile\": [{\"userid\": \"userid_4\", \"username\": \"Keith Farrar\", \"gender\": \"male\", \"age\": 50, \"picture_url\": \"../images/profile/Keith Farrar.png\"}], \"car\": [{\"carid\": \"car_9\", \"make\": \"Ram\", \"year\": \"2010\", \"category\": \"Truck\", \"model\": \"1500\", \"color\": \"Black\", \"pride\": 17000}]}",
         null,
         null
        ],
        [
         "{\"user_profile\": [{\"userid\": \"userid_0\", \"username\": \"Maria Dandridge\", \"gender\": \"female\", \"age\": 20, \"picture_url\": \"../images/profile/Maria Dandridge.png\"}], \"car\": [{\"carid\": \"car_6\", \"make\": \"Nissan\", \"year\": \"2015\", \"category\": \"SUV\", \"model\": \"Rouge\", \"color\": \"Brown\", \"pride\": 15500}]}",
         null,
         null
        ],
        [
         "{\"user_profile\": [{\"userid\": \"userid_4\", \"username\": \"Keith Farrar\", \"gender\": \"male\", \"age\": 50, \"picture_url\": \"../images/profile/Keith Farrar.png\"}], \"car\": [{\"carid\": \"car_10\", \"make\": \"Ferarri\", \"year\": \"2015\", \"category\": \"SportCar\", \"model\": \"Spider\", \"color\": \"Red\", \"pride\": 70000}]}",
         null,
         null
        ],
        [
         "{\"user_profile\": [{\"userid\": \"userid_1\", \"username\": \"Jenna Bostwick\", \"gender\": \"female\", \"age\": 25, \"picture_url\": \"../images/profile/Jenna Bostwick.png\"}], \"car\": [{\"carid\": \"car_7\", \"make\": \"Chevrolet\", \"year\": \"2016\", \"category\": \"Truck\", \"model\": \"Silverado\", \"color\": \"White\", \"pride\": 17000}]}",
         null,
         null
        ],
        [
         "{\"user_profile\": [{\"userid\": \"userid_0\", \"username\": \"Maria Dandridge\", \"gender\": \"female\", \"age\": 20, \"picture_url\": \"../images/profile/Maria Dandridge.png\"}], \"car\": [{\"carid\": \"car_4\", \"make\": \"Honda\", \"year\": \"2013\", \"category\": \"SVU\", \"model\": \"CR-V\", \"color\": \"Brown\", \"pride\": 11000}]}",
         null,
         null
        ],
        [
         "{\"user_profile\": [{\"userid\": \"userid_0\", \"username\": \"Maria Dandridge\", \"gender\": \"female\", \"age\": 20, \"picture_url\": \"../images/profile/Maria Dandridge.png\"}], \"car\": [{\"carid\": \"car_11\", \"make\": \"Tesla\", \"year\": \"2019\", \"category\": \"EV\", \"model\": \"Model Y\", \"color\": \"Black\", \"pride\": 40000}]}",
         null,
         null
        ],
        [
         "{\"user_profile\": [{\"userid\": \"userid_4\", \"username\": \"Keith Farrar\", \"gender\": \"male\", \"age\": 50, \"picture_url\": \"../images/profile/Keith Farrar.png\"}], \"car\": [{\"carid\": \"car_3\", \"make\": \"Toyota\", \"year\": \"2012\", \"category\": \"Sedan\", \"model\": \"Camry\", \"color\": \"Silver\", \"pride\": 11000}]}",
         null,
         null
        ],
        [
         "{\"user_profile\": [{\"userid\": \"userid_1\", \"username\": \"Jenna Bostwick\", \"gender\": \"female\", \"age\": 25, \"picture_url\": \"../images/profile/Jenna Bostwick.png\"}], \"car\": [{\"carid\": \"car_6\", \"make\": \"Nissan\", \"year\": \"2015\", \"category\": \"SUV\", \"model\": \"Rouge\", \"color\": \"Brown\", \"pride\": 15500}]}",
         null,
         null
        ],
        [
         "{\"user_profile\": [{\"userid\": \"userid_3\", \"username\": \"Owen Milford\", \"gender\": \"male\", \"age\": 30, \"picture_url\": \"../images/profile/Owen Milford.png\"}], \"car\": [{\"carid\": \"car_10\", \"make\": \"Ferarri\", \"year\": \"2015\", \"category\": \"SportCar\", \"model\": \"Spider\", \"color\": \"Red\", \"pride\": 70000}]}",
         null,
         null
        ],
        [
         "{\"user_profile\": [{\"userid\": \"userid_4\", \"username\": \"Keith Farrar\", \"gender\": \"male\", \"age\": 50, \"picture_url\": \"../images/profile/Keith Farrar.png\"}], \"car\": [{\"carid\": \"car_9\", \"make\": \"Ram\", \"year\": \"2010\", \"category\": \"Truck\", \"model\": \"1500\", \"color\": \"Black\", \"pride\": 17000}]}",
         null,
         null
        ],
        [
         "{\"user_profile\": [{\"userid\": \"userid_3\", \"username\": \"Owen Milford\", \"gender\": \"male\", \"age\": 30, \"picture_url\": \"../images/profile/Owen Milford.png\"}], \"car\": [{\"carid\": \"car_3\", \"make\": \"Toyota\", \"year\": \"2012\", \"category\": \"Sedan\", \"model\": \"Camry\", \"color\": \"Silver\", \"pride\": 11000}]}",
         null,
         null
        ],
        [
         "{\"user_profile\": [{\"userid\": \"userid_3\", \"username\": \"Owen Milford\", \"gender\": \"male\", \"age\": 30, \"picture_url\": \"../images/profile/Owen Milford.png\"}], \"car\": [{\"carid\": \"car_9\", \"make\": \"Ram\", \"year\": \"2010\", \"category\": \"Truck\", \"model\": \"1500\", \"color\": \"Black\", \"pride\": 17000}]}",
         null,
         null
        ],
        [
         "{\"user_profile\": [{\"userid\": \"userid_0\", \"username\": \"Maria Dandridge\", \"gender\": \"female\", \"age\": 20, \"picture_url\": \"../images/profile/Maria Dandridge.png\"}], \"car\": [{\"carid\": \"car_0\", \"make\": \"Honda\", \"year\": \"2020\", \"category\": \"Sedan\", \"model\": \"Accord\", \"color\": \"Black\", \"pride\": 14000}]}",
         null,
         null
        ],
        [
         "{\"user_profile\": [{\"userid\": \"userid_0\", \"username\": \"Maria Dandridge\", \"gender\": \"female\", \"age\": 20, \"picture_url\": \"../images/profile/Maria Dandridge.png\"}], \"car\": [{\"carid\": \"car_5\", \"make\": \"Toyota\", \"year\": \"2015\", \"category\": \"SUV\", \"model\": \"RAV4\", \"color\": \"White\", \"pride\": 15000}]}",
         null,
         null
        ],
        [
         "{\"user_profile\": [{\"userid\": \"userid_4\", \"username\": \"Keith Farrar\", \"gender\": \"male\", \"age\": 50, \"picture_url\": \"../images/profile/Keith Farrar.png\"}], \"car\": [{\"carid\": \"car_1\", \"make\": \"Hyundai\", \"year\": \"2017\", \"category\": \"Sedan\", \"model\": \"Sonata\", \"color\": \"Gray\", \"pride\": 14000}]}",
         null,
         null
        ],
        [
         "{\"user_profile\": [{\"userid\": \"userid_2\", \"username\": \"Nathan Finley\", \"gender\": \"male\", \"age\": 20, \"picture_url\": \"../images/profile/Nathan Finley.png\"}], \"car\": [{\"carid\": \"car_1\", \"make\": \"Hyundai\", \"year\": \"2017\", \"category\": \"Sedan\", \"model\": \"Sonata\", \"color\": \"Gray\", \"pride\": 14000}]}",
         null,
         null
        ],
        [
         "{\"user_profile\": [{\"userid\": \"userid_2\", \"username\": \"Nathan Finley\", \"gender\": \"male\", \"age\": 20, \"picture_url\": \"../images/profile/Nathan Finley.png\"}], \"car\": [{\"carid\": \"car_10\", \"make\": \"Ferarri\", \"year\": \"2015\", \"category\": \"SportCar\", \"model\": \"Spider\", \"color\": \"Red\", \"pride\": 70000}]}",
         null,
         null
        ],
        [
         "{\"user_profile\": [{\"userid\": \"userid_4\", \"username\": \"Keith Farrar\", \"gender\": \"male\", \"age\": 50, \"picture_url\": \"../images/profile/Keith Farrar.png\"}], \"car\": [{\"carid\": \"car_11\", \"make\": \"Tesla\", \"year\": \"2019\", \"category\": \"EV\", \"model\": \"Model Y\", \"color\": \"Black\", \"pride\": 40000}]}",
         null,
         null
        ],
        [
         "{\"user_profile\": [{\"userid\": \"userid_0\", \"username\": \"Maria Dandridge\", \"gender\": \"female\", \"age\": 20, \"picture_url\": \"../images/profile/Maria Dandridge.png\"}], \"car\": [{\"carid\": \"car_1\", \"make\": \"Hyundai\", \"year\": \"2017\", \"category\": \"Sedan\", \"model\": \"Sonata\", \"color\": \"Gray\", \"pride\": 14000}]}",
         null,
         null
        ],
        [
         "{\"user_profile\": [{\"userid\": \"userid_4\", \"username\": \"Keith Farrar\", \"gender\": \"male\", \"age\": 50, \"picture_url\": \"../images/profile/Keith Farrar.png\"}], \"car\": [{\"carid\": \"car_10\", \"make\": \"Ferarri\", \"year\": \"2015\", \"category\": \"SportCar\", \"model\": \"Spider\", \"color\": \"Red\", \"pride\": 70000}]}",
         null,
         null
        ],
        [
         "{\"user_profile\": [{\"userid\": \"userid_1\", \"username\": \"Jenna Bostwick\", \"gender\": \"female\", \"age\": 25, \"picture_url\": \"../images/profile/Jenna Bostwick.png\"}], \"car\": [{\"carid\": \"car_3\", \"make\": \"Toyota\", \"year\": \"2012\", \"category\": \"Sedan\", \"model\": \"Camry\", \"color\": \"Silver\", \"pride\": 11000}]}",
         null,
         null
        ],
        [
         "{\"user_profile\": [{\"userid\": \"userid_0\", \"username\": \"Maria Dandridge\", \"gender\": \"female\", \"age\": 20, \"picture_url\": \"../images/profile/Maria Dandridge.png\"}], \"car\": [{\"carid\": \"car_3\", \"make\": \"Toyota\", \"year\": \"2012\", \"category\": \"Sedan\", \"model\": \"Camry\", \"color\": \"Silver\", \"pride\": 11000}]}",
         null,
         null
        ],
        [
         "{\"user_profile\": [{\"userid\": \"userid_0\", \"username\": \"Maria Dandridge\", \"gender\": \"female\", \"age\": 20, \"picture_url\": \"../images/profile/Maria Dandridge.png\"}], \"car\": [{\"carid\": \"car_0\", \"make\": \"Honda\", \"year\": \"2020\", \"category\": \"Sedan\", \"model\": \"Accord\", \"color\": \"Black\", \"pride\": 14000}]}",
         null,
         null
        ],
        [
         "{\"user_profile\": [{\"userid\": \"userid_0\", \"username\": \"Maria Dandridge\", \"gender\": \"female\", \"age\": 20, \"picture_url\": \"../images/profile/Maria Dandridge.png\"}], \"car\": [{\"carid\": \"car_1\", \"make\": \"Hyundai\", \"year\": \"2017\", \"category\": \"Sedan\", \"model\": \"Sonata\", \"color\": \"Gray\", \"pride\": 14000}]}",
         null,
         null
        ],
        [
         "{\"user_profile\": [{\"userid\": \"userid_0\", \"username\": \"Maria Dandridge\", \"gender\": \"female\", \"age\": 20, \"picture_url\": \"../images/profile/Maria Dandridge.png\"}], \"car\": [{\"carid\": \"car_0\", \"make\": \"Honda\", \"year\": \"2020\", \"category\": \"Sedan\", \"model\": \"Accord\", \"color\": \"Black\", \"pride\": 14000}]}",
         null,
         null
        ],
        [
         "{\"user_profile\": [{\"userid\": \"userid_1\", \"username\": \"Jenna Bostwick\", \"gender\": \"female\", \"age\": 25, \"picture_url\": \"../images/profile/Jenna Bostwick.png\"}], \"car\": [{\"carid\": \"car_5\", \"make\": \"Toyota\", \"year\": \"2015\", \"category\": \"SUV\", \"model\": \"RAV4\", \"color\": \"White\", \"pride\": 15000}]}",
         null,
         null
        ],
        [
         "{\"user_profile\": [{\"userid\": \"userid_2\", \"username\": \"Nathan Finley\", \"gender\": \"male\", \"age\": 20, \"picture_url\": \"../images/profile/Nathan Finley.png\"}], \"car\": [{\"carid\": \"car_0\", \"make\": \"Honda\", \"year\": \"2020\", \"category\": \"Sedan\", \"model\": \"Accord\", \"color\": \"Black\", \"pride\": 14000}]}",
         null,
         null
        ],
        [
         "{\"user_profile\": [{\"userid\": \"userid_1\", \"username\": \"Jenna Bostwick\", \"gender\": \"female\", \"age\": 25, \"picture_url\": \"../images/profile/Jenna Bostwick.png\"}], \"car\": [{\"carid\": \"car_6\", \"make\": \"Nissan\", \"year\": \"2015\", \"category\": \"SUV\", \"model\": \"Rouge\", \"color\": \"Brown\", \"pride\": 15500}]}",
         null,
         null
        ],
        [
         "{\"user_profile\": [{\"userid\": \"userid_2\", \"username\": \"Nathan Finley\", \"gender\": \"male\", \"age\": 20, \"picture_url\": \"../images/profile/Nathan Finley.png\"}], \"car\": [{\"carid\": \"car_10\", \"make\": \"Ferarri\", \"year\": \"2015\", \"category\": \"SportCar\", \"model\": \"Spider\", \"color\": \"Red\", \"pride\": 70000}]}",
         null,
         null
        ],
        [
         "{\"user_profile\": [{\"userid\": \"userid_0\", \"username\": \"Maria Dandridge\", \"gender\": \"female\", \"age\": 20, \"picture_url\": \"../images/profile/Maria Dandridge.png\"}], \"car\": [{\"carid\": \"car_8\", \"make\": \"Ford\", \"year\": \"2016\", \"category\": \"Truck\", \"model\": \"F-150\", \"color\": \"Brown\", \"pride\": 17000}]}",
         null,
         null
        ],
        [
         "{\"user_profile\": [{\"userid\": \"userid_2\", \"username\": \"Nathan Finley\", \"gender\": \"male\", \"age\": 20, \"picture_url\": \"../images/profile/Nathan Finley.png\"}], \"car\": [{\"carid\": \"car_2\", \"make\": \"Nissan\", \"year\": \"2018\", \"category\": \"Sedan\", \"model\": \"Altima\", \"color\": \"Gold\", \"pride\": 13000}]}",
         null,
         null
        ],
        [
         "{\"user_profile\": [{\"userid\": \"userid_3\", \"username\": \"Owen Milford\", \"gender\": \"male\", \"age\": 30, \"picture_url\": \"../images/profile/Owen Milford.png\"}], \"car\": [{\"carid\": \"car_9\", \"make\": \"Ram\", \"year\": \"2010\", \"category\": \"Truck\", \"model\": \"1500\", \"color\": \"Black\", \"pride\": 17000}]}",
         null,
         null
        ],
        [
         "{\"user_profile\": [{\"userid\": \"userid_0\", \"username\": \"Maria Dandridge\", \"gender\": \"female\", \"age\": 20, \"picture_url\": \"../images/profile/Maria Dandridge.png\"}], \"car\": [{\"carid\": \"car_4\", \"make\": \"Honda\", \"year\": \"2013\", \"category\": \"SVU\", \"model\": \"CR-V\", \"color\": \"Brown\", \"pride\": 11000}]}",
         null,
         null
        ],
        [
         "{\"user_profile\": [{\"userid\": \"userid_4\", \"username\": \"Keith Farrar\", \"gender\": \"male\", \"age\": 50, \"picture_url\": \"../images/profile/Keith Farrar.png\"}], \"car\": [{\"carid\": \"car_3\", \"make\": \"Toyota\", \"year\": \"2012\", \"category\": \"Sedan\", \"model\": \"Camry\", \"color\": \"Silver\", \"pride\": 11000}]}",
         null,
         null
        ],
        [
         "{\"user_profile\": [{\"userid\": \"userid_2\", \"username\": \"Nathan Finley\", \"gender\": \"male\", \"age\": 20, \"picture_url\": \"../images/profile/Nathan Finley.png\"}], \"car\": [{\"carid\": \"car_0\", \"make\": \"Honda\", \"year\": \"2020\", \"category\": \"Sedan\", \"model\": \"Accord\", \"color\": \"Black\", \"pride\": 14000}]}",
         null,
         null
        ],
        [
         "{\"user_profile\": [{\"userid\": \"userid_1\", \"username\": \"Jenna Bostwick\", \"gender\": \"female\", \"age\": 25, \"picture_url\": \"../images/profile/Jenna Bostwick.png\"}], \"car\": [{\"carid\": \"car_5\", \"make\": \"Toyota\", \"year\": \"2015\", \"category\": \"SUV\", \"model\": \"RAV4\", \"color\": \"White\", \"pride\": 15000}]}",
         null,
         null
        ],
        [
         "{\"user_profile\": [{\"userid\": \"userid_3\", \"username\": \"Owen Milford\", \"gender\": \"male\", \"age\": 30, \"picture_url\": \"../images/profile/Owen Milford.png\"}], \"car\": [{\"carid\": \"car_1\", \"make\": \"Hyundai\", \"year\": \"2017\", \"category\": \"Sedan\", \"model\": \"Sonata\", \"color\": \"Gray\", \"pride\": 14000}]}",
         null,
         null
        ],
        [
         "{\"user_profile\": [{\"userid\": \"userid_3\", \"username\": \"Owen Milford\", \"gender\": \"male\", \"age\": 30, \"picture_url\": \"../images/profile/Owen Milford.png\"}], \"car\": [{\"carid\": \"car_4\", \"make\": \"Honda\", \"year\": \"2013\", \"category\": \"SVU\", \"model\": \"CR-V\", \"color\": \"Brown\", \"pride\": 11000}]}",
         null,
         null
        ],
        [
         "{\"user_profile\": [{\"userid\": \"userid_0\", \"username\": \"Maria Dandridge\", \"gender\": \"female\", \"age\": 20, \"picture_url\": \"../images/profile/Maria Dandridge.png\"}], \"car\": [{\"carid\": \"car_10\", \"make\": \"Ferarri\", \"year\": \"2015\", \"category\": \"SportCar\", \"model\": \"Spider\", \"color\": \"Red\", \"pride\": 70000}]}",
         null,
         null
        ],
        [
         "{\"user_profile\": [{\"userid\": \"userid_2\", \"username\": \"Nathan Finley\", \"gender\": \"male\", \"age\": 20, \"picture_url\": \"../images/profile/Nathan Finley.png\"}], \"car\": [{\"carid\": \"car_2\", \"make\": \"Nissan\", \"year\": \"2018\", \"category\": \"Sedan\", \"model\": \"Altima\", \"color\": \"Gold\", \"pride\": 13000}]}",
         null,
         null
        ],
        [
         "{\"user_profile\": [{\"userid\": \"userid_4\", \"username\": \"Keith Farrar\", \"gender\": \"male\", \"age\": 50, \"picture_url\": \"../images/profile/Keith Farrar.png\"}], \"car\": [{\"carid\": \"car_2\", \"make\": \"Nissan\", \"year\": \"2018\", \"category\": \"Sedan\", \"model\": \"Altima\", \"color\": \"Gold\", \"pride\": 13000}]}",
         null,
         null
        ],
        [
         "{\"user_profile\": [{\"userid\": \"userid_2\", \"username\": \"Nathan Finley\", \"gender\": \"male\", \"age\": 20, \"picture_url\": \"../images/profile/Nathan Finley.png\"}], \"car\": [{\"carid\": \"car_3\", \"make\": \"Toyota\", \"year\": \"2012\", \"category\": \"Sedan\", \"model\": \"Camry\", \"color\": \"Silver\", \"pride\": 11000}]}",
         null,
         null
        ],
        [
         "{\"user_profile\": [{\"userid\": \"userid_2\", \"username\": \"Nathan Finley\", \"gender\": \"male\", \"age\": 20, \"picture_url\": \"../images/profile/Nathan Finley.png\"}], \"car\": [{\"carid\": \"car_9\", \"make\": \"Ram\", \"year\": \"2010\", \"category\": \"Truck\", \"model\": \"1500\", \"color\": \"Black\", \"pride\": 17000}]}",
         null,
         null
        ],
        [
         "{\"user_profile\": [{\"userid\": \"userid_4\", \"username\": \"Keith Farrar\", \"gender\": \"male\", \"age\": 50, \"picture_url\": \"../images/profile/Keith Farrar.png\"}], \"car\": [{\"carid\": \"car_6\", \"make\": \"Nissan\", \"year\": \"2015\", \"category\": \"SUV\", \"model\": \"Rouge\", \"color\": \"Brown\", \"pride\": 15500}]}",
         null,
         null
        ],
        [
         "{\"user_profile\": [{\"userid\": \"userid_3\", \"username\": \"Owen Milford\", \"gender\": \"male\", \"age\": 30, \"picture_url\": \"../images/profile/Owen Milford.png\"}], \"car\": [{\"carid\": \"car_7\", \"make\": \"Chevrolet\", \"year\": \"2016\", \"category\": \"Truck\", \"model\": \"Silverado\", \"color\": \"White\", \"pride\": 17000}]}",
         null,
         null
        ],
        [
         "{\"user_profile\": [{\"userid\": \"userid_2\", \"username\": \"Nathan Finley\", \"gender\": \"male\", \"age\": 20, \"picture_url\": \"../images/profile/Nathan Finley.png\"}], \"car\": [{\"carid\": \"car_10\", \"make\": \"Ferarri\", \"year\": \"2015\", \"category\": \"SportCar\", \"model\": \"Spider\", \"color\": \"Red\", \"pride\": 70000}]}",
         null,
         null
        ],
        [
         "{\"user_profile\": [{\"userid\": \"userid_0\", \"username\": \"Maria Dandridge\", \"gender\": \"female\", \"age\": 20, \"picture_url\": \"../images/profile/Maria Dandridge.png\"}], \"car\": [{\"carid\": \"car_3\", \"make\": \"Toyota\", \"year\": \"2012\", \"category\": \"Sedan\", \"model\": \"Camry\", \"color\": \"Silver\", \"pride\": 11000}]}",
         null,
         null
        ],
        [
         "{\"user_profile\": [{\"userid\": \"userid_3\", \"username\": \"Owen Milford\", \"gender\": \"male\", \"age\": 30, \"picture_url\": \"../images/profile/Owen Milford.png\"}], \"car\": [{\"carid\": \"car_11\", \"make\": \"Tesla\", \"year\": \"2019\", \"category\": \"EV\", \"model\": \"Model Y\", \"color\": \"Black\", \"pride\": 40000}]}",
         null,
         null
        ],
        [
         "{\"user_profile\": [{\"userid\": \"userid_2\", \"username\": \"Nathan Finley\", \"gender\": \"male\", \"age\": 20, \"picture_url\": \"../images/profile/Nathan Finley.png\"}], \"car\": [{\"carid\": \"car_6\", \"make\": \"Nissan\", \"year\": \"2015\", \"category\": \"SUV\", \"model\": \"Rouge\", \"color\": \"Brown\", \"pride\": 15500}]}",
         null,
         null
        ],
        [
         "{\"user_profile\": [{\"userid\": \"userid_3\", \"username\": \"Owen Milford\", \"gender\": \"male\", \"age\": 30, \"picture_url\": \"../images/profile/Owen Milford.png\"}], \"car\": [{\"carid\": \"car_7\", \"make\": \"Chevrolet\", \"year\": \"2016\", \"category\": \"Truck\", \"model\": \"Silverado\", \"color\": \"White\", \"pride\": 17000}]}",
         null,
         null
        ],
        [
         "{\"user_profile\": [{\"userid\": \"userid_1\", \"username\": \"Jenna Bostwick\", \"gender\": \"female\", \"age\": 25, \"picture_url\": \"../images/profile/Jenna Bostwick.png\"}], \"car\": [{\"carid\": \"car_5\", \"make\": \"Toyota\", \"year\": \"2015\", \"category\": \"SUV\", \"model\": \"RAV4\", \"color\": \"White\", \"pride\": 15000}]}",
         null,
         null
        ],
        [
         "{\"user_profile\": [{\"userid\": \"userid_4\", \"username\": \"Keith Farrar\", \"gender\": \"male\", \"age\": 50, \"picture_url\": \"../images/profile/Keith Farrar.png\"}], \"car\": [{\"carid\": \"car_2\", \"make\": \"Nissan\", \"year\": \"2018\", \"category\": \"Sedan\", \"model\": \"Altima\", \"color\": \"Gold\", \"pride\": 13000}]}",
         null,
         null
        ],
        [
         "{\"user_profile\": [{\"userid\": \"userid_1\", \"username\": \"Jenna Bostwick\", \"gender\": \"female\", \"age\": 25, \"picture_url\": \"../images/profile/Jenna Bostwick.png\"}], \"car\": [{\"carid\": \"car_7\", \"make\": \"Chevrolet\", \"year\": \"2016\", \"category\": \"Truck\", \"model\": \"Silverado\", \"color\": \"White\", \"pride\": 17000}]}",
         null,
         null
        ],
        [
         "{\"user_profile\": [{\"userid\": \"userid_0\", \"username\": \"Maria Dandridge\", \"gender\": \"female\", \"age\": 20, \"picture_url\": \"../images/profile/Maria Dandridge.png\"}], \"car\": [{\"carid\": \"car_7\", \"make\": \"Chevrolet\", \"year\": \"2016\", \"category\": \"Truck\", \"model\": \"Silverado\", \"color\": \"White\", \"pride\": 17000}]}",
         null,
         null
        ],
        [
         "{\"user_profile\": [{\"userid\": \"userid_2\", \"username\": \"Nathan Finley\", \"gender\": \"male\", \"age\": 20, \"picture_url\": \"../images/profile/Nathan Finley.png\"}], \"car\": [{\"carid\": \"car_9\", \"make\": \"Ram\", \"year\": \"2010\", \"category\": \"Truck\", \"model\": \"1500\", \"color\": \"Black\", \"pride\": 17000}]}",
         null,
         null
        ],
        [
         "{\"user_profile\": [{\"userid\": \"userid_0\", \"username\": \"Maria Dandridge\", \"gender\": \"female\", \"age\": 20, \"picture_url\": \"../images/profile/Maria Dandridge.png\"}], \"car\": [{\"carid\": \"car_8\", \"make\": \"Ford\", \"year\": \"2016\", \"category\": \"Truck\", \"model\": \"F-150\", \"color\": \"Brown\", \"pride\": 17000}]}",
         null,
         null
        ],
        [
         "{\"user_profile\": [{\"userid\": \"userid_4\", \"username\": \"Keith Farrar\", \"gender\": \"male\", \"age\": 50, \"picture_url\": \"../images/profile/Keith Farrar.png\"}], \"car\": [{\"carid\": \"car_5\", \"make\": \"Toyota\", \"year\": \"2015\", \"category\": \"SUV\", \"model\": \"RAV4\", \"color\": \"White\", \"pride\": 15000}]}",
         null,
         null
        ],
        [
         "{\"user_profile\": [{\"userid\": \"userid_0\", \"username\": \"Maria Dandridge\", \"gender\": \"female\", \"age\": 20, \"picture_url\": \"../images/profile/Maria Dandridge.png\"}], \"car\": [{\"carid\": \"car_10\", \"make\": \"Ferarri\", \"year\": \"2015\", \"category\": \"SportCar\", \"model\": \"Spider\", \"color\": \"Red\", \"pride\": 70000}]}",
         null,
         null
        ],
        [
         "{\"user_profile\": [{\"userid\": \"userid_1\", \"username\": \"Jenna Bostwick\", \"gender\": \"female\", \"age\": 25, \"picture_url\": \"../images/profile/Jenna Bostwick.png\"}], \"car\": [{\"carid\": \"car_6\", \"make\": \"Nissan\", \"year\": \"2015\", \"category\": \"SUV\", \"model\": \"Rouge\", \"color\": \"Brown\", \"pride\": 15500}]}",
         null,
         null
        ],
        [
         "{\"user_profile\": [{\"userid\": \"userid_4\", \"username\": \"Keith Farrar\", \"gender\": \"male\", \"age\": 50, \"picture_url\": \"../images/profile/Keith Farrar.png\"}], \"car\": [{\"carid\": \"car_2\", \"make\": \"Nissan\", \"year\": \"2018\", \"category\": \"Sedan\", \"model\": \"Altima\", \"color\": \"Gold\", \"pride\": 13000}]}",
         null,
         null
        ],
        [
         "{\"user_profile\": [{\"userid\": \"userid_4\", \"username\": \"Keith Farrar\", \"gender\": \"male\", \"age\": 50, \"picture_url\": \"../images/profile/Keith Farrar.png\"}], \"car\": [{\"carid\": \"car_10\", \"make\": \"Ferarri\", \"year\": \"2015\", \"category\": \"SportCar\", \"model\": \"Spider\", \"color\": \"Red\", \"pride\": 70000}]}",
         null,
         null
        ],
        [
         "{\"user_profile\": [{\"userid\": \"userid_1\", \"username\": \"Jenna Bostwick\", \"gender\": \"female\", \"age\": 25, \"picture_url\": \"../images/profile/Jenna Bostwick.png\"}], \"car\": [{\"carid\": \"car_2\", \"make\": \"Nissan\", \"year\": \"2018\", \"category\": \"Sedan\", \"model\": \"Altima\", \"color\": \"Gold\", \"pride\": 13000}]}",
         null,
         null
        ],
        [
         "{\"user_profile\": [{\"userid\": \"userid_1\", \"username\": \"Jenna Bostwick\", \"gender\": \"female\", \"age\": 25, \"picture_url\": \"../images/profile/Jenna Bostwick.png\"}], \"car\": [{\"carid\": \"car_7\", \"make\": \"Chevrolet\", \"year\": \"2016\", \"category\": \"Truck\", \"model\": \"Silverado\", \"color\": \"White\", \"pride\": 17000}]}",
         null,
         null
        ],
        [
         "{\"user_profile\": [{\"userid\": \"userid_0\", \"username\": \"Maria Dandridge\", \"gender\": \"female\", \"age\": 20, \"picture_url\": \"../images/profile/Maria Dandridge.png\"}], \"car\": [{\"carid\": \"car_11\", \"make\": \"Tesla\", \"year\": \"2019\", \"category\": \"EV\", \"model\": \"Model Y\", \"color\": \"Black\", \"pride\": 40000}]}",
         null,
         null
        ],
        [
         "{\"user_profile\": [{\"userid\": \"userid_0\", \"username\": \"Maria Dandridge\", \"gender\": \"female\", \"age\": 20, \"picture_url\": \"../images/profile/Maria Dandridge.png\"}], \"car\": [{\"carid\": \"car_8\", \"make\": \"Ford\", \"year\": \"2016\", \"category\": \"Truck\", \"model\": \"F-150\", \"color\": \"Brown\", \"pride\": 17000}]}",
         null,
         null
        ],
        [
         "{\"user_profile\": [{\"userid\": \"userid_2\", \"username\": \"Nathan Finley\", \"gender\": \"male\", \"age\": 20, \"picture_url\": \"../images/profile/Nathan Finley.png\"}], \"car\": [{\"carid\": \"car_11\", \"make\": \"Tesla\", \"year\": \"2019\", \"category\": \"EV\", \"model\": \"Model Y\", \"color\": \"Black\", \"pride\": 40000}]}",
         null,
         null
        ],
        [
         "{\"user_profile\": [{\"userid\": \"userid_4\", \"username\": \"Keith Farrar\", \"gender\": \"male\", \"age\": 50, \"picture_url\": \"../images/profile/Keith Farrar.png\"}], \"car\": [{\"carid\": \"car_11\", \"make\": \"Tesla\", \"year\": \"2019\", \"category\": \"EV\", \"model\": \"Model Y\", \"color\": \"Black\", \"pride\": 40000}]}",
         null,
         null
        ],
        [
         "{\"user_profile\": [{\"userid\": \"userid_2\", \"username\": \"Nathan Finley\", \"gender\": \"male\", \"age\": 20, \"picture_url\": \"../images/profile/Nathan Finley.png\"}], \"car\": [{\"carid\": \"car_3\", \"make\": \"Toyota\", \"year\": \"2012\", \"category\": \"Sedan\", \"model\": \"Camry\", \"color\": \"Silver\", \"pride\": 11000}]}",
         null,
         null
        ],
        [
         "{\"user_profile\": [{\"userid\": \"userid_1\", \"username\": \"Jenna Bostwick\", \"gender\": \"female\", \"age\": 25, \"picture_url\": \"../images/profile/Jenna Bostwick.png\"}], \"car\": [{\"carid\": \"car_4\", \"make\": \"Honda\", \"year\": \"2013\", \"category\": \"SVU\", \"model\": \"CR-V\", \"color\": \"Brown\", \"pride\": 11000}]}",
         null,
         null
        ],
        [
         "{\"user_profile\": [{\"userid\": \"userid_1\", \"username\": \"Jenna Bostwick\", \"gender\": \"female\", \"age\": 25, \"picture_url\": \"../images/profile/Jenna Bostwick.png\"}], \"car\": [{\"carid\": \"car_5\", \"make\": \"Toyota\", \"year\": \"2015\", \"category\": \"SUV\", \"model\": \"RAV4\", \"color\": \"White\", \"pride\": 15000}]}",
         null,
         null
        ],
        [
         "{\"user_profile\": [{\"userid\": \"userid_2\", \"username\": \"Nathan Finley\", \"gender\": \"male\", \"age\": 20, \"picture_url\": \"../images/profile/Nathan Finley.png\"}], \"car\": [{\"carid\": \"car_10\", \"make\": \"Ferarri\", \"year\": \"2015\", \"category\": \"SportCar\", \"model\": \"Spider\", \"color\": \"Red\", \"pride\": 70000}]}",
         null,
         null
        ],
        [
         "{\"user_profile\": [{\"userid\": \"userid_0\", \"username\": \"Maria Dandridge\", \"gender\": \"female\", \"age\": 20, \"picture_url\": \"../images/profile/Maria Dandridge.png\"}], \"car\": [{\"carid\": \"car_5\", \"make\": \"Toyota\", \"year\": \"2015\", \"category\": \"SUV\", \"model\": \"RAV4\", \"color\": \"White\", \"pride\": 15000}]}",
         null,
         null
        ],
        [
         "{\"user_profile\": [{\"userid\": \"userid_2\", \"username\": \"Nathan Finley\", \"gender\": \"male\", \"age\": 20, \"picture_url\": \"../images/profile/Nathan Finley.png\"}], \"car\": [{\"carid\": \"car_4\", \"make\": \"Honda\", \"year\": \"2013\", \"category\": \"SVU\", \"model\": \"CR-V\", \"color\": \"Brown\", \"pride\": 11000}]}",
         null,
         null
        ],
        [
         "{\"user_profile\": [{\"userid\": \"userid_4\", \"username\": \"Keith Farrar\", \"gender\": \"male\", \"age\": 50, \"picture_url\": \"../images/profile/Keith Farrar.png\"}], \"car\": [{\"carid\": \"car_0\", \"make\": \"Honda\", \"year\": \"2020\", \"category\": \"Sedan\", \"model\": \"Accord\", \"color\": \"Black\", \"pride\": 14000}]}",
         null,
         null
        ],
        [
         "{\"user_profile\": [{\"userid\": \"userid_1\", \"username\": \"Jenna Bostwick\", \"gender\": \"female\", \"age\": 25, \"picture_url\": \"../images/profile/Jenna Bostwick.png\"}], \"car\": [{\"carid\": \"car_5\", \"make\": \"Toyota\", \"year\": \"2015\", \"category\": \"SUV\", \"model\": \"RAV4\", \"color\": \"White\", \"pride\": 15000}]}",
         null,
         null
        ],
        [
         "{\"user_profile\": [{\"userid\": \"userid_1\", \"username\": \"Jenna Bostwick\", \"gender\": \"female\", \"age\": 25, \"picture_url\": \"../images/profile/Jenna Bostwick.png\"}], \"car\": [{\"carid\": \"car_6\", \"make\": \"Nissan\", \"year\": \"2015\", \"category\": \"SUV\", \"model\": \"Rouge\", \"color\": \"Brown\", \"pride\": 15500}]}",
         null,
         null
        ],
        [
         "{\"user_profile\": [{\"userid\": \"userid_0\", \"username\": \"Maria Dandridge\", \"gender\": \"female\", \"age\": 20, \"picture_url\": \"../images/profile/Maria Dandridge.png\"}], \"car\": [{\"carid\": \"car_2\", \"make\": \"Nissan\", \"year\": \"2018\", \"category\": \"Sedan\", \"model\": \"Altima\", \"color\": \"Gold\", \"pride\": 13000}]}",
         null,
         null
        ],
        [
         "{\"user_profile\": [{\"userid\": \"userid_3\", \"username\": \"Owen Milford\", \"gender\": \"male\", \"age\": 30, \"picture_url\": \"../images/profile/Owen Milford.png\"}], \"car\": [{\"carid\": \"car_9\", \"make\": \"Ram\", \"year\": \"2010\", \"category\": \"Truck\", \"model\": \"1500\", \"color\": \"Black\", \"pride\": 17000}]}",
         null,
         null
        ],
        [
         "{\"user_profile\": [{\"userid\": \"userid_2\", \"username\": \"Nathan Finley\", \"gender\": \"male\", \"age\": 20, \"picture_url\": \"../images/profile/Nathan Finley.png\"}], \"car\": [{\"carid\": \"car_8\", \"make\": \"Ford\", \"year\": \"2016\", \"category\": \"Truck\", \"model\": \"F-150\", \"color\": \"Brown\", \"pride\": 17000}]}",
         null,
         null
        ],
        [
         "{\"user_profile\": [{\"userid\": \"userid_2\", \"username\": \"Nathan Finley\", \"gender\": \"male\", \"age\": 20, \"picture_url\": \"../images/profile/Nathan Finley.png\"}], \"car\": [{\"carid\": \"car_2\", \"make\": \"Nissan\", \"year\": \"2018\", \"category\": \"Sedan\", \"model\": \"Altima\", \"color\": \"Gold\", \"pride\": 13000}]}",
         null,
         null
        ],
        [
         "{\"user_profile\": [{\"userid\": \"userid_4\", \"username\": \"Keith Farrar\", \"gender\": \"male\", \"age\": 50, \"picture_url\": \"../images/profile/Keith Farrar.png\"}], \"car\": [{\"carid\": \"car_0\", \"make\": \"Honda\", \"year\": \"2020\", \"category\": \"Sedan\", \"model\": \"Accord\", \"color\": \"Black\", \"pride\": 14000}]}",
         null,
         null
        ],
        [
         "{\"user_profile\": [{\"userid\": \"userid_4\", \"username\": \"Keith Farrar\", \"gender\": \"male\", \"age\": 50, \"picture_url\": \"../images/profile/Keith Farrar.png\"}], \"car\": [{\"carid\": \"car_5\", \"make\": \"Toyota\", \"year\": \"2015\", \"category\": \"SUV\", \"model\": \"RAV4\", \"color\": \"White\", \"pride\": 15000}]}",
         null,
         null
        ],
        [
         "{\"user_profile\": [{\"userid\": \"userid_1\", \"username\": \"Jenna Bostwick\", \"gender\": \"female\", \"age\": 25, \"picture_url\": \"../images/profile/Jenna Bostwick.png\"}], \"car\": [{\"carid\": \"car_9\", \"make\": \"Ram\", \"year\": \"2010\", \"category\": \"Truck\", \"model\": \"1500\", \"color\": \"Black\", \"pride\": 17000}]}",
         null,
         null
        ],
        [
         "{\"user_profile\": [{\"userid\": \"userid_0\", \"username\": \"Maria Dandridge\", \"gender\": \"female\", \"age\": 20, \"picture_url\": \"../images/profile/Maria Dandridge.png\"}], \"car\": [{\"carid\": \"car_11\", \"make\": \"Tesla\", \"year\": \"2019\", \"category\": \"EV\", \"model\": \"Model Y\", \"color\": \"Black\", \"pride\": 40000}]}",
         null,
         null
        ],
        [
         "{\"user_profile\": [{\"userid\": \"userid_2\", \"username\": \"Nathan Finley\", \"gender\": \"male\", \"age\": 20, \"picture_url\": \"../images/profile/Nathan Finley.png\"}], \"car\": [{\"carid\": \"car_7\", \"make\": \"Chevrolet\", \"year\": \"2016\", \"category\": \"Truck\", \"model\": \"Silverado\", \"color\": \"White\", \"pride\": 17000}]}",
         null,
         null
        ],
        [
         "{\"user_profile\": [{\"userid\": \"userid_2\", \"username\": \"Nathan Finley\", \"gender\": \"male\", \"age\": 20, \"picture_url\": \"../images/profile/Nathan Finley.png\"}], \"car\": [{\"carid\": \"car_0\", \"make\": \"Honda\", \"year\": \"2020\", \"category\": \"Sedan\", \"model\": \"Accord\", \"color\": \"Black\", \"pride\": 14000}]}",
         null,
         null
        ],
        [
         "{\"user_profile\": [{\"userid\": \"userid_0\", \"username\": \"Maria Dandridge\", \"gender\": \"female\", \"age\": 20, \"picture_url\": \"../images/profile/Maria Dandridge.png\"}], \"car\": [{\"carid\": \"car_2\", \"make\": \"Nissan\", \"year\": \"2018\", \"category\": \"Sedan\", \"model\": \"Altima\", \"color\": \"Gold\", \"pride\": 13000}]}",
         null,
         null
        ],
        [
         "{\"user_profile\": [{\"userid\": \"userid_4\", \"username\": \"Keith Farrar\", \"gender\": \"male\", \"age\": 50, \"picture_url\": \"../images/profile/Keith Farrar.png\"}], \"car\": [{\"carid\": \"car_8\", \"make\": \"Ford\", \"year\": \"2016\", \"category\": \"Truck\", \"model\": \"F-150\", \"color\": \"Brown\", \"pride\": 17000}]}",
         null,
         null
        ],
        [
         null,
         "2023-08-08T19:12:30.470+0000",
         "{\"user_profile\": [{\"userid\": \"userid_3\", \"username\": \"Owen Milford\", \"gender\": \"male\", \"age\": 30, \"picture_url\": \"../images/profile/Owen Milford.png\"}], \"car\": [{\"carid\": \"car_1\", \"make\": \"Hyundai\", \"year\": \"2017\", \"category\": \"Sedan\", \"model\": \"Sonata\", \"color\": \"Gray\", \"pride\": 14000}]}"
        ],
        [
         null,
         "2023-08-08T19:12:31.657+0000",
         "{\"user_profile\": [{\"userid\": \"userid_2\", \"username\": \"Nathan Finley\", \"gender\": \"male\", \"age\": 20, \"picture_url\": \"../images/profile/Nathan Finley.png\"}], \"car\": [{\"carid\": \"car_5\", \"make\": \"Toyota\", \"year\": \"2015\", \"category\": \"SUV\", \"model\": \"RAV4\", \"color\": \"White\", \"pride\": 15000}]}"
        ],
        [
         null,
         "2023-08-08T19:12:32.908+0000",
         "{\"user_profile\": [{\"userid\": \"userid_1\", \"username\": \"Jenna Bostwick\", \"gender\": \"female\", \"age\": 25, \"picture_url\": \"../images/profile/Jenna Bostwick.png\"}], \"car\": [{\"carid\": \"car_2\", \"make\": \"Nissan\", \"year\": \"2018\", \"category\": \"Sedan\", \"model\": \"Altima\", \"color\": \"Gold\", \"pride\": 13000}]}"
        ],
        [
         null,
         "2023-08-08T19:12:34.127+0000",
         "{\"user_profile\": [{\"userid\": \"userid_1\", \"username\": \"Jenna Bostwick\", \"gender\": \"female\", \"age\": 25, \"picture_url\": \"../images/profile/Jenna Bostwick.png\"}], \"car\": [{\"carid\": \"car_8\", \"make\": \"Ford\", \"year\": \"2016\", \"category\": \"Truck\", \"model\": \"F-150\", \"color\": \"Brown\", \"pride\": 17000}]}"
        ],
        [
         null,
         "2023-08-08T19:12:35.440+0000",
         "{\"user_profile\": [{\"userid\": \"userid_0\", \"username\": \"Maria Dandridge\", \"gender\": \"female\", \"age\": 20, \"picture_url\": \"../images/profile/Maria Dandridge.png\"}], \"car\": [{\"carid\": \"car_4\", \"make\": \"Honda\", \"year\": \"2013\", \"category\": \"SVU\", \"model\": \"CR-V\", \"color\": \"Brown\", \"pride\": 11000}]}"
        ],
        [
         null,
         "2023-08-08T19:12:36.690+0000",
         "{\"user_profile\": [{\"userid\": \"userid_2\", \"username\": \"Nathan Finley\", \"gender\": \"male\", \"age\": 20, \"picture_url\": \"../images/profile/Nathan Finley.png\"}], \"car\": [{\"carid\": \"car_10\", \"make\": \"Ferarri\", \"year\": \"2015\", \"category\": \"SportCar\", \"model\": \"Spider\", \"color\": \"Red\", \"pride\": 70000}]}"
        ],
        [
         null,
         "2023-08-08T19:12:38.003+0000",
         "{\"user_profile\": [{\"userid\": \"userid_2\", \"username\": \"Nathan Finley\", \"gender\": \"male\", \"age\": 20, \"picture_url\": \"../images/profile/Nathan Finley.png\"}], \"car\": [{\"carid\": \"car_7\", \"make\": \"Chevrolet\", \"year\": \"2016\", \"category\": \"Truck\", \"model\": \"Silverado\", \"color\": \"White\", \"pride\": 17000}]}"
        ],
        [
         null,
         "2023-08-08T19:12:39.222+0000",
         "{\"user_profile\": [{\"userid\": \"userid_4\", \"username\": \"Keith Farrar\", \"gender\": \"male\", \"age\": 50, \"picture_url\": \"../images/profile/Keith Farrar.png\"}], \"car\": [{\"carid\": \"car_7\", \"make\": \"Chevrolet\", \"year\": \"2016\", \"category\": \"Truck\", \"model\": \"Silverado\", \"color\": \"White\", \"pride\": 17000}]}"
        ],
        [
         null,
         "2023-08-08T19:12:40.457+0000",
         "{\"user_profile\": [{\"userid\": \"userid_2\", \"username\": \"Nathan Finley\", \"gender\": \"male\", \"age\": 20, \"picture_url\": \"../images/profile/Nathan Finley.png\"}], \"car\": [{\"carid\": \"car_9\", \"make\": \"Ram\", \"year\": \"2010\", \"category\": \"Truck\", \"model\": \"1500\", \"color\": \"Black\", \"pride\": 17000}]}"
        ],
        [
         null,
         "2023-08-08T19:12:41.722+0000",
         "{\"user_profile\": [{\"userid\": \"userid_2\", \"username\": \"Nathan Finley\", \"gender\": \"male\", \"age\": 20, \"picture_url\": \"../images/profile/Nathan Finley.png\"}], \"car\": [{\"carid\": \"car_11\", \"make\": \"Tesla\", \"year\": \"2019\", \"category\": \"EV\", \"model\": \"Model Y\", \"color\": \"Black\", \"pride\": 40000}]}"
        ],
        [
         null,
         "2023-08-08T19:12:42.957+0000",
         "{\"user_profile\": [{\"userid\": \"userid_1\", \"username\": \"Jenna Bostwick\", \"gender\": \"female\", \"age\": 25, \"picture_url\": \"../images/profile/Jenna Bostwick.png\"}], \"car\": [{\"carid\": \"car_5\", \"make\": \"Toyota\", \"year\": \"2015\", \"category\": \"SUV\", \"model\": \"RAV4\", \"color\": \"White\", \"pride\": 15000}]}"
        ],
        [
         null,
         "2023-08-08T19:12:44.254+0000",
         "{\"user_profile\": [{\"userid\": \"userid_1\", \"username\": \"Jenna Bostwick\", \"gender\": \"female\", \"age\": 25, \"picture_url\": \"../images/profile/Jenna Bostwick.png\"}], \"car\": [{\"carid\": \"car_2\", \"make\": \"Nissan\", \"year\": \"2018\", \"category\": \"Sedan\", \"model\": \"Altima\", \"color\": \"Gold\", \"pride\": 13000}]}"
        ],
        [
         null,
         "2023-08-08T19:12:45.472+0000",
         "{\"user_profile\": [{\"userid\": \"userid_2\", \"username\": \"Nathan Finley\", \"gender\": \"male\", \"age\": 20, \"picture_url\": \"../images/profile/Nathan Finley.png\"}], \"car\": [{\"carid\": \"car_0\", \"make\": \"Honda\", \"year\": \"2020\", \"category\": \"Sedan\", \"model\": \"Accord\", \"color\": \"Black\", \"pride\": 14000}]}"
        ],
        [
         null,
         "2023-08-08T19:12:46.676+0000",
         "{\"user_profile\": [{\"userid\": \"userid_1\", \"username\": \"Jenna Bostwick\", \"gender\": \"female\", \"age\": 25, \"picture_url\": \"../images/profile/Jenna Bostwick.png\"}], \"car\": [{\"carid\": \"car_7\", \"make\": \"Chevrolet\", \"year\": \"2016\", \"category\": \"Truck\", \"model\": \"Silverado\", \"color\": \"White\", \"pride\": 17000}]}"
        ],
        [
         null,
         "2023-08-08T19:12:47.894+0000",
         "{\"user_profile\": [{\"userid\": \"userid_0\", \"username\": \"Maria Dandridge\", \"gender\": \"female\", \"age\": 20, \"picture_url\": \"../images/profile/Maria Dandridge.png\"}], \"car\": [{\"carid\": \"car_2\", \"make\": \"Nissan\", \"year\": \"2018\", \"category\": \"Sedan\", \"model\": \"Altima\", \"color\": \"Gold\", \"pride\": 13000}]}"
        ],
        [
         null,
         "2023-08-08T19:12:49.114+0000",
         "{\"user_profile\": [{\"userid\": \"userid_3\", \"username\": \"Owen Milford\", \"gender\": \"male\", \"age\": 30, \"picture_url\": \"../images/profile/Owen Milford.png\"}], \"car\": [{\"carid\": \"car_2\", \"make\": \"Nissan\", \"year\": \"2018\", \"category\": \"Sedan\", \"model\": \"Altima\", \"color\": \"Gold\", \"pride\": 13000}]}"
        ],
        [
         null,
         "2023-08-08T19:12:50.285+0000",
         "{\"user_profile\": [{\"userid\": \"userid_1\", \"username\": \"Jenna Bostwick\", \"gender\": \"female\", \"age\": 25, \"picture_url\": \"../images/profile/Jenna Bostwick.png\"}], \"car\": [{\"carid\": \"car_11\", \"make\": \"Tesla\", \"year\": \"2019\", \"category\": \"EV\", \"model\": \"Model Y\", \"color\": \"Black\", \"pride\": 40000}]}"
        ],
        [
         null,
         "2023-08-08T19:12:51.520+0000",
         "{\"user_profile\": [{\"userid\": \"userid_1\", \"username\": \"Jenna Bostwick\", \"gender\": \"female\", \"age\": 25, \"picture_url\": \"../images/profile/Jenna Bostwick.png\"}], \"car\": [{\"carid\": \"car_6\", \"make\": \"Nissan\", \"year\": \"2015\", \"category\": \"SUV\", \"model\": \"Rouge\", \"color\": \"Brown\", \"pride\": 15500}]}"
        ],
        [
         null,
         "2023-08-08T19:12:52.708+0000",
         "{\"user_profile\": [{\"userid\": \"userid_2\", \"username\": \"Nathan Finley\", \"gender\": \"male\", \"age\": 20, \"picture_url\": \"../images/profile/Nathan Finley.png\"}], \"car\": [{\"carid\": \"car_9\", \"make\": \"Ram\", \"year\": \"2010\", \"category\": \"Truck\", \"model\": \"1500\", \"color\": \"Black\", \"pride\": 17000}]}"
        ],
        [
         null,
         "2023-08-08T19:12:53.896+0000",
         "{\"user_profile\": [{\"userid\": \"userid_2\", \"username\": \"Nathan Finley\", \"gender\": \"male\", \"age\": 20, \"picture_url\": \"../images/profile/Nathan Finley.png\"}], \"car\": [{\"carid\": \"car_8\", \"make\": \"Ford\", \"year\": \"2016\", \"category\": \"Truck\", \"model\": \"F-150\", \"color\": \"Brown\", \"pride\": 17000}]}"
        ],
        [
         null,
         "2023-08-08T19:12:55.177+0000",
         "{\"user_profile\": [{\"userid\": \"userid_3\", \"username\": \"Owen Milford\", \"gender\": \"male\", \"age\": 30, \"picture_url\": \"../images/profile/Owen Milford.png\"}], \"car\": [{\"carid\": \"car_8\", \"make\": \"Ford\", \"year\": \"2016\", \"category\": \"Truck\", \"model\": \"F-150\", \"color\": \"Brown\", \"pride\": 17000}]}"
        ],
        [
         null,
         "2023-08-08T19:12:56.365+0000",
         "{\"user_profile\": [{\"userid\": \"userid_3\", \"username\": \"Owen Milford\", \"gender\": \"male\", \"age\": 30, \"picture_url\": \"../images/profile/Owen Milford.png\"}], \"car\": [{\"carid\": \"car_3\", \"make\": \"Toyota\", \"year\": \"2012\", \"category\": \"Sedan\", \"model\": \"Camry\", \"color\": \"Silver\", \"pride\": 11000}]}"
        ],
        [
         null,
         "2023-08-08T19:12:57.599+0000",
         "{\"user_profile\": [{\"userid\": \"userid_2\", \"username\": \"Nathan Finley\", \"gender\": \"male\", \"age\": 20, \"picture_url\": \"../images/profile/Nathan Finley.png\"}], \"car\": [{\"carid\": \"car_7\", \"make\": \"Chevrolet\", \"year\": \"2016\", \"category\": \"Truck\", \"model\": \"Silverado\", \"color\": \"White\", \"pride\": 17000}]}"
        ],
        [
         null,
         "2023-08-08T19:12:59.022+0000",
         "{\"user_profile\": [{\"userid\": \"userid_0\", \"username\": \"Maria Dandridge\", \"gender\": \"female\", \"age\": 20, \"picture_url\": \"../images/profile/Maria Dandridge.png\"}], \"car\": [{\"carid\": \"car_3\", \"make\": \"Toyota\", \"year\": \"2012\", \"category\": \"Sedan\", \"model\": \"Camry\", \"color\": \"Silver\", \"pride\": 11000}]}"
        ],
        [
         null,
         "2023-08-08T19:13:00.225+0000",
         "{\"user_profile\": [{\"userid\": \"userid_3\", \"username\": \"Owen Milford\", \"gender\": \"male\", \"age\": 30, \"picture_url\": \"../images/profile/Owen Milford.png\"}], \"car\": [{\"carid\": \"car_0\", \"make\": \"Honda\", \"year\": \"2020\", \"category\": \"Sedan\", \"model\": \"Accord\", \"color\": \"Black\", \"pride\": 14000}]}"
        ],
        [
         null,
         "2023-08-08T19:13:01.413+0000",
         "{\"user_profile\": [{\"userid\": \"userid_4\", \"username\": \"Keith Farrar\", \"gender\": \"male\", \"age\": 50, \"picture_url\": \"../images/profile/Keith Farrar.png\"}], \"car\": [{\"carid\": \"car_9\", \"make\": \"Ram\", \"year\": \"2010\", \"category\": \"Truck\", \"model\": \"1500\", \"color\": \"Black\", \"pride\": 17000}]}"
        ],
        [
         null,
         "2023-08-08T19:13:02.600+0000",
         "{\"user_profile\": [{\"userid\": \"userid_1\", \"username\": \"Jenna Bostwick\", \"gender\": \"female\", \"age\": 25, \"picture_url\": \"../images/profile/Jenna Bostwick.png\"}], \"car\": [{\"carid\": \"car_10\", \"make\": \"Ferarri\", \"year\": \"2015\", \"category\": \"SportCar\", \"model\": \"Spider\", \"color\": \"Red\", \"pride\": 70000}]}"
        ],
        [
         null,
         "2023-08-08T19:13:03.850+0000",
         "{\"user_profile\": [{\"userid\": \"userid_1\", \"username\": \"Jenna Bostwick\", \"gender\": \"female\", \"age\": 25, \"picture_url\": \"../images/profile/Jenna Bostwick.png\"}], \"car\": [{\"carid\": \"car_1\", \"make\": \"Hyundai\", \"year\": \"2017\", \"category\": \"Sedan\", \"model\": \"Sonata\", \"color\": \"Gray\", \"pride\": 14000}]}"
        ],
        [
         null,
         "2023-08-08T19:13:05.069+0000",
         "{\"user_profile\": [{\"userid\": \"userid_2\", \"username\": \"Nathan Finley\", \"gender\": \"male\", \"age\": 20, \"picture_url\": \"../images/profile/Nathan Finley.png\"}], \"car\": [{\"carid\": \"car_11\", \"make\": \"Tesla\", \"year\": \"2019\", \"category\": \"EV\", \"model\": \"Model Y\", \"color\": \"Black\", \"pride\": 40000}]}"
        ],
        [
         null,
         "2023-08-08T19:13:06.336+0000",
         "{\"user_profile\": [{\"userid\": \"userid_4\", \"username\": \"Keith Farrar\", \"gender\": \"male\", \"age\": 50, \"picture_url\": \"../images/profile/Keith Farrar.png\"}], \"car\": [{\"carid\": \"car_3\", \"make\": \"Toyota\", \"year\": \"2012\", \"category\": \"Sedan\", \"model\": \"Camry\", \"color\": \"Silver\", \"pride\": 11000}]}"
        ],
        [
         null,
         "2023-08-08T19:13:07.523+0000",
         "{\"user_profile\": [{\"userid\": \"userid_1\", \"username\": \"Jenna Bostwick\", \"gender\": \"female\", \"age\": 25, \"picture_url\": \"../images/profile/Jenna Bostwick.png\"}], \"car\": [{\"carid\": \"car_8\", \"make\": \"Ford\", \"year\": \"2016\", \"category\": \"Truck\", \"model\": \"F-150\", \"color\": \"Brown\", \"pride\": 17000}]}"
        ],
        [
         null,
         "2023-08-08T19:13:08.726+0000",
         "{\"user_profile\": [{\"userid\": \"userid_3\", \"username\": \"Owen Milford\", \"gender\": \"male\", \"age\": 30, \"picture_url\": \"../images/profile/Owen Milford.png\"}], \"car\": [{\"carid\": \"car_0\", \"make\": \"Honda\", \"year\": \"2020\", \"category\": \"Sedan\", \"model\": \"Accord\", \"color\": \"Black\", \"pride\": 14000}]}"
        ],
        [
         null,
         "2023-08-08T19:13:09.914+0000",
         "{\"user_profile\": [{\"userid\": \"userid_0\", \"username\": \"Maria Dandridge\", \"gender\": \"female\", \"age\": 20, \"picture_url\": \"../images/profile/Maria Dandridge.png\"}], \"car\": [{\"carid\": \"car_4\", \"make\": \"Honda\", \"year\": \"2013\", \"category\": \"SVU\", \"model\": \"CR-V\", \"color\": \"Brown\", \"pride\": 11000}]}"
        ],
        [
         null,
         "2023-08-08T19:13:11.102+0000",
         "{\"user_profile\": [{\"userid\": \"userid_3\", \"username\": \"Owen Milford\", \"gender\": \"male\", \"age\": 30, \"picture_url\": \"../images/profile/Owen Milford.png\"}], \"car\": [{\"carid\": \"car_3\", \"make\": \"Toyota\", \"year\": \"2012\", \"category\": \"Sedan\", \"model\": \"Camry\", \"color\": \"Silver\", \"pride\": 11000}]}"
        ],
        [
         null,
         "2023-08-08T19:13:12.321+0000",
         "{\"user_profile\": [{\"userid\": \"userid_0\", \"username\": \"Maria Dandridge\", \"gender\": \"female\", \"age\": 20, \"picture_url\": \"../images/profile/Maria Dandridge.png\"}], \"car\": [{\"carid\": \"car_8\", \"make\": \"Ford\", \"year\": \"2016\", \"category\": \"Truck\", \"model\": \"F-150\", \"color\": \"Brown\", \"pride\": 17000}]}"
        ],
        [
         null,
         "2023-08-08T19:13:13.539+0000",
         "{\"user_profile\": [{\"userid\": \"userid_4\", \"username\": \"Keith Farrar\", \"gender\": \"male\", \"age\": 50, \"picture_url\": \"../images/profile/Keith Farrar.png\"}], \"car\": [{\"carid\": \"car_8\", \"make\": \"Ford\", \"year\": \"2016\", \"category\": \"Truck\", \"model\": \"F-150\", \"color\": \"Brown\", \"pride\": 17000}]}"
        ],
        [
         null,
         "2023-08-08T19:13:14.914+0000",
         "{\"user_profile\": [{\"userid\": \"userid_4\", \"username\": \"Keith Farrar\", \"gender\": \"male\", \"age\": 50, \"picture_url\": \"../images/profile/Keith Farrar.png\"}], \"car\": [{\"carid\": \"car_3\", \"make\": \"Toyota\", \"year\": \"2012\", \"category\": \"Sedan\", \"model\": \"Camry\", \"color\": \"Silver\", \"pride\": 11000}]}"
        ],
        [
         null,
         "2023-08-08T19:13:16.164+0000",
         "{\"user_profile\": [{\"userid\": \"userid_1\", \"username\": \"Jenna Bostwick\", \"gender\": \"female\", \"age\": 25, \"picture_url\": \"../images/profile/Jenna Bostwick.png\"}], \"car\": [{\"carid\": \"car_1\", \"make\": \"Hyundai\", \"year\": \"2017\", \"category\": \"Sedan\", \"model\": \"Sonata\", \"color\": \"Gray\", \"pride\": 14000}]}"
        ],
        [
         null,
         "2023-08-08T19:13:17.352+0000",
         "{\"user_profile\": [{\"userid\": \"userid_4\", \"username\": \"Keith Farrar\", \"gender\": \"male\", \"age\": 50, \"picture_url\": \"../images/profile/Keith Farrar.png\"}], \"car\": [{\"carid\": \"car_0\", \"make\": \"Honda\", \"year\": \"2020\", \"category\": \"Sedan\", \"model\": \"Accord\", \"color\": \"Black\", \"pride\": 14000}]}"
        ],
        [
         null,
         "2023-08-08T19:13:18.539+0000",
         "{\"user_profile\": [{\"userid\": \"userid_1\", \"username\": \"Jenna Bostwick\", \"gender\": \"female\", \"age\": 25, \"picture_url\": \"../images/profile/Jenna Bostwick.png\"}], \"car\": [{\"carid\": \"car_9\", \"make\": \"Ram\", \"year\": \"2010\", \"category\": \"Truck\", \"model\": \"1500\", \"color\": \"Black\", \"pride\": 17000}]}"
        ],
        [
         null,
         "2023-08-08T19:13:19.805+0000",
         "{\"user_profile\": [{\"userid\": \"userid_2\", \"username\": \"Nathan Finley\", \"gender\": \"male\", \"age\": 20, \"picture_url\": \"../images/profile/Nathan Finley.png\"}], \"car\": [{\"carid\": \"car_0\", \"make\": \"Honda\", \"year\": \"2020\", \"category\": \"Sedan\", \"model\": \"Accord\", \"color\": \"Black\", \"pride\": 14000}]}"
        ],
        [
         null,
         "2023-08-08T19:13:21.055+0000",
         "{\"user_profile\": [{\"userid\": \"userid_1\", \"username\": \"Jenna Bostwick\", \"gender\": \"female\", \"age\": 25, \"picture_url\": \"../images/profile/Jenna Bostwick.png\"}], \"car\": [{\"carid\": \"car_11\", \"make\": \"Tesla\", \"year\": \"2019\", \"category\": \"EV\", \"model\": \"Model Y\", \"color\": \"Black\", \"pride\": 40000}]}"
        ],
        [
         null,
         "2023-08-08T19:13:22.368+0000",
         "{\"user_profile\": [{\"userid\": \"userid_0\", \"username\": \"Maria Dandridge\", \"gender\": \"female\", \"age\": 20, \"picture_url\": \"../images/profile/Maria Dandridge.png\"}], \"car\": [{\"carid\": \"car_6\", \"make\": \"Nissan\", \"year\": \"2015\", \"category\": \"SUV\", \"model\": \"Rouge\", \"color\": \"Brown\", \"pride\": 15500}]}"
        ],
        [
         null,
         "2023-08-08T19:13:23.602+0000",
         "{\"user_profile\": [{\"userid\": \"userid_3\", \"username\": \"Owen Milford\", \"gender\": \"male\", \"age\": 30, \"picture_url\": \"../images/profile/Owen Milford.png\"}], \"car\": [{\"carid\": \"car_8\", \"make\": \"Ford\", \"year\": \"2016\", \"category\": \"Truck\", \"model\": \"F-150\", \"color\": \"Brown\", \"pride\": 17000}]}"
        ],
        [
         null,
         "2023-08-08T19:13:24.883+0000",
         "{\"user_profile\": [{\"userid\": \"userid_0\", \"username\": \"Maria Dandridge\", \"gender\": \"female\", \"age\": 20, \"picture_url\": \"../images/profile/Maria Dandridge.png\"}], \"car\": [{\"carid\": \"car_6\", \"make\": \"Nissan\", \"year\": \"2015\", \"category\": \"SUV\", \"model\": \"Rouge\", \"color\": \"Brown\", \"pride\": 15500}]}"
        ],
        [
         null,
         "2023-08-08T19:13:26.071+0000",
         "{\"user_profile\": [{\"userid\": \"userid_0\", \"username\": \"Maria Dandridge\", \"gender\": \"female\", \"age\": 20, \"picture_url\": \"../images/profile/Maria Dandridge.png\"}], \"car\": [{\"carid\": \"car_9\", \"make\": \"Ram\", \"year\": \"2010\", \"category\": \"Truck\", \"model\": \"1500\", \"color\": \"Black\", \"pride\": 17000}]}"
        ],
        [
         null,
         "2023-08-08T19:13:27.369+0000",
         "{\"user_profile\": [{\"userid\": \"userid_2\", \"username\": \"Nathan Finley\", \"gender\": \"male\", \"age\": 20, \"picture_url\": \"../images/profile/Nathan Finley.png\"}], \"car\": [{\"carid\": \"car_0\", \"make\": \"Honda\", \"year\": \"2020\", \"category\": \"Sedan\", \"model\": \"Accord\", \"color\": \"Black\", \"pride\": 14000}]}"
        ],
        [
         null,
         "2023-08-08T19:13:28.556+0000",
         "{\"user_profile\": [{\"userid\": \"userid_2\", \"username\": \"Nathan Finley\", \"gender\": \"male\", \"age\": 20, \"picture_url\": \"../images/profile/Nathan Finley.png\"}], \"car\": [{\"carid\": \"car_3\", \"make\": \"Toyota\", \"year\": \"2012\", \"category\": \"Sedan\", \"model\": \"Camry\", \"color\": \"Silver\", \"pride\": 11000}]}"
        ],
        [
         null,
         "2023-08-08T19:13:29.759+0000",
         "{\"user_profile\": [{\"userid\": \"userid_0\", \"username\": \"Maria Dandridge\", \"gender\": \"female\", \"age\": 20, \"picture_url\": \"../images/profile/Maria Dandridge.png\"}], \"car\": [{\"carid\": \"car_0\", \"make\": \"Honda\", \"year\": \"2020\", \"category\": \"Sedan\", \"model\": \"Accord\", \"color\": \"Black\", \"pride\": 14000}]}"
        ],
        [
         "{\"user_profile\": [{\"userid\": \"userid_0\", \"username\": \"Maria Dandridge\", \"gender\": \"female\", \"age\": 20, \"picture_url\": \"../images/profile/Maria Dandridge.png\"}], \"car\": [{\"carid\": \"car_8\", \"make\": \"Ford\", \"year\": \"2016\", \"category\": \"Truck\", \"model\": \"F-150\", \"color\": \"Brown\", \"pride\": 17000}]}",
         null,
         null
        ],
        [
         "{\"user_profile\": [{\"userid\": \"userid_0\", \"username\": \"Maria Dandridge\", \"gender\": \"female\", \"age\": 20, \"picture_url\": \"../images/profile/Maria Dandridge.png\"}], \"car\": [{\"carid\": \"car_1\", \"make\": \"Hyundai\", \"year\": \"2017\", \"category\": \"Sedan\", \"model\": \"Sonata\", \"color\": \"Gray\", \"pride\": 14000}]}",
         null,
         null
        ],
        [
         "{\"user_profile\": [{\"userid\": \"userid_2\", \"username\": \"Nathan Finley\", \"gender\": \"male\", \"age\": 20, \"picture_url\": \"../images/profile/Nathan Finley.png\"}], \"car\": [{\"carid\": \"car_11\", \"make\": \"Tesla\", \"year\": \"2019\", \"category\": \"EV\", \"model\": \"Model Y\", \"color\": \"Black\", \"pride\": 40000}]}",
         null,
         null
        ],
        [
         "{\"user_profile\": [{\"userid\": \"userid_4\", \"username\": \"Keith Farrar\", \"gender\": \"male\", \"age\": 50, \"picture_url\": \"../images/profile/Keith Farrar.png\"}], \"car\": [{\"carid\": \"car_0\", \"make\": \"Honda\", \"year\": \"2020\", \"category\": \"Sedan\", \"model\": \"Accord\", \"color\": \"Black\", \"pride\": 14000}]}",
         null,
         null
        ],
        [
         "{\"user_profile\": [{\"userid\": \"userid_2\", \"username\": \"Nathan Finley\", \"gender\": \"male\", \"age\": 20, \"picture_url\": \"../images/profile/Nathan Finley.png\"}], \"car\": [{\"carid\": \"car_11\", \"make\": \"Tesla\", \"year\": \"2019\", \"category\": \"EV\", \"model\": \"Model Y\", \"color\": \"Black\", \"pride\": 40000}]}",
         null,
         null
        ],
        [
         "{\"user_profile\": [{\"userid\": \"userid_2\", \"username\": \"Nathan Finley\", \"gender\": \"male\", \"age\": 20, \"picture_url\": \"../images/profile/Nathan Finley.png\"}], \"car\": [{\"carid\": \"car_2\", \"make\": \"Nissan\", \"year\": \"2018\", \"category\": \"Sedan\", \"model\": \"Altima\", \"color\": \"Gold\", \"pride\": 13000}]}",
         null,
         null
        ],
        [
         "{\"user_profile\": [{\"userid\": \"userid_1\", \"username\": \"Jenna Bostwick\", \"gender\": \"female\", \"age\": 25, \"picture_url\": \"../images/profile/Jenna Bostwick.png\"}], \"car\": [{\"carid\": \"car_11\", \"make\": \"Tesla\", \"year\": \"2019\", \"category\": \"EV\", \"model\": \"Model Y\", \"color\": \"Black\", \"pride\": 40000}]}",
         null,
         null
        ],
        [
         "{\"user_profile\": [{\"userid\": \"userid_2\", \"username\": \"Nathan Finley\", \"gender\": \"male\", \"age\": 20, \"picture_url\": \"../images/profile/Nathan Finley.png\"}], \"car\": [{\"carid\": \"car_7\", \"make\": \"Chevrolet\", \"year\": \"2016\", \"category\": \"Truck\", \"model\": \"Silverado\", \"color\": \"White\", \"pride\": 17000}]}",
         null,
         null
        ],
        [
         "{\"user_profile\": [{\"userid\": \"userid_4\", \"username\": \"Keith Farrar\", \"gender\": \"male\", \"age\": 50, \"picture_url\": \"../images/profile/Keith Farrar.png\"}], \"car\": [{\"carid\": \"car_11\", \"make\": \"Tesla\", \"year\": \"2019\", \"category\": \"EV\", \"model\": \"Model Y\", \"color\": \"Black\", \"pride\": 40000}]}",
         null,
         null
        ],
        [
         "{\"user_profile\": [{\"userid\": \"userid_3\", \"username\": \"Owen Milford\", \"gender\": \"male\", \"age\": 30, \"picture_url\": \"../images/profile/Owen Milford.png\"}], \"car\": [{\"carid\": \"car_6\", \"make\": \"Nissan\", \"year\": \"2015\", \"category\": \"SUV\", \"model\": \"Rouge\", \"color\": \"Brown\", \"pride\": 15500}]}",
         null,
         null
        ],
        [
         "{\"user_profile\": [{\"userid\": \"userid_4\", \"username\": \"Keith Farrar\", \"gender\": \"male\", \"age\": 50, \"picture_url\": \"../images/profile/Keith Farrar.png\"}], \"car\": [{\"carid\": \"car_6\", \"make\": \"Nissan\", \"year\": \"2015\", \"category\": \"SUV\", \"model\": \"Rouge\", \"color\": \"Brown\", \"pride\": 15500}]}",
         null,
         null
        ],
        [
         "{\"user_profile\": [{\"userid\": \"userid_0\", \"username\": \"Maria Dandridge\", \"gender\": \"female\", \"age\": 20, \"picture_url\": \"../images/profile/Maria Dandridge.png\"}], \"car\": [{\"carid\": \"car_9\", \"make\": \"Ram\", \"year\": \"2010\", \"category\": \"Truck\", \"model\": \"1500\", \"color\": \"Black\", \"pride\": 17000}]}",
         null,
         null
        ],
        [
         "{\"user_profile\": [{\"userid\": \"userid_2\", \"username\": \"Nathan Finley\", \"gender\": \"male\", \"age\": 20, \"picture_url\": \"../images/profile/Nathan Finley.png\"}], \"car\": [{\"carid\": \"car_4\", \"make\": \"Honda\", \"year\": \"2013\", \"category\": \"SVU\", \"model\": \"CR-V\", \"color\": \"Brown\", \"pride\": 11000}]}",
         null,
         null
        ],
        [
         "{\"user_profile\": [{\"userid\": \"userid_3\", \"username\": \"Owen Milford\", \"gender\": \"male\", \"age\": 30, \"picture_url\": \"../images/profile/Owen Milford.png\"}], \"car\": [{\"carid\": \"car_9\", \"make\": \"Ram\", \"year\": \"2010\", \"category\": \"Truck\", \"model\": \"1500\", \"color\": \"Black\", \"pride\": 17000}]}",
         null,
         null
        ],
        [
         "{\"user_profile\": [{\"userid\": \"userid_3\", \"username\": \"Owen Milford\", \"gender\": \"male\", \"age\": 30, \"picture_url\": \"../images/profile/Owen Milford.png\"}], \"car\": [{\"carid\": \"car_0\", \"make\": \"Honda\", \"year\": \"2020\", \"category\": \"Sedan\", \"model\": \"Accord\", \"color\": \"Black\", \"pride\": 14000}]}",
         null,
         null
        ],
        [
         "{\"user_profile\": [{\"userid\": \"userid_0\", \"username\": \"Maria Dandridge\", \"gender\": \"female\", \"age\": 20, \"picture_url\": \"../images/profile/Maria Dandridge.png\"}], \"car\": [{\"carid\": \"car_2\", \"make\": \"Nissan\", \"year\": \"2018\", \"category\": \"Sedan\", \"model\": \"Altima\", \"color\": \"Gold\", \"pride\": 13000}]}",
         null,
         null
        ],
        [
         "{\"user_profile\": [{\"userid\": \"userid_3\", \"username\": \"Owen Milford\", \"gender\": \"male\", \"age\": 30, \"picture_url\": \"../images/profile/Owen Milford.png\"}], \"car\": [{\"carid\": \"car_1\", \"make\": \"Hyundai\", \"year\": \"2017\", \"category\": \"Sedan\", \"model\": \"Sonata\", \"color\": \"Gray\", \"pride\": 14000}]}",
         null,
         null
        ],
        [
         "{\"user_profile\": [{\"userid\": \"userid_1\", \"username\": \"Jenna Bostwick\", \"gender\": \"female\", \"age\": 25, \"picture_url\": \"../images/profile/Jenna Bostwick.png\"}], \"car\": [{\"carid\": \"car_5\", \"make\": \"Toyota\", \"year\": \"2015\", \"category\": \"SUV\", \"model\": \"RAV4\", \"color\": \"White\", \"pride\": 15000}]}",
         null,
         null
        ],
        [
         "{\"user_profile\": [{\"userid\": \"userid_1\", \"username\": \"Jenna Bostwick\", \"gender\": \"female\", \"age\": 25, \"picture_url\": \"../images/profile/Jenna Bostwick.png\"}], \"car\": [{\"carid\": \"car_4\", \"make\": \"Honda\", \"year\": \"2013\", \"category\": \"SVU\", \"model\": \"CR-V\", \"color\": \"Brown\", \"pride\": 11000}]}",
         null,
         null
        ],
        [
         "{\"user_profile\": [{\"userid\": \"userid_4\", \"username\": \"Keith Farrar\", \"gender\": \"male\", \"age\": 50, \"picture_url\": \"../images/profile/Keith Farrar.png\"}], \"car\": [{\"carid\": \"car_9\", \"make\": \"Ram\", \"year\": \"2010\", \"category\": \"Truck\", \"model\": \"1500\", \"color\": \"Black\", \"pride\": 17000}]}",
         null,
         null
        ],
        [
         "{\"user_profile\": [{\"userid\": \"userid_3\", \"username\": \"Owen Milford\", \"gender\": \"male\", \"age\": 30, \"picture_url\": \"../images/profile/Owen Milford.png\"}], \"car\": [{\"carid\": \"car_6\", \"make\": \"Nissan\", \"year\": \"2015\", \"category\": \"SUV\", \"model\": \"Rouge\", \"color\": \"Brown\", \"pride\": 15500}]}",
         null,
         null
        ],
        [
         "{\"user_profile\": [{\"userid\": \"userid_1\", \"username\": \"Jenna Bostwick\", \"gender\": \"female\", \"age\": 25, \"picture_url\": \"../images/profile/Jenna Bostwick.png\"}], \"car\": [{\"carid\": \"car_8\", \"make\": \"Ford\", \"year\": \"2016\", \"category\": \"Truck\", \"model\": \"F-150\", \"color\": \"Brown\", \"pride\": 17000}]}",
         null,
         null
        ],
        [
         "{\"user_profile\": [{\"userid\": \"userid_0\", \"username\": \"Maria Dandridge\", \"gender\": \"female\", \"age\": 20, \"picture_url\": \"../images/profile/Maria Dandridge.png\"}], \"car\": [{\"carid\": \"car_0\", \"make\": \"Honda\", \"year\": \"2020\", \"category\": \"Sedan\", \"model\": \"Accord\", \"color\": \"Black\", \"pride\": 14000}]}",
         null,
         null
        ],
        [
         "{\"user_profile\": [{\"userid\": \"userid_0\", \"username\": \"Maria Dandridge\", \"gender\": \"female\", \"age\": 20, \"picture_url\": \"../images/profile/Maria Dandridge.png\"}], \"car\": [{\"carid\": \"car_10\", \"make\": \"Ferarri\", \"year\": \"2015\", \"category\": \"SportCar\", \"model\": \"Spider\", \"color\": \"Red\", \"pride\": 70000}]}",
         null,
         null
        ],
        [
         "{\"user_profile\": [{\"userid\": \"userid_1\", \"username\": \"Jenna Bostwick\", \"gender\": \"female\", \"age\": 25, \"picture_url\": \"../images/profile/Jenna Bostwick.png\"}], \"car\": [{\"carid\": \"car_6\", \"make\": \"Nissan\", \"year\": \"2015\", \"category\": \"SUV\", \"model\": \"Rouge\", \"color\": \"Brown\", \"pride\": 15500}]}",
         null,
         null
        ],
        [
         "{\"user_profile\": [{\"userid\": \"userid_0\", \"username\": \"Maria Dandridge\", \"gender\": \"female\", \"age\": 20, \"picture_url\": \"../images/profile/Maria Dandridge.png\"}], \"car\": [{\"carid\": \"car_10\", \"make\": \"Ferarri\", \"year\": \"2015\", \"category\": \"SportCar\", \"model\": \"Spider\", \"color\": \"Red\", \"pride\": 70000}]}",
         null,
         null
        ],
        [
         "{\"user_profile\": [{\"userid\": \"userid_0\", \"username\": \"Maria Dandridge\", \"gender\": \"female\", \"age\": 20, \"picture_url\": \"../images/profile/Maria Dandridge.png\"}], \"car\": [{\"carid\": \"car_1\", \"make\": \"Hyundai\", \"year\": \"2017\", \"category\": \"Sedan\", \"model\": \"Sonata\", \"color\": \"Gray\", \"pride\": 14000}]}",
         null,
         null
        ],
        [
         "{\"user_profile\": [{\"userid\": \"userid_3\", \"username\": \"Owen Milford\", \"gender\": \"male\", \"age\": 30, \"picture_url\": \"../images/profile/Owen Milford.png\"}], \"car\": [{\"carid\": \"car_6\", \"make\": \"Nissan\", \"year\": \"2015\", \"category\": \"SUV\", \"model\": \"Rouge\", \"color\": \"Brown\", \"pride\": 15500}]}",
         null,
         null
        ],
        [
         "{\"user_profile\": [{\"userid\": \"userid_1\", \"username\": \"Jenna Bostwick\", \"gender\": \"female\", \"age\": 25, \"picture_url\": \"../images/profile/Jenna Bostwick.png\"}], \"car\": [{\"carid\": \"car_0\", \"make\": \"Honda\", \"year\": \"2020\", \"category\": \"Sedan\", \"model\": \"Accord\", \"color\": \"Black\", \"pride\": 14000}]}",
         null,
         null
        ],
        [
         "{\"user_profile\": [{\"userid\": \"userid_0\", \"username\": \"Maria Dandridge\", \"gender\": \"female\", \"age\": 20, \"picture_url\": \"../images/profile/Maria Dandridge.png\"}], \"car\": [{\"carid\": \"car_7\", \"make\": \"Chevrolet\", \"year\": \"2016\", \"category\": \"Truck\", \"model\": \"Silverado\", \"color\": \"White\", \"pride\": 17000}]}",
         null,
         null
        ],
        [
         "{\"user_profile\": [{\"userid\": \"userid_4\", \"username\": \"Keith Farrar\", \"gender\": \"male\", \"age\": 50, \"picture_url\": \"../images/profile/Keith Farrar.png\"}], \"car\": [{\"carid\": \"car_3\", \"make\": \"Toyota\", \"year\": \"2012\", \"category\": \"Sedan\", \"model\": \"Camry\", \"color\": \"Silver\", \"pride\": 11000}]}",
         null,
         null
        ],
        [
         "{\"user_profile\": [{\"userid\": \"userid_3\", \"username\": \"Owen Milford\", \"gender\": \"male\", \"age\": 30, \"picture_url\": \"../images/profile/Owen Milford.png\"}], \"car\": [{\"carid\": \"car_1\", \"make\": \"Hyundai\", \"year\": \"2017\", \"category\": \"Sedan\", \"model\": \"Sonata\", \"color\": \"Gray\", \"pride\": 14000}]}",
         null,
         null
        ],
        [
         "{\"user_profile\": [{\"userid\": \"userid_3\", \"username\": \"Owen Milford\", \"gender\": \"male\", \"age\": 30, \"picture_url\": \"../images/profile/Owen Milford.png\"}], \"car\": [{\"carid\": \"car_4\", \"make\": \"Honda\", \"year\": \"2013\", \"category\": \"SVU\", \"model\": \"CR-V\", \"color\": \"Brown\", \"pride\": 11000}]}",
         null,
         null
        ],
        [
         "{\"user_profile\": [{\"userid\": \"userid_0\", \"username\": \"Maria Dandridge\", \"gender\": \"female\", \"age\": 20, \"picture_url\": \"../images/profile/Maria Dandridge.png\"}], \"car\": [{\"carid\": \"car_10\", \"make\": \"Ferarri\", \"year\": \"2015\", \"category\": \"SportCar\", \"model\": \"Spider\", \"color\": \"Red\", \"pride\": 70000}]}",
         null,
         null
        ],
        [
         "{\"user_profile\": [{\"userid\": \"userid_2\", \"username\": \"Nathan Finley\", \"gender\": \"male\", \"age\": 20, \"picture_url\": \"../images/profile/Nathan Finley.png\"}], \"car\": [{\"carid\": \"car_6\", \"make\": \"Nissan\", \"year\": \"2015\", \"category\": \"SUV\", \"model\": \"Rouge\", \"color\": \"Brown\", \"pride\": 15500}]}",
         null,
         null
        ],
        [
         "{\"user_profile\": [{\"userid\": \"userid_3\", \"username\": \"Owen Milford\", \"gender\": \"male\", \"age\": 30, \"picture_url\": \"../images/profile/Owen Milford.png\"}], \"car\": [{\"carid\": \"car_9\", \"make\": \"Ram\", \"year\": \"2010\", \"category\": \"Truck\", \"model\": \"1500\", \"color\": \"Black\", \"pride\": 17000}]}",
         null,
         null
        ],
        [
         "{\"user_profile\": [{\"userid\": \"userid_4\", \"username\": \"Keith Farrar\", \"gender\": \"male\", \"age\": 50, \"picture_url\": \"../images/profile/Keith Farrar.png\"}], \"car\": [{\"carid\": \"car_8\", \"make\": \"Ford\", \"year\": \"2016\", \"category\": \"Truck\", \"model\": \"F-150\", \"color\": \"Brown\", \"pride\": 17000}]}",
         null,
         null
        ],
        [
         "{\"user_profile\": [{\"userid\": \"userid_1\", \"username\": \"Jenna Bostwick\", \"gender\": \"female\", \"age\": 25, \"picture_url\": \"../images/profile/Jenna Bostwick.png\"}], \"car\": [{\"carid\": \"car_11\", \"make\": \"Tesla\", \"year\": \"2019\", \"category\": \"EV\", \"model\": \"Model Y\", \"color\": \"Black\", \"pride\": 40000}]}",
         null,
         null
        ],
        [
         "{\"user_profile\": [{\"userid\": \"userid_4\", \"username\": \"Keith Farrar\", \"gender\": \"male\", \"age\": 50, \"picture_url\": \"../images/profile/Keith Farrar.png\"}], \"car\": [{\"carid\": \"car_7\", \"make\": \"Chevrolet\", \"year\": \"2016\", \"category\": \"Truck\", \"model\": \"Silverado\", \"color\": \"White\", \"pride\": 17000}]}",
         null,
         null
        ],
        [
         "{\"user_profile\": [{\"userid\": \"userid_1\", \"username\": \"Jenna Bostwick\", \"gender\": \"female\", \"age\": 25, \"picture_url\": \"../images/profile/Jenna Bostwick.png\"}], \"car\": [{\"carid\": \"car_0\", \"make\": \"Honda\", \"year\": \"2020\", \"category\": \"Sedan\", \"model\": \"Accord\", \"color\": \"Black\", \"pride\": 14000}]}",
         null,
         null
        ],
        [
         "{\"user_profile\": [{\"userid\": \"userid_0\", \"username\": \"Maria Dandridge\", \"gender\": \"female\", \"age\": 20, \"picture_url\": \"../images/profile/Maria Dandridge.png\"}], \"car\": [{\"carid\": \"car_8\", \"make\": \"Ford\", \"year\": \"2016\", \"category\": \"Truck\", \"model\": \"F-150\", \"color\": \"Brown\", \"pride\": 17000}]}",
         null,
         null
        ],
        [
         "{\"user_profile\": [{\"userid\": \"userid_4\", \"username\": \"Keith Farrar\", \"gender\": \"male\", \"age\": 50, \"picture_url\": \"../images/profile/Keith Farrar.png\"}], \"car\": [{\"carid\": \"car_7\", \"make\": \"Chevrolet\", \"year\": \"2016\", \"category\": \"Truck\", \"model\": \"Silverado\", \"color\": \"White\", \"pride\": 17000}]}",
         null,
         null
        ],
        [
         "{\"user_profile\": [{\"userid\": \"userid_2\", \"username\": \"Nathan Finley\", \"gender\": \"male\", \"age\": 20, \"picture_url\": \"../images/profile/Nathan Finley.png\"}], \"car\": [{\"carid\": \"car_9\", \"make\": \"Ram\", \"year\": \"2010\", \"category\": \"Truck\", \"model\": \"1500\", \"color\": \"Black\", \"pride\": 17000}]}",
         null,
         null
        ],
        [
         "{\"user_profile\": [{\"userid\": \"userid_0\", \"username\": \"Maria Dandridge\", \"gender\": \"female\", \"age\": 20, \"picture_url\": \"../images/profile/Maria Dandridge.png\"}], \"car\": [{\"carid\": \"car_1\", \"make\": \"Hyundai\", \"year\": \"2017\", \"category\": \"Sedan\", \"model\": \"Sonata\", \"color\": \"Gray\", \"pride\": 14000}]}",
         null,
         null
        ],
        [
         "{\"user_profile\": [{\"userid\": \"userid_3\", \"username\": \"Owen Milford\", \"gender\": \"male\", \"age\": 30, \"picture_url\": \"../images/profile/Owen Milford.png\"}], \"car\": [{\"carid\": \"car_9\", \"make\": \"Ram\", \"year\": \"2010\", \"category\": \"Truck\", \"model\": \"1500\", \"color\": \"Black\", \"pride\": 17000}]}",
         null,
         null
        ],
        [
         "{\"user_profile\": [{\"userid\": \"userid_1\", \"username\": \"Jenna Bostwick\", \"gender\": \"female\", \"age\": 25, \"picture_url\": \"../images/profile/Jenna Bostwick.png\"}], \"car\": [{\"carid\": \"car_6\", \"make\": \"Nissan\", \"year\": \"2015\", \"category\": \"SUV\", \"model\": \"Rouge\", \"color\": \"Brown\", \"pride\": 15500}]}",
         null,
         null
        ],
        [
         "{\"user_profile\": [{\"userid\": \"userid_4\", \"username\": \"Keith Farrar\", \"gender\": \"male\", \"age\": 50, \"picture_url\": \"../images/profile/Keith Farrar.png\"}], \"car\": [{\"carid\": \"car_6\", \"make\": \"Nissan\", \"year\": \"2015\", \"category\": \"SUV\", \"model\": \"Rouge\", \"color\": \"Brown\", \"pride\": 15500}]}",
         null,
         null
        ],
        [
         "{\"user_profile\": [{\"userid\": \"userid_0\", \"username\": \"Maria Dandridge\", \"gender\": \"female\", \"age\": 20, \"picture_url\": \"../images/profile/Maria Dandridge.png\"}], \"car\": [{\"carid\": \"car_6\", \"make\": \"Nissan\", \"year\": \"2015\", \"category\": \"SUV\", \"model\": \"Rouge\", \"color\": \"Brown\", \"pride\": 15500}]}",
         null,
         null
        ],
        [
         "{\"user_profile\": [{\"userid\": \"userid_2\", \"username\": \"Nathan Finley\", \"gender\": \"male\", \"age\": 20, \"picture_url\": \"../images/profile/Nathan Finley.png\"}], \"car\": [{\"carid\": \"car_10\", \"make\": \"Ferarri\", \"year\": \"2015\", \"category\": \"SportCar\", \"model\": \"Spider\", \"color\": \"Red\", \"pride\": 70000}]}",
         null,
         null
        ],
        [
         "{\"user_profile\": [{\"userid\": \"userid_4\", \"username\": \"Keith Farrar\", \"gender\": \"male\", \"age\": 50, \"picture_url\": \"../images/profile/Keith Farrar.png\"}], \"car\": [{\"carid\": \"car_7\", \"make\": \"Chevrolet\", \"year\": \"2016\", \"category\": \"Truck\", \"model\": \"Silverado\", \"color\": \"White\", \"pride\": 17000}]}",
         null,
         null
        ],
        [
         "{\"user_profile\": [{\"userid\": \"userid_4\", \"username\": \"Keith Farrar\", \"gender\": \"male\", \"age\": 50, \"picture_url\": \"../images/profile/Keith Farrar.png\"}], \"car\": [{\"carid\": \"car_4\", \"make\": \"Honda\", \"year\": \"2013\", \"category\": \"SVU\", \"model\": \"CR-V\", \"color\": \"Brown\", \"pride\": 11000}]}",
         null,
         null
        ],
        [
         "{\"user_profile\": [{\"userid\": \"userid_2\", \"username\": \"Nathan Finley\", \"gender\": \"male\", \"age\": 20, \"picture_url\": \"../images/profile/Nathan Finley.png\"}], \"car\": [{\"carid\": \"car_4\", \"make\": \"Honda\", \"year\": \"2013\", \"category\": \"SVU\", \"model\": \"CR-V\", \"color\": \"Brown\", \"pride\": 11000}]}",
         null,
         null
        ],
        [
         "{\"user_profile\": [{\"userid\": \"userid_2\", \"username\": \"Nathan Finley\", \"gender\": \"male\", \"age\": 20, \"picture_url\": \"../images/profile/Nathan Finley.png\"}], \"car\": [{\"carid\": \"car_11\", \"make\": \"Tesla\", \"year\": \"2019\", \"category\": \"EV\", \"model\": \"Model Y\", \"color\": \"Black\", \"pride\": 40000}]}",
         null,
         null
        ],
        [
         "{\"user_profile\": [{\"userid\": \"userid_3\", \"username\": \"Owen Milford\", \"gender\": \"male\", \"age\": 30, \"picture_url\": \"../images/profile/Owen Milford.png\"}], \"car\": [{\"carid\": \"car_5\", \"make\": \"Toyota\", \"year\": \"2015\", \"category\": \"SUV\", \"model\": \"RAV4\", \"color\": \"White\", \"pride\": 15000}]}",
         null,
         null
        ],
        [
         "{\"user_profile\": [{\"userid\": \"userid_1\", \"username\": \"Jenna Bostwick\", \"gender\": \"female\", \"age\": 25, \"picture_url\": \"../images/profile/Jenna Bostwick.png\"}], \"car\": [{\"carid\": \"car_7\", \"make\": \"Chevrolet\", \"year\": \"2016\", \"category\": \"Truck\", \"model\": \"Silverado\", \"color\": \"White\", \"pride\": 17000}]}",
         null,
         null
        ],
        [
         "{\"user_profile\": [{\"userid\": \"userid_0\", \"username\": \"Maria Dandridge\", \"gender\": \"female\", \"age\": 20, \"picture_url\": \"../images/profile/Maria Dandridge.png\"}], \"car\": [{\"carid\": \"car_4\", \"make\": \"Honda\", \"year\": \"2013\", \"category\": \"SVU\", \"model\": \"CR-V\", \"color\": \"Brown\", \"pride\": 11000}]}",
         null,
         null
        ],
        [
         "{\"user_profile\": [{\"userid\": \"userid_0\", \"username\": \"Maria Dandridge\", \"gender\": \"female\", \"age\": 20, \"picture_url\": \"../images/profile/Maria Dandridge.png\"}], \"car\": [{\"carid\": \"car_8\", \"make\": \"Ford\", \"year\": \"2016\", \"category\": \"Truck\", \"model\": \"F-150\", \"color\": \"Brown\", \"pride\": 17000}]}",
         null,
         null
        ]
       ],
       "datasetInfos": [],
       "dbfsResultPath": null,
       "isJsonSchema": true,
       "metadata": {},
       "overflow": false,
       "plotOptions": {
        "customPlotOptions": {},
        "displayType": "table",
        "pivotAggregation": null,
        "pivotColumns": null,
        "xColumns": null,
        "yColumns": null
       },
       "removedWidgets": [],
       "schema": [
        {
         "metadata": "{}",
         "name": "parsed_json",
         "type": "\"string\""
        },
        {
         "metadata": "{}",
         "name": "enqueued_time",
         "type": "\"timestamp\""
        },
        {
         "metadata": "{}",
         "name": "json_string",
         "type": "\"string\""
        }
       ],
       "type": "table"
      }
     },
     "output_type": "display_data"
    }
   ],
   "source": [
    "%sql\n",
    "--spark.sql(s\"SELECT * FROM $ucName.$schemaName.$icebergTableName\")\n",
    "SELECT * FROM  uc_hsshin.kickthetires.clickevents0"
   ]
  },
  {
   "cell_type": "code",
   "execution_count": 0,
   "metadata": {
    "application/vnd.databricks.v1+cell": {
     "cellMetadata": {},
     "inputWidgets": {},
     "nuid": "5bcdb6b6-a78f-4d9f-af59-668981a9d7c6",
     "showTitle": false,
     "title": ""
    }
   },
   "outputs": [],
   "source": [
    "%scala\n",
    "// End of Notebook"
   ]
  }
 ],
 "metadata": {
  "application/vnd.databricks.v1+notebook": {
   "dashboards": [],
   "language": "python",
   "notebookMetadata": {
    "pythonIndentUnit": 4
   },
   "notebookName": "Real-Time event processing using Uniform",
   "widgets": {
    "ehub_name": {
     "currentValue": "transactions",
     "nuid": "01369d54-a2e4-48bc-ac82-47c0767909d8",
     "widgetInfo": {
      "widgetType": "text",
      "defaultValue": "transactions",
      "label": "Sample event in JSON",
      "name": "ehub_name",
      "options": {
       "widgetType": "text",
       "validationRegex": null
      }
     }
    },
    "ehub_namespace": {
     "currentValue": "hyssh-ehubs",
     "nuid": "0b610f97-b435-4e5b-8bd3-457269cef36e",
     "widgetInfo": {
      "widgetType": "text",
      "defaultValue": "hyssh-ehubs",
      "label": "Sample event in JSON",
      "name": "ehub_namespace",
      "options": {
       "widgetType": "text",
       "validationRegex": null
      }
     }
    },
    "ehub_secret_name_akv": {
     "currentValue": "secret_name",
     "nuid": "c0e4dcb2-0d3c-4b47-9e86-1fd5461e7593",
     "widgetInfo": {
      "widgetType": "text",
      "defaultValue": "secret_name",
      "label": "EventHub Secret Name in AKV",
      "name": "ehub_secret_name_akv",
      "options": {
       "widgetType": "text",
       "validationRegex": null
      }
     }
    },
    "sample_event": {
     "currentValue": "{\"user_profile\": [{\"userid\": \"userid_4\", \"username\": \"Keith Farrar\", \"gender\": \"male\", \"age\": 50, \"picture_url\": \"../images/profile/Keith Farrar.png\"}], \"car\": [{\"carid\": \"car_0\", \"make\": \"Honda\", \"year\": \"2020\", \"category\": \"Sedan\", \"model\": \"Accord\", \"color\": \"Black\", \"pride\": 14000}]}",
     "nuid": "16e5fb3d-5f19-4976-afcb-8c216c20a1bf",
     "widgetInfo": {
      "widgetType": "text",
      "defaultValue": "{\"user_profile\": [{\"userid\": \"userid_4\", \"username\": \"Keith Farrar\", \"gender\": \"male\", \"age\": 50, \"picture_url\": \"../images/profile/Keith Farrar.png\"}], \"car\": [{\"carid\": \"car_0\", \"make\": \"Honda\", \"year\": \"2020\", \"category\": \"Sedan\", \"model\": \"Accord\", \"color\": \"Black\", \"pride\": 14000}]}",
      "label": "Sample event in JSON",
      "name": "sample_event",
      "options": {
       "widgetType": "text",
       "validationRegex": null
      }
     }
    },
    "target_table_name": {
     "currentValue": "clickEvents4",
     "nuid": "4d92103b-ec29-41f5-b1c7-13aecdabd121",
     "widgetInfo": {
      "widgetType": "text",
      "defaultValue": "clickEvents",
      "label": "Target Table Name",
      "name": "target_table_name",
      "options": {
       "widgetType": "text",
       "validationRegex": null
      }
     }
    }
   }
  }
 },
 "nbformat": 4,
 "nbformat_minor": 0
}
